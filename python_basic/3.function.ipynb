{
 "cells": [
  {
   "cell_type": "code",
   "execution_count": 1,
   "metadata": {},
   "outputs": [],
   "source": [
    "# 함수\n",
    "# def 함수명(매개변수):\n",
    "def func_1():\n",
    "    # 함수가 호출되었을때 실행이 되는 코드 부분\n",
    "    return \"Hello\"\n",
    "\n",
    "def func_2():\n",
    "    print('Hello')"
   ]
  },
  {
   "cell_type": "code",
   "execution_count": 2,
   "metadata": {},
   "outputs": [
    {
     "data": {
      "text/plain": [
       "'Hello'"
      ]
     },
     "execution_count": 2,
     "metadata": {},
     "output_type": "execute_result"
    }
   ],
   "source": [
    "func_1()"
   ]
  },
  {
   "cell_type": "code",
   "execution_count": 3,
   "metadata": {},
   "outputs": [
    {
     "name": "stdout",
     "output_type": "stream",
     "text": [
      "Hello\n"
     ]
    }
   ],
   "source": [
    "func_2()"
   ]
  },
  {
   "cell_type": "code",
   "execution_count": 4,
   "metadata": {},
   "outputs": [
    {
     "name": "stdout",
     "output_type": "stream",
     "text": [
      "Hello\n"
     ]
    }
   ],
   "source": [
    "# return이 존재하는 함수와 존재하지 않는 함수의 차이 \n",
    "# return이 존재하는 함수를 호출하여 결과를 a에 저장\n",
    "# func_1() 호출 -> \"Hello\" 문자를 되돌려준다. -> a에 저장\n",
    "a = func_1()\n",
    "# return이 존재하지 않는 함수를 호출하여 결과를 b에 저장\n",
    "# func_2() 호출 -> \"Hello\"를 출력한다. -> b에 저장장\n",
    "b = func_2()"
   ]
  },
  {
   "cell_type": "code",
   "execution_count": 5,
   "metadata": {},
   "outputs": [
    {
     "name": "stdout",
     "output_type": "stream",
     "text": [
      "Hello\n",
      "None\n"
     ]
    }
   ],
   "source": [
    "print(a)\n",
    "print(b)"
   ]
  },
  {
   "cell_type": "code",
   "execution_count": 6,
   "metadata": {},
   "outputs": [
    {
     "name": "stdout",
     "output_type": "stream",
     "text": [
      "10\n",
      "10\n",
      "10\n"
     ]
    }
   ],
   "source": [
    "# 변수를 생성 -> 데이터를 언제나 할당\n",
    "# 변수명 = 데이터\n",
    "# 변수명1 = 변수명2 = 변수명3 = 데이터\n",
    "# 변수명1, 변수명2 = 데이터1, 데이터2\n",
    "x = y = z = 10\n",
    "print(x)\n",
    "print(y)\n",
    "print(z)"
   ]
  },
  {
   "cell_type": "code",
   "execution_count": 7,
   "metadata": {},
   "outputs": [
    {
     "name": "stdout",
     "output_type": "stream",
     "text": [
      "10\n",
      "10\n"
     ]
    }
   ],
   "source": [
    "x_1 = x\n",
    "print(x_1)\n",
    "x += 1\n",
    "print(x_1)"
   ]
  },
  {
   "cell_type": "code",
   "execution_count": 8,
   "metadata": {},
   "outputs": [
    {
     "name": "stdout",
     "output_type": "stream",
     "text": [
      "3\n",
      "hello\n"
     ]
    }
   ],
   "source": [
    "x, y = 3, 'hello'\n",
    "print(x)\n",
    "print(y)"
   ]
  },
  {
   "cell_type": "code",
   "execution_count": 9,
   "metadata": {},
   "outputs": [],
   "source": [
    "def func_3(x, y):\n",
    "    result = x + y\n",
    "    result2 = x - y\n",
    "    return result, result2"
   ]
  },
  {
   "cell_type": "code",
   "execution_count": 10,
   "metadata": {},
   "outputs": [
    {
     "name": "stdout",
     "output_type": "stream",
     "text": [
      "(13, 7)\n",
      "13\n",
      "7\n"
     ]
    }
   ],
   "source": [
    "a = func_3(10, 3)\n",
    "print(a)\n",
    "print(a[0])\n",
    "print(a[1])"
   ]
  },
  {
   "cell_type": "code",
   "execution_count": 11,
   "metadata": {},
   "outputs": [
    {
     "name": "stdout",
     "output_type": "stream",
     "text": [
      "13\n",
      "7\n"
     ]
    }
   ],
   "source": [
    "a, b = func_3(10, 3)\n",
    "print(a)\n",
    "print(b)"
   ]
  },
  {
   "cell_type": "code",
   "execution_count": 12,
   "metadata": {},
   "outputs": [],
   "source": [
    "# 함수를 생성  매개변수의 개수와 \n",
    "# 함수를 호출 할때 인자의 개수가 동일\n",
    "def func_4(x):\n",
    "    result = x * 2\n",
    "    return result"
   ]
  },
  {
   "cell_type": "code",
   "execution_count": 13,
   "metadata": {},
   "outputs": [
    {
     "name": "stdout",
     "output_type": "stream",
     "text": [
      "20\n",
      "abcdabcd\n",
      "2\n",
      "(1, 2, 3, 1, 2, 3)\n"
     ]
    }
   ],
   "source": [
    "print(func_4(10))\n",
    "print(func_4('abcd'))\n",
    "print(func_4(True))\n",
    "print(func_4((1,2,3)))"
   ]
  },
  {
   "cell_type": "code",
   "execution_count": 14,
   "metadata": {},
   "outputs": [
    {
     "ename": "TypeError",
     "evalue": "func_4() takes 1 positional argument but 2 were given",
     "output_type": "error",
     "traceback": [
      "\u001b[1;31m---------------------------------------------------------------------------\u001b[0m",
      "\u001b[1;31mTypeError\u001b[0m                                 Traceback (most recent call last)",
      "Cell \u001b[1;32mIn[14], line 2\u001b[0m\n\u001b[0;32m      1\u001b[0m \u001b[38;5;66;03m# 함수의 매개변수가 1개인데 인자를 2개를 넣으면? -> 에러 발생생\u001b[39;00m\n\u001b[1;32m----> 2\u001b[0m \u001b[43mfunc_4\u001b[49m\u001b[43m(\u001b[49m\u001b[38;5;241;43m1\u001b[39;49m\u001b[43m,\u001b[49m\u001b[43m \u001b[49m\u001b[38;5;241;43m2\u001b[39;49m\u001b[43m)\u001b[49m\n",
      "\u001b[1;31mTypeError\u001b[0m: func_4() takes 1 positional argument but 2 were given"
     ]
    }
   ],
   "source": [
    "# 함수의 매개변수가 1개인데 인자를 2개를 넣으면? -> 에러 발생생\n",
    "func_4(1, 2)"
   ]
  },
  {
   "cell_type": "code",
   "execution_count": null,
   "metadata": {},
   "outputs": [
    {
     "ename": "TypeError",
     "evalue": "func_4() missing 1 required positional argument: 'x'",
     "output_type": "error",
     "traceback": [
      "\u001b[1;31m---------------------------------------------------------------------------\u001b[0m",
      "\u001b[1;31mTypeError\u001b[0m                                 Traceback (most recent call last)",
      "Cell \u001b[1;32mIn[17], line 2\u001b[0m\n\u001b[0;32m      1\u001b[0m \u001b[38;5;66;03m# 매개변수가 1개인데 인자를 0개  넣으면?\u001b[39;00m\n\u001b[1;32m----> 2\u001b[0m \u001b[43mfunc_4\u001b[49m\u001b[43m(\u001b[49m\u001b[43m)\u001b[49m\n",
      "\u001b[1;31mTypeError\u001b[0m: func_4() missing 1 required positional argument: 'x'"
     ]
    }
   ],
   "source": [
    "# 매개변수가 1개인데 인자를 0개  넣으면?\n",
    "func_4()"
   ]
  },
  {
   "cell_type": "code",
   "execution_count": 15,
   "metadata": {},
   "outputs": [
    {
     "name": "stdout",
     "output_type": "stream",
     "text": [
      "1\n",
      "2\n"
     ]
    }
   ],
   "source": [
    "print(1)\n",
    "print(2)"
   ]
  },
  {
   "cell_type": "code",
   "execution_count": 16,
   "metadata": {},
   "outputs": [
    {
     "name": "stdout",
     "output_type": "stream",
     "text": [
      "1  2\n"
     ]
    }
   ],
   "source": [
    "# print()함수는 end매개변수의 기본값은 줄바꿈(\\n)\n",
    "print(1, end='  ')\n",
    "print(2)"
   ]
  },
  {
   "cell_type": "code",
   "execution_count": 17,
   "metadata": {},
   "outputs": [],
   "source": [
    "# 매개변수에 기본값이 존재하는 함수를 생성 \n",
    "def func_5(x, y = 2):\n",
    "    result = (x + y) ** y\n",
    "    return result"
   ]
  },
  {
   "cell_type": "code",
   "execution_count": 18,
   "metadata": {},
   "outputs": [
    {
     "name": "stdout",
     "output_type": "stream",
     "text": [
      "2197\n",
      "49\n"
     ]
    }
   ],
   "source": [
    "print(func_5(10, 3))\n",
    "print(func_5(5))"
   ]
  },
  {
   "cell_type": "code",
   "execution_count": null,
   "metadata": {},
   "outputs": [
    {
     "ename": "TypeError",
     "evalue": "func_5() missing 1 required positional argument: 'x'",
     "output_type": "error",
     "traceback": [
      "\u001b[1;31m---------------------------------------------------------------------------\u001b[0m",
      "\u001b[1;31mTypeError\u001b[0m                                 Traceback (most recent call last)",
      "Cell \u001b[1;32mIn[22], line 1\u001b[0m\n\u001b[1;32m----> 1\u001b[0m \u001b[43mfunc_5\u001b[49m\u001b[43m(\u001b[49m\u001b[43m)\u001b[49m\n",
      "\u001b[1;31mTypeError\u001b[0m: func_5() missing 1 required positional argument: 'x'"
     ]
    }
   ],
   "source": [
    "func_5()"
   ]
  },
  {
   "cell_type": "code",
   "execution_count": 19,
   "metadata": {},
   "outputs": [
    {
     "ename": "SyntaxError",
     "evalue": "parameter without a default follows parameter with a default (3895436622.py, line 2)",
     "output_type": "error",
     "traceback": [
      "\u001b[1;36m  Cell \u001b[1;32mIn[19], line 2\u001b[1;36m\u001b[0m\n\u001b[1;33m    def func_6(x = 1, y):\u001b[0m\n\u001b[1;37m                      ^\u001b[0m\n\u001b[1;31mSyntaxError\u001b[0m\u001b[1;31m:\u001b[0m parameter without a default follows parameter with a default\n"
     ]
    }
   ],
   "source": [
    "# 매개변수의 기본값은 뒤에서부터 채워서 생성\n",
    "def func_6(x = 1, y):\n",
    "    result = x + y\n",
    "    return result"
   ]
  },
  {
   "cell_type": "code",
   "execution_count": 20,
   "metadata": {},
   "outputs": [],
   "source": [
    "# 인자의 개수가 가변인 경우의 함수를 생성\n",
    "def func_6(*args):\n",
    "    print(args)"
   ]
  },
  {
   "cell_type": "code",
   "execution_count": 21,
   "metadata": {},
   "outputs": [
    {
     "name": "stdout",
     "output_type": "stream",
     "text": [
      "()\n"
     ]
    }
   ],
   "source": [
    "func_6()"
   ]
  },
  {
   "cell_type": "code",
   "execution_count": null,
   "metadata": {},
   "outputs": [
    {
     "name": "stdout",
     "output_type": "stream",
     "text": [
      "(1, 2, 3, 4, 5)\n"
     ]
    }
   ],
   "source": [
    "func_6(1,2,3,4,5)"
   ]
  },
  {
   "cell_type": "code",
   "execution_count": 22,
   "metadata": {},
   "outputs": [],
   "source": [
    "def func_7(x, *args):\n",
    "    # 필수로 입력해야 하는 인자의 개수는? 1개\n",
    "    print(x)\n",
    "    print(args)"
   ]
  },
  {
   "cell_type": "code",
   "execution_count": 23,
   "metadata": {},
   "outputs": [
    {
     "name": "stdout",
     "output_type": "stream",
     "text": [
      "1\n",
      "()\n"
     ]
    }
   ],
   "source": [
    "func_7(1)"
   ]
  },
  {
   "cell_type": "code",
   "execution_count": 24,
   "metadata": {},
   "outputs": [
    {
     "name": "stdout",
     "output_type": "stream",
     "text": [
      "1\n",
      "(2, 3, 4, 5)\n"
     ]
    }
   ],
   "source": [
    "func_7(1,2,3,4,5)"
   ]
  },
  {
   "cell_type": "code",
   "execution_count": 25,
   "metadata": {},
   "outputs": [],
   "source": [
    "def func_8(*args, x):\n",
    "    # 입력의 값의 개수는 2개 이상상\n",
    "    print(args)\n",
    "    print(x)"
   ]
  },
  {
   "cell_type": "code",
   "execution_count": 26,
   "metadata": {},
   "outputs": [
    {
     "ename": "TypeError",
     "evalue": "func_8() missing 1 required keyword-only argument: 'x'",
     "output_type": "error",
     "traceback": [
      "\u001b[1;31m---------------------------------------------------------------------------\u001b[0m",
      "\u001b[1;31mTypeError\u001b[0m                                 Traceback (most recent call last)",
      "Cell \u001b[1;32mIn[26], line 1\u001b[0m\n\u001b[1;32m----> 1\u001b[0m \u001b[43mfunc_8\u001b[49m\u001b[43m(\u001b[49m\u001b[38;5;241;43m1\u001b[39;49m\u001b[43m)\u001b[49m\n",
      "\u001b[1;31mTypeError\u001b[0m: func_8() missing 1 required keyword-only argument: 'x'"
     ]
    }
   ],
   "source": [
    "func_8(1)"
   ]
  },
  {
   "cell_type": "code",
   "execution_count": 27,
   "metadata": {},
   "outputs": [],
   "source": [
    "# 함수를 하나 생성\n",
    "# 매개변수 2개 생성 \n",
    "# 첫번째 매개변수는 인자의 개수가 가변인 경우 \n",
    "# 두번째 매개변수는 기본값을 1\n",
    "# 두번째 매개변수가 1인 경우에는 첫번째 매개변수에 들어오는 데이터를\n",
    "# 누적합을 하여 되돌려준다. \n",
    "# 2인 경우에는 누적차를 하여 되돌려준다. \n",
    "# 3인 경우에는 누적곱을 하여 되돌려준다. \n",
    "def func_9(*args, x = 1):\n",
    "    # x의 값에 따라서 연산이 바뀐다. (누적합, 누적차, 누적곱)\n",
    "    # 합계 라는 초기 변수를 생성 \n",
    "    if x == 3: # 누적곱인 경우에는 0이면 무조건 0이 나오기 때문에 1로 변경\n",
    "        result = 1\n",
    "    else:\n",
    "        result = 0\n",
    "    # args 매개변수에 입력되는 인자 값의 개수만큼 반복 실행\n",
    "    # for / while\n",
    "    # if x == 1:\n",
    "    #     for i in args:\n",
    "    #         result += i\n",
    "    # elif x == 2:\n",
    "    #     for i in args:\n",
    "    #         result -= i\n",
    "    # elif x == 3:\n",
    "    #     for i in args:\n",
    "    #         result *= i\n",
    "    # else :\n",
    "    #     print('x의 범위는 1부터 3까지입니다.')\n",
    "    for i in args:\n",
    "        if x == 1:\n",
    "            result += i\n",
    "        elif x == 2:\n",
    "            result -= i\n",
    "        elif x == 3:\n",
    "            result *= i\n",
    "        else:\n",
    "            print('x의 범위는 1부터 3까지 입니다.')\n",
    "            break\n",
    "\n",
    "    return result\n"
   ]
  },
  {
   "cell_type": "code",
   "execution_count": 28,
   "metadata": {},
   "outputs": [
    {
     "data": {
      "text/plain": [
       "15"
      ]
     },
     "execution_count": 28,
     "metadata": {},
     "output_type": "execute_result"
    }
   ],
   "source": [
    "func_9(1,2,3,4,5)"
   ]
  },
  {
   "cell_type": "code",
   "execution_count": 29,
   "metadata": {},
   "outputs": [
    {
     "data": {
      "text/plain": [
       "-15"
      ]
     },
     "execution_count": 29,
     "metadata": {},
     "output_type": "execute_result"
    }
   ],
   "source": [
    "func_9(1,2,3,4,5, x = 2)"
   ]
  },
  {
   "cell_type": "code",
   "execution_count": 30,
   "metadata": {},
   "outputs": [
    {
     "data": {
      "text/plain": [
       "120"
      ]
     },
     "execution_count": 30,
     "metadata": {},
     "output_type": "execute_result"
    }
   ],
   "source": [
    "func_9(1,2,3,4,5, x= 3)"
   ]
  },
  {
   "cell_type": "code",
   "execution_count": 31,
   "metadata": {},
   "outputs": [
    {
     "name": "stdout",
     "output_type": "stream",
     "text": [
      "x의 범위는 1부터 3까지 입니다.\n"
     ]
    },
    {
     "data": {
      "text/plain": [
       "0"
      ]
     },
     "execution_count": 31,
     "metadata": {},
     "output_type": "execute_result"
    }
   ],
   "source": [
    "func_9(1,2,3, x=4)"
   ]
  },
  {
   "cell_type": "code",
   "execution_count": 34,
   "metadata": {},
   "outputs": [],
   "source": [
    "def func_10(args, x = 1): \n",
    "    if x == 3: # 누적곱인 경우에는 0이면 무조건 0이 나오기 때문에 1로 변경\n",
    "        result = 1\n",
    "    else:\n",
    "        result = 0\n",
    "    for i in args:\n",
    "        if x == 1:\n",
    "            result += i\n",
    "        elif x == 2:\n",
    "            result -= i\n",
    "        elif x == 3:\n",
    "            result *= i\n",
    "        else:\n",
    "            print('x의 범위는 1부터 3까지 입니다.')\n",
    "            break\n",
    "\n",
    "    return result"
   ]
  },
  {
   "cell_type": "code",
   "execution_count": 35,
   "metadata": {},
   "outputs": [
    {
     "data": {
      "text/plain": [
       "10"
      ]
     },
     "execution_count": 35,
     "metadata": {},
     "output_type": "execute_result"
    }
   ],
   "source": [
    "func_10([1,2,3,4])"
   ]
  },
  {
   "cell_type": "code",
   "execution_count": 36,
   "metadata": {},
   "outputs": [],
   "source": [
    "# func_9를 while문으로 구성\n",
    "def func_11(*args, x = 1):\n",
    "    if x == 3:\n",
    "        result = 1\n",
    "    elif x == 1 or x == 2:\n",
    "        result = 0\n",
    "    else:\n",
    "        # 함수에서 return은? -> 결과 값을 되돌려준다.(함수를 종료료)\n",
    "        return 'x의 범위는 1부터 3까지입니다.'\n",
    "    # while문\n",
    "    idx = 0\n",
    "\n",
    "    while idx < len(args):\n",
    "        if x == 1:\n",
    "            result += args[idx]\n",
    "        elif x == 2:\n",
    "            result -= args[idx]\n",
    "        else:\n",
    "            result *= args[idx]\n",
    "        idx += 1\n",
    "        # idx = idx + 1\n",
    "    return result\n",
    "        "
   ]
  },
  {
   "cell_type": "code",
   "execution_count": 37,
   "metadata": {},
   "outputs": [
    {
     "data": {
      "text/plain": [
       "15"
      ]
     },
     "execution_count": 37,
     "metadata": {},
     "output_type": "execute_result"
    }
   ],
   "source": [
    "func_11(1,2,3,4,5)"
   ]
  },
  {
   "cell_type": "code",
   "execution_count": 38,
   "metadata": {},
   "outputs": [
    {
     "data": {
      "text/plain": [
       "-15"
      ]
     },
     "execution_count": 38,
     "metadata": {},
     "output_type": "execute_result"
    }
   ],
   "source": [
    "func_11(1,2,3,4,5, x = 2)"
   ]
  },
  {
   "cell_type": "code",
   "execution_count": 39,
   "metadata": {},
   "outputs": [
    {
     "data": {
      "text/plain": [
       "120"
      ]
     },
     "execution_count": 39,
     "metadata": {},
     "output_type": "execute_result"
    }
   ],
   "source": [
    "func_11(1,2,3,4,5, x = 3)"
   ]
  },
  {
   "cell_type": "code",
   "execution_count": 40,
   "metadata": {},
   "outputs": [
    {
     "data": {
      "text/plain": [
       "'x의 범위는 1부터 3까지입니다.'"
      ]
     },
     "execution_count": 40,
     "metadata": {},
     "output_type": "execute_result"
    }
   ],
   "source": [
    "func_11(1,2,3,4,5, x = 4)"
   ]
  },
  {
   "cell_type": "code",
   "execution_count": 41,
   "metadata": {},
   "outputs": [],
   "source": [
    "def func_12(*args, x = 1):\n",
    "    if x in (1, 2):\n",
    "        result = 0\n",
    "    elif x == 3:\n",
    "        result = 1\n",
    "    else:\n",
    "        return \"x의 범위는 1부터 3까지입니다.\"\n",
    "    \n",
    "    idx = 0\n",
    "    # while문을 무한루프 -> 거짓이 되는 경우가 존재하지 않는다.\n",
    "    while True:\n",
    "        try:\n",
    "            if x == 1:\n",
    "                result += args[idx]\n",
    "                print(result)\n",
    "            elif x == 2:\n",
    "                result -= args[idx]\n",
    "            else :\n",
    "                result *= args[idx]\n",
    "            idx += 1\n",
    "        except:\n",
    "            # try에서 코드가 실행될때 에러가 발생한다면 break\n",
    "            break\n",
    "    return result\n"
   ]
  },
  {
   "cell_type": "code",
   "execution_count": 42,
   "metadata": {},
   "outputs": [
    {
     "name": "stdout",
     "output_type": "stream",
     "text": [
      "1\n",
      "3\n",
      "6\n",
      "10\n",
      "15\n"
     ]
    },
    {
     "data": {
      "text/plain": [
       "15"
      ]
     },
     "execution_count": 42,
     "metadata": {},
     "output_type": "execute_result"
    }
   ],
   "source": [
    "func_12(1,2,3,4,5)"
   ]
  },
  {
   "cell_type": "code",
   "execution_count": 43,
   "metadata": {},
   "outputs": [],
   "source": [
    "# 함수를 생성 \n",
    "# 함수의 매개변수 3개\n",
    "# 시작값, 종료값, 증가값\n",
    "# 증가값은 기본값이 1\n",
    "# 시작값부터 종료값 전까지 증가값만큼 증가를 시켜서 list에 원소를 담는다. \n",
    "# range 함수와 흡사한 함수를 하나 생성 [결과의 타입은 list]\n",
    "# 조건문 -> 증가값이 양수라면 -> 시작값과 종료값중 큰 값이 종료\n",
    "# 증가값이 음수라면 -> 시작값과 종료값중 작은 값은 종료\n",
    "# 증가값이 0이라면 작은값으로 이루어진 리스트를 생성 개수 종료값값\n",
    "# ex) func(1, 10, 1) --> [1,2,3,4,5,6,7,8,9]\n",
    "# func(10, 1, 1) --> [1,2,3,4,5,6,7,8,9]\n",
    "# func(1, 10, -1) --> [10, 9, 8, 7, 6, 5, 4, 3, 2]\n",
    "# func(1, 5, 0) -- > [1,1,1,1,1]\n",
    "# func(3, 1, 0) --> [1,1,1]\n"
   ]
  },
  {
   "cell_type": "code",
   "execution_count": 44,
   "metadata": {},
   "outputs": [],
   "source": [
    "def func(x, y, z = 1):\n",
    "    # 결과값의 타입은 list 빈 list 생성 \n",
    "    result = []\n",
    "    # 증가값(z)이 양수라면?\n",
    "    if z > 0 :\n",
    "        # x, y를 비교\n",
    "        # min(): 값들을 비교해서 작은 값을 출력 \n",
    "        # max(): 값들을 비교해서 큰 값을 출력\n",
    "        # if x < y:\n",
    "        #     # 시작값 \n",
    "        #     start = x\n",
    "        #     # 종료값값\n",
    "        #     end = y\n",
    "        # else:\n",
    "        #     start = y\n",
    "        #     end = x\n",
    "        start = min(x, y)\n",
    "        end = max(x, y)\n",
    "        # start부터 end전까지 z만큼 증가시키면서 해당하는 값들을\n",
    "        # result에 대입\n",
    "        while start < end:\n",
    "            result.append(start)\n",
    "            # 시작값을 z만큼 증가시킨다. \n",
    "            start += z\n",
    "    elif z < 0:\n",
    "        # if x < y:\n",
    "        #     start = y\n",
    "        #     end = x\n",
    "        # else:\n",
    "        #     start = x\n",
    "        #     end = y\n",
    "        start = max(x, y)\n",
    "        end = min(x, y)\n",
    "        # start가 end보다 큰 수로 시작하고 \n",
    "        # start 점점 감소시키면서 end보다 \n",
    "        # 작아지거나 같은 경우 반복문을 종료\n",
    "        while start > end:\n",
    "            result.append(start)\n",
    "            start += z\n",
    "    else:\n",
    "        # x, y 중에 작은 수를 데이터 \n",
    "        if x < y:\n",
    "            data = x\n",
    "            cnt = y\n",
    "        else:\n",
    "            data = y\n",
    "            cnt = x\n",
    "        i = 0\n",
    "        while i < cnt:\n",
    "            result.append(data)\n",
    "            i += 1\n",
    "    # 만들어진 result를 되돌려준다. \n",
    "    return result\n",
    "        "
   ]
  },
  {
   "cell_type": "code",
   "execution_count": 45,
   "metadata": {},
   "outputs": [
    {
     "data": {
      "text/plain": [
       "[3, 5, 7, 9]"
      ]
     },
     "execution_count": 45,
     "metadata": {},
     "output_type": "execute_result"
    }
   ],
   "source": [
    "func(3, 10, 2)"
   ]
  },
  {
   "cell_type": "code",
   "execution_count": 46,
   "metadata": {},
   "outputs": [
    {
     "data": {
      "text/plain": [
       "[2, 4, 6, 8]"
      ]
     },
     "execution_count": 46,
     "metadata": {},
     "output_type": "execute_result"
    }
   ],
   "source": [
    "func(10, 2, 2)"
   ]
  },
  {
   "cell_type": "code",
   "execution_count": 47,
   "metadata": {},
   "outputs": [
    {
     "data": {
      "text/plain": [
       "[9, 7, 5]"
      ]
     },
     "execution_count": 47,
     "metadata": {},
     "output_type": "execute_result"
    }
   ],
   "source": [
    "func(3, 9, -2)"
   ]
  },
  {
   "cell_type": "code",
   "execution_count": 48,
   "metadata": {},
   "outputs": [
    {
     "data": {
      "text/plain": [
       "[9, 7, 5]"
      ]
     },
     "execution_count": 48,
     "metadata": {},
     "output_type": "execute_result"
    }
   ],
   "source": [
    "func(9, 3, -2)"
   ]
  },
  {
   "cell_type": "code",
   "execution_count": 49,
   "metadata": {},
   "outputs": [
    {
     "data": {
      "text/plain": [
       "[2, 2, 2, 2, 2]"
      ]
     },
     "execution_count": 49,
     "metadata": {},
     "output_type": "execute_result"
    }
   ],
   "source": [
    "func(2, 5, 0)"
   ]
  },
  {
   "cell_type": "code",
   "execution_count": 50,
   "metadata": {},
   "outputs": [
    {
     "data": {
      "text/plain": [
       "[]"
      ]
     },
     "execution_count": 50,
     "metadata": {},
     "output_type": "execute_result"
    }
   ],
   "source": [
    "func(5, 5, 1)"
   ]
  },
  {
   "cell_type": "code",
   "execution_count": 51,
   "metadata": {},
   "outputs": [
    {
     "data": {
      "text/plain": [
       "10"
      ]
     },
     "execution_count": 51,
     "metadata": {},
     "output_type": "execute_result"
    }
   ],
   "source": [
    "# max() 함수를 생성 -> 인자 값들중에 가장 큰 숫자를 출력력\n",
    "max(1, 5, 4, 10, 3)"
   ]
  },
  {
   "cell_type": "code",
   "execution_count": 52,
   "metadata": {},
   "outputs": [],
   "source": [
    "# 함수 생성 \n",
    "# 매개변수? 인자의 개수가 가변인 매개변수 1개 생성\n",
    "# 매개변수의 타입은? tuple\n",
    "# 매개변수의 첫번째 데이터를 변수에 저장\n",
    "# 반복문 생성 \n",
    "# 매개변수의 길이의 -1 만큼 반복\n",
    "# 매개변수의 두번째 데이터를 비교하여 큰 값을 변수에 저장 \n",
    "# 세번째 데이터와 위의 변수와 비교하고 큰 값을 변수에 저장 \n",
    "# (반복 -> 마지막 데이터까지 )\n",
    "# 마지막까지 비교하고 저장된 변수를 되돌려준다. \n",
    "def custom_max(*args):\n",
    "    # 입력 값들 중 첫번째 데이터를 변수에 저장 \n",
    "    result = args[0]\n",
    "    # 반복문을 생성 -> 횟수는 args의 길이의 -1만큼 \n",
    "    # case1\n",
    "    for i in range(len(args)-1):  \n",
    "        # 길이가 4인 데이터라면?\n",
    "        # i는 0, 1, 2 --> 실제 비교해야되는 index는 1, 2, 3\n",
    "        # 비교 result와 args의 2번째 데이터부터 마지막까지\n",
    "        if result < args[i+1]:\n",
    "            result = args[i+1]\n",
    "    # case2\n",
    "    # for i in range(1, len(args)):\n",
    "    #     # i는 1, 2, 3\n",
    "    #     if result < args[i]:\n",
    "    #         result = args[i]\n",
    "    # case3\n",
    "    # 시작 값은? 1\n",
    "    # idx = 1\n",
    "    # while idx < len(args):\n",
    "    #     if result < args[idx]:\n",
    "    #         result = args[idx]\n",
    "    #     idx += 1\n",
    "    \n",
    "    # 결과값을 되돌려준다. \n",
    "    return result"
   ]
  },
  {
   "cell_type": "code",
   "execution_count": 53,
   "metadata": {},
   "outputs": [
    {
     "data": {
      "text/plain": [
       "7"
      ]
     },
     "execution_count": 53,
     "metadata": {},
     "output_type": "execute_result"
    }
   ],
   "source": [
    "custom_max(3, 5, 2, 7)"
   ]
  },
  {
   "cell_type": "code",
   "execution_count": 54,
   "metadata": {},
   "outputs": [],
   "source": [
    "# sort() 함수를 생성\n",
    "# min(), max() 함수를 이용\n",
    "# 매개변수를 1개 고정\n",
    "# 인자 값에 []형태로 입력을 하도록\n",
    "def custom_sort(_list, reverse = False):\n",
    "    # 결과 값은 list 반환\n",
    "    result = []\n",
    "\n",
    "    # 오름차순 정렬\n",
    "    # 조건식이 들어가는 부분에 변수를 대입하게 되면 \n",
    "    # 변수의 데이터를 강제적으로 bool형태로 데이터를 변환\n",
    "    # 데이터가 존재하지 않는다면 : False\n",
    "    # 데이터가 존재하면 : True\n",
    "    while _list:\n",
    "        if reverse:\n",
    "            data = max(_list)\n",
    "        else:\n",
    "            # _list에서 가장 작은 값을 추출\n",
    "            data = min(_list) \n",
    "        # min_data result에 대입 \n",
    "        result.append(data)\n",
    "        # _list에서 min_data를 제거 \n",
    "        _list.remove(data)\n",
    "        # _list가 [5,1,10]라고 가정 \n",
    "        # 첫번째 반복 : _list [5, 1, 10] / min_data = 1 / result.append(1)\n",
    "        # _list.remove(1) ---> _list = [5, 10] / result = [1]\n",
    "        # 두번째 반복 : _list [5, 10] -> 강제적으로 bool -> True -> 반복 시작\n",
    "        # min_data = 5 / result.append(5) / _list.remove(5)\n",
    "        # result = [1, 5] / _list = [10]\n",
    "        # 세번째 반복 : _list [10] -> 강제적으로 bool -> True\n",
    "        # min_data = 10 / result.append(10) / _list.remove(10)\n",
    "        # result = [1, 5, 10] / _list = []\n",
    "        # 네번째 반복 : _list [] -> 강제적으로 bool --> False -> 반복 종료료\n",
    "    return result"
   ]
  },
  {
   "cell_type": "code",
   "execution_count": 55,
   "metadata": {},
   "outputs": [
    {
     "data": {
      "text/plain": [
       "[1, 2, 3, 7]"
      ]
     },
     "execution_count": 55,
     "metadata": {},
     "output_type": "execute_result"
    }
   ],
   "source": [
    "custom_sort([3, 7, 1, 2])"
   ]
  },
  {
   "cell_type": "code",
   "execution_count": 56,
   "metadata": {},
   "outputs": [
    {
     "data": {
      "text/plain": [
       "[7, 5, 2, 1]"
      ]
     },
     "execution_count": 56,
     "metadata": {},
     "output_type": "execute_result"
    }
   ],
   "source": [
    "custom_sort([5, 1, 2, 7], reverse=True)"
   ]
  },
  {
   "cell_type": "code",
   "execution_count": 57,
   "metadata": {},
   "outputs": [],
   "source": [
    "import importlib"
   ]
  },
  {
   "cell_type": "code",
   "execution_count": 58,
   "metadata": {},
   "outputs": [],
   "source": [
    "# 외부의 모듈 파일을 로드 \n",
    "import mod "
   ]
  },
  {
   "cell_type": "code",
   "execution_count": 59,
   "metadata": {},
   "outputs": [
    {
     "data": {
      "text/plain": [
       "<module 'mod' from 'c:\\\\Users\\\\Owner\\\\Desktop\\\\ubion_project\\\\python_basic\\\\mod.py'>"
      ]
     },
     "execution_count": 59,
     "metadata": {},
     "output_type": "execute_result"
    }
   ],
   "source": [
    "# 이미 불러온 모듈을 리로드 \n",
    "importlib.reload(mod)"
   ]
  },
  {
   "cell_type": "code",
   "execution_count": 62,
   "metadata": {},
   "outputs": [
    {
     "name": "stdout",
     "output_type": "stream",
     "text": [
      "45\n",
      "100\n"
     ]
    }
   ],
   "source": [
    "# mod.py에서는 2개의 함수가 존재 \n",
    "# custom_sort(리스트형태 입력값, reverse = bool[기본값은 True])\n",
    "# custom_max(가변의 인자값)\n",
    "# 현재 파일의 함수 호출\n",
    "print(\n",
    "    custom_max(1,45,7,2)\n",
    ")\n",
    "print(\n",
    "    mod.custom_max(10, 3, 50, 100, 44)\n",
    ")\n"
   ]
  },
  {
   "cell_type": "code",
   "execution_count": 63,
   "metadata": {},
   "outputs": [
    {
     "data": {
      "text/plain": [
       "10"
      ]
     },
     "execution_count": 63,
     "metadata": {},
     "output_type": "execute_result"
    }
   ],
   "source": [
    "mod.input_a"
   ]
  }
 ],
 "metadata": {
  "kernelspec": {
   "display_name": "Python 3",
   "language": "python",
   "name": "python3"
  },
  "language_info": {
   "codemirror_mode": {
    "name": "ipython",
    "version": 3
   },
   "file_extension": ".py",
   "mimetype": "text/x-python",
   "name": "python",
   "nbconvert_exporter": "python",
   "pygments_lexer": "ipython3",
   "version": "3.13.1"
  }
 },
 "nbformat": 4,
 "nbformat_minor": 2
}
