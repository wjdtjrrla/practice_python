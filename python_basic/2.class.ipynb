{
 "cells": [
  {
   "cell_type": "markdown",
   "metadata": {},
   "source": [
    "### Class 선언\n",
    "- class 키워드를 이용하여 class 선언\n",
    "- class 이름은 일반적으로는 첫글자는 대문자로 표기\n",
    "\n",
    "### Class 생성\n",
    "- 선언이 된 class를 변수에 저장하는 과정\n",
    "- 선언이 된 같은 class를 여러 변수에 저장하여 따로 관리 가능\n",
    "\n",
    "### Class 내부의 변수와 함수를 호출\n",
    "- class가 저장되어 있는 변수 안에(.) 변수와 함수를 호출"
   ]
  },
  {
   "cell_type": "code",
   "execution_count": 1,
   "metadata": {},
   "outputs": [],
   "source": [
    "# 가장 기본적인 class 하나 선언\n",
    "class Test:\n",
    "\n",
    "    # 생성자 함수 (초기화 함수) : 매개변수 self는 필수항목\n",
    "    def __init__(self, _name, _birth):\n",
    "        # 자기 자신의 공간에 변수를 생성\n",
    "        self.name = _name\n",
    "        self.birth = _birth"
   ]
  },
  {
   "cell_type": "code",
   "execution_count": 2,
   "metadata": {},
   "outputs": [],
   "source": [
    "# class를 생성 -> 변수를 만들어서 변수 안에 class를 저장\n",
    "# class가 생성될때 __init__()함수는 자동으로 처음에 한번만 실행\n",
    "# 매개변수가 3개 \n",
    "# self -> 인자값을 따로 안 넣어도 된다. \n",
    "# (first_class변수의 주소값이 자동으로 입력)\n",
    "# _name, _birth 두개의 매개변수는 인자값이 필요\n",
    "first_class = Test('kim', '19901010')"
   ]
  },
  {
   "cell_type": "code",
   "execution_count": 3,
   "metadata": {},
   "outputs": [],
   "source": [
    "# Test class 다른 변수에 생성\n",
    "second_class = Test('park', '19950505')"
   ]
  },
  {
   "cell_type": "code",
   "execution_count": 4,
   "metadata": {},
   "outputs": [
    {
     "name": "stdout",
     "output_type": "stream",
     "text": [
      "kim\n",
      "park\n"
     ]
    }
   ],
   "source": [
    "# 생성된 class 두개에서 name이라는 변수를 호출 \n",
    "print(first_class.name)\n",
    "print(second_class.name)"
   ]
  },
  {
   "cell_type": "code",
   "execution_count": 5,
   "metadata": {},
   "outputs": [
    {
     "name": "stdout",
     "output_type": "stream",
     "text": [
      "19901010\n"
     ]
    }
   ],
   "source": [
    "print(first_class.birth)"
   ]
  },
  {
   "cell_type": "code",
   "execution_count": 6,
   "metadata": {},
   "outputs": [
    {
     "name": "stdout",
     "output_type": "stream",
     "text": [
      "19950505\n"
     ]
    }
   ],
   "source": [
    "print(second_class.birth)"
   ]
  },
  {
   "cell_type": "code",
   "execution_count": 7,
   "metadata": {},
   "outputs": [],
   "source": [
    "# class 선언\n",
    "# 생성자 함수에서 2개의 변수를 생성\n",
    "# 함수 3개 생성 \n",
    "# 첫번째 함수 생성자 함수에서 만든 변수 두개의 합을 되돌려주는 기능\n",
    "# 두번째 함수 생성자 함수에서 만든 변수 두개의 차를 되돌려주는 기능\n",
    "# 세번재 함수 생성자 함순에서 만든 변수 두개의 곱을 되돌려주는 기능\n",
    "class Test2:\n",
    "    # 생성자 함수\n",
    "    def __init__(self, _x, _y):\n",
    "        self.x = _x\n",
    "        self.y = _y\n",
    "\n",
    "    # 첫번째 함수 생성 \n",
    "    def add(self):\n",
    "        # class 내부에서 저장되어 있는 두개의 변수를 더한다. \n",
    "        result = self.x + self.y\n",
    "        # 계산된 결과를 되돌려준다. \n",
    "        return result\n",
    "\n",
    "    def sub(self):\n",
    "        result = self.x - self.y\n",
    "        return result\n",
    "\n",
    "    def multi(self):\n",
    "        result = self.x * self.y\n",
    "        return result "
   ]
  },
  {
   "cell_type": "code",
   "execution_count": 8,
   "metadata": {},
   "outputs": [],
   "source": [
    "# class 생성\n",
    "class_1 = Test2(456, 123)\n",
    "class_2 = Test2('abc', 'def')"
   ]
  },
  {
   "cell_type": "code",
   "execution_count": 9,
   "metadata": {},
   "outputs": [
    {
     "data": {
      "text/plain": [
       "579"
      ]
     },
     "execution_count": 9,
     "metadata": {},
     "output_type": "execute_result"
    }
   ],
   "source": [
    "# class_1에 있는 x는 456 y는 123\n",
    "# class 안에 있는 함수를 호출\n",
    "# class 안에 add()함수는 매개변수 self가 존재 \n",
    "# 인자 값은 몇개? 0\n",
    "# self 매개변수에는 class_1의 주소값이 입력\n",
    "# self.x + self.y ==> 456+123\n",
    "class_1.add()"
   ]
  },
  {
   "cell_type": "code",
   "execution_count": 10,
   "metadata": {},
   "outputs": [
    {
     "data": {
      "text/plain": [
       "'abcdef'"
      ]
     },
     "execution_count": 10,
     "metadata": {},
     "output_type": "execute_result"
    }
   ],
   "source": [
    "# self에는 class_2의 주소가 입력\n",
    "# class_2에 있는 x라는 변수는? 'abc'\n",
    "# class_2에 있는 y라는 변수는? 'def'\n",
    "class_2.add()"
   ]
  },
  {
   "cell_type": "code",
   "execution_count": 11,
   "metadata": {},
   "outputs": [
    {
     "data": {
      "text/plain": [
       "333"
      ]
     },
     "execution_count": 11,
     "metadata": {},
     "output_type": "execute_result"
    }
   ],
   "source": [
    "class_1.sub()"
   ]
  },
  {
   "cell_type": "code",
   "execution_count": 12,
   "metadata": {},
   "outputs": [
    {
     "ename": "TypeError",
     "evalue": "unsupported operand type(s) for -: 'str' and 'str'",
     "output_type": "error",
     "traceback": [
      "\u001b[1;31m---------------------------------------------------------------------------\u001b[0m",
      "\u001b[1;31mTypeError\u001b[0m                                 Traceback (most recent call last)",
      "Cell \u001b[1;32mIn[12], line 1\u001b[0m\n\u001b[1;32m----> 1\u001b[0m \u001b[43mclass_2\u001b[49m\u001b[38;5;241;43m.\u001b[39;49m\u001b[43msub\u001b[49m\u001b[43m(\u001b[49m\u001b[43m)\u001b[49m\n",
      "Cell \u001b[1;32mIn[7], line 21\u001b[0m, in \u001b[0;36mTest2.sub\u001b[1;34m(self)\u001b[0m\n\u001b[0;32m     20\u001b[0m \u001b[38;5;28;01mdef\u001b[39;00m\u001b[38;5;250m \u001b[39m\u001b[38;5;21msub\u001b[39m(\u001b[38;5;28mself\u001b[39m):\n\u001b[1;32m---> 21\u001b[0m     result \u001b[38;5;241m=\u001b[39m \u001b[38;5;28;43mself\u001b[39;49m\u001b[38;5;241;43m.\u001b[39;49m\u001b[43mx\u001b[49m\u001b[43m \u001b[49m\u001b[38;5;241;43m-\u001b[39;49m\u001b[43m \u001b[49m\u001b[38;5;28;43mself\u001b[39;49m\u001b[38;5;241;43m.\u001b[39;49m\u001b[43my\u001b[49m\n\u001b[0;32m     22\u001b[0m     \u001b[38;5;28;01mreturn\u001b[39;00m result\n",
      "\u001b[1;31mTypeError\u001b[0m: unsupported operand type(s) for -: 'str' and 'str'"
     ]
    }
   ],
   "source": [
    "class_2.sub()"
   ]
  },
  {
   "cell_type": "code",
   "execution_count": null,
   "metadata": {},
   "outputs": [
    {
     "data": {
      "text/plain": [
       "56088"
      ]
     },
     "execution_count": 15,
     "metadata": {},
     "output_type": "execute_result"
    }
   ],
   "source": [
    "class_1.multi()"
   ]
  },
  {
   "cell_type": "code",
   "execution_count": 14,
   "metadata": {},
   "outputs": [
    {
     "ename": "TypeError",
     "evalue": "can't multiply sequence by non-int of type 'str'",
     "output_type": "error",
     "traceback": [
      "\u001b[1;31m---------------------------------------------------------------------------\u001b[0m",
      "\u001b[1;31mTypeError\u001b[0m                                 Traceback (most recent call last)",
      "Cell \u001b[1;32mIn[14], line 1\u001b[0m\n\u001b[1;32m----> 1\u001b[0m \u001b[43mclass_2\u001b[49m\u001b[38;5;241;43m.\u001b[39;49m\u001b[43mmulti\u001b[49m\u001b[43m(\u001b[49m\u001b[43m)\u001b[49m\n",
      "Cell \u001b[1;32mIn[7], line 25\u001b[0m, in \u001b[0;36mTest2.multi\u001b[1;34m(self)\u001b[0m\n\u001b[0;32m     24\u001b[0m \u001b[38;5;28;01mdef\u001b[39;00m\u001b[38;5;250m \u001b[39m\u001b[38;5;21mmulti\u001b[39m(\u001b[38;5;28mself\u001b[39m):\n\u001b[1;32m---> 25\u001b[0m     result \u001b[38;5;241m=\u001b[39m \u001b[38;5;28;43mself\u001b[39;49m\u001b[38;5;241;43m.\u001b[39;49m\u001b[43mx\u001b[49m\u001b[43m \u001b[49m\u001b[38;5;241;43m*\u001b[39;49m\u001b[43m \u001b[49m\u001b[38;5;28;43mself\u001b[39;49m\u001b[38;5;241;43m.\u001b[39;49m\u001b[43my\u001b[49m\n\u001b[0;32m     26\u001b[0m     \u001b[38;5;28;01mreturn\u001b[39;00m result\n",
      "\u001b[1;31mTypeError\u001b[0m: can't multiply sequence by non-int of type 'str'"
     ]
    }
   ],
   "source": [
    "class_2.multi()"
   ]
  },
  {
   "cell_type": "code",
   "execution_count": 15,
   "metadata": {},
   "outputs": [],
   "source": [
    "# class 변수가 존재하는 class 선언\n",
    "class Users:\n",
    "    # 클래스 변수 생성\n",
    "    user_list = []\n",
    "\n",
    "    # 생성자 함수 \n",
    "    def __init__(self, _name, _age):\n",
    "        self.name = _name\n",
    "        self.age = _age\n",
    "        self.user_list.append(_name)\n",
    "    \n",
    "    # 함수 하나 생성 \n",
    "    def view_user(self):\n",
    "        print(\"회원의 이름은\", self.name, '나이는', self.age, \n",
    "        \"세 입니다.\")\n",
    "        print(f\"등록된 회원의 목록은 {self.user_list}입니다\")"
   ]
  },
  {
   "cell_type": "code",
   "execution_count": 16,
   "metadata": {},
   "outputs": [],
   "source": [
    "# 유저 등록 -> class 생성\n",
    "user_1 = Users('kim', 20)\n",
    "# user_1 안에 있는 name이라는 변수에 'kim' 저장 \n",
    "# user_1 안에 있는 age라는 변수에 20 저장 \n",
    "# user_1 안에 있는 user_list에 'kim' 추가가\n",
    "user_2 = Users('park', 30)\n",
    "# user_2 안에 있는 name이라는 변수에 'park' 저장\n",
    "# user_2 안에 있는 age라는 변수에 30 저장 \n",
    "# user_2 안에 있는 user_list에 'park' 추가가"
   ]
  },
  {
   "cell_type": "code",
   "execution_count": 17,
   "metadata": {},
   "outputs": [
    {
     "name": "stdout",
     "output_type": "stream",
     "text": [
      "회원의 이름은 kim 나이는 20 세 입니다.\n",
      "등록된 회원의 목록은 ['kim', 'park']입니다\n"
     ]
    }
   ],
   "source": [
    "user_1.view_user()"
   ]
  },
  {
   "cell_type": "code",
   "execution_count": 18,
   "metadata": {},
   "outputs": [
    {
     "name": "stdout",
     "output_type": "stream",
     "text": [
      "회원의 이름은 park 나이는 30 세 입니다.\n",
      "등록된 회원의 목록은 ['kim', 'park']입니다\n"
     ]
    }
   ],
   "source": [
    "user_2.view_user()"
   ]
  },
  {
   "cell_type": "code",
   "execution_count": 22,
   "metadata": {},
   "outputs": [],
   "source": [
    "user_3 = Users('lee', 15)"
   ]
  },
  {
   "cell_type": "code",
   "execution_count": 23,
   "metadata": {},
   "outputs": [
    {
     "name": "stdout",
     "output_type": "stream",
     "text": [
      "회원의 이름은 kim 나이는 20 세 입니다.\n",
      "등록된 회원의 목록은 ['kim', 'park', 'lee']입니다\n"
     ]
    }
   ],
   "source": [
    "user_1.view_user()"
   ]
  },
  {
   "cell_type": "code",
   "execution_count": 24,
   "metadata": {},
   "outputs": [
    {
     "name": "stdout",
     "output_type": "stream",
     "text": [
      "회원의 이름은 lee 나이는 15 세 입니다.\n",
      "등록된 회원의 목록은 ['kim', 'park', 'lee']입니다\n"
     ]
    }
   ],
   "source": [
    "user_3.view_user()"
   ]
  },
  {
   "cell_type": "code",
   "execution_count": 25,
   "metadata": {},
   "outputs": [],
   "source": [
    "class User:\n",
    "    cnt = 0\n",
    "\n",
    "    def __init__(self, name):\n",
    "        self.name = name\n",
    "        self.cnt += 1"
   ]
  },
  {
   "cell_type": "code",
   "execution_count": 26,
   "metadata": {},
   "outputs": [],
   "source": [
    "user_5 = User('kim')\n",
    "user_6 = User('park')"
   ]
  },
  {
   "cell_type": "code",
   "execution_count": 27,
   "metadata": {},
   "outputs": [
    {
     "data": {
      "text/plain": [
       "1"
      ]
     },
     "execution_count": 27,
     "metadata": {},
     "output_type": "execute_result"
    }
   ],
   "source": [
    "# 클래스 변수에 단순 데이터 타입은 공유가 되지 않는다. \n",
    "# 리스트나 딕셔너리형태의 데이터를 클래스 변수로 이용\n",
    "user_5.cnt"
   ]
  },
  {
   "cell_type": "code",
   "execution_count": null,
   "metadata": {},
   "outputs": [],
   "source": []
  }
 ],
 "metadata": {
  "kernelspec": {
   "display_name": "Python 3",
   "language": "python",
   "name": "python3"
  },
  "language_info": {
   "codemirror_mode": {
    "name": "ipython",
    "version": 3
   },
   "file_extension": ".py",
   "mimetype": "text/x-python",
   "name": "python",
   "nbconvert_exporter": "python",
   "pygments_lexer": "ipython3",
   "version": "3.13.1"
  }
 },
 "nbformat": 4,
 "nbformat_minor": 2
}
