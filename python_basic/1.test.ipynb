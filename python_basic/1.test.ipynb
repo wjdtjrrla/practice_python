{
 "cells": [
  {
   "cell_type": "code",
   "execution_count": 2,
   "metadata": {},
   "outputs": [
    {
     "name": "stdout",
     "output_type": "stream",
     "text": [
      "10\n",
      "<class 'int'>\n"
     ]
    }
   ],
   "source": [
    "#변수 생성\n",
    "a = 10\n",
    "print(a)\n",
    "print(type(a))"
   ]
  },
  {
   "cell_type": "markdown",
   "metadata": {},
   "source": [
    "# title\n",
    "## title2\n",
    "### title3\n",
    "\n",
    "#### list\n",
    "1. list1\n",
    "2. list2\n",
    "    1. sub_list1\n",
    "    2. sub_list2\n",
    "\n",
    "- list1\n",
    "- list2\n",
    "    - sub_list1\n",
    "    - sub_list2"
   ]
  },
  {
   "cell_type": "code",
   "execution_count": 6,
   "metadata": {},
   "outputs": [
    {
     "name": "stdout",
     "output_type": "stream",
     "text": [
      "13\n",
      "7\n",
      "30\n",
      "3.3333333333333335\n",
      "3\n",
      "1\n",
      "9\n",
      "1000\n"
     ]
    }
   ],
   "source": [
    "#산술 연산자\n",
    "x = 10\n",
    "y = 3\n",
    "\n",
    "print(x+y)\n",
    "print(x-y)\n",
    "print(x*y)\n",
    "print(x/y)\n",
    "print(x//y)\n",
    "print(x%y)\n",
    "print(x^y)\n",
    "print(x**y)"
   ]
  },
  {
   "cell_type": "code",
   "execution_count": 10,
   "metadata": {},
   "outputs": [
    {
     "name": "stdout",
     "output_type": "stream",
     "text": [
      "13\n"
     ]
    }
   ],
   "source": [
    "x = 10\n",
    "x += 3\n",
    "print(x)"
   ]
  },
  {
   "cell_type": "code",
   "execution_count": 11,
   "metadata": {},
   "outputs": [
    {
     "name": "stdout",
     "output_type": "stream",
     "text": [
      "False True\n"
     ]
    }
   ],
   "source": [
    "x = 10\n",
    "y = 5\n",
    "\n",
    "print(x == y, x != y)"
   ]
  },
  {
   "cell_type": "markdown",
   "metadata": {},
   "source": [
    "### 자료형 데이터\n",
    "- 여러 개의 데이터를 하나의 변수에 저장시키는 형태\n",
    "- tuple\n",
    "    - 자료형 데이터에서 가장 기본적인 방법\n",
    "    - ()를 이용해서 데이터를 생성\n",
    "    - 한 번 만들어지면 수정 불가능\n",
    "- list\n",
    "    - []를 이용해서 생성\n",
    "    - tuple과는 다르게 각 원소들을 수정, 추가, 삭제 가능\n",
    "    - list의 내장 함수를 이용해서 다음과 같은 작업 가능\n",
    "    - 원소의 개수는 0개 이상으로 생성 가능\n",
    "- dict\n",
    "    - {} 안에 데이터를 key : value의 형태로 저장\n",
    "    - list, tuple은 데이터의 위치를 기준으로 데이터 생성\n",
    "    - dict는 key를 기준으로 데이터 생성\n",
    "    - 원소의 개수는 0개 이상으로 생성 가능\n"
   ]
  },
  {
   "cell_type": "code",
   "execution_count": 12,
   "metadata": {},
   "outputs": [
    {
     "name": "stdout",
     "output_type": "stream",
     "text": [
      "(10, 'test')\n",
      "(3, 3.14)\n",
      "<class 'tuple'>\n",
      "<class 'tuple'>\n"
     ]
    }
   ],
   "source": [
    "#tuple 데이터 생성\n",
    "tuple_a = (10, 'test')\n",
    "tuple_b = (3, 3.14)\n",
    "print(tuple_a)\n",
    "print(tuple_b)\n",
    "print(type(tuple_a))\n",
    "print(type(tuple_b))"
   ]
  },
  {
   "cell_type": "code",
   "execution_count": 14,
   "metadata": {},
   "outputs": [
    {
     "name": "stdout",
     "output_type": "stream",
     "text": [
      "(10, 'test', 3, 3.14)\n",
      "(10, 'test', 10, 'test', 10, 'test')\n"
     ]
    }
   ],
   "source": [
    "print(tuple_a + tuple_b)\n",
    "print(tuple_a*3)"
   ]
  },
  {
   "cell_type": "code",
   "execution_count": 17,
   "metadata": {},
   "outputs": [
    {
     "name": "stdout",
     "output_type": "stream",
     "text": [
      "10\n",
      "3.14\n"
     ]
    }
   ],
   "source": [
    "#tuple 원소들을 따로 추출하여 출력\n",
    "#python에서는 위치가 0부터 시작\n",
    "print(tuple_a[0])\n",
    "print(tuple_b[1])"
   ]
  },
  {
   "cell_type": "code",
   "execution_count": 27,
   "metadata": {},
   "outputs": [
    {
     "name": "stdout",
     "output_type": "stream",
     "text": [
      "('test', 10, 'test', 10)\n",
      "(10, 'test', 10)\n",
      "('test', 10, 'test', 10, 'test')\n",
      "(10, 'test')\n"
     ]
    }
   ],
   "source": [
    "tuple_c = tuple_a*4\n",
    "#2번째부터 5번째까지 추출\n",
    "print(tuple_c[1:5])\n",
    "print(tuple_c[:3])\n",
    "print(tuple_c[3:])\n",
    "print(tuple_c[-2:])"
   ]
  },
  {
   "cell_type": "code",
   "execution_count": 28,
   "metadata": {},
   "outputs": [
    {
     "name": "stdout",
     "output_type": "stream",
     "text": [
      "[20, 10, 40, 30]\n",
      "['abc', 'fi', 'be']\n",
      "<class 'list'>\n",
      "<class 'list'>\n"
     ]
    }
   ],
   "source": [
    "#list 형태 데이터 확인\n",
    "list_a = [20,10,40,30]\n",
    "list_b = ['abc','fi','be']\n",
    "print(list_a)\n",
    "print(list_b)\n",
    "print(type(list_a))\n",
    "print(type(list_b))"
   ]
  },
  {
   "cell_type": "code",
   "execution_count": 29,
   "metadata": {},
   "outputs": [
    {
     "name": "stdout",
     "output_type": "stream",
     "text": [
      "[10, 20, 30, 40]\n",
      "['fi', 'be', 'abc']\n"
     ]
    }
   ],
   "source": [
    "#list 내장 함수\n",
    "#정렬을 변경\n",
    "#sort() 함수를 이용 -> list class 안에 존재하는 sort()함수 호출\n",
    "list_a.sort()\n",
    "print(list_a)\n",
    "list_b.sort(reverse=True)\n",
    "print(list_b)"
   ]
  },
  {
   "cell_type": "code",
   "execution_count": 30,
   "metadata": {},
   "outputs": [
    {
     "name": "stdout",
     "output_type": "stream",
     "text": [
      "['abc', 'be', 'fi']\n"
     ]
    }
   ],
   "source": [
    "#순서를 역순으로 변경\n",
    "#reverse()\n",
    "list_b.reverse()\n",
    "print(list_b)"
   ]
  },
  {
   "cell_type": "code",
   "execution_count": 33,
   "metadata": {},
   "outputs": [
    {
     "name": "stdout",
     "output_type": "stream",
     "text": [
      "[10, 20, 30, 40, 10, 10, 10]\n"
     ]
    }
   ],
   "source": [
    "#리스트에서 데이터를 추가하는 함수\n",
    "#append(value)\n",
    "list_a.append(10)\n",
    "print(list_a)"
   ]
  },
  {
   "cell_type": "code",
   "execution_count": null,
   "metadata": {},
   "outputs": [
    {
     "data": {
      "text/plain": [
       "'fi'"
      ]
     },
     "execution_count": 35,
     "metadata": {},
     "output_type": "execute_result"
    }
   ],
   "source": [
    "#리스트에서 가장 마지막에 있는 데이터를 제거하는 함수\n",
    "#pop()\n",
    "list_b \n",
    "list_b.pop()\n"
   ]
  },
  {
   "cell_type": "code",
   "execution_count": 37,
   "metadata": {},
   "outputs": [
    {
     "name": "stdout",
     "output_type": "stream",
     "text": [
      "[10, 20, 30, 66, 40, 10, 10, 10]\n"
     ]
    }
   ],
   "source": [
    "#리스트에서 사용자가 원하는 위치에 데이터 대입\n",
    "#insert()\n",
    "list_a.insert(3,66)\n",
    "print(list_a)"
   ]
  },
  {
   "cell_type": "code",
   "execution_count": 39,
   "metadata": {},
   "outputs": [
    {
     "name": "stdout",
     "output_type": "stream",
     "text": [
      "[20, 30, 66, 40, 10, 10, 10, 100]\n"
     ]
    }
   ],
   "source": [
    "#특정 데이터를 제거하는 함수\n",
    "#remove\n",
    "#처음에 있는 값만 제거\n",
    "list_a.remove(10)\n",
    "print(list_a)"
   ]
  },
  {
   "cell_type": "code",
   "execution_count": 40,
   "metadata": {},
   "outputs": [
    {
     "data": {
      "text/plain": [
       "[20, 30, 40, 10, 10, 10, 100]"
      ]
     },
     "execution_count": 40,
     "metadata": {},
     "output_type": "execute_result"
    }
   ],
   "source": [
    "#특정 위치에 데이터를 제거하는 함수\n",
    "#del()\n",
    "del list_a[2]\n",
    "list_a"
   ]
  },
  {
   "cell_type": "code",
   "execution_count": null,
   "metadata": {},
   "outputs": [],
   "source": [
    "list_a.append(20)\n",
    "print(list_a)"
   ]
  },
  {
   "cell_type": "code",
   "execution_count": 41,
   "metadata": {},
   "outputs": [
    {
     "name": "stdout",
     "output_type": "stream",
     "text": [
      "[20, 30, 40, 10, 10, 10, 100]\n"
     ]
    }
   ],
   "source": [
    "list_a_copy = list_a.copy()\n",
    "print(list_a_copy)"
   ]
  },
  {
   "cell_type": "code",
   "execution_count": null,
   "metadata": {},
   "outputs": [],
   "source": [
    "list_a.pop()\n",
    "print(list_a)\n",
    "print(list_a_clone)\n",
    "print(list_a_copy)"
   ]
  },
  {
   "cell_type": "code",
   "execution_count": 44,
   "metadata": {},
   "outputs": [
    {
     "data": {
      "text/plain": [
       "[20, 30, 40, 10, 10, 10, 100]"
      ]
     },
     "execution_count": 44,
     "metadata": {},
     "output_type": "execute_result"
    }
   ],
   "source": [
    "sorted(list_a)\n",
    "list_a"
   ]
  },
  {
   "cell_type": "code",
   "execution_count": 46,
   "metadata": {},
   "outputs": [
    {
     "data": {
      "text/plain": [
       "3"
      ]
     },
     "execution_count": 46,
     "metadata": {},
     "output_type": "execute_result"
    }
   ],
   "source": [
    "list_a_copy.count(10)"
   ]
  },
  {
   "cell_type": "code",
   "execution_count": 47,
   "metadata": {},
   "outputs": [
    {
     "data": {
      "text/plain": [
       "7"
      ]
     },
     "execution_count": 47,
     "metadata": {},
     "output_type": "execute_result"
    }
   ],
   "source": [
    "len(list_a_copy)"
   ]
  },
  {
   "cell_type": "code",
   "execution_count": 48,
   "metadata": {},
   "outputs": [
    {
     "name": "stdout",
     "output_type": "stream",
     "text": [
      "{'name': 'test', 'age': 20, 'phone': '01012345678'}\n"
     ]
    }
   ],
   "source": [
    "dict_a = {\n",
    "    \"name\" : 'test',\n",
    "    'age' : 20,\n",
    "    'phone' : '01012345678'\n",
    "}\n",
    "print(dict_a)"
   ]
  },
  {
   "cell_type": "code",
   "execution_count": 51,
   "metadata": {},
   "outputs": [
    {
     "name": "stdout",
     "output_type": "stream",
     "text": [
      "test\n"
     ]
    }
   ],
   "source": [
    "print(dict_a['name'])"
   ]
  },
  {
   "cell_type": "code",
   "execution_count": 52,
   "metadata": {},
   "outputs": [],
   "source": [
    "#dict형태에 새로운 key : value 추가\n",
    "dict_a['birth'] = '2000'"
   ]
  },
  {
   "cell_type": "code",
   "execution_count": 60,
   "metadata": {},
   "outputs": [
    {
     "name": "stdout",
     "output_type": "stream",
     "text": [
      "dict_keys(['name', 'age', 'phone', 'birth'])\n"
     ]
    },
    {
     "ename": "TypeError",
     "evalue": "'builtin_function_or_method' object is not iterable",
     "output_type": "error",
     "traceback": [
      "\u001b[1;31m---------------------------------------------------------------------------\u001b[0m",
      "\u001b[1;31mTypeError\u001b[0m                                 Traceback (most recent call last)",
      "Cell \u001b[1;32mIn[60], line 3\u001b[0m\n\u001b[0;32m      1\u001b[0m \u001b[38;5;66;03m#dict에서 키값들만 출력하는 방법\u001b[39;00m\n\u001b[0;32m      2\u001b[0m \u001b[38;5;28mprint\u001b[39m(dict_a\u001b[38;5;241m.\u001b[39mkeys())\n\u001b[1;32m----> 3\u001b[0m \u001b[38;5;28mprint\u001b[39m(\u001b[38;5;28;43mlist\u001b[39;49m\u001b[43m(\u001b[49m\u001b[43mdict_a\u001b[49m\u001b[38;5;241;43m.\u001b[39;49m\u001b[43mkeys\u001b[49m\u001b[43m)\u001b[49m[\u001b[38;5;241m0\u001b[39m])\n\u001b[0;32m      4\u001b[0m \u001b[38;5;66;03m#dict에서 value값만 출력\u001b[39;00m\n\u001b[0;32m      5\u001b[0m \u001b[38;5;28mprint\u001b[39m(dict_a\u001b[38;5;241m.\u001b[39mvalues())\n",
      "\u001b[1;31mTypeError\u001b[0m: 'builtin_function_or_method' object is not iterable"
     ]
    }
   ],
   "source": [
    "#dict에서 키값들만 출력하는 방법\n",
    "print(dict_a.keys())\n",
    "print(list(dict_a.keys)[0])\n",
    "#dict에서 value값만 출력\n",
    "print(dict_a.values())"
   ]
  },
  {
   "cell_type": "code",
   "execution_count": 58,
   "metadata": {},
   "outputs": [
    {
     "name": "stdout",
     "output_type": "stream",
     "text": [
      "dict_items([('name', 'test'), ('age', 20), ('phone', '01012345678'), ('birth', '2000')])\n"
     ]
    }
   ],
   "source": [
    "print(dict_a.items())"
   ]
  },
  {
   "cell_type": "code",
   "execution_count": 61,
   "metadata": {},
   "outputs": [],
   "source": [
    "#mysql databaseㄷ에서 데이터를 리드하는 경우 데이터 타입\n",
    "#list 안에 dict 형태의 2차원 데이터\n",
    "sample_data = [\n",
    "    {\n",
    "        'name':'test',\n",
    "        'pwd':'1234'\n",
    "    },\n",
    "    {\n",
    "        'name':'test2',\n",
    "        'pwd':'1111'\n",
    "    },\n",
    "    {\n",
    "        'name':'test3',\n",
    "        'pwd':'2222'\n",
    "     }\n",
    "]"
   ]
  },
  {
   "cell_type": "code",
   "execution_count": 62,
   "metadata": {},
   "outputs": [
    {
     "data": {
      "text/plain": [
       "'test2'"
      ]
     },
     "execution_count": 62,
     "metadata": {},
     "output_type": "execute_result"
    }
   ],
   "source": [
    "sample_data[1]['name']"
   ]
  },
  {
   "cell_type": "code",
   "execution_count": 63,
   "metadata": {},
   "outputs": [
    {
     "name": "stdout",
     "output_type": "stream",
     "text": [
      "a는 5보다 크다\n"
     ]
    }
   ],
   "source": [
    "#조건문 반복문\n",
    "#if문 조건식이 참인 경우, 거짓인 경우 실행되는 코드 작성\n",
    "a = 10\n",
    "if a > 5:\n",
    "    print('a는 5보다 크다')\n",
    "else :\n",
    "    print('a는 5보다 작거나 같다')"
   ]
  },
  {
   "cell_type": "code",
   "execution_count": 64,
   "metadata": {},
   "outputs": [],
   "source": [
    "score = int(\n",
    "    input(\"점수를 입력해주세요 :\")\n",
    ")"
   ]
  },
  {
   "cell_type": "code",
   "execution_count": 65,
   "metadata": {},
   "outputs": [
    {
     "name": "stdout",
     "output_type": "stream",
     "text": [
      "F\n",
      "프로그램 종료\n"
     ]
    }
   ],
   "source": [
    "#학점을 조건문을 이용해서 출력\n",
    "if score >= 90 :\n",
    "    print('A')\n",
    "elif score >=80 :\n",
    "    print('B')\n",
    "elif score >= 70 :\n",
    "    print('C')\n",
    "else :\n",
    "    print('F')\n",
    "    \n",
    "#if문이 끝나고 실행이 되는 부분\n",
    "print('프로그램 종료')"
   ]
  },
  {
   "cell_type": "code",
   "execution_count": 69,
   "metadata": {},
   "outputs": [
    {
     "name": "stdout",
     "output_type": "stream",
     "text": [
      "1\t2\t3\t4\t5\t6\t7\t8\t9\t"
     ]
    }
   ],
   "source": [
    "#for문\n",
    "#기본적인 형태\n",
    "#for 변수명 in range(시작값, 종료값, 증가값)\n",
    "#시작값의 기본값 (0), 증가값 기본값 (1)\n",
    "for i in range(1,10,1):\n",
    "    print(i, end = '\\t')"
   ]
  },
  {
   "cell_type": "code",
   "execution_count": 71,
   "metadata": {},
   "outputs": [
    {
     "name": "stdout",
     "output_type": "stream",
     "text": [
      "0\n",
      "1\n",
      "2\n",
      "3\n",
      "4\n",
      "5\n",
      "6\n",
      "7\n",
      "8\n",
      "9\n"
     ]
    }
   ],
   "source": [
    "for i in range(10):\n",
    "    print(i)"
   ]
  },
  {
   "cell_type": "code",
   "execution_count": 73,
   "metadata": {},
   "outputs": [
    {
     "name": "stdout",
     "output_type": "stream",
     "text": [
      "1\n",
      "3\n",
      "5\n",
      "7\n",
      "9\n"
     ]
    }
   ],
   "source": [
    "list_a = [1,3,5,7,9]\n",
    "for i in range(len(list_a)):\n",
    "    #i가 의미하는 것은 ?0~4 -> 리스트의 index값\n",
    "    print(list_a[i])"
   ]
  },
  {
   "cell_type": "code",
   "execution_count": 75,
   "metadata": {},
   "outputs": [
    {
     "name": "stdout",
     "output_type": "stream",
     "text": [
      "1\n",
      "3\n",
      "5\n",
      "7\n",
      "9\n"
     ]
    }
   ],
   "source": [
    "for i in list_a:\n",
    "    print(i)"
   ]
  },
  {
   "cell_type": "code",
   "execution_count": 78,
   "metadata": {},
   "outputs": [
    {
     "name": "stdout",
     "output_type": "stream",
     "text": [
      "0\n",
      "1\n",
      "2\n",
      "3\n",
      "4\n",
      "5\n",
      "6\n",
      "7\n",
      "8\n",
      "9\n",
      "10\n"
     ]
    }
   ],
   "source": [
    "#while문\n",
    "#초기값을 설정\n",
    "i = 0\n",
    "while i <=10:\n",
    "    print(i)\n",
    "    i += 1"
   ]
  },
  {
   "cell_type": "code",
   "execution_count": 80,
   "metadata": {},
   "outputs": [
    {
     "name": "stdout",
     "output_type": "stream",
     "text": [
      "55\n"
     ]
    }
   ],
   "source": [
    "#1~10까지의 합계\n",
    "result = 0\n",
    "for i in range(1,11):\n",
    "    result += i\n",
    "print(result)"
   ]
  },
  {
   "cell_type": "code",
   "execution_count": 82,
   "metadata": {},
   "outputs": [
    {
     "name": "stdout",
     "output_type": "stream",
     "text": [
      "55\n"
     ]
    }
   ],
   "source": [
    "result = 0\n",
    "for i in range(10):\n",
    "    result += (i+1)\n",
    "print(result)"
   ]
  },
  {
   "cell_type": "code",
   "execution_count": 84,
   "metadata": {},
   "outputs": [
    {
     "name": "stdout",
     "output_type": "stream",
     "text": [
      "55\n"
     ]
    }
   ],
   "source": [
    "i=1\n",
    "result=0\n",
    "while i<11:\n",
    "    result += i\n",
    "    i+=1\n",
    "print(result)"
   ]
  },
  {
   "cell_type": "code",
   "execution_count": 88,
   "metadata": {},
   "outputs": [
    {
     "name": "stdout",
     "output_type": "stream",
     "text": [
      "[7, 14, 21, 28, 35, 42, 49]\n",
      "[1, 2, 3, 4, 5, 6, 8, 9, 10, 11, 12, 13, 15, 16, 17, 18, 19, 20, 22, 23, 24, 25, 26, 27, 29, 30, 31, 32, 33, 34, 36, 37, 38, 39, 40, 41, 43, 44, 45, 46, 47, 48, 50]\n"
     ]
    }
   ],
   "source": [
    "#1부터 50까지 숫자 중에 7의 배수인 데이터들을 모두 확인하고 저장\n",
    "#모든 숫자를 저장할 수 있는 공간 (list)을 생성\n",
    "list_x = []\n",
    "list_y = list()\n",
    "\n",
    "for i in range (50):\n",
    "    if (i+1)%7 ==0 :\n",
    "        list_x.append(i+1)\n",
    "    else :\n",
    "        list_y.append(i+1)\n",
    "\n",
    "print(list_x)\n",
    "print(list_y)    "
   ]
  },
  {
   "cell_type": "code",
   "execution_count": 95,
   "metadata": {},
   "outputs": [
    {
     "name": "stdout",
     "output_type": "stream",
     "text": [
      "['test', 'test2', 'test3']\n"
     ]
    }
   ],
   "source": [
    "#sample_dta에서 name의 value들만 가진 새로운 리스트 생성\n",
    "sample_data\n",
    "\n",
    "name_list =[]\n",
    "for i in sample_data:\n",
    "    # print(i)\n",
    "    # print(type(i))\n",
    "    name_list.append(i['name'])\n",
    "print(name_list)"
   ]
  },
  {
   "cell_type": "code",
   "execution_count": 98,
   "metadata": {},
   "outputs": [
    {
     "name": "stdout",
     "output_type": "stream",
     "text": [
      "['test', 'test2', 'test3']\n"
     ]
    }
   ],
   "source": [
    "name_list = []\n",
    "for i in range(len(sample_data)):\n",
    "    name_list.append(sample_data[i]['name'])\n",
    "print(name_list)"
   ]
  },
  {
   "cell_type": "code",
   "execution_count": 101,
   "metadata": {},
   "outputs": [
    {
     "name": "stdout",
     "output_type": "stream",
     "text": [
      "[2, 4, 6, 8, 10]\n"
     ]
    }
   ],
   "source": [
    "#continue 구문 -> 반복문으로 되돌아간다\n",
    "#1부터 10까지 짝수들을 리스트로 생성\n",
    "list_x = []\n",
    "for i in range(1, 11, 1):\n",
    "    if i%2==1:\n",
    "        continue\n",
    "    list_x.append(i)\n",
    "print(list_x)"
   ]
  },
  {
   "cell_type": "code",
   "execution_count": 109,
   "metadata": {},
   "outputs": [
    {
     "data": {
      "text/plain": [
       "'   hello world   '"
      ]
     },
     "execution_count": 109,
     "metadata": {},
     "output_type": "execute_result"
    }
   ],
   "source": [
    "#문자열 내장 함수\n",
    "test_str = \"   hello world   \"\n",
    "test_str"
   ]
  },
  {
   "cell_type": "code",
   "execution_count": 104,
   "metadata": {},
   "outputs": [
    {
     "name": "stdout",
     "output_type": "stream",
     "text": [
      "   HELLO WORLD   \n"
     ]
    }
   ],
   "source": [
    "print(test_str.upper())"
   ]
  },
  {
   "cell_type": "code",
   "execution_count": 106,
   "metadata": {},
   "outputs": [
    {
     "name": "stdout",
     "output_type": "stream",
     "text": [
      "   hello world   \n"
     ]
    }
   ],
   "source": [
    "print(test_str.lower())"
   ]
  },
  {
   "cell_type": "code",
   "execution_count": 110,
   "metadata": {},
   "outputs": [
    {
     "name": "stdout",
     "output_type": "stream",
     "text": [
      "   HELLO WORLD   \n"
     ]
    }
   ],
   "source": [
    "print(test_str.swapcase())"
   ]
  },
  {
   "cell_type": "code",
   "execution_count": 112,
   "metadata": {},
   "outputs": [
    {
     "name": "stdout",
     "output_type": "stream",
     "text": [
      "   Hello World   \n"
     ]
    }
   ],
   "source": [
    "print(test_str.title())"
   ]
  },
  {
   "cell_type": "code",
   "execution_count": 114,
   "metadata": {},
   "outputs": [
    {
     "name": "stdout",
     "output_type": "stream",
     "text": [
      "False\n",
      "True\n"
     ]
    }
   ],
   "source": [
    "a='Hello'\n",
    "b='hello'\n",
    "print(a==b)\n",
    "print(a.upper()==b.upper())"
   ]
  },
  {
   "cell_type": "code",
   "execution_count": 115,
   "metadata": {},
   "outputs": [],
   "source": [
    "#문자에서 시작과 종료 부분에 있는 공백을 제거하는 함수\n",
    "#strip() 좌우 공백을 모두 제거\n",
    "#lstrip() 좌측의 공백을 모두 제거\n",
    "#rstrip() 우측의 공백을 모두 제거"
   ]
  },
  {
   "cell_type": "code",
   "execution_count": 116,
   "metadata": {},
   "outputs": [
    {
     "data": {
      "text/plain": [
       "'hello world'"
      ]
     },
     "execution_count": 116,
     "metadata": {},
     "output_type": "execute_result"
    }
   ],
   "source": [
    "test_str.strip()"
   ]
  },
  {
   "cell_type": "code",
   "execution_count": 118,
   "metadata": {},
   "outputs": [
    {
     "data": {
      "text/plain": [
       "'hello world   '"
      ]
     },
     "execution_count": 118,
     "metadata": {},
     "output_type": "execute_result"
    }
   ],
   "source": [
    "test_str.lstrip()"
   ]
  },
  {
   "cell_type": "code",
   "execution_count": 119,
   "metadata": {},
   "outputs": [
    {
     "data": {
      "text/plain": [
       "'   hello world'"
      ]
     },
     "execution_count": 119,
     "metadata": {},
     "output_type": "execute_result"
    }
   ],
   "source": [
    "test_str.rstrip()"
   ]
  },
  {
   "cell_type": "code",
   "execution_count": 124,
   "metadata": {},
   "outputs": [
    {
     "name": "stdout",
     "output_type": "stream",
     "text": [
      "$10\n",
      "<class 'str'>\n",
      "10\n",
      "10\n",
      "<class 'int'>\n"
     ]
    }
   ],
   "source": [
    "#lstrip()을 활용하는 경우\n",
    "#달러 표시 -> $1.00 -> 타입은 문자 --> 사칙연산 불가\n",
    "#문자를 숫자로 변환\n",
    "cost = \"$10\"\n",
    "#$문자때문에 숫자로 변경할 때 에러 발생\n",
    "#int(cost)\n",
    "#$를 제거 좌측에 $가 있어 lstrip()을 이용해서 제거\n",
    "print(cost)\n",
    "print(type(cost))\n",
    "print(cost.lstrip('$'))\n",
    "cost2 = int(cost.lstrip('$')) \n",
    "print(cost2)\n",
    "print(type(cost2))"
   ]
  },
  {
   "cell_type": "code",
   "execution_count": 128,
   "metadata": {},
   "outputs": [
    {
     "name": "stdout",
     "output_type": "stream",
     "text": [
      "10,000\n",
      "10000\n",
      "<class 'str'>\n"
     ]
    }
   ],
   "source": [
    "#10,000원 이라는 문자를 숫자로 변경\n",
    "#우측에 있는 원 문자 제거\n",
    "cost3 = '10,000원'\n",
    "cost4 = cost3.rstrip('원')\n",
    "print(cost4)\n",
    "#','문자를 숫자로 변환이 불 가능 -> 에러\n",
    "#print(int(cost4))\n",
    "#문자열 중간에 있는 문자를 변경하는 방법\n",
    "#replace(타켓문자, 변경할 문자) 함수 이용\n",
    "#replace(',','')\n",
    "cost5 = cost4.replace(',','')\n",
    "print(cost5)\n",
    "print(type(cost5))"
   ]
  },
  {
   "cell_type": "code",
   "execution_count": 136,
   "metadata": {},
   "outputs": [
    {
     "name": "stdout",
     "output_type": "stream",
     "text": [
      "False False False\n",
      "상품A 상품A 상품A 상품A\n",
      "True True True\n"
     ]
    }
   ],
   "source": [
    "#replace 함수를 이용해서 문자열읙 ㅗㅇ백을 제거\n",
    "a='상품a'\n",
    "b='상품A'\n",
    "c='상 품 a'\n",
    "d='상 품 A'\n",
    "print(a==b,b==c,b==d)\n",
    "#a,b,c,d가 다 같은 형태로 변경\n",
    "#a는 모든 문자를 대문자로 변경\n",
    "a= a.upper()\n",
    "c=c.replace(' ','').upper()\n",
    "d=d.replace(' ','')\n",
    "\n",
    "print(a,b,c,d)\n",
    "print(a==b,b==c,b==d)"
   ]
  },
  {
   "cell_type": "code",
   "execution_count": 138,
   "metadata": {},
   "outputs": [
    {
     "name": "stdout",
     "output_type": "stream",
     "text": [
      "['Hello', 'World']\n"
     ]
    }
   ],
   "source": [
    "#문자열을 나눠주는 함수 (기본적으로 공백을 기준)\n",
    "#split()\n",
    "test_str2 = 'Hello World'\n",
    "print(test_str2.split())"
   ]
  },
  {
   "cell_type": "code",
   "execution_count": 141,
   "metadata": {},
   "outputs": [
    {
     "name": "stdout",
     "output_type": "stream",
     "text": [
      "['a', 'b', 'c', 'd', 'e']\n"
     ]
    }
   ],
   "source": [
    "test_str3 = 'a,b,c,d,e'\n",
    "print(test_str3.split(','))"
   ]
  },
  {
   "cell_type": "code",
   "execution_count": 156,
   "metadata": {},
   "outputs": [
    {
     "name": "stdout",
     "output_type": "stream",
     "text": [
      "select * from table\n",
      "\n",
      "    insert\n",
      "    into\n",
      "    table\n",
      "    values\n",
      "    ()\n",
      "\n"
     ]
    }
   ],
   "source": [
    "sql = \"select * from table\"\n",
    "sql3 = \"SELECT * FROM table\"\n",
    "sql2 = \"\"\"\n",
    "    insert\n",
    "    into\n",
    "    table\n",
    "    values\n",
    "    ()\n",
    "\"\"\"\n",
    "print(sql)\n",
    "print(sql2)"
   ]
  },
  {
   "cell_type": "code",
   "execution_count": 161,
   "metadata": {},
   "outputs": [
    {
     "name": "stdout",
     "output_type": "stream",
     "text": [
      "select * from table\n",
      "['select', '*', 'from', 'table']\n",
      "select\n",
      "True\n",
      "True\n"
     ]
    }
   ],
   "source": [
    "#sql, sql2 명령어\n",
    "#select 명령어인 경우 select 단어 출력\n",
    "#select 명령어가 아닌 경우 result 단어 출력\n",
    "\n",
    "print(sql)\n",
    "print(sql.split())\n",
    "print(sql.split()[0])\n",
    "print(sql.split()[0] == 'select')\n",
    "#sql3에 문자는 모두 소문자로 변경 ->\n",
    "# 공백을 기준으로 문자를 나눠주고\n",
    "# 첫번째 문자를 추출\n",
    "print(sql3.lower().split()[0] == 'select')"
   ]
  },
  {
   "cell_type": "code",
   "execution_count": 163,
   "metadata": {},
   "outputs": [
    {
     "data": {
      "text/plain": [
       "'insert'"
      ]
     },
     "execution_count": 163,
     "metadata": {},
     "output_type": "execute_result"
    }
   ],
   "source": [
    "sql2.split()[0]"
   ]
  },
  {
   "cell_type": "code",
   "execution_count": 172,
   "metadata": {},
   "outputs": [
    {
     "name": "stdout",
     "output_type": "stream",
     "text": [
      "True\n",
      "True\n",
      "True\n"
     ]
    }
   ],
   "source": [
    "#문자열의 시작이 특정한 문자와 같은가? 함수 존재\n",
    "#startswith(인자값)\n",
    "print(sql.startswith('select'))\n",
    "print(sql3.lower().startswith('select'))\n",
    "print(sql2.lstrip().startswith('insert'))"
   ]
  },
  {
   "cell_type": "code",
   "execution_count": 175,
   "metadata": {},
   "outputs": [
    {
     "name": "stdout",
     "output_type": "stream",
     "text": [
      "../csv/test.csv\n",
      "../csv/test5.csv\n"
     ]
    }
   ],
   "source": [
    "#문자의 마지막이 특정한 문자와 같은가?\n",
    "file_path = [\n",
    "    '../csv/test.csv',\n",
    "    '../csv/test2.xlsx',\n",
    "    '../csv/test3.json',\n",
    "    '../csv/test5.csv'\n",
    "    ]\n",
    "\n",
    "for i in file_path:\n",
    "    #파일의 경로 중 확장자가 csv인 데이터만 출력\n",
    "    if i.endswith('.csv'):\n",
    "        print(i)\n"
   ]
  },
  {
   "cell_type": "code",
   "execution_count": 179,
   "metadata": {},
   "outputs": [
    {
     "data": {
      "text/plain": [
       "True"
      ]
     },
     "execution_count": 179,
     "metadata": {},
     "output_type": "execute_result"
    }
   ],
   "source": [
    "#startswith가 어떻게 우리한테 결과값을 줄까?\n",
    "#특정한 입력값을 받고, 입력값이 있는가 없는가 확인\n",
    "#'select'값으로 시작하는가?\n",
    "#특정 문자에서 처음부터 7번째 전까지의 문자 추출\n",
    "#위에서 나온 결과인 문자열과 'select'가 같은가 비교\n",
    "\n",
    "text = 'select'\n",
    "sql[:len(text)] == text\n"
   ]
  },
  {
   "cell_type": "code",
   "execution_count": 190,
   "metadata": {},
   "outputs": [
    {
     "data": {
      "text/plain": [
       "True"
      ]
     },
     "execution_count": 190,
     "metadata": {},
     "output_type": "execute_result"
    }
   ],
   "source": [
    "#endswith가 어떻게 작동할까?\n",
    "text2 = '.csv'\n",
    "file_path2 = '../csv/test.csv'\n",
    "file_path2[-len(text2):] == text2"
   ]
  },
  {
   "cell_type": "code",
   "execution_count": 234,
   "metadata": {},
   "outputs": [
    {
     "name": "stdout",
     "output_type": "stream",
     "text": [
      "['test', 'test2', 'test3']\n",
      "[20, 30, 40]\n",
      "[{'name': 'test', 'age': 20}, {'name': 'test2', 'age': 30}, {'name': 'test3', 'age': 40}]\n"
     ]
    }
   ],
   "source": [
    "dict_text = {\n",
    "    'name' : ['test','test2','test3'],\n",
    "    'age' : [20,30,40]\n",
    "}\n",
    "#dict안에 list로 되어있는 데이터의 형태를 \n",
    "#list안에 dict로 변경[{'name':'test','age':20},{'name':'test2'}]\n",
    "\n",
    "result = [{},{},{}]\n",
    "for i in dict_text:\n",
    "    print(dict_text[i])\n",
    "    for j in range(len(dict_text[i])):\n",
    "        # result[j][i].append({dict_text[i][j]})\n",
    "        result[j][i] = dict_text[i][j]\n",
    "        \n",
    "print(result)\n",
    "        \n",
    "        "
   ]
  },
  {
   "cell_type": "code",
   "execution_count": 235,
   "metadata": {},
   "outputs": [
    {
     "name": "stdout",
     "output_type": "stream",
     "text": [
      "[{'name': 'test', 'age': 20}, {'name': 'test2', 'age': 30}, {'name': 'test3', 'age': 40}]\n",
      "[{'name': 'test', 'age': 20}, {'name': 'test2', 'age': 30}, {'name': 'test3', 'age': 40}]\n",
      "[{'name': 'test', 'age': 20}, {'name': 'test2', 'age': 30}, {'name': 'test3', 'age': 40}]\n",
      "[{'name': 'test', 'age': 20}, {'name': 'test2', 'age': 30}, {'name': 'test3', 'age': 40}]\n",
      "[{'name': 'test', 'age': 20}, {'name': 'test2', 'age': 30}, {'name': 'test3', 'age': 40}]\n",
      "[{'name': 'test', 'age': 20}, {'name': 'test2', 'age': 30}, {'name': 'test3', 'age': 40}]\n"
     ]
    }
   ],
   "source": [
    "for i in dict_text:\n",
    "    for j in range(len(dict_text[i])):\n",
    "        if len(dict_text[i]) > len(result):\n",
    "            result.append({})\n",
    "        result[j][i] = dict_text[i][j]\n",
    "        print(result)\n",
    "    "
   ]
  }
 ],
 "metadata": {
  "kernelspec": {
   "display_name": "Python 3",
   "language": "python",
   "name": "python3"
  },
  "language_info": {
   "codemirror_mode": {
    "name": "ipython",
    "version": 3
   },
   "file_extension": ".py",
   "mimetype": "text/x-python",
   "name": "python",
   "nbconvert_exporter": "python",
   "pygments_lexer": "ipython3",
   "version": "3.13.1"
  }
 },
 "nbformat": 4,
 "nbformat_minor": 2
}
