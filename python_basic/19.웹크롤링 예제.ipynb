{
 "cells": [
  {
   "cell_type": "code",
   "execution_count": 3,
   "metadata": {},
   "outputs": [],
   "source": [
    "from selenium import webdriver\n",
    "#특정 태그를 선택(id,class,xpath)\n",
    "from selenium.webdriver.common.by import By\n",
    "#키보드의 특정 이벤트를 불러오기 기능\n",
    "from selenium.webdriver.common.keys import Keys"
   ]
  },
  {
   "cell_type": "code",
   "execution_count": 5,
   "metadata": {},
   "outputs": [],
   "source": [
    "driver = webdriver.Chrome()"
   ]
  },
  {
   "cell_type": "code",
   "execution_count": 6,
   "metadata": {},
   "outputs": [],
   "source": [
    "driver.get('https://www.naver.com')"
   ]
  },
  {
   "cell_type": "code",
   "execution_count": 8,
   "metadata": {},
   "outputs": [],
   "source": [
    "# html 문서 안에서 id 속성이 query 태그 선택\n",
    "element = driver.find_element(By.ID, \"query\")"
   ]
  },
  {
   "cell_type": "code",
   "execution_count": 9,
   "metadata": {},
   "outputs": [],
   "source": [
    "element.send_keys('삼성전자')"
   ]
  },
  {
   "cell_type": "code",
   "execution_count": 10,
   "metadata": {},
   "outputs": [],
   "source": [
    "# element에 ENTER라는 키보드 이벤트를 발생\n",
    "element.send_keys(Keys.ENTER)"
   ]
  },
  {
   "cell_type": "code",
   "execution_count": 12,
   "metadata": {},
   "outputs": [],
   "source": [
    "from bs4 import BeautifulSoup as bs"
   ]
  },
  {
   "cell_type": "code",
   "execution_count": 13,
   "metadata": {},
   "outputs": [],
   "source": [
    "soup = bs(driver.page_source, 'html.parser')"
   ]
  },
  {
   "cell_type": "code",
   "execution_count": null,
   "metadata": {},
   "outputs": [],
   "source": [
    "news_list = soup.find_all('div',attrs={\n",
    "    'class':'news_contents'\n",
    "})"
   ]
  },
  {
   "cell_type": "code",
   "execution_count": null,
   "metadata": {},
   "outputs": [
    {
     "data": {
      "text/plain": [
       "4"
      ]
     },
     "execution_count": 66,
     "metadata": {},
     "output_type": "execute_result"
    }
   ],
   "source": [
    "len(news_list)"
   ]
  },
  {
   "cell_type": "code",
   "execution_count": 70,
   "metadata": {},
   "outputs": [],
   "source": [
    "#a 태그중 class가 news_tit 태그 선택\n",
    "#리스트에 넣기\n",
    "title_list=[]\n",
    "for news_content in news_list:\n",
    "    data = news_content.find('a',attrs={\n",
    "        'class':'news_tit'\n",
    "    }).get_text()\n",
    "    #리스트 추가\n",
    "    title_list.append(data)"
   ]
  },
  {
   "cell_type": "code",
   "execution_count": 71,
   "metadata": {},
   "outputs": [
    {
     "data": {
      "text/plain": [
       "[\"[단독] 삼성전자 '신사업TF' 상설화…대형 M&A 추진에 무게\",\n",
       " '사외이사 연봉 1위는 삼성전자…전년보다 10%↓ 1.8억원',\n",
       " \"[단독] '엔비디아 한 달 만에 재방문' 삼성전자 D-20 남겨놓고 HBM3E 납품...\",\n",
       " \"삼성전자 QLED TV, '無카드뮴' 퀀텀닷 기술 우수성 인증받아\"]"
      ]
     },
     "execution_count": 71,
     "metadata": {},
     "output_type": "execute_result"
    }
   ],
   "source": [
    "title_list"
   ]
  },
  {
   "cell_type": "code",
   "execution_count": 73,
   "metadata": {},
   "outputs": [
    {
     "data": {
      "text/plain": [
       "['https://www.sedaily.com/NewsView/2GQ7T4SQ1J',\n",
       " 'https://www.yna.co.kr/view/AKR20250311153700003?input=1195m',\n",
       " 'http://www.fnnews.com/news/202503111430559710',\n",
       " 'http://www.segye.com/newsView/20250312504750?OutUrl=naver']"
      ]
     },
     "execution_count": 73,
     "metadata": {},
     "output_type": "execute_result"
    }
   ],
   "source": [
    "# a태그에 있는 주소값을 출력\n",
    "link_list=[]\n",
    "for news_content in news_list:\n",
    "    data = news_content.find('a',attrs={\n",
    "        'class':'news_tit'\n",
    "    })['href']\n",
    "    #리스트 추가\n",
    "    link_list.append(data)\n",
    "link_list"
   ]
  },
  {
   "cell_type": "code",
   "execution_count": null,
   "metadata": {},
   "outputs": [],
   "source": []
  }
 ],
 "metadata": {
  "kernelspec": {
   "display_name": "Python 3",
   "language": "python",
   "name": "python3"
  },
  "language_info": {
   "codemirror_mode": {
    "name": "ipython",
    "version": 3
   },
   "file_extension": ".py",
   "mimetype": "text/x-python",
   "name": "python",
   "nbconvert_exporter": "python",
   "pygments_lexer": "ipython3",
   "version": "3.13.1"
  }
 },
 "nbformat": 4,
 "nbformat_minor": 2
}
