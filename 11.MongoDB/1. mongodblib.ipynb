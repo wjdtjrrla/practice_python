{
 "cells": [
  {
   "cell_type": "markdown",
   "metadata": {},
   "source": [
    "### MongoDB python 연동\n",
    "\n",
    "- 라이브러리 설치(pymongo)\n",
    "- 라이브러리 로드\n",
    "- 서버와의 연결"
   ]
  },
  {
   "cell_type": "code",
   "execution_count": 2,
   "metadata": {},
   "outputs": [],
   "source": [
    "# 라이브러리 설치\n",
    "# !pip install pymongo"
   ]
  },
  {
   "cell_type": "code",
   "execution_count": 3,
   "metadata": {},
   "outputs": [],
   "source": [
    "from pymongo import MongoClient"
   ]
  },
  {
   "cell_type": "code",
   "execution_count": 4,
   "metadata": {},
   "outputs": [],
   "source": [
    "# 서버와의 연결\n",
    "# 객체 생성 -> Class 생성\n",
    "client = MongoClient(\n",
    "    host = '127.0.0.1',\n",
    "    port = 27017\n",
    ")"
   ]
  },
  {
   "cell_type": "code",
   "execution_count": 5,
   "metadata": {},
   "outputs": [
    {
     "data": {
      "text/plain": [
       "['admin', 'config', 'local', 'ubion', 'ubion2']"
      ]
     },
     "execution_count": 5,
     "metadata": {},
     "output_type": "execute_result"
    }
   ],
   "source": [
    "# 데이터베이스의 목록을 확인\n",
    "client.list_database_names()"
   ]
  },
  {
   "cell_type": "code",
   "execution_count": 6,
   "metadata": {},
   "outputs": [],
   "source": [
    "# 기존에 존재하지 않은 데이터베이스 선택하기\n",
    "db = client['ubion2']"
   ]
  },
  {
   "cell_type": "code",
   "execution_count": 7,
   "metadata": {},
   "outputs": [],
   "source": [
    "# collection 생성\n",
    "collection = db['users']"
   ]
  },
  {
   "cell_type": "code",
   "execution_count": 8,
   "metadata": {},
   "outputs": [
    {
     "data": {
      "text/plain": [
       "InsertOneResult(ObjectId('67ef5dc1d9eb0200a1f317d8'), acknowledged=True)"
      ]
     },
     "execution_count": 8,
     "metadata": {},
     "output_type": "execute_result"
    }
   ],
   "source": [
    "# 데이터 대입\n",
    "data = {\n",
    "    'id' : 'test',\n",
    "    'pass' : '1234'\n",
    "}\n",
    "collection.insert_one(data)"
   ]
  },
  {
   "cell_type": "code",
   "execution_count": 9,
   "metadata": {},
   "outputs": [
    {
     "data": {
      "text/plain": [
       "['admin', 'config', 'local', 'ubion', 'ubion2']"
      ]
     },
     "execution_count": 9,
     "metadata": {},
     "output_type": "execute_result"
    }
   ],
   "source": [
    "# value 값이 생성되었으므로, 데이터 베이스에 표시됨.\n",
    "client.list_database_names()"
   ]
  },
  {
   "cell_type": "code",
   "execution_count": 10,
   "metadata": {},
   "outputs": [
    {
     "data": {
      "text/plain": [
       "InsertManyResult([ObjectId('67ef5dc1d9eb0200a1f317d9'), ObjectId('67ef5dc1d9eb0200a1f317da')], acknowledged=True)"
      ]
     },
     "execution_count": 10,
     "metadata": {},
     "output_type": "execute_result"
    }
   ],
   "source": [
    "data = [\n",
    "    {\n",
    "        'name' : 'kim',\n",
    "        'phone' : '01011112222',\n",
    "        'gender' : 'male'\n",
    "    },\n",
    "    {\n",
    "        'loc' : 'seoul'\n",
    "    }\n",
    "]\n",
    "collection.insert_many(data)"
   ]
  },
  {
   "cell_type": "code",
   "execution_count": 11,
   "metadata": {},
   "outputs": [
    {
     "data": {
      "text/plain": [
       "[{'_id': ObjectId('67ef436287444e95c4a3622c'),\n",
       "  'name': 'kim',\n",
       "  'phone': '01011112222',\n",
       "  'gender': 'male'},\n",
       " {'_id': ObjectId('67ef436287444e95c4a3622d'), 'loc': 'seoul'},\n",
       " {'_id': ObjectId('67ef5dc1d9eb0200a1f317d8'), 'id': 'test', 'pass': '1234'},\n",
       " {'_id': ObjectId('67ef5dc1d9eb0200a1f317d9'),\n",
       "  'name': 'kim',\n",
       "  'phone': '01011112222',\n",
       "  'gender': 'male'},\n",
       " {'_id': ObjectId('67ef5dc1d9eb0200a1f317da'), 'loc': 'seoul'}]"
      ]
     },
     "execution_count": 11,
     "metadata": {},
     "output_type": "execute_result"
    }
   ],
   "source": [
    "# collection에 원소들을 리스트 형태로 보여줌.\n",
    "list(collection.find())"
   ]
  },
  {
   "cell_type": "code",
   "execution_count": 12,
   "metadata": {},
   "outputs": [
    {
     "data": {
      "text/plain": [
       "{'_id': ObjectId('67ef436287444e95c4a3622c'),\n",
       " 'name': 'kim',\n",
       " 'phone': '01011112222',\n",
       " 'gender': 'male'}"
      ]
     },
     "execution_count": 12,
     "metadata": {},
     "output_type": "execute_result"
    }
   ],
   "source": [
    "# 하나만 보여주기\n",
    "collection.find_one()"
   ]
  },
  {
   "cell_type": "code",
   "execution_count": 13,
   "metadata": {},
   "outputs": [
    {
     "data": {
      "text/plain": [
       "[{'_id': ObjectId('67ef436287444e95c4a3622c'),\n",
       "  'name': 'kim',\n",
       "  'phone': '01011112222',\n",
       "  'gender': 'male'},\n",
       " {'_id': ObjectId('67ef5dc1d9eb0200a1f317d9'),\n",
       "  'name': 'kim',\n",
       "  'phone': '01011112222',\n",
       "  'gender': 'male'}]"
      ]
     },
     "execution_count": 13,
     "metadata": {},
     "output_type": "execute_result"
    }
   ],
   "source": [
    "# find()함수는 인자값으로 옵션의 값들을 대입\n",
    "# 작성 부분은 조건이 됨.\n",
    "list(\n",
    "    collection.find({\n",
    "        'name' : 'kim'\n",
    "    })\n",
    ")"
   ]
  },
  {
   "cell_type": "code",
   "execution_count": 14,
   "metadata": {},
   "outputs": [
    {
     "data": {
      "text/plain": [
       "[{'name': 'kim', 'phone': '01011112222', 'gender': 'male'},\n",
       " {'name': 'kim', 'phone': '01011112222', 'gender': 'male'}]"
      ]
     },
     "execution_count": 14,
     "metadata": {},
     "output_type": "execute_result"
    }
   ],
   "source": [
    "# find()함수는 인자값으로 옵션의 값들을 대입\n",
    "\n",
    "# 조건에 일치하는 원소의 _id를 0으로 수정\n",
    "list(\n",
    "    collection.find({\n",
    "        'name' : 'kim'      #조건\n",
    "    },\n",
    "    {\n",
    "        '_id' : 0\n",
    "    })\n",
    ")"
   ]
  },
  {
   "cell_type": "code",
   "execution_count": 15,
   "metadata": {},
   "outputs": [
    {
     "data": {
      "text/plain": [
       "UpdateResult({'n': 1, 'nModified': 1, 'ok': 1.0, 'updatedExisting': True}, acknowledged=True)"
      ]
     },
     "execution_count": 15,
     "metadata": {},
     "output_type": "execute_result"
    }
   ],
   "source": [
    "collection.update_one(\n",
    "    {\n",
    "        'id' : 'test'\n",
    "    },\n",
    "    {\n",
    "        '$set' : {'pass' : '0000'}\n",
    "    }\n",
    ")\n",
    "# SQL에서 생각해보면 UPDATE 'users' SET 'PASS' = '0000' WHERE 'id' = 'test'"
   ]
  },
  {
   "cell_type": "code",
   "execution_count": 16,
   "metadata": {},
   "outputs": [
    {
     "data": {
      "text/plain": [
       "[{'_id': ObjectId('67ef436287444e95c4a3622c'),\n",
       "  'name': 'kim',\n",
       "  'phone': '01011112222',\n",
       "  'gender': 'male'},\n",
       " {'_id': ObjectId('67ef436287444e95c4a3622d'), 'loc': 'seoul'},\n",
       " {'_id': ObjectId('67ef5dc1d9eb0200a1f317d8'), 'id': 'test', 'pass': '0000'},\n",
       " {'_id': ObjectId('67ef5dc1d9eb0200a1f317d9'),\n",
       "  'name': 'kim',\n",
       "  'phone': '01011112222',\n",
       "  'gender': 'male'},\n",
       " {'_id': ObjectId('67ef5dc1d9eb0200a1f317da'), 'loc': 'seoul'}]"
      ]
     },
     "execution_count": 16,
     "metadata": {},
     "output_type": "execute_result"
    }
   ],
   "source": [
    "list(\n",
    "    collection.find()\n",
    ")"
   ]
  },
  {
   "cell_type": "code",
   "execution_count": 17,
   "metadata": {},
   "outputs": [
    {
     "data": {
      "text/plain": [
       "DeleteResult({'n': 1, 'ok': 1.0}, acknowledged=True)"
      ]
     },
     "execution_count": 17,
     "metadata": {},
     "output_type": "execute_result"
    }
   ],
   "source": [
    "# 삭제\n",
    "collection.delete_one(\n",
    "    {\n",
    "        'id' : 'test'\n",
    "    }\n",
    ")\n",
    "# SQL -> DELETE FROM 'users' WHERE 'id' = 'test'"
   ]
  },
  {
   "cell_type": "code",
   "execution_count": 18,
   "metadata": {},
   "outputs": [
    {
     "data": {
      "text/plain": [
       "[{'_id': ObjectId('67ef436287444e95c4a3622c'),\n",
       "  'name': 'kim',\n",
       "  'phone': '01011112222',\n",
       "  'gender': 'male'},\n",
       " {'_id': ObjectId('67ef436287444e95c4a3622d'), 'loc': 'seoul'},\n",
       " {'_id': ObjectId('67ef5dc1d9eb0200a1f317d9'),\n",
       "  'name': 'kim',\n",
       "  'phone': '01011112222',\n",
       "  'gender': 'male'},\n",
       " {'_id': ObjectId('67ef5dc1d9eb0200a1f317da'), 'loc': 'seoul'}]"
      ]
     },
     "execution_count": 18,
     "metadata": {},
     "output_type": "execute_result"
    }
   ],
   "source": [
    "list(\n",
    "    collection.find()\n",
    ")"
   ]
  },
  {
   "cell_type": "markdown",
   "metadata": {},
   "source": [
    "#### mongoDB select 조건식\n",
    "- find(옵션1, 옵션2,...)\n",
    "    1. db.collection.find() -> SELECT * FROM TABLE\n",
    "    2. db.collection.find({ 'id' : 'test, pass' : '1234'}) -> SELECT * FROM TABLE WHERE `id` = 'test' `pass` = '1234'\n",
    "    3. db.collection.find({ 'id' : 'test' },{ 'pass' : '1234' }) -> SELECT * FROM TABLE WHERE `id` = 'test' OR `pass` = '1234'\n",
    "    4. db.collection.find({},{'id' : 1, 'pass' : 1}) -> SELECT `id`,`pass` FROM TABLE\n",
    "    5. db.collection.find({}, {'id' : 0}) -> id컬럼을 제외한 sql 쿼리문\n",
    "    6. db.collection.find({'age':{'$gt' : 25 }}) -> SELECT * FROM TABLE WHERE `age` > 25\n",
    "    7. db.collection.find({'age' : {'$lt' : 25}}) -> SELECT * FROM TABLE WHERE `age` < 25 \n",
    "    8. db.collection.find({'id' : {/bc/}}) -> SELECT * FROM TABLE WHERE `id` LIKE '%bc%'\n",
    "    9. db.collection.find().sort({'id' : 1}) -> SELECT * FROM TABLE ORDER BY `id` ASC\n",
    "    10. db.collection.find().sort({'id' : -1}) -> SELECT * FROM TABLE ORDER BY `id` DESC\n",
    "    11. db.collection.find().limit(10) -> SELECT * FROM TABLE LIMIT 10"
   ]
  },
  {
   "cell_type": "code",
   "execution_count": 19,
   "metadata": {},
   "outputs": [],
   "source": [
    "# mongoDB에서 admin 데이터벵스에서 test라는 collection에 있는 데이터 중\n",
    "# SAL의 값이 1500보다 큰 데이터에서 NAME을 기준으로 내림차순\n",
    "db2 = client['admin']"
   ]
  },
  {
   "cell_type": "code",
   "execution_count": 20,
   "metadata": {},
   "outputs": [
    {
     "data": {
      "text/plain": [
       "['test', 'system.version']"
      ]
     },
     "execution_count": 20,
     "metadata": {},
     "output_type": "execute_result"
    }
   ],
   "source": [
    "db2.list_collection_names()"
   ]
  },
  {
   "cell_type": "code",
   "execution_count": 21,
   "metadata": {},
   "outputs": [],
   "source": [
    "# collection에 원소들을 리스트 형태로 보여줌.\n",
    "collection2 = db2['test']"
   ]
  },
  {
   "cell_type": "code",
   "execution_count": 23,
   "metadata": {},
   "outputs": [
    {
     "data": {
      "text/plain": [
       "[{'_id': ObjectId('67ef2a5f2cf3b54b812b117a'),\n",
       "  'EMPNO': 7369.0,\n",
       "  'ENAME': 'SMITH',\n",
       "  'JOB': 'CLERK',\n",
       "  'MGR': 7902.0,\n",
       "  'HIREDATE': datetime.datetime(1980, 12, 17, 0, 0),\n",
       "  'SAL': 800.0,\n",
       "  'COMM': 0.0,\n",
       "  'DEPTNO': 20.0},\n",
       " {'_id': ObjectId('67ef2a5f2cf3b54b812b117b'),\n",
       "  'EMPNO': 7499.0,\n",
       "  'ENAME': 'ALLEN',\n",
       "  'JOB': 'SALESMAN',\n",
       "  'MGR': 7698.0,\n",
       "  'HIREDATE': datetime.datetime(1981, 2, 20, 0, 0),\n",
       "  'SAL': 1600.0,\n",
       "  'COMM': 300.0,\n",
       "  'DEPTNO': 30.0},\n",
       " {'_id': ObjectId('67ef2a5f2cf3b54b812b117c'),\n",
       "  'EMPNO': 7521.0,\n",
       "  'ENAME': 'WARD',\n",
       "  'JOB': 'SALESMAN',\n",
       "  'MGR': 7698.0,\n",
       "  'HIREDATE': datetime.datetime(1981, 2, 22, 0, 0),\n",
       "  'SAL': 1250.0,\n",
       "  'COMM': 500.0,\n",
       "  'DEPTNO': 30.0},\n",
       " {'_id': ObjectId('67ef2a5f2cf3b54b812b117d'),\n",
       "  'EMPNO': 7566.0,\n",
       "  'ENAME': 'JONES',\n",
       "  'JOB': 'MANAGER',\n",
       "  'MGR': 7839.0,\n",
       "  'HIREDATE': datetime.datetime(1981, 4, 2, 0, 0),\n",
       "  'SAL': 2975.0,\n",
       "  'COMM': 0.0,\n",
       "  'DEPTNO': 20.0},\n",
       " {'_id': ObjectId('67ef2a5f2cf3b54b812b117e'),\n",
       "  'EMPNO': 7654.0,\n",
       "  'ENAME': 'MARTIN',\n",
       "  'JOB': 'SALESMAN',\n",
       "  'MGR': 7698.0,\n",
       "  'HIREDATE': datetime.datetime(1981, 9, 28, 0, 0),\n",
       "  'SAL': 1250.0,\n",
       "  'COMM': 1400.0,\n",
       "  'DEPTNO': 30.0},\n",
       " {'_id': ObjectId('67ef2a5f2cf3b54b812b117f'),\n",
       "  'EMPNO': 7698.0,\n",
       "  'ENAME': 'BLAKE',\n",
       "  'JOB': 'MANAGER',\n",
       "  'MGR': 7839.0,\n",
       "  'HIREDATE': datetime.datetime(1981, 5, 1, 0, 0),\n",
       "  'SAL': 2850.0,\n",
       "  'COMM': 0.0,\n",
       "  'DEPTNO': 30.0},\n",
       " {'_id': ObjectId('67ef2a5f2cf3b54b812b1180'),\n",
       "  'EMPNO': 7782.0,\n",
       "  'ENAME': 'CLARK',\n",
       "  'JOB': 'MANAGER',\n",
       "  'MGR': 7839.0,\n",
       "  'HIREDATE': datetime.datetime(1981, 6, 9, 0, 0),\n",
       "  'SAL': 2450.0,\n",
       "  'COMM': 0.0,\n",
       "  'DEPTNO': 10.0},\n",
       " {'_id': ObjectId('67ef2a5f2cf3b54b812b1181'),\n",
       "  'EMPNO': 7788.0,\n",
       "  'ENAME': 'SCOTT',\n",
       "  'JOB': 'ANALYST',\n",
       "  'MGR': 7566.0,\n",
       "  'HIREDATE': datetime.datetime(1987, 6, 28, 0, 0),\n",
       "  'SAL': 3000.0,\n",
       "  'COMM': 0.0,\n",
       "  'DEPTNO': 20.0},\n",
       " {'_id': ObjectId('67ef2a5f2cf3b54b812b1182'),\n",
       "  'EMPNO': 7839.0,\n",
       "  'ENAME': 'KING',\n",
       "  'JOB': 'PRESIDENT',\n",
       "  'MGR': 0.0,\n",
       "  'HIREDATE': datetime.datetime(1981, 11, 17, 0, 0),\n",
       "  'SAL': 5000.0,\n",
       "  'COMM': 0.0,\n",
       "  'DEPTNO': 10.0},\n",
       " {'_id': ObjectId('67ef2a5f2cf3b54b812b1183'),\n",
       "  'EMPNO': 7844.0,\n",
       "  'ENAME': 'TURNER',\n",
       "  'JOB': 'SALESMAN',\n",
       "  'MGR': 7698.0,\n",
       "  'HIREDATE': datetime.datetime(1981, 9, 8, 0, 0),\n",
       "  'SAL': 1500.0,\n",
       "  'COMM': 0.0,\n",
       "  'DEPTNO': 30.0},\n",
       " {'_id': ObjectId('67ef2a5f2cf3b54b812b1184'),\n",
       "  'EMPNO': 7876.0,\n",
       "  'ENAME': 'ADAMS',\n",
       "  'JOB': 'CLERK',\n",
       "  'MGR': 7788.0,\n",
       "  'HIREDATE': datetime.datetime(1987, 7, 13, 0, 0),\n",
       "  'SAL': 1100.0,\n",
       "  'COMM': 0.0,\n",
       "  'DEPTNO': 20.0},\n",
       " {'_id': ObjectId('67ef2a5f2cf3b54b812b1185'),\n",
       "  'EMPNO': 7900.0,\n",
       "  'ENAME': 'JAMES',\n",
       "  'JOB': 'CLERK',\n",
       "  'MGR': 7698.0,\n",
       "  'HIREDATE': datetime.datetime(1981, 12, 3, 0, 0),\n",
       "  'SAL': 950.0,\n",
       "  'COMM': 0.0,\n",
       "  'DEPTNO': 30.0},\n",
       " {'_id': ObjectId('67ef2a5f2cf3b54b812b1186'),\n",
       "  'EMPNO': 7902.0,\n",
       "  'ENAME': 'FORD',\n",
       "  'JOB': 'ANALYST',\n",
       "  'MGR': 7566.0,\n",
       "  'HIREDATE': datetime.datetime(1981, 12, 3, 0, 0),\n",
       "  'SAL': 3000.0,\n",
       "  'COMM': 0.0,\n",
       "  'DEPTNO': 20.0},\n",
       " {'_id': ObjectId('67ef2a5f2cf3b54b812b1187'),\n",
       "  'EMPNO': 7934.0,\n",
       "  'ENAME': 'MILLER',\n",
       "  'JOB': 'CLERK',\n",
       "  'MGR': 7782.0,\n",
       "  'HIREDATE': datetime.datetime(1982, 1, 23, 0, 0),\n",
       "  'SAL': 1300.0,\n",
       "  'COMM': 0.0,\n",
       "  'DEPTNO': 10.0},\n",
       " {'_id': ObjectId('67ef2a952cf3b54b812b1188'),\n",
       "  'DEPTNO': 10.0,\n",
       "  'DNAME': 'ACCOUNTING',\n",
       "  'LOC': 'NEW YORK'},\n",
       " {'_id': ObjectId('67ef2a952cf3b54b812b1189'),\n",
       "  'DEPTNO': 20.0,\n",
       "  'DNAME': 'RESEARCH',\n",
       "  'LOC': 'DALLAS'},\n",
       " {'_id': ObjectId('67ef2a952cf3b54b812b118a'),\n",
       "  'DEPTNO': 30.0,\n",
       "  'DNAME': 'SALES',\n",
       "  'LOC': 'CHICAGO'},\n",
       " {'_id': ObjectId('67ef2a952cf3b54b812b118b'),\n",
       "  'DEPTNO': 40.0,\n",
       "  'DNAME': 'OPERATIONS',\n",
       "  'LOC': 'BOSTON'}]"
      ]
     },
     "execution_count": 23,
     "metadata": {},
     "output_type": "execute_result"
    }
   ],
   "source": [
    "list(collection2.find())"
   ]
  },
  {
   "cell_type": "code",
   "execution_count": 32,
   "metadata": {},
   "outputs": [
    {
     "data": {
      "text/plain": [
       "[{'_id': ObjectId('67ef2a5f2cf3b54b812b1181'),\n",
       "  'EMPNO': 7788.0,\n",
       "  'ENAME': 'SCOTT',\n",
       "  'JOB': 'ANALYST',\n",
       "  'MGR': 7566.0,\n",
       "  'HIREDATE': datetime.datetime(1987, 6, 28, 0, 0),\n",
       "  'SAL': 3000.0,\n",
       "  'COMM': 0.0,\n",
       "  'DEPTNO': 20.0},\n",
       " {'_id': ObjectId('67ef2a5f2cf3b54b812b1182'),\n",
       "  'EMPNO': 7839.0,\n",
       "  'ENAME': 'KING',\n",
       "  'JOB': 'PRESIDENT',\n",
       "  'MGR': 0.0,\n",
       "  'HIREDATE': datetime.datetime(1981, 11, 17, 0, 0),\n",
       "  'SAL': 5000.0,\n",
       "  'COMM': 0.0,\n",
       "  'DEPTNO': 10.0},\n",
       " {'_id': ObjectId('67ef2a5f2cf3b54b812b117d'),\n",
       "  'EMPNO': 7566.0,\n",
       "  'ENAME': 'JONES',\n",
       "  'JOB': 'MANAGER',\n",
       "  'MGR': 7839.0,\n",
       "  'HIREDATE': datetime.datetime(1981, 4, 2, 0, 0),\n",
       "  'SAL': 2975.0,\n",
       "  'COMM': 0.0,\n",
       "  'DEPTNO': 20.0},\n",
       " {'_id': ObjectId('67ef2a5f2cf3b54b812b1186'),\n",
       "  'EMPNO': 7902.0,\n",
       "  'ENAME': 'FORD',\n",
       "  'JOB': 'ANALYST',\n",
       "  'MGR': 7566.0,\n",
       "  'HIREDATE': datetime.datetime(1981, 12, 3, 0, 0),\n",
       "  'SAL': 3000.0,\n",
       "  'COMM': 0.0,\n",
       "  'DEPTNO': 20.0},\n",
       " {'_id': ObjectId('67ef2a5f2cf3b54b812b1180'),\n",
       "  'EMPNO': 7782.0,\n",
       "  'ENAME': 'CLARK',\n",
       "  'JOB': 'MANAGER',\n",
       "  'MGR': 7839.0,\n",
       "  'HIREDATE': datetime.datetime(1981, 6, 9, 0, 0),\n",
       "  'SAL': 2450.0,\n",
       "  'COMM': 0.0,\n",
       "  'DEPTNO': 10.0},\n",
       " {'_id': ObjectId('67ef2a5f2cf3b54b812b117f'),\n",
       "  'EMPNO': 7698.0,\n",
       "  'ENAME': 'BLAKE',\n",
       "  'JOB': 'MANAGER',\n",
       "  'MGR': 7839.0,\n",
       "  'HIREDATE': datetime.datetime(1981, 5, 1, 0, 0),\n",
       "  'SAL': 2850.0,\n",
       "  'COMM': 0.0,\n",
       "  'DEPTNO': 30.0},\n",
       " {'_id': ObjectId('67ef2a5f2cf3b54b812b117b'),\n",
       "  'EMPNO': 7499.0,\n",
       "  'ENAME': 'ALLEN',\n",
       "  'JOB': 'SALESMAN',\n",
       "  'MGR': 7698.0,\n",
       "  'HIREDATE': datetime.datetime(1981, 2, 20, 0, 0),\n",
       "  'SAL': 1600.0,\n",
       "  'COMM': 300.0,\n",
       "  'DEPTNO': 30.0}]"
      ]
     },
     "execution_count": 32,
     "metadata": {},
     "output_type": "execute_result"
    }
   ],
   "source": [
    "list(collection2.find({'SAL':{'$gt' : 1500 }}).sort({'ENAME':-1}))"
   ]
  },
  {
   "cell_type": "code",
   "execution_count": null,
   "metadata": {},
   "outputs": [],
   "source": []
  }
 ],
 "metadata": {
  "kernelspec": {
   "display_name": "Python 3",
   "language": "python",
   "name": "python3"
  },
  "language_info": {
   "codemirror_mode": {
    "name": "ipython",
    "version": 3
   },
   "file_extension": ".py",
   "mimetype": "text/x-python",
   "name": "python",
   "nbconvert_exporter": "python",
   "pygments_lexer": "ipython3",
   "version": "3.13.2"
  }
 },
 "nbformat": 4,
 "nbformat_minor": 2
}
