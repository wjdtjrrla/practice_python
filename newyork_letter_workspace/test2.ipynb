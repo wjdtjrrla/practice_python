{
 "cells": [
  {
   "cell_type": "code",
   "execution_count": 6,
   "metadata": {},
   "outputs": [],
   "source": [
    "import requests\n",
    "from bs4 import BeautifulSoup\n",
    "import smtplib\n",
    "from email.mime.text import MIMEText\n",
    "from email.mime.multipart import MIMEMultipart"
   ]
  },
  {
   "cell_type": "code",
   "execution_count": 7,
   "metadata": {},
   "outputs": [],
   "source": [
    "# 1️⃣ 웹 스크래핑하여 'Read the Latest' 버튼의 URL 가져오기\n",
    "def get_latest_news_url():\n",
    "    url = \"https://www.nytimes.com/newsletters/morning-briefing\"\n",
    "    response = requests.get(url)\n",
    "    soup = BeautifulSoup(response.text, \"html.parser\")\n",
    "\n",
    "    # 'Read the Latest' 버튼의 링크 찾기\n",
    "    button = soup.find(\"a\", string=\"Read the Latest\")\n",
    "    if button:\n",
    "        return button.get(\"href\")\n",
    "    return None"
   ]
  },
  {
   "cell_type": "code",
   "execution_count": 10,
   "metadata": {},
   "outputs": [],
   "source": [
    "# 2️⃣ 네이버 메일로 URL 전송\n",
    "def send_email(latest_url, recipient_email):\n",
    "    sender_email = \"wjdtjr001226@naver.com\"\n",
    "    app_password = \"kjs001226@\"  # 네이버 애플리케이션 비밀번호 사용\n",
    "\n",
    "    # 이메일 내용 작성\n",
    "    subject = \"NYTimes Morning Briefing - Read the Latest\"\n",
    "    body = f\"Here is the latest news link: {latest_url}\"\n",
    "\n",
    "    msg = MIMEMultipart()\n",
    "    msg[\"From\"] = sender_email\n",
    "    msg[\"To\"] = recipient_email\n",
    "    msg[\"Subject\"] = subject\n",
    "    msg.attach(MIMEText(body, \"plain\"))\n",
    "\n",
    "    # 네이버 SMTP 서버 연결 및 이메일 전송\n",
    "    try:\n",
    "        server = smtplib.SMTP_SSL(\"smtp.naver.com\", 465)\n",
    "        server.login(sender_email, app_password)\n",
    "        server.sendmail(sender_email, recipient_email, msg.as_string())\n",
    "        server.quit()\n",
    "        print(\"✅ 이메일이 성공적으로 전송되었습니다.\")\n",
    "    except Exception as e:\n",
    "        print(f\"❌ 이메일 전송 실패: {e}\")"
   ]
  },
  {
   "cell_type": "code",
   "execution_count": 12,
   "metadata": {},
   "outputs": [
    {
     "name": "stdout",
     "output_type": "stream",
     "text": [
      "✅ 이메일이 성공적으로 전송되었습니다.\n"
     ]
    }
   ],
   "source": [
    "# 실행\n",
    "latest_url = get_latest_news_url()\n",
    "if latest_url:\n",
    "    send_email(latest_url, \"wjdtjr001226@naver.com\")\n",
    "else:\n",
    "    print(\"❌ 'Read the Latest' 버튼의 URL을 찾을 수 없습니다.\")\n"
   ]
  },
  {
   "cell_type": "code",
   "execution_count": null,
   "metadata": {},
   "outputs": [
    {
     "name": "stdout",
     "output_type": "stream",
     "text": [
      "✅ 이메일이 성공적으로 전송되었습니다.\n"
     ]
    }
   ],
   "source": [
    "#메일로 url 전송해주기\n",
    "\n",
    "import requests\n",
    "from bs4 import BeautifulSoup\n",
    "import smtplib\n",
    "from email.mime.text import MIMEText\n",
    "from email.mime.multipart import MIMEMultipart\n",
    "\n",
    "# 1️⃣ 'Read the Latest' 버튼에서 뉴스 URL 가져오기\n",
    "def get_latest_news_url():\n",
    "    url = \"https://www.nytimes.com/newsletters/morning-briefing\"\n",
    "    response = requests.get(url)\n",
    "    soup = BeautifulSoup(response.text, \"html.parser\")\n",
    "\n",
    "    button = soup.find(\"a\", string=\"Read the Latest\")\n",
    "    if button:\n",
    "        return button.get(\"href\")\n",
    "    return None\n",
    "\n",
    "# 2️⃣ 뉴스 페이지에서 본문 내용을 가져오기\n",
    "def get_news_content(news_url):\n",
    "    response = requests.get(news_url)\n",
    "    soup = BeautifulSoup(response.text, \"html.parser\")\n",
    "\n",
    "    # 기사 제목 가져오기\n",
    "    title_tag = soup.find(\"h1\")\n",
    "    title = title_tag.text if title_tag else \"New York Times Morning Briefing\"\n",
    "\n",
    "    # 본문 내용 가져오기 (NYT의 경우 article 내 p 태그가 본문임)\n",
    "    article_content = \"\"\n",
    "    article_body = soup.find(\"article\")\n",
    "    if article_body:\n",
    "        paragraphs = article_body.find_all(\"p\")\n",
    "        article_content = \"\\n\".join([p.text for p in paragraphs])\n",
    "\n",
    "    # HTML 형식으로 변환\n",
    "    article_html = \"\".join(f\"<p>{p}</p>\" for p in article_content.split(\"\\n\"))\n",
    "    \n",
    "    return title, article_html\n",
    "\n",
    "# 3️⃣ HTML 이메일 전송\n",
    "def send_email(latest_url, news_title, news_content, recipient_email):\n",
    "    sender_email = \"wjdtjr001226@naver.com\"\n",
    "    app_password = \"kjs001226@\"\n",
    "\n",
    "    subject = f\"NYTimes: {news_title}\"\n",
    "    html_content = f\"\"\"\n",
    "    <html>\n",
    "    <body>\n",
    "        <h2>{news_title}</h2>\n",
    "        <p><a href=\"{latest_url}\">원문 보기</a></p>\n",
    "        <hr>\n",
    "        {news_content}\n",
    "    </body>\n",
    "    </html>\n",
    "    \"\"\"\n",
    "\n",
    "    msg = MIMEMultipart()\n",
    "    msg[\"From\"] = sender_email\n",
    "    msg[\"To\"] = recipient_email\n",
    "    msg[\"Subject\"] = subject\n",
    "    msg.attach(MIMEText(html_content, \"html\"))\n",
    "\n",
    "    # 네이버 SMTP 서버 연결 및 이메일 전송\n",
    "    try:\n",
    "        server = smtplib.SMTP_SSL(\"smtp.naver.com\", 465)\n",
    "        server.login(sender_email, app_password)\n",
    "        server.sendmail(sender_email, recipient_email, msg.as_string())\n",
    "        server.quit()\n",
    "        print(\"✅ 이메일이 성공적으로 전송되었습니다.\")\n",
    "    except Exception as e:\n",
    "        print(f\"❌ 이메일 전송 실패: {e}\")\n",
    "\n",
    "# 실행\n",
    "latest_url = get_latest_news_url()\n",
    "if latest_url:\n",
    "    news_title, news_content = get_news_content(latest_url)\n",
    "    send_email(latest_url, news_title, news_content, \"wjdtjr001226@naver.com\")\n",
    "else:\n",
    "    print(\"❌ 'Read the Latest' 버튼의 URL을 찾을 수 없습니다.\")\n"
   ]
  }
 ],
 "metadata": {
  "kernelspec": {
   "display_name": "Python 3",
   "language": "python",
   "name": "python3"
  },
  "language_info": {
   "codemirror_mode": {
    "name": "ipython",
    "version": 3
   },
   "file_extension": ".py",
   "mimetype": "text/x-python",
   "name": "python",
   "nbconvert_exporter": "python",
   "pygments_lexer": "ipython3",
   "version": "3.13.1"
  }
 },
 "nbformat": 4,
 "nbformat_minor": 2
}
