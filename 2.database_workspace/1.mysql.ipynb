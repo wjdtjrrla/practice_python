{
 "cells": [
  {
   "cell_type": "markdown",
   "metadata": {},
   "source": [
    "### python과 mysql 연동\n",
    "1. 외부 라이브러리 설치 (pymysql)\n",
    "2. 라이브러리 로드\n",
    "3. sql 서버의 정보 등록\n",
    "    - 서버의 주소 (localhost)\n",
    "    - 서버의 포트 번호(3306)\n",
    "    - sql 유저의 아이디 (root)\n",
    "    - sql 유저의 패스워드 (1234)\n",
    "    - 사용할 데이터 베이스 명 (ubion)\n",
    "4. sql 서버 접속\n",
    "5. sql 쿼리문을 변수에 저장\n",
    "6. 쿼리문을 sql 서버에 요청\n",
    "7. 쿼리문에 따라서 응답 메시지를 확인\n",
    "    - select문인 경우 응답 메시지를 받아서 데이터프레임으로 변환\n",
    "8. sql 서버와의 연결을 종료"
   ]
  },
  {
   "cell_type": "code",
   "execution_count": 2,
   "metadata": {},
   "outputs": [],
   "source": [
    "import pandas as pd\n",
    "import pymysql\n",
    "import os\n",
    "import dotenv"
   ]
  },
  {
   "cell_type": "code",
   "execution_count": 3,
   "metadata": {},
   "outputs": [
    {
     "data": {
      "text/plain": [
       "True"
      ]
     },
     "execution_count": 3,
     "metadata": {},
     "output_type": "execute_result"
    }
   ],
   "source": [
    "dotenv.load_dotenv()"
   ]
  },
  {
   "cell_type": "code",
   "execution_count": 4,
   "metadata": {},
   "outputs": [
    {
     "data": {
      "text/plain": [
       "'127.0.0.1'"
      ]
     },
     "execution_count": 4,
     "metadata": {},
     "output_type": "execute_result"
    }
   ],
   "source": [
    "os.getenv('host')"
   ]
  },
  {
   "cell_type": "code",
   "execution_count": 11,
   "metadata": {},
   "outputs": [],
   "source": [
    "# 서버의 정보와 접속\n",
    "# pymysql lib 안에 함수를 호출\n",
    "# connect(host = 서버의 주소, port = 포트번호, user = 유저id,\n",
    "#         password = 유저 비밀번호, db = 사용할 데이터베이스명 )\n",
    "_db = pymysql.connect(\n",
    "    host = os.getenv('host'),\n",
    "    port = int(os.getenv('port')),\n",
    "    user = os.getenv('user'),\n",
    "    password = os.getenv('password'),\n",
    "    db = os.getenv('db')\n",
    "    ) "
   ]
  },
  {
   "cell_type": "code",
   "execution_count": 6,
   "metadata": {},
   "outputs": [],
   "source": [
    "# 쿼리문 작성\n",
    "select_sql = '''\n",
    "    SELECT *\n",
    "    FROM `sales records`\n",
    "    limit 5\n",
    "'''"
   ]
  },
  {
   "cell_type": "code",
   "execution_count": 12,
   "metadata": {},
   "outputs": [],
   "source": [
    "# 커서(Cursor) 생성\n",
    "\n",
    "# 기본값으로 커서 생성 : select문의 응답 데이터의 타입이 2차원 튜플\n",
    "cursor = _db.cursor()\n",
    "\n",
    "# DictCursor 사용 : select문의 응답 데이터 타입이 리스트 안에 딕셔너리 형태 2차원 데이터\n",
    "cursor2 = _db.cursor(pymysql.cursors.DictCursor)"
   ]
  },
  {
   "cell_type": "code",
   "execution_count": 13,
   "metadata": {},
   "outputs": [
    {
     "data": {
      "text/plain": [
       "5"
      ]
     },
     "execution_count": 13,
     "metadata": {},
     "output_type": "execute_result"
    }
   ],
   "source": [
    "# 커서에 sql 질의를 보냄\n",
    "cursor.execute(select_sql)\n",
    "cursor2.execute(select_sql)"
   ]
  },
  {
   "cell_type": "code",
   "execution_count": 14,
   "metadata": {},
   "outputs": [
    {
     "name": "stdout",
     "output_type": "stream",
     "text": [
      "(('Sub-Saharan Africa', 'Chad', 'Office Supplies', 'Online', 'L', '1/27/2011', 292494523, '2/12/2011', 4484, 651.21, 524.96, 2920025.64, 2353920.64, 566105.0), ('Europe', 'Latvia', 'Beverages', 'Online', 'C', '12/28/2015', 361825549, '1/23/2016', 1075, 47.45, 31.79, 51008.75, 34174.25, 16834.5), ('Middle East and North Africa', 'Pakistan', 'Vegetables', 'Offline', 'C', '1/13/2011', 141515767, '2/1/2011', 6515, 154.06, 90.93, 1003700.9, 592408.95, 411291.95), ('Sub-Saharan Africa', 'Democratic Republic of the Congo', 'Household', 'Online', 'C', '9/11/2012', 500364005, '10/6/2012', 7683, 668.27, 502.54, 5134318.41, 3861014.82, 1273303.59), ('Europe', 'Czech Republic', 'Beverages', 'Online', 'C', '10/27/2015', 127481591, '12/5/2015', 3491, 47.45, 31.79, 165647.95, 110978.89, 54669.06))\n"
     ]
    }
   ],
   "source": [
    "# 커서에 보낸 질의에 대한 응답을 받는다.\n",
    "# fetchall()\n",
    "print(cursor.fetchall())\n"
   ]
  },
  {
   "cell_type": "code",
   "execution_count": 15,
   "metadata": {},
   "outputs": [
    {
     "name": "stdout",
     "output_type": "stream",
     "text": [
      "[{'Region': 'Sub-Saharan Africa', 'Country': 'Chad', 'Item Type': 'Office Supplies', 'Sales Channel': 'Online', 'Order Priority': 'L', 'Order Date': '1/27/2011', 'Order ID': 292494523, 'Ship Date': '2/12/2011', 'Units Sold': 4484, 'Unit Price': 651.21, 'Unit Cost': 524.96, 'Total Revenue': 2920025.64, 'Total Cost': 2353920.64, 'Total Profit': 566105.0}, {'Region': 'Europe', 'Country': 'Latvia', 'Item Type': 'Beverages', 'Sales Channel': 'Online', 'Order Priority': 'C', 'Order Date': '12/28/2015', 'Order ID': 361825549, 'Ship Date': '1/23/2016', 'Units Sold': 1075, 'Unit Price': 47.45, 'Unit Cost': 31.79, 'Total Revenue': 51008.75, 'Total Cost': 34174.25, 'Total Profit': 16834.5}, {'Region': 'Middle East and North Africa', 'Country': 'Pakistan', 'Item Type': 'Vegetables', 'Sales Channel': 'Offline', 'Order Priority': 'C', 'Order Date': '1/13/2011', 'Order ID': 141515767, 'Ship Date': '2/1/2011', 'Units Sold': 6515, 'Unit Price': 154.06, 'Unit Cost': 90.93, 'Total Revenue': 1003700.9, 'Total Cost': 592408.95, 'Total Profit': 411291.95}, {'Region': 'Sub-Saharan Africa', 'Country': 'Democratic Republic of the Congo', 'Item Type': 'Household', 'Sales Channel': 'Online', 'Order Priority': 'C', 'Order Date': '9/11/2012', 'Order ID': 500364005, 'Ship Date': '10/6/2012', 'Units Sold': 7683, 'Unit Price': 668.27, 'Unit Cost': 502.54, 'Total Revenue': 5134318.41, 'Total Cost': 3861014.82, 'Total Profit': 1273303.59}, {'Region': 'Europe', 'Country': 'Czech Republic', 'Item Type': 'Beverages', 'Sales Channel': 'Online', 'Order Priority': 'C', 'Order Date': '10/27/2015', 'Order ID': 127481591, 'Ship Date': '12/5/2015', 'Units Sold': 3491, 'Unit Price': 47.45, 'Unit Cost': 31.79, 'Total Revenue': 165647.95, 'Total Cost': 110978.89, 'Total Profit': 54669.06}]\n"
     ]
    }
   ],
   "source": [
    "print(cursor2.fetchall())"
   ]
  },
  {
   "cell_type": "code",
   "execution_count": 16,
   "metadata": {},
   "outputs": [],
   "source": [
    "cursor.execute(select_sql)\n",
    "sql_data = cursor.fetchall()"
   ]
  },
  {
   "cell_type": "code",
   "execution_count": 17,
   "metadata": {},
   "outputs": [
    {
     "data": {
      "text/plain": [
       "(('Sub-Saharan Africa',\n",
       "  'Chad',\n",
       "  'Office Supplies',\n",
       "  'Online',\n",
       "  'L',\n",
       "  '1/27/2011',\n",
       "  292494523,\n",
       "  '2/12/2011',\n",
       "  4484,\n",
       "  651.21,\n",
       "  524.96,\n",
       "  2920025.64,\n",
       "  2353920.64,\n",
       "  566105.0),\n",
       " ('Europe',\n",
       "  'Latvia',\n",
       "  'Beverages',\n",
       "  'Online',\n",
       "  'C',\n",
       "  '12/28/2015',\n",
       "  361825549,\n",
       "  '1/23/2016',\n",
       "  1075,\n",
       "  47.45,\n",
       "  31.79,\n",
       "  51008.75,\n",
       "  34174.25,\n",
       "  16834.5),\n",
       " ('Middle East and North Africa',\n",
       "  'Pakistan',\n",
       "  'Vegetables',\n",
       "  'Offline',\n",
       "  'C',\n",
       "  '1/13/2011',\n",
       "  141515767,\n",
       "  '2/1/2011',\n",
       "  6515,\n",
       "  154.06,\n",
       "  90.93,\n",
       "  1003700.9,\n",
       "  592408.95,\n",
       "  411291.95),\n",
       " ('Sub-Saharan Africa',\n",
       "  'Democratic Republic of the Congo',\n",
       "  'Household',\n",
       "  'Online',\n",
       "  'C',\n",
       "  '9/11/2012',\n",
       "  500364005,\n",
       "  '10/6/2012',\n",
       "  7683,\n",
       "  668.27,\n",
       "  502.54,\n",
       "  5134318.41,\n",
       "  3861014.82,\n",
       "  1273303.59),\n",
       " ('Europe',\n",
       "  'Czech Republic',\n",
       "  'Beverages',\n",
       "  'Online',\n",
       "  'C',\n",
       "  '10/27/2015',\n",
       "  127481591,\n",
       "  '12/5/2015',\n",
       "  3491,\n",
       "  47.45,\n",
       "  31.79,\n",
       "  165647.95,\n",
       "  110978.89,\n",
       "  54669.06))"
      ]
     },
     "execution_count": 17,
     "metadata": {},
     "output_type": "execute_result"
    }
   ],
   "source": [
    "sql_data"
   ]
  },
  {
   "cell_type": "code",
   "execution_count": 18,
   "metadata": {},
   "outputs": [
    {
     "data": {
      "text/html": [
       "<div>\n",
       "<style scoped>\n",
       "    .dataframe tbody tr th:only-of-type {\n",
       "        vertical-align: middle;\n",
       "    }\n",
       "\n",
       "    .dataframe tbody tr th {\n",
       "        vertical-align: top;\n",
       "    }\n",
       "\n",
       "    .dataframe thead th {\n",
       "        text-align: right;\n",
       "    }\n",
       "</style>\n",
       "<table border=\"1\" class=\"dataframe\">\n",
       "  <thead>\n",
       "    <tr style=\"text-align: right;\">\n",
       "      <th></th>\n",
       "      <th>0</th>\n",
       "      <th>1</th>\n",
       "      <th>2</th>\n",
       "      <th>3</th>\n",
       "      <th>4</th>\n",
       "      <th>5</th>\n",
       "      <th>6</th>\n",
       "      <th>7</th>\n",
       "      <th>8</th>\n",
       "      <th>9</th>\n",
       "      <th>10</th>\n",
       "      <th>11</th>\n",
       "      <th>12</th>\n",
       "      <th>13</th>\n",
       "    </tr>\n",
       "  </thead>\n",
       "  <tbody>\n",
       "    <tr>\n",
       "      <th>0</th>\n",
       "      <td>Sub-Saharan Africa</td>\n",
       "      <td>Chad</td>\n",
       "      <td>Office Supplies</td>\n",
       "      <td>Online</td>\n",
       "      <td>L</td>\n",
       "      <td>1/27/2011</td>\n",
       "      <td>292494523</td>\n",
       "      <td>2/12/2011</td>\n",
       "      <td>4484</td>\n",
       "      <td>651.21</td>\n",
       "      <td>524.96</td>\n",
       "      <td>2920025.64</td>\n",
       "      <td>2353920.64</td>\n",
       "      <td>566105.00</td>\n",
       "    </tr>\n",
       "    <tr>\n",
       "      <th>1</th>\n",
       "      <td>Europe</td>\n",
       "      <td>Latvia</td>\n",
       "      <td>Beverages</td>\n",
       "      <td>Online</td>\n",
       "      <td>C</td>\n",
       "      <td>12/28/2015</td>\n",
       "      <td>361825549</td>\n",
       "      <td>1/23/2016</td>\n",
       "      <td>1075</td>\n",
       "      <td>47.45</td>\n",
       "      <td>31.79</td>\n",
       "      <td>51008.75</td>\n",
       "      <td>34174.25</td>\n",
       "      <td>16834.50</td>\n",
       "    </tr>\n",
       "    <tr>\n",
       "      <th>2</th>\n",
       "      <td>Middle East and North Africa</td>\n",
       "      <td>Pakistan</td>\n",
       "      <td>Vegetables</td>\n",
       "      <td>Offline</td>\n",
       "      <td>C</td>\n",
       "      <td>1/13/2011</td>\n",
       "      <td>141515767</td>\n",
       "      <td>2/1/2011</td>\n",
       "      <td>6515</td>\n",
       "      <td>154.06</td>\n",
       "      <td>90.93</td>\n",
       "      <td>1003700.90</td>\n",
       "      <td>592408.95</td>\n",
       "      <td>411291.95</td>\n",
       "    </tr>\n",
       "    <tr>\n",
       "      <th>3</th>\n",
       "      <td>Sub-Saharan Africa</td>\n",
       "      <td>Democratic Republic of the Congo</td>\n",
       "      <td>Household</td>\n",
       "      <td>Online</td>\n",
       "      <td>C</td>\n",
       "      <td>9/11/2012</td>\n",
       "      <td>500364005</td>\n",
       "      <td>10/6/2012</td>\n",
       "      <td>7683</td>\n",
       "      <td>668.27</td>\n",
       "      <td>502.54</td>\n",
       "      <td>5134318.41</td>\n",
       "      <td>3861014.82</td>\n",
       "      <td>1273303.59</td>\n",
       "    </tr>\n",
       "    <tr>\n",
       "      <th>4</th>\n",
       "      <td>Europe</td>\n",
       "      <td>Czech Republic</td>\n",
       "      <td>Beverages</td>\n",
       "      <td>Online</td>\n",
       "      <td>C</td>\n",
       "      <td>10/27/2015</td>\n",
       "      <td>127481591</td>\n",
       "      <td>12/5/2015</td>\n",
       "      <td>3491</td>\n",
       "      <td>47.45</td>\n",
       "      <td>31.79</td>\n",
       "      <td>165647.95</td>\n",
       "      <td>110978.89</td>\n",
       "      <td>54669.06</td>\n",
       "    </tr>\n",
       "  </tbody>\n",
       "</table>\n",
       "</div>"
      ],
      "text/plain": [
       "                             0                                 1   \\\n",
       "0            Sub-Saharan Africa                              Chad   \n",
       "1                        Europe                            Latvia   \n",
       "2  Middle East and North Africa                          Pakistan   \n",
       "3            Sub-Saharan Africa  Democratic Republic of the Congo   \n",
       "4                        Europe                    Czech Republic   \n",
       "\n",
       "                2        3  4           5          6          7     8   \\\n",
       "0  Office Supplies   Online  L   1/27/2011  292494523  2/12/2011  4484   \n",
       "1        Beverages   Online  C  12/28/2015  361825549  1/23/2016  1075   \n",
       "2       Vegetables  Offline  C   1/13/2011  141515767   2/1/2011  6515   \n",
       "3        Household   Online  C   9/11/2012  500364005  10/6/2012  7683   \n",
       "4        Beverages   Online  C  10/27/2015  127481591  12/5/2015  3491   \n",
       "\n",
       "       9       10          11          12          13  \n",
       "0  651.21  524.96  2920025.64  2353920.64   566105.00  \n",
       "1   47.45   31.79    51008.75    34174.25    16834.50  \n",
       "2  154.06   90.93  1003700.90   592408.95   411291.95  \n",
       "3  668.27  502.54  5134318.41  3861014.82  1273303.59  \n",
       "4   47.45   31.79   165647.95   110978.89    54669.06  "
      ]
     },
     "execution_count": 18,
     "metadata": {},
     "output_type": "execute_result"
    }
   ],
   "source": [
    "pd.DataFrame(sql_data)"
   ]
  },
  {
   "cell_type": "code",
   "execution_count": 19,
   "metadata": {},
   "outputs": [],
   "source": [
    "cursor2.execute(select_sql)\n",
    "sql_data2 = cursor2.fetchall()"
   ]
  },
  {
   "cell_type": "code",
   "execution_count": 20,
   "metadata": {},
   "outputs": [
    {
     "data": {
      "text/html": [
       "<div>\n",
       "<style scoped>\n",
       "    .dataframe tbody tr th:only-of-type {\n",
       "        vertical-align: middle;\n",
       "    }\n",
       "\n",
       "    .dataframe tbody tr th {\n",
       "        vertical-align: top;\n",
       "    }\n",
       "\n",
       "    .dataframe thead th {\n",
       "        text-align: right;\n",
       "    }\n",
       "</style>\n",
       "<table border=\"1\" class=\"dataframe\">\n",
       "  <thead>\n",
       "    <tr style=\"text-align: right;\">\n",
       "      <th></th>\n",
       "      <th>Region</th>\n",
       "      <th>Country</th>\n",
       "      <th>Item Type</th>\n",
       "      <th>Sales Channel</th>\n",
       "      <th>Order Priority</th>\n",
       "      <th>Order Date</th>\n",
       "      <th>Order ID</th>\n",
       "      <th>Ship Date</th>\n",
       "      <th>Units Sold</th>\n",
       "      <th>Unit Price</th>\n",
       "      <th>Unit Cost</th>\n",
       "      <th>Total Revenue</th>\n",
       "      <th>Total Cost</th>\n",
       "      <th>Total Profit</th>\n",
       "    </tr>\n",
       "  </thead>\n",
       "  <tbody>\n",
       "    <tr>\n",
       "      <th>0</th>\n",
       "      <td>Sub-Saharan Africa</td>\n",
       "      <td>Chad</td>\n",
       "      <td>Office Supplies</td>\n",
       "      <td>Online</td>\n",
       "      <td>L</td>\n",
       "      <td>1/27/2011</td>\n",
       "      <td>292494523</td>\n",
       "      <td>2/12/2011</td>\n",
       "      <td>4484</td>\n",
       "      <td>651.21</td>\n",
       "      <td>524.96</td>\n",
       "      <td>2920025.64</td>\n",
       "      <td>2353920.64</td>\n",
       "      <td>566105.00</td>\n",
       "    </tr>\n",
       "    <tr>\n",
       "      <th>1</th>\n",
       "      <td>Europe</td>\n",
       "      <td>Latvia</td>\n",
       "      <td>Beverages</td>\n",
       "      <td>Online</td>\n",
       "      <td>C</td>\n",
       "      <td>12/28/2015</td>\n",
       "      <td>361825549</td>\n",
       "      <td>1/23/2016</td>\n",
       "      <td>1075</td>\n",
       "      <td>47.45</td>\n",
       "      <td>31.79</td>\n",
       "      <td>51008.75</td>\n",
       "      <td>34174.25</td>\n",
       "      <td>16834.50</td>\n",
       "    </tr>\n",
       "    <tr>\n",
       "      <th>2</th>\n",
       "      <td>Middle East and North Africa</td>\n",
       "      <td>Pakistan</td>\n",
       "      <td>Vegetables</td>\n",
       "      <td>Offline</td>\n",
       "      <td>C</td>\n",
       "      <td>1/13/2011</td>\n",
       "      <td>141515767</td>\n",
       "      <td>2/1/2011</td>\n",
       "      <td>6515</td>\n",
       "      <td>154.06</td>\n",
       "      <td>90.93</td>\n",
       "      <td>1003700.90</td>\n",
       "      <td>592408.95</td>\n",
       "      <td>411291.95</td>\n",
       "    </tr>\n",
       "    <tr>\n",
       "      <th>3</th>\n",
       "      <td>Sub-Saharan Africa</td>\n",
       "      <td>Democratic Republic of the Congo</td>\n",
       "      <td>Household</td>\n",
       "      <td>Online</td>\n",
       "      <td>C</td>\n",
       "      <td>9/11/2012</td>\n",
       "      <td>500364005</td>\n",
       "      <td>10/6/2012</td>\n",
       "      <td>7683</td>\n",
       "      <td>668.27</td>\n",
       "      <td>502.54</td>\n",
       "      <td>5134318.41</td>\n",
       "      <td>3861014.82</td>\n",
       "      <td>1273303.59</td>\n",
       "    </tr>\n",
       "    <tr>\n",
       "      <th>4</th>\n",
       "      <td>Europe</td>\n",
       "      <td>Czech Republic</td>\n",
       "      <td>Beverages</td>\n",
       "      <td>Online</td>\n",
       "      <td>C</td>\n",
       "      <td>10/27/2015</td>\n",
       "      <td>127481591</td>\n",
       "      <td>12/5/2015</td>\n",
       "      <td>3491</td>\n",
       "      <td>47.45</td>\n",
       "      <td>31.79</td>\n",
       "      <td>165647.95</td>\n",
       "      <td>110978.89</td>\n",
       "      <td>54669.06</td>\n",
       "    </tr>\n",
       "  </tbody>\n",
       "</table>\n",
       "</div>"
      ],
      "text/plain": [
       "                         Region                           Country  \\\n",
       "0            Sub-Saharan Africa                              Chad   \n",
       "1                        Europe                            Latvia   \n",
       "2  Middle East and North Africa                          Pakistan   \n",
       "3            Sub-Saharan Africa  Democratic Republic of the Congo   \n",
       "4                        Europe                    Czech Republic   \n",
       "\n",
       "         Item Type Sales Channel Order Priority  Order Date   Order ID  \\\n",
       "0  Office Supplies        Online              L   1/27/2011  292494523   \n",
       "1        Beverages        Online              C  12/28/2015  361825549   \n",
       "2       Vegetables       Offline              C   1/13/2011  141515767   \n",
       "3        Household        Online              C   9/11/2012  500364005   \n",
       "4        Beverages        Online              C  10/27/2015  127481591   \n",
       "\n",
       "   Ship Date  Units Sold  Unit Price  Unit Cost  Total Revenue  Total Cost  \\\n",
       "0  2/12/2011        4484      651.21     524.96     2920025.64  2353920.64   \n",
       "1  1/23/2016        1075       47.45      31.79       51008.75    34174.25   \n",
       "2   2/1/2011        6515      154.06      90.93     1003700.90   592408.95   \n",
       "3  10/6/2012        7683      668.27     502.54     5134318.41  3861014.82   \n",
       "4  12/5/2015        3491       47.45      31.79      165647.95   110978.89   \n",
       "\n",
       "   Total Profit  \n",
       "0     566105.00  \n",
       "1      16834.50  \n",
       "2     411291.95  \n",
       "3    1273303.59  \n",
       "4      54669.06  "
      ]
     },
     "execution_count": 20,
     "metadata": {},
     "output_type": "execute_result"
    }
   ],
   "source": [
    "pd.DataFrame(sql_data2)"
   ]
  },
  {
   "cell_type": "code",
   "execution_count": 21,
   "metadata": {},
   "outputs": [],
   "source": [
    "insert_sql = '''\n",
    "    INSERT INTO \n",
    "    `user`\n",
    "    VALUES\n",
    "    ('test10','0011','choi',25)\n",
    "'''"
   ]
  },
  {
   "cell_type": "code",
   "execution_count": 22,
   "metadata": {},
   "outputs": [
    {
     "data": {
      "text/plain": [
       "1"
      ]
     },
     "execution_count": 22,
     "metadata": {},
     "output_type": "execute_result"
    }
   ],
   "source": [
    "cursor2.execute(insert_sql)"
   ]
  },
  {
   "cell_type": "code",
   "execution_count": 23,
   "metadata": {},
   "outputs": [
    {
     "data": {
      "text/plain": [
       "[{'id': 'test', 'password': '1234', 'name': 'kim', 'age': 20},\n",
       " {'id': 'test10', 'password': '0011', 'name': 'choi', 'age': 25},\n",
       " {'id': 'test2', 'password': '1111', 'name': 'park', 'age': 30},\n",
       " {'id': 'test3', 'password': '0000', 'name': 'lee', 'age': 40}]"
      ]
     },
     "execution_count": 23,
     "metadata": {},
     "output_type": "execute_result"
    }
   ],
   "source": [
    "select_sql2 = '''\n",
    "    SELECT\n",
    "    *\n",
    "    FROM\n",
    "    `user`\n",
    "'''\n",
    "cursor2.execute(select_sql2)\n",
    "cursor2.fetchall()"
   ]
  },
  {
   "cell_type": "code",
   "execution_count": 24,
   "metadata": {},
   "outputs": [],
   "source": [
    "_db.commit()"
   ]
  },
  {
   "cell_type": "markdown",
   "metadata": {},
   "source": [
    "- select 함수 생성\n",
    "    1. 매개변수 1개 (sql) 쿼리\n",
    "    2. sql 쿼리를 cursor2에 보내는 부분\n",
    "    3. cursor에서 응답 데이터를 변수에 저장\n",
    "    4. 3번 과정의 결과를 데이터프레임으로 생성\n",
    "    5. 데이터프레임을 되돌려준다."
   ]
  },
  {
   "cell_type": "code",
   "execution_count": 25,
   "metadata": {},
   "outputs": [
    {
     "data": {
      "text/html": [
       "<div>\n",
       "<style scoped>\n",
       "    .dataframe tbody tr th:only-of-type {\n",
       "        vertical-align: middle;\n",
       "    }\n",
       "\n",
       "    .dataframe tbody tr th {\n",
       "        vertical-align: top;\n",
       "    }\n",
       "\n",
       "    .dataframe thead th {\n",
       "        text-align: right;\n",
       "    }\n",
       "</style>\n",
       "<table border=\"1\" class=\"dataframe\">\n",
       "  <thead>\n",
       "    <tr style=\"text-align: right;\">\n",
       "      <th></th>\n",
       "      <th>0</th>\n",
       "      <th>1</th>\n",
       "      <th>2</th>\n",
       "      <th>3</th>\n",
       "    </tr>\n",
       "  </thead>\n",
       "  <tbody>\n",
       "    <tr>\n",
       "      <th>0</th>\n",
       "      <td>test</td>\n",
       "      <td>1234</td>\n",
       "      <td>kim</td>\n",
       "      <td>20</td>\n",
       "    </tr>\n",
       "    <tr>\n",
       "      <th>1</th>\n",
       "      <td>test10</td>\n",
       "      <td>0011</td>\n",
       "      <td>choi</td>\n",
       "      <td>25</td>\n",
       "    </tr>\n",
       "    <tr>\n",
       "      <th>2</th>\n",
       "      <td>test2</td>\n",
       "      <td>1111</td>\n",
       "      <td>park</td>\n",
       "      <td>30</td>\n",
       "    </tr>\n",
       "    <tr>\n",
       "      <th>3</th>\n",
       "      <td>test3</td>\n",
       "      <td>0000</td>\n",
       "      <td>lee</td>\n",
       "      <td>40</td>\n",
       "    </tr>\n",
       "  </tbody>\n",
       "</table>\n",
       "</div>"
      ],
      "text/plain": [
       "        0     1     2   3\n",
       "0    test  1234   kim  20\n",
       "1  test10  0011  choi  25\n",
       "2   test2  1111  park  30\n",
       "3   test3  0000   lee  40"
      ]
     },
     "execution_count": 25,
     "metadata": {},
     "output_type": "execute_result"
    }
   ],
   "source": [
    "def select_query(_sql):\n",
    "    # _sql 커서에 질의 보내기\n",
    "    cursor2 = _db.cursor()\n",
    "    cursor2.execute(_sql)\n",
    "    # cursor2에서 응답 데이터를 변수에 저장\n",
    "    sql_data = cursor2.fetchall()\n",
    "    # 데이터프레임으로 변경\n",
    "    df = pd.DataFrame(sql_data)\n",
    "    # 결과 되돌려줌\n",
    "    return df\n",
    "    \n",
    "    \n",
    "    \n",
    "test_sql = \"select * from `user`\"\n",
    "select_query(test_sql)"
   ]
  },
  {
   "cell_type": "code",
   "execution_count": 26,
   "metadata": {},
   "outputs": [],
   "source": [
    "# 매개변수가 2개인 함수 : insert, update, delete \n",
    "# 첫번째 매개변수 : sql 쿼리문\n",
    "# 두번째 매개변수 : 데이터베이스를 수정할 것인가?(bool)\n",
    "def cud_query(_sql,_inplace=False):\n",
    "    # _sql cursor2에 질의 전송\n",
    "    cursor2 = _db.cursor()\n",
    "    cursor2.execute(_sql)\n",
    "    # inplace가 True인 경우에 _db를 동기화 - _db.commit()\n",
    "    if _inplace:\n",
    "        _db.commit()\n",
    "    return \"Query OK\""
   ]
  },
  {
   "cell_type": "code",
   "execution_count": 27,
   "metadata": {},
   "outputs": [
    {
     "data": {
      "text/plain": [
       "'Query OK'"
      ]
     },
     "execution_count": 27,
     "metadata": {},
     "output_type": "execute_result"
    }
   ],
   "source": [
    "insert_sql2 = '''\n",
    "    insert into `user`\n",
    "    values('test11','0123','kim',35)\n",
    "'''\n",
    "\n",
    "cud_query(insert_sql2)"
   ]
  },
  {
   "cell_type": "code",
   "execution_count": 28,
   "metadata": {},
   "outputs": [],
   "source": [
    "_db.commit()"
   ]
  },
  {
   "cell_type": "code",
   "execution_count": 29,
   "metadata": {},
   "outputs": [
    {
     "data": {
      "text/plain": [
       "'Query OK'"
      ]
     },
     "execution_count": 29,
     "metadata": {},
     "output_type": "execute_result"
    }
   ],
   "source": [
    "update_sql = '''\n",
    "    update `user` \n",
    "    set `password` = '123456789'\n",
    "    where `id` ='test'\n",
    "'''\n",
    "cud_query(update_sql,True)"
   ]
  },
  {
   "cell_type": "code",
   "execution_count": 30,
   "metadata": {},
   "outputs": [],
   "source": [
    "# 데이터베이스 서버와의 연결을 종료\n",
    "_db.close()"
   ]
  },
  {
   "cell_type": "code",
   "execution_count": null,
   "metadata": {},
   "outputs": [],
   "source": []
  }
 ],
 "metadata": {
  "kernelspec": {
   "display_name": "Python 3",
   "language": "python",
   "name": "python3"
  },
  "language_info": {
   "codemirror_mode": {
    "name": "ipython",
    "version": 3
   },
   "file_extension": ".py",
   "mimetype": "text/x-python",
   "name": "python",
   "nbconvert_exporter": "python",
   "pygments_lexer": "ipython3",
   "version": "3.13.2"
  }
 },
 "nbformat": 4,
 "nbformat_minor": 2
}
