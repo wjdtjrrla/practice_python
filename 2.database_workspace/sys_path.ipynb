{
 "cells": [
  {
   "cell_type": "markdown",
   "metadata": {},
   "source": [
    "- mysql table을 생성\n",
    "    - user 테이블 생성\n",
    "        - id 필드 : varchar(32) primary key\n",
    "        - password 필드 : varchar(32) not null\n",
    "        - name 필드 : varchar(32)\n",
    "        - age 필드 : int\n",
    "    - user 테이블 데이터 대입\n",
    "        - test/1234/kim/20\n",
    "        - test2/1111/park/30\n",
    "        - test3/0000/lee/40"
   ]
  },
  {
   "cell_type": "markdown",
   "metadata": {},
   "source": [
    "create database mysql_table;\n",
    "\n",
    "create table user(\n",
    "    `id` varchar(32) primary key,\n",
    "    `password` varchar(32) not null,\n",
    "    `name` varchar(32),\n",
    "    `age` int\n",
    ");\n",
    "\n",
    "insert into user\n",
    "values('test','1234','kim','20'),\n",
    "('test2','1111','park','30'),\n",
    "('test3','0000','lee','40');\n",
    "\n",
    "desc user;"
   ]
  },
  {
   "cell_type": "code",
   "execution_count": 1,
   "metadata": {},
   "outputs": [],
   "source": [
    "import sys"
   ]
  },
  {
   "cell_type": "code",
   "execution_count": 3,
   "metadata": {},
   "outputs": [
    {
     "name": "stdout",
     "output_type": "stream",
     "text": [
      "c:/Users/Owner/AppData/Local/Programs/Python/Python313/python313.zip\n",
      "c:/Users/Owner/AppData/Local/Programs/Python/Python313/DLLs\n",
      "c:/Users/Owner/AppData/Local/Programs/Python/Python313/Lib\n",
      "c:/Users/Owner/AppData/Local/Programs/Python/Python313\n",
      "\n",
      "C:/Users/Owner/AppData/Roaming/Python/Python313/site-packages\n",
      "C:/Users/Owner/AppData/Roaming/Python/Python313/site-packages/win32\n",
      "C:/Users/Owner/AppData/Roaming/Python/Python313/site-packages/win32/lib\n",
      "C:/Users/Owner/AppData/Roaming/Python/Python313/site-packages/Pythonwin\n",
      "c:/Users/Owner/AppData/Local/Programs/Python/Python313/Lib/site-packages\n"
     ]
    }
   ],
   "source": [
    "for i in sys.path:\n",
    "    print(i.replace('\\\\', '/'))"
   ]
  },
  {
   "cell_type": "code",
   "execution_count": 4,
   "metadata": {},
   "outputs": [],
   "source": [
    "import database"
   ]
  },
  {
   "cell_type": "code",
   "execution_count": 5,
   "metadata": {},
   "outputs": [],
   "source": [
    "import invest"
   ]
  },
  {
   "cell_type": "code",
   "execution_count": null,
   "metadata": {},
   "outputs": [],
   "source": []
  }
 ],
 "metadata": {
  "kernelspec": {
   "display_name": "Python 3",
   "language": "python",
   "name": "python3"
  },
  "language_info": {
   "codemirror_mode": {
    "name": "ipython",
    "version": 3
   },
   "file_extension": ".py",
   "mimetype": "text/x-python",
   "name": "python",
   "nbconvert_exporter": "python",
   "pygments_lexer": "ipython3",
   "version": "3.13.2"
  }
 },
 "nbformat": 4,
 "nbformat_minor": 2
}
