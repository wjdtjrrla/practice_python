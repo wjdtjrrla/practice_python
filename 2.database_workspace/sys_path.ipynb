{
 "cells": [
  {
   "cell_type": "markdown",
   "metadata": {},
   "source": [
    "- mysql table을 생성\n",
    "    - user 테이블 생성\n",
    "        - id 필드 : varchar(32) primary key\n",
    "        - password 필드 : varchar(32) not null\n",
    "        - name 필드 : varchar(32)\n",
    "        - age 필드 : int\n",
    "    - user 테이블 데이터 대입\n",
    "        - test/1234/kim/20\n",
    "        - test2/1111/park/30\n",
    "        - test3/0000/lee/40"
   ]
  },
  {
   "cell_type": "code",
   "execution_count": null,
   "metadata": {
    "vscode": {
     "languageId": "plaintext"
    }
   },
   "outputs": [],
   "source": [
    "create database mysql_table;\n",
    "\n",
    "create table user(\n",
    "    `id` varchar(32) primary key,\n",
    "    `password` varchar(32) not null,\n",
    "    `name` varchar(32),\n",
    "    `age` int\n",
    ");\n",
    "\n",
    "insert into user\n",
    "values('test','1234','kim','20'),\n",
    "('test2','1111','park','30'),\n",
    "('test3','0000','lee','40');\n",
    "\n",
    "desc user;"
   ]
  }
 ],
 "metadata": {
  "language_info": {
   "name": "python"
  }
 },
 "nbformat": 4,
 "nbformat_minor": 2
}
