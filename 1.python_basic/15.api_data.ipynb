{
 "cells": [
  {
   "cell_type": "code",
   "execution_count": 30,
   "metadata": {},
   "outputs": [],
   "source": [
    "service_key = \\\n",
    "    'FQlvnD2zjS7MrQrAje8YZAli3QYVDkj3ng4aK8DXbOsPjnOobaxanZykYC+TkhCunaUUAgD84eS2IEbynvF8kg=='"
   ]
  },
  {
   "cell_type": "code",
   "execution_count": 31,
   "metadata": {},
   "outputs": [
    {
     "name": "stdout",
     "output_type": "stream",
     "text": [
      "Requirement already satisfied: requests in c:\\users\\owner\\appdata\\local\\programs\\python\\python313\\lib\\site-packages (2.32.3)\n",
      "Requirement already satisfied: charset-normalizer<4,>=2 in c:\\users\\owner\\appdata\\local\\programs\\python\\python313\\lib\\site-packages (from requests) (3.4.1)\n",
      "Requirement already satisfied: idna<4,>=2.5 in c:\\users\\owner\\appdata\\local\\programs\\python\\python313\\lib\\site-packages (from requests) (3.10)\n",
      "Requirement already satisfied: urllib3<3,>=1.21.1 in c:\\users\\owner\\appdata\\local\\programs\\python\\python313\\lib\\site-packages (from requests) (2.3.0)\n",
      "Requirement already satisfied: certifi>=2017.4.17 in c:\\users\\owner\\appdata\\local\\programs\\python\\python313\\lib\\site-packages (from requests) (2024.12.14)\n"
     ]
    },
    {
     "name": "stderr",
     "output_type": "stream",
     "text": [
      "\n",
      "[notice] A new release of pip is available: 24.3.1 -> 25.0.1\n",
      "[notice] To update, run: python.exe -m pip install --upgrade pip\n"
     ]
    }
   ],
   "source": [
    "!pip install requests"
   ]
  },
  {
   "cell_type": "code",
   "execution_count": 40,
   "metadata": {},
   "outputs": [
    {
     "name": "stdout",
     "output_type": "stream",
     "text": [
      "b'{\"response\":{\"body\":{\"dataType\":\"JSON\",\"items\":{\"item\":[{\"country_eng_nm\":\"Ghana\",\"country_iso_alp2\":\"GH\",\"country_nm\":\"\\xea\\xb0\\x80\\xeb\\x82\\x98\",\"popltn_cn\":null,\"popltn_cnt\":31522290,\"popltn_cnt_src\":\"(\\'19) World Bank (\\xec\\xb5\\x9c\\xea\\xb7\\xbc \\xec\\x88\\x98\\xec\\xa0\\x95\\xec\\x9d\\xbc : 2024.11.13.)\",\"popltn_growth\":2.09,\"popltn_growth_src\":\"(\\'19) World Bank (\\xec\\xb5\\x9c\\xea\\xb7\\xbc \\xec\\x88\\x98\\xec\\xa0\\x95\\xec\\x9d\\xbc : 2024.11.13.)\",\"popltn_month\":null,\"popltn_year\":2019},{\"country_eng_nm\":\"Ghana\",\"country_iso_alp2\":\"GH\",\"country_nm\":\"\\xea\\xb0\\x80\\xeb\\x82\\x98\",\"popltn_cn\":null,\"popltn_cnt\":30870641,\"popltn_cnt_src\":\"(\\'18) World Bank (\\xec\\xb5\\x9c\\xea\\xb7\\xbc \\xec\\x88\\x98\\xec\\xa0\\x95\\xec\\x9d\\xbc : 2024.11.13.)\",\"popltn_growth\":2.12,\"popltn_growth_src\":\"(\\'18) World Bank (\\xec\\xb5\\x9c\\xea\\xb7\\xbc \\xec\\x88\\x98\\xec\\xa0\\x95\\xec\\x9d\\xbc : 2024.11.13.)\",\"popltn_month\":null,\"popltn_year\":2018}]},\"numOfRows\":10,\"pageNo\":1,\"totalCount\":2},\"header\":{\"resultCode\":\"0\",\"resultMsg\":\"\\xec\\xa0\\x95\\xec\\x83\\x81\"}}}\\n'\n"
     ]
    }
   ],
   "source": [
    "# Python3 샘플 코드 #\n",
    "\n",
    "import requests\n",
    "\n",
    "url = 'http://apis.data.go.kr/1262000/CountryPopulationService2/getCountryPopulationList2'\n",
    "params ={\n",
    "    'serviceKey' : service_key, \n",
    "    'pageNo' : '1', \n",
    "    'numOfRows' : '10', \n",
    "    'cond[country_nm::EQ]' : '가나', \n",
    "    'cond[country_iso_alp2::EQ]' : 'GH', \n",
    "    'returnType' : 'json' \n",
    "    }\n",
    "\n",
    "response = requests.get(url, params=params)\n",
    "print(response.content)"
   ]
  },
  {
   "cell_type": "code",
   "execution_count": 41,
   "metadata": {},
   "outputs": [
    {
     "name": "stdout",
     "output_type": "stream",
     "text": [
      "('{\"response\":{\"body\":{\"dataType\":\"JSON\",\"items\":{\"item\":[{\"country_eng_nm\":\"Ghana\",\"country_iso_alp2\":\"GH\",\"country_nm\":\"가나\",\"popltn_cn\":null,\"popltn_cnt\":31522290,\"popltn_cnt_src\":\"(\\'19) '\n",
      " 'World Bank (최근 수정일 : '\n",
      " '2024.11.13.)\",\"popltn_growth\":2.09,\"popltn_growth_src\":\"(\\'19) World Bank '\n",
      " '(최근 수정일 : '\n",
      " '2024.11.13.)\",\"popltn_month\":null,\"popltn_year\":2019},{\"country_eng_nm\":\"Ghana\",\"country_iso_alp2\":\"GH\",\"country_nm\":\"가나\",\"popltn_cn\":null,\"popltn_cnt\":30870641,\"popltn_cnt_src\":\"(\\'18) '\n",
      " 'World Bank (최근 수정일 : '\n",
      " '2024.11.13.)\",\"popltn_growth\":2.12,\"popltn_growth_src\":\"(\\'18) World Bank '\n",
      " '(최근 수정일 : '\n",
      " '2024.11.13.)\",\"popltn_month\":null,\"popltn_year\":2018}]},\"numOfRows\":10,\"pageNo\":1,\"totalCount\":2},\"header\":{\"resultCode\":\"0\",\"resultMsg\":\"정상\"}}}\\n')\n"
     ]
    }
   ],
   "source": [
    "#보기 편하게\n",
    "from pprint import pprint\n",
    "pprint(response.text)"
   ]
  },
  {
   "cell_type": "code",
   "execution_count": 42,
   "metadata": {},
   "outputs": [
    {
     "name": "stdout",
     "output_type": "stream",
     "text": [
      "Requirement already satisfied: xmltodict in c:\\users\\owner\\appdata\\local\\programs\\python\\python313\\lib\\site-packages (0.14.2)\n"
     ]
    },
    {
     "name": "stderr",
     "output_type": "stream",
     "text": [
      "\n",
      "[notice] A new release of pip is available: 24.3.1 -> 25.0.1\n",
      "[notice] To update, run: python.exe -m pip install --upgrade pip\n"
     ]
    }
   ],
   "source": [
    "!pip install xmltodict\n",
    "import xmltodict"
   ]
  },
  {
   "cell_type": "code",
   "execution_count": 43,
   "metadata": {},
   "outputs": [
    {
     "data": {
      "text/plain": [
       "b'{\"response\":{\"body\":{\"dataType\":\"JSON\",\"items\":{\"item\":[{\"country_eng_nm\":\"Ghana\",\"country_iso_alp2\":\"GH\",\"country_nm\":\"\\xea\\xb0\\x80\\xeb\\x82\\x98\",\"popltn_cn\":null,\"popltn_cnt\":31522290,\"popltn_cnt_src\":\"(\\'19) World Bank (\\xec\\xb5\\x9c\\xea\\xb7\\xbc \\xec\\x88\\x98\\xec\\xa0\\x95\\xec\\x9d\\xbc : 2024.11.13.)\",\"popltn_growth\":2.09,\"popltn_growth_src\":\"(\\'19) World Bank (\\xec\\xb5\\x9c\\xea\\xb7\\xbc \\xec\\x88\\x98\\xec\\xa0\\x95\\xec\\x9d\\xbc : 2024.11.13.)\",\"popltn_month\":null,\"popltn_year\":2019},{\"country_eng_nm\":\"Ghana\",\"country_iso_alp2\":\"GH\",\"country_nm\":\"\\xea\\xb0\\x80\\xeb\\x82\\x98\",\"popltn_cn\":null,\"popltn_cnt\":30870641,\"popltn_cnt_src\":\"(\\'18) World Bank (\\xec\\xb5\\x9c\\xea\\xb7\\xbc \\xec\\x88\\x98\\xec\\xa0\\x95\\xec\\x9d\\xbc : 2024.11.13.)\",\"popltn_growth\":2.12,\"popltn_growth_src\":\"(\\'18) World Bank (\\xec\\xb5\\x9c\\xea\\xb7\\xbc \\xec\\x88\\x98\\xec\\xa0\\x95\\xec\\x9d\\xbc : 2024.11.13.)\",\"popltn_month\":null,\"popltn_year\":2018}]},\"numOfRows\":10,\"pageNo\":1,\"totalCount\":2},\"header\":{\"resultCode\":\"0\",\"resultMsg\":\"\\xec\\xa0\\x95\\xec\\x83\\x81\"}}}\\n'"
      ]
     },
     "execution_count": 43,
     "metadata": {},
     "output_type": "execute_result"
    }
   ],
   "source": [
    "response.content"
   ]
  },
  {
   "cell_type": "code",
   "execution_count": 53,
   "metadata": {},
   "outputs": [],
   "source": [
    "# #xml데이터를 dict형으로 변환\n",
    "# res_data =xmltodict.parse(response.content)['response']['body']['items']['item']\n",
    "\n",
    "\n",
    "res_data = response.json()"
   ]
  },
  {
   "cell_type": "code",
   "execution_count": 54,
   "metadata": {},
   "outputs": [
    {
     "name": "stdout",
     "output_type": "stream",
     "text": [
      "{'response': {'body': {'dataType': 'JSON', 'items': {'item': [{'country_eng_nm': 'Ghana', 'country_iso_alp2': 'GH', 'country_nm': '가나', 'popltn_cn': None, 'popltn_cnt': 31522290, 'popltn_cnt_src': \"('19) World Bank (최근 수정일 : 2024.11.13.)\", 'popltn_growth': 2.09, 'popltn_growth_src': \"('19) World Bank (최근 수정일 : 2024.11.13.)\", 'popltn_month': None, 'popltn_year': 2019}, {'country_eng_nm': 'Ghana', 'country_iso_alp2': 'GH', 'country_nm': '가나', 'popltn_cn': None, 'popltn_cnt': 30870641, 'popltn_cnt_src': \"('18) World Bank (최근 수정일 : 2024.11.13.)\", 'popltn_growth': 2.12, 'popltn_growth_src': \"('18) World Bank (최근 수정일 : 2024.11.13.)\", 'popltn_month': None, 'popltn_year': 2018}]}, 'numOfRows': 10, 'pageNo': 1, 'totalCount': 2}, 'header': {'resultCode': '0', 'resultMsg': '정상'}}}\n"
     ]
    }
   ],
   "source": [
    "print(res_data)"
   ]
  },
  {
   "cell_type": "code",
   "execution_count": 48,
   "metadata": {},
   "outputs": [],
   "source": [
    "# \"item\" 리스트 추출\n",
    "items = res_data.get('response', {}).get('body', {}).get('items', {}).get('item', [])"
   ]
  },
  {
   "cell_type": "code",
   "execution_count": 49,
   "metadata": {},
   "outputs": [],
   "source": [
    "import pandas as pd\n",
    "pd.DataFrame(items).to_csv('test.csv',index=False)"
   ]
  },
  {
   "cell_type": "code",
   "execution_count": 50,
   "metadata": {},
   "outputs": [
    {
     "data": {
      "text/html": [
       "<div>\n",
       "<style scoped>\n",
       "    .dataframe tbody tr th:only-of-type {\n",
       "        vertical-align: middle;\n",
       "    }\n",
       "\n",
       "    .dataframe tbody tr th {\n",
       "        vertical-align: top;\n",
       "    }\n",
       "\n",
       "    .dataframe thead th {\n",
       "        text-align: right;\n",
       "    }\n",
       "</style>\n",
       "<table border=\"1\" class=\"dataframe\">\n",
       "  <thead>\n",
       "    <tr style=\"text-align: right;\">\n",
       "      <th></th>\n",
       "      <th>country_eng_nm</th>\n",
       "      <th>country_iso_alp2</th>\n",
       "      <th>country_nm</th>\n",
       "      <th>popltn_cn</th>\n",
       "      <th>popltn_cnt</th>\n",
       "      <th>popltn_cnt_src</th>\n",
       "      <th>popltn_growth</th>\n",
       "      <th>popltn_growth_src</th>\n",
       "      <th>popltn_month</th>\n",
       "      <th>popltn_year</th>\n",
       "    </tr>\n",
       "  </thead>\n",
       "  <tbody>\n",
       "    <tr>\n",
       "      <th>0</th>\n",
       "      <td>Ghana</td>\n",
       "      <td>GH</td>\n",
       "      <td>가나</td>\n",
       "      <td>NaN</td>\n",
       "      <td>31522290</td>\n",
       "      <td>('19) World Bank (최근 수정일 : 2024.11.13.)</td>\n",
       "      <td>2.09</td>\n",
       "      <td>('19) World Bank (최근 수정일 : 2024.11.13.)</td>\n",
       "      <td>NaN</td>\n",
       "      <td>2019</td>\n",
       "    </tr>\n",
       "    <tr>\n",
       "      <th>1</th>\n",
       "      <td>Ghana</td>\n",
       "      <td>GH</td>\n",
       "      <td>가나</td>\n",
       "      <td>NaN</td>\n",
       "      <td>30870641</td>\n",
       "      <td>('18) World Bank (최근 수정일 : 2024.11.13.)</td>\n",
       "      <td>2.12</td>\n",
       "      <td>('18) World Bank (최근 수정일 : 2024.11.13.)</td>\n",
       "      <td>NaN</td>\n",
       "      <td>2018</td>\n",
       "    </tr>\n",
       "  </tbody>\n",
       "</table>\n",
       "</div>"
      ],
      "text/plain": [
       "  country_eng_nm country_iso_alp2 country_nm  popltn_cn  popltn_cnt  \\\n",
       "0          Ghana               GH         가나        NaN    31522290   \n",
       "1          Ghana               GH         가나        NaN    30870641   \n",
       "\n",
       "                            popltn_cnt_src  popltn_growth  \\\n",
       "0  ('19) World Bank (최근 수정일 : 2024.11.13.)           2.09   \n",
       "1  ('18) World Bank (최근 수정일 : 2024.11.13.)           2.12   \n",
       "\n",
       "                         popltn_growth_src  popltn_month  popltn_year  \n",
       "0  ('19) World Bank (최근 수정일 : 2024.11.13.)           NaN         2019  \n",
       "1  ('18) World Bank (최근 수정일 : 2024.11.13.)           NaN         2018  "
      ]
     },
     "execution_count": 50,
     "metadata": {},
     "output_type": "execute_result"
    }
   ],
   "source": [
    "pd.read_csv('./test.csv')"
   ]
  },
  {
   "cell_type": "code",
   "execution_count": null,
   "metadata": {},
   "outputs": [],
   "source": [
    "url = 'http://www.google.com'\n",
    "\n",
    "pprint(requests.get(url).content)"
   ]
  },
  {
   "cell_type": "markdown",
   "metadata": {},
   "source": [
    "#### "
   ]
  }
 ],
 "metadata": {
  "kernelspec": {
   "display_name": "Python 3",
   "language": "python",
   "name": "python3"
  },
  "language_info": {
   "codemirror_mode": {
    "name": "ipython",
    "version": 3
   },
   "file_extension": ".py",
   "mimetype": "text/x-python",
   "name": "python",
   "nbconvert_exporter": "python",
   "pygments_lexer": "ipython3",
   "version": "3.13.1"
  }
 },
 "nbformat": 4,
 "nbformat_minor": 2
}
