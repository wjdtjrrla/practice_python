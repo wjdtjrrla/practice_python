{
 "cells": [
  {
   "cell_type": "code",
   "execution_count": 1,
   "metadata": {},
   "outputs": [],
   "source": [
    "import pandas as pd"
   ]
  },
  {
   "cell_type": "code",
   "execution_count": 2,
   "metadata": {},
   "outputs": [],
   "source": [
    "#csv 파일 로드\n",
    "#pd.read_csv(파일의 경로, encoding = '')\n",
    "#절대 경로 : C:/Users/admin/document/a.csv, https://www.google.com\n",
    "#상대 경로 : ../../csv/a.csv\n",
    "\n",
    "AAPL = pd.read_csv('../csv/AAPL.csv')"
   ]
  },
  {
   "cell_type": "code",
   "execution_count": 4,
   "metadata": {},
   "outputs": [
    {
     "data": {
      "text/html": [
       "<div>\n",
       "<style scoped>\n",
       "    .dataframe tbody tr th:only-of-type {\n",
       "        vertical-align: middle;\n",
       "    }\n",
       "\n",
       "    .dataframe tbody tr th {\n",
       "        vertical-align: top;\n",
       "    }\n",
       "\n",
       "    .dataframe thead th {\n",
       "        text-align: right;\n",
       "    }\n",
       "</style>\n",
       "<table border=\"1\" class=\"dataframe\">\n",
       "  <thead>\n",
       "    <tr style=\"text-align: right;\">\n",
       "      <th></th>\n",
       "      <th>Date</th>\n",
       "      <th>Open</th>\n",
       "      <th>High</th>\n",
       "      <th>Low</th>\n",
       "      <th>Close</th>\n",
       "      <th>Adj Close</th>\n",
       "      <th>Volume</th>\n",
       "    </tr>\n",
       "  </thead>\n",
       "  <tbody>\n",
       "    <tr>\n",
       "      <th>0</th>\n",
       "      <td>1980-12-12</td>\n",
       "      <td>0.513393</td>\n",
       "      <td>0.515625</td>\n",
       "      <td>0.513393</td>\n",
       "      <td>0.513393</td>\n",
       "      <td>0.410525</td>\n",
       "      <td>117258400.0</td>\n",
       "    </tr>\n",
       "    <tr>\n",
       "      <th>1</th>\n",
       "      <td>1980-12-15</td>\n",
       "      <td>0.488839</td>\n",
       "      <td>0.488839</td>\n",
       "      <td>0.486607</td>\n",
       "      <td>0.486607</td>\n",
       "      <td>0.389106</td>\n",
       "      <td>43971200.0</td>\n",
       "    </tr>\n",
       "    <tr>\n",
       "      <th>2</th>\n",
       "      <td>1980-12-16</td>\n",
       "      <td>0.453125</td>\n",
       "      <td>0.453125</td>\n",
       "      <td>0.450893</td>\n",
       "      <td>0.450893</td>\n",
       "      <td>0.360548</td>\n",
       "      <td>26432000.0</td>\n",
       "    </tr>\n",
       "    <tr>\n",
       "      <th>3</th>\n",
       "      <td>1980-12-17</td>\n",
       "      <td>0.462054</td>\n",
       "      <td>0.464286</td>\n",
       "      <td>0.462054</td>\n",
       "      <td>0.462054</td>\n",
       "      <td>0.369472</td>\n",
       "      <td>21610400.0</td>\n",
       "    </tr>\n",
       "    <tr>\n",
       "      <th>4</th>\n",
       "      <td>1980-12-18</td>\n",
       "      <td>0.475446</td>\n",
       "      <td>0.477679</td>\n",
       "      <td>0.475446</td>\n",
       "      <td>0.475446</td>\n",
       "      <td>0.380182</td>\n",
       "      <td>18362400.0</td>\n",
       "    </tr>\n",
       "  </tbody>\n",
       "</table>\n",
       "</div>"
      ],
      "text/plain": [
       "         Date      Open      High       Low     Close  Adj Close       Volume\n",
       "0  1980-12-12  0.513393  0.515625  0.513393  0.513393   0.410525  117258400.0\n",
       "1  1980-12-15  0.488839  0.488839  0.486607  0.486607   0.389106   43971200.0\n",
       "2  1980-12-16  0.453125  0.453125  0.450893  0.450893   0.360548   26432000.0\n",
       "3  1980-12-17  0.462054  0.464286  0.462054  0.462054   0.369472   21610400.0\n",
       "4  1980-12-18  0.475446  0.477679  0.475446  0.475446   0.380182   18362400.0"
      ]
     },
     "execution_count": 4,
     "metadata": {},
     "output_type": "execute_result"
    }
   ],
   "source": [
    "AAPL.head()"
   ]
  },
  {
   "cell_type": "code",
   "execution_count": 5,
   "metadata": {},
   "outputs": [],
   "source": [
    "#json 파일 로드\n",
    "df = pd.read_json('../csv/2019/201901_expense_list.json')"
   ]
  },
  {
   "cell_type": "code",
   "execution_count": 7,
   "metadata": {},
   "outputs": [
    {
     "data": {
      "text/html": [
       "<div>\n",
       "<style scoped>\n",
       "    .dataframe tbody tr th:only-of-type {\n",
       "        vertical-align: middle;\n",
       "    }\n",
       "\n",
       "    .dataframe tbody tr th {\n",
       "        vertical-align: top;\n",
       "    }\n",
       "\n",
       "    .dataframe thead th {\n",
       "        text-align: right;\n",
       "    }\n",
       "</style>\n",
       "<table border=\"1\" class=\"dataframe\">\n",
       "  <thead>\n",
       "    <tr style=\"text-align: right;\">\n",
       "      <th></th>\n",
       "      <th>nid</th>\n",
       "      <th>title</th>\n",
       "      <th>url</th>\n",
       "      <th>dept_nm_lvl_1</th>\n",
       "      <th>dept_nm_lvl_2</th>\n",
       "      <th>dept_nm_lvl_3</th>\n",
       "      <th>dept_nm_lvl_4</th>\n",
       "      <th>dept_nm_lvl_5</th>\n",
       "      <th>exec_yr</th>\n",
       "      <th>exec_month</th>\n",
       "      <th>expense_budget</th>\n",
       "      <th>expense_execution</th>\n",
       "      <th>category</th>\n",
       "      <th>dept_nm_full</th>\n",
       "      <th>exec_dt</th>\n",
       "      <th>exec_loc</th>\n",
       "      <th>exec_purpose</th>\n",
       "      <th>target_nm</th>\n",
       "      <th>payment_method</th>\n",
       "      <th>exec_amount</th>\n",
       "    </tr>\n",
       "  </thead>\n",
       "  <tbody>\n",
       "    <tr>\n",
       "      <th>0</th>\n",
       "      <td>17506661</td>\n",
       "      <td>2019년1월 국제교류담당관 업무추진비 내역</td>\n",
       "      <td>http://opengov.seoul.go.kr/public/17506661</td>\n",
       "      <td>서울시본청</td>\n",
       "      <td>기획조정실</td>\n",
       "      <td>국제교류담당관</td>\n",
       "      <td></td>\n",
       "      <td></td>\n",
       "      <td>2019</td>\n",
       "      <td>1</td>\n",
       "      <td>NaN</td>\n",
       "      <td>NaN</td>\n",
       "      <td></td>\n",
       "      <td>기획조정실 국제교류담당관</td>\n",
       "      <td>2019-01-31 19:57</td>\n",
       "      <td>구이구이 서울특별시 중구 을지로 6</td>\n",
       "      <td>도시외교 기본계획 개선관련 연구용역 및 협력방안 논의 간담회</td>\n",
       "      <td>국제교류담당관 등 6명</td>\n",
       "      <td>카드</td>\n",
       "      <td>143000</td>\n",
       "    </tr>\n",
       "    <tr>\n",
       "      <th>1</th>\n",
       "      <td>17506661</td>\n",
       "      <td>2019년1월 국제교류담당관 업무추진비 내역</td>\n",
       "      <td>http://opengov.seoul.go.kr/public/17506661</td>\n",
       "      <td>서울시본청</td>\n",
       "      <td>기획조정실</td>\n",
       "      <td>국제교류담당관</td>\n",
       "      <td></td>\n",
       "      <td></td>\n",
       "      <td>2019</td>\n",
       "      <td>1</td>\n",
       "      <td>NaN</td>\n",
       "      <td>NaN</td>\n",
       "      <td></td>\n",
       "      <td>기획조정실 국제교류담당관</td>\n",
       "      <td>2019-01-31 12:39</td>\n",
       "      <td>왕비집 시청무교점 서울특별시 중구 무교로 19</td>\n",
       "      <td>서울평화포럼 준비위원회 구성 및 향후 추진방향 논의</td>\n",
       "      <td>국제교류담당관 등 3명</td>\n",
       "      <td>카드</td>\n",
       "      <td>24000</td>\n",
       "    </tr>\n",
       "  </tbody>\n",
       "</table>\n",
       "</div>"
      ],
      "text/plain": [
       "        nid                     title  \\\n",
       "0  17506661  2019년1월 국제교류담당관 업무추진비 내역   \n",
       "1  17506661  2019년1월 국제교류담당관 업무추진비 내역   \n",
       "\n",
       "                                          url dept_nm_lvl_1 dept_nm_lvl_2  \\\n",
       "0  http://opengov.seoul.go.kr/public/17506661         서울시본청         기획조정실   \n",
       "1  http://opengov.seoul.go.kr/public/17506661         서울시본청         기획조정실   \n",
       "\n",
       "  dept_nm_lvl_3 dept_nm_lvl_4 dept_nm_lvl_5  exec_yr  exec_month  \\\n",
       "0       국제교류담당관                                 2019           1   \n",
       "1       국제교류담당관                                 2019           1   \n",
       "\n",
       "   expense_budget  expense_execution category   dept_nm_full  \\\n",
       "0             NaN                NaN           기획조정실 국제교류담당관   \n",
       "1             NaN                NaN           기획조정실 국제교류담당관   \n",
       "\n",
       "            exec_dt                   exec_loc  \\\n",
       "0  2019-01-31 19:57        구이구이 서울특별시 중구 을지로 6   \n",
       "1  2019-01-31 12:39  왕비집 시청무교점 서울특별시 중구 무교로 19   \n",
       "\n",
       "                        exec_purpose     target_nm payment_method  exec_amount  \n",
       "0  도시외교 기본계획 개선관련 연구용역 및 협력방안 논의 간담회  국제교류담당관 등 6명             카드       143000  \n",
       "1       서울평화포럼 준비위원회 구성 및 향후 추진방향 논의  국제교류담당관 등 3명             카드        24000  "
      ]
     },
     "execution_count": 7,
     "metadata": {},
     "output_type": "execute_result"
    }
   ],
   "source": [
    "df.head(2)"
   ]
  },
  {
   "cell_type": "code",
   "execution_count": 10,
   "metadata": {},
   "outputs": [],
   "source": [
    "#xml 불러오기\n",
    "df_xml = pd.read_xml('../csv/2021/202101_expense_list.xml')"
   ]
  },
  {
   "cell_type": "code",
   "execution_count": 12,
   "metadata": {},
   "outputs": [
    {
     "data": {
      "text/html": [
       "<div>\n",
       "<style scoped>\n",
       "    .dataframe tbody tr th:only-of-type {\n",
       "        vertical-align: middle;\n",
       "    }\n",
       "\n",
       "    .dataframe tbody tr th {\n",
       "        vertical-align: top;\n",
       "    }\n",
       "\n",
       "    .dataframe thead th {\n",
       "        text-align: right;\n",
       "    }\n",
       "</style>\n",
       "<table border=\"1\" class=\"dataframe\">\n",
       "  <thead>\n",
       "    <tr style=\"text-align: right;\">\n",
       "      <th></th>\n",
       "      <th>nid</th>\n",
       "      <th>title</th>\n",
       "      <th>url</th>\n",
       "      <th>dept_nm_lvl_1</th>\n",
       "      <th>dept_nm_lvl_2</th>\n",
       "      <th>dept_nm_lvl_3</th>\n",
       "      <th>dept_nm_lvl_4</th>\n",
       "      <th>dept_nm_lvl_5</th>\n",
       "      <th>exec_yr</th>\n",
       "      <th>exec_month</th>\n",
       "      <th>...</th>\n",
       "      <th>expense_execution</th>\n",
       "      <th>category</th>\n",
       "      <th>dept_nm_full</th>\n",
       "      <th>exec_dt</th>\n",
       "      <th>exec_loc</th>\n",
       "      <th>exec_purpose</th>\n",
       "      <th>target_nm</th>\n",
       "      <th>payment_method</th>\n",
       "      <th>exec_amount</th>\n",
       "      <th>bimok</th>\n",
       "    </tr>\n",
       "  </thead>\n",
       "  <tbody>\n",
       "    <tr>\n",
       "      <th>4876</th>\n",
       "      <td>22241159</td>\n",
       "      <td>2021년 1월 사업소 상수도사업본부 중부수도사업소 요금과 업무추진비 - 부서운영</td>\n",
       "      <td>http://opengov.seoul.go.kr/public/22241159</td>\n",
       "      <td>사업소</td>\n",
       "      <td>상수도사업본부</td>\n",
       "      <td>중부수도사업소</td>\n",
       "      <td>요금과</td>\n",
       "      <td>None</td>\n",
       "      <td>2021</td>\n",
       "      <td>1</td>\n",
       "      <td>...</td>\n",
       "      <td>NaN</td>\n",
       "      <td>None</td>\n",
       "      <td>중부수도 요금과</td>\n",
       "      <td>2021-01-27 15:19</td>\n",
       "      <td>가메골에프엔비㈜(중구 남대문시장4길 42)</td>\n",
       "      <td>부서 직원 교육 및 신년간담회</td>\n",
       "      <td>요금과 직원 20명</td>\n",
       "      <td>카드</td>\n",
       "      <td>64000</td>\n",
       "      <td>None</td>\n",
       "    </tr>\n",
       "    <tr>\n",
       "      <th>4877</th>\n",
       "      <td>22241159</td>\n",
       "      <td>2021년 1월 사업소 상수도사업본부 중부수도사업소 요금과 업무추진비 - 부서운영</td>\n",
       "      <td>http://opengov.seoul.go.kr/public/22241159</td>\n",
       "      <td>사업소</td>\n",
       "      <td>상수도사업본부</td>\n",
       "      <td>중부수도사업소</td>\n",
       "      <td>요금과</td>\n",
       "      <td>None</td>\n",
       "      <td>2021</td>\n",
       "      <td>1</td>\n",
       "      <td>...</td>\n",
       "      <td>NaN</td>\n",
       "      <td>None</td>\n",
       "      <td>중부수도 요금과</td>\n",
       "      <td>2021-01-22 00:00</td>\n",
       "      <td>추어탕(중구 다산로 75 3층)</td>\n",
       "      <td>간부 신년간담회</td>\n",
       "      <td>소장외 3명</td>\n",
       "      <td>카드</td>\n",
       "      <td>36000</td>\n",
       "      <td>None</td>\n",
       "    </tr>\n",
       "  </tbody>\n",
       "</table>\n",
       "<p>2 rows × 21 columns</p>\n",
       "</div>"
      ],
      "text/plain": [
       "           nid                                          title  \\\n",
       "4876  22241159  2021년 1월 사업소 상수도사업본부 중부수도사업소 요금과 업무추진비 - 부서운영   \n",
       "4877  22241159  2021년 1월 사업소 상수도사업본부 중부수도사업소 요금과 업무추진비 - 부서운영   \n",
       "\n",
       "                                             url dept_nm_lvl_1 dept_nm_lvl_2  \\\n",
       "4876  http://opengov.seoul.go.kr/public/22241159           사업소       상수도사업본부   \n",
       "4877  http://opengov.seoul.go.kr/public/22241159           사업소       상수도사업본부   \n",
       "\n",
       "     dept_nm_lvl_3 dept_nm_lvl_4 dept_nm_lvl_5  exec_yr  exec_month  ...  \\\n",
       "4876       중부수도사업소           요금과          None     2021           1  ...   \n",
       "4877       중부수도사업소           요금과          None     2021           1  ...   \n",
       "\n",
       "      expense_execution  category dept_nm_full           exec_dt  \\\n",
       "4876                NaN      None     중부수도 요금과  2021-01-27 15:19   \n",
       "4877                NaN      None     중부수도 요금과  2021-01-22 00:00   \n",
       "\n",
       "                     exec_loc      exec_purpose   target_nm payment_method  \\\n",
       "4876  가메골에프엔비㈜(중구 남대문시장4길 42)  부서 직원 교육 및 신년간담회  요금과 직원 20명             카드   \n",
       "4877        추어탕(중구 다산로 75 3층)          간부 신년간담회      소장외 3명             카드   \n",
       "\n",
       "     exec_amount  bimok  \n",
       "4876       64000   None  \n",
       "4877       36000   None  \n",
       "\n",
       "[2 rows x 21 columns]"
      ]
     },
     "execution_count": 12,
     "metadata": {},
     "output_type": "execute_result"
    }
   ],
   "source": [
    "df_xml.tail(2)"
   ]
  },
  {
   "cell_type": "code",
   "execution_count": 18,
   "metadata": {},
   "outputs": [],
   "source": [
    "user_num = pd.read_csv('../csv/주민등록.csv',encoding = 'cp949') #'EUC-KR'"
   ]
  },
  {
   "cell_type": "code",
   "execution_count": 20,
   "metadata": {},
   "outputs": [
    {
     "data": {
      "text/html": [
       "<div>\n",
       "<style scoped>\n",
       "    .dataframe tbody tr th:only-of-type {\n",
       "        vertical-align: middle;\n",
       "    }\n",
       "\n",
       "    .dataframe tbody tr th {\n",
       "        vertical-align: top;\n",
       "    }\n",
       "\n",
       "    .dataframe thead th {\n",
       "        text-align: right;\n",
       "    }\n",
       "</style>\n",
       "<table border=\"1\" class=\"dataframe\">\n",
       "  <thead>\n",
       "    <tr style=\"text-align: right;\">\n",
       "      <th></th>\n",
       "      <th>자치구코드(atdrc_code_se)</th>\n",
       "      <th>자치구명(atdrc_nm)</th>\n",
       "      <th>년월(년월)</th>\n",
       "      <th>총인구수(tot_popltn_co)</th>\n",
       "      <th>세대수(tot_hshld_co)</th>\n",
       "      <th>세대당인구(hshld_popltn_avrg_co)</th>\n",
       "      <th>남자인구수(male_popltn_co)</th>\n",
       "      <th>여자인구수(female_popltn_co)</th>\n",
       "      <th>적재일시(ldadng_dt)</th>\n",
       "    </tr>\n",
       "  </thead>\n",
       "  <tbody>\n",
       "    <tr>\n",
       "      <th>0</th>\n",
       "      <td>금천구</td>\n",
       "      <td>11110</td>\n",
       "      <td>201907</td>\n",
       "      <td>228755</td>\n",
       "      <td>171426</td>\n",
       "      <td>2.44</td>\n",
       "      <td>319062</td>\n",
       "      <td>118352</td>\n",
       "      <td>2018-01-05 16:52:25</td>\n",
       "    </tr>\n",
       "    <tr>\n",
       "      <th>1</th>\n",
       "      <td>서대문구</td>\n",
       "      <td>11290</td>\n",
       "      <td>201607</td>\n",
       "      <td>153780</td>\n",
       "      <td>186744</td>\n",
       "      <td>2.12</td>\n",
       "      <td>75614</td>\n",
       "      <td>116393</td>\n",
       "      <td>2018-12-05 10:20:57</td>\n",
       "    </tr>\n",
       "    <tr>\n",
       "      <th>2</th>\n",
       "      <td>양천구</td>\n",
       "      <td>11740</td>\n",
       "      <td>201804</td>\n",
       "      <td>594315</td>\n",
       "      <td>61091</td>\n",
       "      <td>2.22</td>\n",
       "      <td>192817</td>\n",
       "      <td>307237</td>\n",
       "      <td>2020-11-03 10:50:11</td>\n",
       "    </tr>\n",
       "  </tbody>\n",
       "</table>\n",
       "</div>"
      ],
      "text/plain": [
       "  자치구코드(atdrc_code_se)  자치구명(atdrc_nm)  년월(년월)  총인구수(tot_popltn_co)  \\\n",
       "0                  금천구           11110  201907               228755   \n",
       "1                 서대문구           11290  201607               153780   \n",
       "2                  양천구           11740  201804               594315   \n",
       "\n",
       "   세대수(tot_hshld_co)  세대당인구(hshld_popltn_avrg_co)  남자인구수(male_popltn_co)  \\\n",
       "0             171426                         2.44                 319062   \n",
       "1             186744                         2.12                  75614   \n",
       "2              61091                         2.22                 192817   \n",
       "\n",
       "   여자인구수(female_popltn_co)      적재일시(ldadng_dt)  \n",
       "0                   118352  2018-01-05 16:52:25  \n",
       "1                   116393  2018-12-05 10:20:57  \n",
       "2                   307237  2020-11-03 10:50:11  "
      ]
     },
     "execution_count": 20,
     "metadata": {},
     "output_type": "execute_result"
    }
   ],
   "source": [
    "user_num.head(3)"
   ]
  },
  {
   "cell_type": "code",
   "execution_count": 23,
   "metadata": {},
   "outputs": [
    {
     "name": "stdout",
     "output_type": "stream",
     "text": [
      "Collecting openpyxl\n",
      "  Downloading openpyxl-3.1.5-py2.py3-none-any.whl.metadata (2.5 kB)\n",
      "Collecting et-xmlfile (from openpyxl)\n",
      "  Downloading et_xmlfile-2.0.0-py3-none-any.whl.metadata (2.7 kB)\n",
      "Downloading openpyxl-3.1.5-py2.py3-none-any.whl (250 kB)\n",
      "Downloading et_xmlfile-2.0.0-py3-none-any.whl (18 kB)\n",
      "Installing collected packages: et-xmlfile, openpyxl\n",
      "Successfully installed et-xmlfile-2.0.0 openpyxl-3.1.5\n",
      "Note: you may need to restart the kernel to use updated packages.\n"
     ]
    },
    {
     "name": "stderr",
     "output_type": "stream",
     "text": [
      "\n",
      "[notice] A new release of pip is available: 24.3.1 -> 25.0.1\n",
      "[notice] To update, run: python.exe -m pip install --upgrade pip\n"
     ]
    }
   ],
   "source": [
    "pip install openpyxl"
   ]
  },
  {
   "cell_type": "code",
   "execution_count": 24,
   "metadata": {},
   "outputs": [],
   "source": [
    "df3 = pd.read_excel('../csv/2020/202001_expense_list.xlsx')"
   ]
  },
  {
   "cell_type": "code",
   "execution_count": 26,
   "metadata": {},
   "outputs": [
    {
     "data": {
      "text/html": [
       "<div>\n",
       "<style scoped>\n",
       "    .dataframe tbody tr th:only-of-type {\n",
       "        vertical-align: middle;\n",
       "    }\n",
       "\n",
       "    .dataframe tbody tr th {\n",
       "        vertical-align: top;\n",
       "    }\n",
       "\n",
       "    .dataframe thead th {\n",
       "        text-align: right;\n",
       "    }\n",
       "</style>\n",
       "<table border=\"1\" class=\"dataframe\">\n",
       "  <thead>\n",
       "    <tr style=\"text-align: right;\">\n",
       "      <th></th>\n",
       "      <th>nid</th>\n",
       "      <th>title</th>\n",
       "      <th>url</th>\n",
       "      <th>dept_nm_lvl_1</th>\n",
       "      <th>dept_nm_lvl_2</th>\n",
       "      <th>dept_nm_lvl_3</th>\n",
       "      <th>dept_nm_lvl_4</th>\n",
       "      <th>dept_nm_lvl_5</th>\n",
       "      <th>exec_yr</th>\n",
       "      <th>exec_month</th>\n",
       "      <th>expense_budget</th>\n",
       "      <th>expense_execution</th>\n",
       "      <th>category</th>\n",
       "      <th>dept_nm_full</th>\n",
       "      <th>exec_dt</th>\n",
       "      <th>exec_loc</th>\n",
       "      <th>exec_purpose</th>\n",
       "      <th>target_nm</th>\n",
       "      <th>payment_method</th>\n",
       "      <th>exec_amount</th>\n",
       "    </tr>\n",
       "  </thead>\n",
       "  <tbody>\n",
       "    <tr>\n",
       "      <th>0</th>\n",
       "      <td>21789676</td>\n",
       "      <td>2020년 1월 사업소 서울식물원 시설운영과 업무추진비 - 부서운영</td>\n",
       "      <td>http://opengov.seoul.go.kr/public/21789676</td>\n",
       "      <td>사업소</td>\n",
       "      <td>서울식물원</td>\n",
       "      <td>시설운영과</td>\n",
       "      <td>NaN</td>\n",
       "      <td>NaN</td>\n",
       "      <td>2020</td>\n",
       "      <td>1</td>\n",
       "      <td>NaN</td>\n",
       "      <td>NaN</td>\n",
       "      <td>NaN</td>\n",
       "      <td>푸른도시국 서울식물원 시설운영과</td>\n",
       "      <td>2020-01-22 10:25</td>\n",
       "      <td>코코호도마곡나루역점(강서구 마곡중앙5로 6)</td>\n",
       "      <td>부서 전출직원 간담회 비용</td>\n",
       "      <td>이형선 외 3인</td>\n",
       "      <td>카드</td>\n",
       "      <td>30000</td>\n",
       "    </tr>\n",
       "    <tr>\n",
       "      <th>1</th>\n",
       "      <td>21762080</td>\n",
       "      <td>2020년 1월 사업소 상수도사업본부 남부수도사업소 행정지원과 업무추진비 - 부서운영</td>\n",
       "      <td>http://opengov.seoul.go.kr/public/21762080</td>\n",
       "      <td>사업소</td>\n",
       "      <td>상수도사업본부</td>\n",
       "      <td>남부수도사업소</td>\n",
       "      <td>행정지원과</td>\n",
       "      <td>NaN</td>\n",
       "      <td>2020</td>\n",
       "      <td>1</td>\n",
       "      <td>NaN</td>\n",
       "      <td>NaN</td>\n",
       "      <td>NaN</td>\n",
       "      <td>남부수도사업소 행정지원과</td>\n",
       "      <td>2020-01-29 08:55</td>\n",
       "      <td>㈜한국문화진흥(강남구 강남대로 636, 두원빌딩2층)</td>\n",
       "      <td>2020년도 1월 생일자 격려상품 구매</td>\n",
       "      <td>1월 직원 생일자 12명</td>\n",
       "      <td>카드</td>\n",
       "      <td>216720</td>\n",
       "    </tr>\n",
       "  </tbody>\n",
       "</table>\n",
       "</div>"
      ],
      "text/plain": [
       "        nid                                            title  \\\n",
       "0  21789676            2020년 1월 사업소 서울식물원 시설운영과 업무추진비 - 부서운영   \n",
       "1  21762080  2020년 1월 사업소 상수도사업본부 남부수도사업소 행정지원과 업무추진비 - 부서운영   \n",
       "\n",
       "                                          url dept_nm_lvl_1 dept_nm_lvl_2  \\\n",
       "0  http://opengov.seoul.go.kr/public/21789676           사업소         서울식물원   \n",
       "1  http://opengov.seoul.go.kr/public/21762080           사업소       상수도사업본부   \n",
       "\n",
       "  dept_nm_lvl_3 dept_nm_lvl_4 dept_nm_lvl_5  exec_yr  exec_month  \\\n",
       "0         시설운영과           NaN           NaN     2020           1   \n",
       "1       남부수도사업소         행정지원과           NaN     2020           1   \n",
       "\n",
       "   expense_budget  expense_execution category       dept_nm_full  \\\n",
       "0             NaN                NaN      NaN  푸른도시국 서울식물원 시설운영과   \n",
       "1             NaN                NaN      NaN      남부수도사업소 행정지원과   \n",
       "\n",
       "            exec_dt                       exec_loc           exec_purpose  \\\n",
       "0  2020-01-22 10:25       코코호도마곡나루역점(강서구 마곡중앙5로 6)         부서 전출직원 간담회 비용   \n",
       "1  2020-01-29 08:55  ㈜한국문화진흥(강남구 강남대로 636, 두원빌딩2층)  2020년도 1월 생일자 격려상품 구매   \n",
       "\n",
       "       target_nm payment_method  exec_amount  \n",
       "0       이형선 외 3인             카드        30000  \n",
       "1  1월 직원 생일자 12명             카드       216720  "
      ]
     },
     "execution_count": 26,
     "metadata": {},
     "output_type": "execute_result"
    }
   ],
   "source": [
    "df3.head(2)"
   ]
  },
  {
   "cell_type": "code",
   "execution_count": 29,
   "metadata": {},
   "outputs": [],
   "source": [
    "#tsv 파일 로드\n",
    "df4 = pd.read_csv('../csv/num_1/chipotle.tsv', sep = '\\t')"
   ]
  },
  {
   "cell_type": "code",
   "execution_count": 31,
   "metadata": {},
   "outputs": [
    {
     "data": {
      "text/html": [
       "<div>\n",
       "<style scoped>\n",
       "    .dataframe tbody tr th:only-of-type {\n",
       "        vertical-align: middle;\n",
       "    }\n",
       "\n",
       "    .dataframe tbody tr th {\n",
       "        vertical-align: top;\n",
       "    }\n",
       "\n",
       "    .dataframe thead th {\n",
       "        text-align: right;\n",
       "    }\n",
       "</style>\n",
       "<table border=\"1\" class=\"dataframe\">\n",
       "  <thead>\n",
       "    <tr style=\"text-align: right;\">\n",
       "      <th></th>\n",
       "      <th>order_id</th>\n",
       "      <th>quantity</th>\n",
       "      <th>item_name</th>\n",
       "      <th>choice_description</th>\n",
       "      <th>item_price</th>\n",
       "    </tr>\n",
       "  </thead>\n",
       "  <tbody>\n",
       "    <tr>\n",
       "      <th>0</th>\n",
       "      <td>1</td>\n",
       "      <td>1</td>\n",
       "      <td>Chips and Fresh Tomato Salsa</td>\n",
       "      <td>NaN</td>\n",
       "      <td>$2.39</td>\n",
       "    </tr>\n",
       "    <tr>\n",
       "      <th>1</th>\n",
       "      <td>1</td>\n",
       "      <td>1</td>\n",
       "      <td>Izze</td>\n",
       "      <td>[Clementine]</td>\n",
       "      <td>$3.39</td>\n",
       "    </tr>\n",
       "    <tr>\n",
       "      <th>2</th>\n",
       "      <td>1</td>\n",
       "      <td>1</td>\n",
       "      <td>Nantucket Nectar</td>\n",
       "      <td>[Apple]</td>\n",
       "      <td>$3.39</td>\n",
       "    </tr>\n",
       "  </tbody>\n",
       "</table>\n",
       "</div>"
      ],
      "text/plain": [
       "   order_id  quantity                     item_name choice_description  \\\n",
       "0         1         1  Chips and Fresh Tomato Salsa                NaN   \n",
       "1         1         1                          Izze       [Clementine]   \n",
       "2         1         1              Nantucket Nectar            [Apple]   \n",
       "\n",
       "  item_price  \n",
       "0     $2.39   \n",
       "1     $3.39   \n",
       "2     $3.39   "
      ]
     },
     "execution_count": 31,
     "metadata": {},
     "output_type": "execute_result"
    }
   ],
   "source": [
    "df4.head(3)"
   ]
  },
  {
   "cell_type": "markdown",
   "metadata": {},
   "source": [
    "#### 결측치\n",
    "- dataframe에서 value가 존재하지 않는 공간\n",
    "- NaN으로 표시"
   ]
  },
  {
   "cell_type": "code",
   "execution_count": 32,
   "metadata": {},
   "outputs": [],
   "source": [
    "import numpy as np"
   ]
  },
  {
   "cell_type": "code",
   "execution_count": 34,
   "metadata": {},
   "outputs": [],
   "source": [
    "data = [\n",
    "    [1,2,np.nan,4,5],\n",
    "    [1,np.nan,3,4,5],\n",
    "    [1,2,3,np.nan,5]\n",
    "]\n",
    "col = ['s1','s2','s3','s4','s5']\n",
    "df = pd.DataFrame(data, columns = col)"
   ]
  },
  {
   "cell_type": "code",
   "execution_count": null,
   "metadata": {},
   "outputs": [
    {
     "data": {
      "text/html": [
       "<div>\n",
       "<style scoped>\n",
       "    .dataframe tbody tr th:only-of-type {\n",
       "        vertical-align: middle;\n",
       "    }\n",
       "\n",
       "    .dataframe tbody tr th {\n",
       "        vertical-align: top;\n",
       "    }\n",
       "\n",
       "    .dataframe thead th {\n",
       "        text-align: right;\n",
       "    }\n",
       "</style>\n",
       "<table border=\"1\" class=\"dataframe\">\n",
       "  <thead>\n",
       "    <tr style=\"text-align: right;\">\n",
       "      <th></th>\n",
       "      <th>s1</th>\n",
       "      <th>s2</th>\n",
       "      <th>s3</th>\n",
       "      <th>s4</th>\n",
       "      <th>s5</th>\n",
       "    </tr>\n",
       "  </thead>\n",
       "  <tbody>\n",
       "    <tr>\n",
       "      <th>0</th>\n",
       "      <td>1</td>\n",
       "      <td>2.0</td>\n",
       "      <td>NaN</td>\n",
       "      <td>4.0</td>\n",
       "      <td>5</td>\n",
       "    </tr>\n",
       "    <tr>\n",
       "      <th>1</th>\n",
       "      <td>1</td>\n",
       "      <td>NaN</td>\n",
       "      <td>3.0</td>\n",
       "      <td>4.0</td>\n",
       "      <td>5</td>\n",
       "    </tr>\n",
       "    <tr>\n",
       "      <th>2</th>\n",
       "      <td>1</td>\n",
       "      <td>2.0</td>\n",
       "      <td>3.0</td>\n",
       "      <td>NaN</td>\n",
       "      <td>5</td>\n",
       "    </tr>\n",
       "  </tbody>\n",
       "</table>\n",
       "</div>"
      ],
      "text/plain": [
       "   s1   s2   s3   s4  s5\n",
       "0   1  2.0  NaN  4.0   5\n",
       "1   1  NaN  3.0  4.0   5\n",
       "2   1  2.0  3.0  NaN   5"
      ]
     },
     "execution_count": 36,
     "metadata": {},
     "output_type": "execute_result"
    }
   ],
   "source": [
    "df"
   ]
  },
  {
   "cell_type": "code",
   "execution_count": 53,
   "metadata": {},
   "outputs": [
    {
     "name": "stdout",
     "output_type": "stream",
     "text": [
      "<class 'pandas.core.frame.DataFrame'>\n",
      "RangeIndex: 3 entries, 0 to 2\n",
      "Data columns (total 5 columns):\n",
      " #   Column  Non-Null Count  Dtype  \n",
      "---  ------  --------------  -----  \n",
      " 0   s1      3 non-null      int64  \n",
      " 1   s2      2 non-null      float64\n",
      " 2   s3      2 non-null      float64\n",
      " 3   s4      2 non-null      float64\n",
      " 4   s5      3 non-null      int64  \n",
      "dtypes: float64(3), int64(2)\n",
      "memory usage: 252.0 bytes\n"
     ]
    }
   ],
   "source": [
    "df.info()\n",
    "\n",
    "#결측치가 들어있다면 float 형태로 정해짐"
   ]
  },
  {
   "cell_type": "code",
   "execution_count": 56,
   "metadata": {},
   "outputs": [
    {
     "data": {
      "text/plain": [
       "s1    0\n",
       "s2    1\n",
       "s3    1\n",
       "s4    1\n",
       "s5    0\n",
       "dtype: int64"
      ]
     },
     "execution_count": 56,
     "metadata": {},
     "output_type": "execute_result"
    }
   ],
   "source": [
    "df.isna().sum()"
   ]
  },
  {
   "cell_type": "code",
   "execution_count": null,
   "metadata": {},
   "outputs": [
    {
     "name": "stdout",
     "output_type": "stream",
     "text": [
      "      s1     s2     s3     s4     s5\n",
      "0  False  False   True  False  False\n",
      "1  False   True  False  False  False\n",
      "2  False  False  False   True  False\n",
      "-----\n",
      "s1    0\n",
      "s2    1\n",
      "s3    1\n",
      "s4    1\n",
      "s5    0\n",
      "dtype: int64\n",
      "-----\n",
      "0    1\n",
      "1    1\n",
      "2    1\n",
      "dtype: int64\n",
      "-----\n",
      "3\n"
     ]
    }
   ],
   "source": [
    "print(df.isnull())\n",
    "print('-----')\n",
    "\n",
    "#컬럼 기준으로 알려줌\n",
    "print(df.isnull().sum())\n",
    "print('-----')\n",
    "\n",
    "#인덱스 기준으로 알려줌. DataFrame 안에 sum()함수의 ㅁ개변수 axis\n",
    "#0,rows(기본값) : 컬럼을 기준으로 데이터의 합\n",
    "#1, cloumns : 인덱스를 기준으로 데이터의 합\n",
    "print(df.isna().sum(axis = 'columns'))\n",
    "print('-----')\n",
    "\n",
    "print(df.isnull().sum().sum())"
   ]
  },
  {
   "cell_type": "code",
   "execution_count": 62,
   "metadata": {},
   "outputs": [
    {
     "data": {
      "text/plain": [
       "s1    False\n",
       "s2     True\n",
       "s3     True\n",
       "s4     True\n",
       "s5    False\n",
       "dtype: bool"
      ]
     },
     "execution_count": 62,
     "metadata": {},
     "output_type": "execute_result"
    }
   ],
   "source": [
    "#결측치의 유무를 판단하는 함수\n",
    "df.isna().any()"
   ]
  },
  {
   "cell_type": "code",
   "execution_count": 57,
   "metadata": {},
   "outputs": [
    {
     "data": {
      "text/plain": [
       "s1    0.000000\n",
       "s2    0.333333\n",
       "s3    0.333333\n",
       "s4    0.333333\n",
       "s5    0.000000\n",
       "dtype: float64"
      ]
     },
     "execution_count": 57,
     "metadata": {},
     "output_type": "execute_result"
    }
   ],
   "source": [
    "df.isna().mean()"
   ]
  },
  {
   "cell_type": "code",
   "execution_count": 68,
   "metadata": {},
   "outputs": [
    {
     "data": {
      "text/html": [
       "<div>\n",
       "<style scoped>\n",
       "    .dataframe tbody tr th:only-of-type {\n",
       "        vertical-align: middle;\n",
       "    }\n",
       "\n",
       "    .dataframe tbody tr th {\n",
       "        vertical-align: top;\n",
       "    }\n",
       "\n",
       "    .dataframe thead th {\n",
       "        text-align: right;\n",
       "    }\n",
       "</style>\n",
       "<table border=\"1\" class=\"dataframe\">\n",
       "  <thead>\n",
       "    <tr style=\"text-align: right;\">\n",
       "      <th></th>\n",
       "      <th>s1</th>\n",
       "      <th>s5</th>\n",
       "    </tr>\n",
       "  </thead>\n",
       "  <tbody>\n",
       "    <tr>\n",
       "      <th>0</th>\n",
       "      <td>1</td>\n",
       "      <td>5</td>\n",
       "    </tr>\n",
       "    <tr>\n",
       "      <th>1</th>\n",
       "      <td>1</td>\n",
       "      <td>5</td>\n",
       "    </tr>\n",
       "    <tr>\n",
       "      <th>2</th>\n",
       "      <td>1</td>\n",
       "      <td>5</td>\n",
       "    </tr>\n",
       "  </tbody>\n",
       "</table>\n",
       "</div>"
      ],
      "text/plain": [
       "   s1  s5\n",
       "0   1   5\n",
       "1   1   5\n",
       "2   1   5"
      ]
     },
     "execution_count": 68,
     "metadata": {},
     "output_type": "execute_result"
    }
   ],
   "source": [
    "#결측치를 제거하는 함수\n",
    "#결측치가 포함되어 있는 열, 행을 제거.\n",
    "#기본값은 행을 제거\n",
    "\n",
    "df.dropna(axis='columns')"
   ]
  },
  {
   "cell_type": "code",
   "execution_count": 75,
   "metadata": {},
   "outputs": [],
   "source": [
    "#결측치에 다른 값 대체\n",
    "#df.fillna(data) : 결측치를 data로 대체\n",
    "#method 매개변수\n",
    "    #ffill : 앞의 행의 데이터로 대체\n",
    "    #bfill : 뒤의 행의 데이터로 대체\n",
    "    \n",
    "    \n",
    "df['s3'] = df['s3'].fillna(20)"
   ]
  },
  {
   "cell_type": "code",
   "execution_count": 76,
   "metadata": {},
   "outputs": [
    {
     "data": {
      "text/html": [
       "<div>\n",
       "<style scoped>\n",
       "    .dataframe tbody tr th:only-of-type {\n",
       "        vertical-align: middle;\n",
       "    }\n",
       "\n",
       "    .dataframe tbody tr th {\n",
       "        vertical-align: top;\n",
       "    }\n",
       "\n",
       "    .dataframe thead th {\n",
       "        text-align: right;\n",
       "    }\n",
       "</style>\n",
       "<table border=\"1\" class=\"dataframe\">\n",
       "  <thead>\n",
       "    <tr style=\"text-align: right;\">\n",
       "      <th></th>\n",
       "      <th>s1</th>\n",
       "      <th>s2</th>\n",
       "      <th>s3</th>\n",
       "      <th>s4</th>\n",
       "      <th>s5</th>\n",
       "    </tr>\n",
       "  </thead>\n",
       "  <tbody>\n",
       "    <tr>\n",
       "      <th>0</th>\n",
       "      <td>1</td>\n",
       "      <td>2.0</td>\n",
       "      <td>20.0</td>\n",
       "      <td>4.0</td>\n",
       "      <td>5</td>\n",
       "    </tr>\n",
       "    <tr>\n",
       "      <th>1</th>\n",
       "      <td>1</td>\n",
       "      <td>NaN</td>\n",
       "      <td>3.0</td>\n",
       "      <td>4.0</td>\n",
       "      <td>5</td>\n",
       "    </tr>\n",
       "    <tr>\n",
       "      <th>2</th>\n",
       "      <td>1</td>\n",
       "      <td>2.0</td>\n",
       "      <td>3.0</td>\n",
       "      <td>NaN</td>\n",
       "      <td>5</td>\n",
       "    </tr>\n",
       "  </tbody>\n",
       "</table>\n",
       "</div>"
      ],
      "text/plain": [
       "   s1   s2    s3   s4  s5\n",
       "0   1  2.0  20.0  4.0   5\n",
       "1   1  NaN   3.0  4.0   5\n",
       "2   1  2.0   3.0  NaN   5"
      ]
     },
     "execution_count": 76,
     "metadata": {},
     "output_type": "execute_result"
    }
   ],
   "source": [
    "df"
   ]
  },
  {
   "cell_type": "code",
   "execution_count": 79,
   "metadata": {},
   "outputs": [
    {
     "name": "stderr",
     "output_type": "stream",
     "text": [
      "C:\\Users\\Owner\\AppData\\Local\\Temp\\ipykernel_5064\\3673297803.py:1: FutureWarning: DataFrame.fillna with 'method' is deprecated and will raise in a future version. Use obj.ffill() or obj.bfill() instead.\n",
      "  df.fillna(method = 'bfill')\n"
     ]
    },
    {
     "data": {
      "text/html": [
       "<div>\n",
       "<style scoped>\n",
       "    .dataframe tbody tr th:only-of-type {\n",
       "        vertical-align: middle;\n",
       "    }\n",
       "\n",
       "    .dataframe tbody tr th {\n",
       "        vertical-align: top;\n",
       "    }\n",
       "\n",
       "    .dataframe thead th {\n",
       "        text-align: right;\n",
       "    }\n",
       "</style>\n",
       "<table border=\"1\" class=\"dataframe\">\n",
       "  <thead>\n",
       "    <tr style=\"text-align: right;\">\n",
       "      <th></th>\n",
       "      <th>s1</th>\n",
       "      <th>s2</th>\n",
       "      <th>s3</th>\n",
       "      <th>s4</th>\n",
       "      <th>s5</th>\n",
       "    </tr>\n",
       "  </thead>\n",
       "  <tbody>\n",
       "    <tr>\n",
       "      <th>0</th>\n",
       "      <td>1</td>\n",
       "      <td>2.0</td>\n",
       "      <td>20.0</td>\n",
       "      <td>4.0</td>\n",
       "      <td>5</td>\n",
       "    </tr>\n",
       "    <tr>\n",
       "      <th>1</th>\n",
       "      <td>1</td>\n",
       "      <td>2.0</td>\n",
       "      <td>3.0</td>\n",
       "      <td>4.0</td>\n",
       "      <td>5</td>\n",
       "    </tr>\n",
       "    <tr>\n",
       "      <th>2</th>\n",
       "      <td>1</td>\n",
       "      <td>2.0</td>\n",
       "      <td>3.0</td>\n",
       "      <td>NaN</td>\n",
       "      <td>5</td>\n",
       "    </tr>\n",
       "  </tbody>\n",
       "</table>\n",
       "</div>"
      ],
      "text/plain": [
       "   s1   s2    s3   s4  s5\n",
       "0   1  2.0  20.0  4.0   5\n",
       "1   1  2.0   3.0  4.0   5\n",
       "2   1  2.0   3.0  NaN   5"
      ]
     },
     "execution_count": 79,
     "metadata": {},
     "output_type": "execute_result"
    }
   ],
   "source": [
    "df.fillna(method = 'bfill')"
   ]
  },
  {
   "cell_type": "markdown",
   "metadata": {},
   "source": [
    "#### 데이터프레임의 필터링\n",
    "- 데이터프레임명.loc[ 인덱스의 조건, 컬럼의 조건 ]\n",
    "    - 인덱스의 값을 기준으로 필터\n",
    "    - 컬럼의 값을 기준으로 필터\n",
    "\n",
    "- 데이터프레임명.iloc[ 인덱스의 위치, 컬럼의 위치 ]\n",
    "    - 인덱스의 위치를 기준으로 필터\n",
    "    - 컬럼의 위치를 기준으로 필터\n",
    "    \n",
    "- 데이터프레임명[컬럼명]\n",
    "    - 특정 컬럼의 데이터를 확인\n",
    "    - 결과가 Series 출력\n",
    "\n",
    "- 데이터프레임명[ [ 컬럼명 ] ]\n",
    "    - 특정 컬럼의 데이터를 확인\n",
    "    - 결과가 DataFrame으로 출력"
   ]
  },
  {
   "cell_type": "code",
   "execution_count": 81,
   "metadata": {},
   "outputs": [
    {
     "data": {
      "text/html": [
       "<div>\n",
       "<style scoped>\n",
       "    .dataframe tbody tr th:only-of-type {\n",
       "        vertical-align: middle;\n",
       "    }\n",
       "\n",
       "    .dataframe tbody tr th {\n",
       "        vertical-align: top;\n",
       "    }\n",
       "\n",
       "    .dataframe thead th {\n",
       "        text-align: right;\n",
       "    }\n",
       "</style>\n",
       "<table border=\"1\" class=\"dataframe\">\n",
       "  <thead>\n",
       "    <tr style=\"text-align: right;\">\n",
       "      <th></th>\n",
       "      <th>a</th>\n",
       "      <th>b</th>\n",
       "      <th>c</th>\n",
       "    </tr>\n",
       "  </thead>\n",
       "  <tbody>\n",
       "    <tr>\n",
       "      <th>1</th>\n",
       "      <td>1</td>\n",
       "      <td>2</td>\n",
       "      <td>3</td>\n",
       "    </tr>\n",
       "    <tr>\n",
       "      <th>4</th>\n",
       "      <td>4</td>\n",
       "      <td>5</td>\n",
       "      <td>6</td>\n",
       "    </tr>\n",
       "    <tr>\n",
       "      <th>7</th>\n",
       "      <td>7</td>\n",
       "      <td>8</td>\n",
       "      <td>9</td>\n",
       "    </tr>\n",
       "  </tbody>\n",
       "</table>\n",
       "</div>"
      ],
      "text/plain": [
       "   a  b  c\n",
       "1  1  2  3\n",
       "4  4  5  6\n",
       "7  7  8  9"
      ]
     },
     "execution_count": 81,
     "metadata": {},
     "output_type": "execute_result"
    }
   ],
   "source": [
    "data = [\n",
    "    [1,2,3],\n",
    "    [4,5,6],\n",
    "    [7,8,9]\n",
    "]\n",
    "index = [1,4,7]\n",
    "col = ['a','b','c']\n",
    "df = pd.DataFrame(data,index=index,columns = col)\n",
    "df"
   ]
  },
  {
   "cell_type": "code",
   "execution_count": null,
   "metadata": {},
   "outputs": [
    {
     "data": {
      "text/html": [
       "<div>\n",
       "<style scoped>\n",
       "    .dataframe tbody tr th:only-of-type {\n",
       "        vertical-align: middle;\n",
       "    }\n",
       "\n",
       "    .dataframe tbody tr th {\n",
       "        vertical-align: top;\n",
       "    }\n",
       "\n",
       "    .dataframe thead th {\n",
       "        text-align: right;\n",
       "    }\n",
       "</style>\n",
       "<table border=\"1\" class=\"dataframe\">\n",
       "  <thead>\n",
       "    <tr style=\"text-align: right;\">\n",
       "      <th></th>\n",
       "      <th>a</th>\n",
       "      <th>b</th>\n",
       "      <th>c</th>\n",
       "    </tr>\n",
       "  </thead>\n",
       "  <tbody>\n",
       "    <tr>\n",
       "      <th>4</th>\n",
       "      <td>4</td>\n",
       "      <td>5</td>\n",
       "      <td>6</td>\n",
       "    </tr>\n",
       "  </tbody>\n",
       "</table>\n",
       "</div>"
      ],
      "text/plain": [
       "   a  b  c\n",
       "4  4  5  6"
      ]
     },
     "execution_count": 90,
     "metadata": {},
     "output_type": "execute_result"
    }
   ],
   "source": [
    "#loc 인덱스의 조건\n",
    "df.loc[ [4] ]"
   ]
  },
  {
   "cell_type": "code",
   "execution_count": 98,
   "metadata": {},
   "outputs": [
    {
     "data": {
      "text/plain": [
       "1    1\n",
       "4    4\n",
       "7    7\n",
       "Name: a, dtype: int64"
      ]
     },
     "execution_count": 98,
     "metadata": {},
     "output_type": "execute_result"
    }
   ],
   "source": [
    "#loc 컬럼의 조건\n",
    "df.loc[:,'a']"
   ]
  },
  {
   "cell_type": "code",
   "execution_count": 99,
   "metadata": {},
   "outputs": [
    {
     "data": {
      "text/plain": [
       "1    1\n",
       "4    4\n",
       "7    7\n",
       "Name: a, dtype: int64"
      ]
     },
     "execution_count": 99,
     "metadata": {},
     "output_type": "execute_result"
    }
   ],
   "source": [
    "df['a']"
   ]
  },
  {
   "cell_type": "code",
   "execution_count": 108,
   "metadata": {},
   "outputs": [
    {
     "data": {
      "text/html": [
       "<div>\n",
       "<style scoped>\n",
       "    .dataframe tbody tr th:only-of-type {\n",
       "        vertical-align: middle;\n",
       "    }\n",
       "\n",
       "    .dataframe tbody tr th {\n",
       "        vertical-align: top;\n",
       "    }\n",
       "\n",
       "    .dataframe thead th {\n",
       "        text-align: right;\n",
       "    }\n",
       "</style>\n",
       "<table border=\"1\" class=\"dataframe\">\n",
       "  <thead>\n",
       "    <tr style=\"text-align: right;\">\n",
       "      <th></th>\n",
       "      <th>a</th>\n",
       "      <th>b</th>\n",
       "      <th>c</th>\n",
       "    </tr>\n",
       "  </thead>\n",
       "  <tbody>\n",
       "    <tr>\n",
       "      <th>4</th>\n",
       "      <td>4</td>\n",
       "      <td>5</td>\n",
       "      <td>6</td>\n",
       "    </tr>\n",
       "    <tr>\n",
       "      <th>7</th>\n",
       "      <td>7</td>\n",
       "      <td>8</td>\n",
       "      <td>9</td>\n",
       "    </tr>\n",
       "  </tbody>\n",
       "</table>\n",
       "</div>"
      ],
      "text/plain": [
       "   a  b  c\n",
       "4  4  5  6\n",
       "7  7  8  9"
      ]
     },
     "execution_count": 108,
     "metadata": {},
     "output_type": "execute_result"
    }
   ],
   "source": [
    "#특정한 조건식에 맞춰서 데이터 필터\n",
    "#a 컬럼의 데이터들 중에 3보다 큰 데이터만 확인\n",
    "flag = df['a'] > 3\n",
    "df.loc[flag]"
   ]
  },
  {
   "cell_type": "code",
   "execution_count": 111,
   "metadata": {},
   "outputs": [
    {
     "data": {
      "text/html": [
       "<div>\n",
       "<style scoped>\n",
       "    .dataframe tbody tr th:only-of-type {\n",
       "        vertical-align: middle;\n",
       "    }\n",
       "\n",
       "    .dataframe tbody tr th {\n",
       "        vertical-align: top;\n",
       "    }\n",
       "\n",
       "    .dataframe thead th {\n",
       "        text-align: right;\n",
       "    }\n",
       "</style>\n",
       "<table border=\"1\" class=\"dataframe\">\n",
       "  <thead>\n",
       "    <tr style=\"text-align: right;\">\n",
       "      <th></th>\n",
       "      <th>c</th>\n",
       "    </tr>\n",
       "  </thead>\n",
       "  <tbody>\n",
       "    <tr>\n",
       "      <th>1</th>\n",
       "      <td>3</td>\n",
       "    </tr>\n",
       "    <tr>\n",
       "      <th>4</th>\n",
       "      <td>6</td>\n",
       "    </tr>\n",
       "    <tr>\n",
       "      <th>7</th>\n",
       "      <td>9</td>\n",
       "    </tr>\n",
       "  </tbody>\n",
       "</table>\n",
       "</div>"
      ],
      "text/plain": [
       "   c\n",
       "1  3\n",
       "4  6\n",
       "7  9"
      ]
     },
     "execution_count": 111,
     "metadata": {},
     "output_type": "execute_result"
    }
   ],
   "source": [
    "#특정한 조건식에 맞춰 컬럼 필터\n",
    "#index 7에 데이터 중 8보다 큰 컬럼의 데이터 확인\n",
    "flag2 = df.loc[7] > 8\n",
    "df.loc[:,flag2]"
   ]
  },
  {
   "cell_type": "code",
   "execution_count": 112,
   "metadata": {},
   "outputs": [
    {
     "data": {
      "text/html": [
       "<div>\n",
       "<style scoped>\n",
       "    .dataframe tbody tr th:only-of-type {\n",
       "        vertical-align: middle;\n",
       "    }\n",
       "\n",
       "    .dataframe tbody tr th {\n",
       "        vertical-align: top;\n",
       "    }\n",
       "\n",
       "    .dataframe thead th {\n",
       "        text-align: right;\n",
       "    }\n",
       "</style>\n",
       "<table border=\"1\" class=\"dataframe\">\n",
       "  <thead>\n",
       "    <tr style=\"text-align: right;\">\n",
       "      <th></th>\n",
       "      <th>c</th>\n",
       "    </tr>\n",
       "  </thead>\n",
       "  <tbody>\n",
       "    <tr>\n",
       "      <th>4</th>\n",
       "      <td>6</td>\n",
       "    </tr>\n",
       "    <tr>\n",
       "      <th>7</th>\n",
       "      <td>9</td>\n",
       "    </tr>\n",
       "  </tbody>\n",
       "</table>\n",
       "</div>"
      ],
      "text/plain": [
       "   c\n",
       "4  6\n",
       "7  9"
      ]
     },
     "execution_count": 112,
     "metadata": {},
     "output_type": "execute_result"
    }
   ],
   "source": [
    "df.loc[flag,flag2]"
   ]
  },
  {
   "cell_type": "code",
   "execution_count": 113,
   "metadata": {},
   "outputs": [
    {
     "data": {
      "text/plain": [
       "a    4\n",
       "b    5\n",
       "c    6\n",
       "Name: 4, dtype: int64"
      ]
     },
     "execution_count": 113,
     "metadata": {},
     "output_type": "execute_result"
    }
   ],
   "source": [
    "#iloc 인덱스의 조건\n",
    "df.iloc[1]"
   ]
  },
  {
   "cell_type": "code",
   "execution_count": null,
   "metadata": {},
   "outputs": [
    {
     "data": {
      "text/html": [
       "<div>\n",
       "<style scoped>\n",
       "    .dataframe tbody tr th:only-of-type {\n",
       "        vertical-align: middle;\n",
       "    }\n",
       "\n",
       "    .dataframe tbody tr th {\n",
       "        vertical-align: top;\n",
       "    }\n",
       "\n",
       "    .dataframe thead th {\n",
       "        text-align: right;\n",
       "    }\n",
       "</style>\n",
       "<table border=\"1\" class=\"dataframe\">\n",
       "  <thead>\n",
       "    <tr style=\"text-align: right;\">\n",
       "      <th></th>\n",
       "      <th>a</th>\n",
       "      <th>b</th>\n",
       "      <th>c</th>\n",
       "    </tr>\n",
       "  </thead>\n",
       "  <tbody>\n",
       "    <tr>\n",
       "      <th>4</th>\n",
       "      <td>4</td>\n",
       "      <td>5</td>\n",
       "      <td>6</td>\n",
       "    </tr>\n",
       "  </tbody>\n",
       "</table>\n",
       "</div>"
      ],
      "text/plain": [
       "   a  b  c\n",
       "4  4  5  6"
      ]
     },
     "execution_count": 119,
     "metadata": {},
     "output_type": "execute_result"
    }
   ],
   "source": [
    "#iloc 인덱스 기준 (위치)\n",
    "df.iloc[[1]]"
   ]
  },
  {
   "cell_type": "code",
   "execution_count": null,
   "metadata": {},
   "outputs": [
    {
     "data": {
      "text/html": [
       "<div>\n",
       "<style scoped>\n",
       "    .dataframe tbody tr th:only-of-type {\n",
       "        vertical-align: middle;\n",
       "    }\n",
       "\n",
       "    .dataframe tbody tr th {\n",
       "        vertical-align: top;\n",
       "    }\n",
       "\n",
       "    .dataframe thead th {\n",
       "        text-align: right;\n",
       "    }\n",
       "</style>\n",
       "<table border=\"1\" class=\"dataframe\">\n",
       "  <thead>\n",
       "    <tr style=\"text-align: right;\">\n",
       "      <th></th>\n",
       "      <th>c</th>\n",
       "    </tr>\n",
       "  </thead>\n",
       "  <tbody>\n",
       "    <tr>\n",
       "      <th>1</th>\n",
       "      <td>3</td>\n",
       "    </tr>\n",
       "    <tr>\n",
       "      <th>4</th>\n",
       "      <td>6</td>\n",
       "    </tr>\n",
       "    <tr>\n",
       "      <th>7</th>\n",
       "      <td>9</td>\n",
       "    </tr>\n",
       "  </tbody>\n",
       "</table>\n",
       "</div>"
      ],
      "text/plain": [
       "   c\n",
       "1  3\n",
       "4  6\n",
       "7  9"
      ]
     },
     "execution_count": 120,
     "metadata": {},
     "output_type": "execute_result"
    }
   ],
   "source": [
    "#iloc 컬럼 기준 (위치)\n",
    "df.iloc[ : ,[2]]"
   ]
  },
  {
   "cell_type": "code",
   "execution_count": 124,
   "metadata": {},
   "outputs": [
    {
     "data": {
      "text/html": [
       "<div>\n",
       "<style scoped>\n",
       "    .dataframe tbody tr th:only-of-type {\n",
       "        vertical-align: middle;\n",
       "    }\n",
       "\n",
       "    .dataframe tbody tr th {\n",
       "        vertical-align: top;\n",
       "    }\n",
       "\n",
       "    .dataframe thead th {\n",
       "        text-align: right;\n",
       "    }\n",
       "</style>\n",
       "<table border=\"1\" class=\"dataframe\">\n",
       "  <thead>\n",
       "    <tr style=\"text-align: right;\">\n",
       "      <th></th>\n",
       "      <th>a</th>\n",
       "      <th>b</th>\n",
       "      <th>c</th>\n",
       "    </tr>\n",
       "  </thead>\n",
       "  <tbody>\n",
       "    <tr>\n",
       "      <th>1</th>\n",
       "      <td>1</td>\n",
       "      <td>2</td>\n",
       "      <td>3</td>\n",
       "    </tr>\n",
       "    <tr>\n",
       "      <th>4</th>\n",
       "      <td>4</td>\n",
       "      <td>10</td>\n",
       "      <td>6</td>\n",
       "    </tr>\n",
       "    <tr>\n",
       "      <th>7</th>\n",
       "      <td>7</td>\n",
       "      <td>8</td>\n",
       "      <td>9</td>\n",
       "    </tr>\n",
       "  </tbody>\n",
       "</table>\n",
       "</div>"
      ],
      "text/plain": [
       "   a   b  c\n",
       "1  1   2  3\n",
       "4  4  10  6\n",
       "7  7   8  9"
      ]
     },
     "execution_count": 124,
     "metadata": {},
     "output_type": "execute_result"
    }
   ],
   "source": [
    "df.loc[4, 'b'] = 10\n",
    "df"
   ]
  }
 ],
 "metadata": {
  "kernelspec": {
   "display_name": "Python 3",
   "language": "python",
   "name": "python3"
  },
  "language_info": {
   "codemirror_mode": {
    "name": "ipython",
    "version": 3
   },
   "file_extension": ".py",
   "mimetype": "text/x-python",
   "name": "python",
   "nbconvert_exporter": "python",
   "pygments_lexer": "ipython3",
   "version": "3.13.1"
  }
 },
 "nbformat": 4,
 "nbformat_minor": 2
}
