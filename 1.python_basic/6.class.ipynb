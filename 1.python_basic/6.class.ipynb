{
 "cells": [
  {
   "cell_type": "markdown",
   "metadata": {},
   "source": [
    "### class 선언\n",
    "- class 이름은 User\n",
    "- 해당하는 클래스는 생성자 함수 생성\n",
    "    - 유저의 기본 정보를 변수에 등록하는 생성자 함수 (__init__)\n",
    "    - 매개변수 3개 (모두 문자열)\n",
    "        - _name : 유저의 이름\n",
    "        - _loc : 유저가 거주하는 지역\n",
    "        - _birth : 유저의 생년월일\n",
    "- user_info 함수 생성\n",
    "    - 등록된 객체 변수를 출력하는 함수\n",
    "\n",
    "- class 이름은 Wallet 클래스 선언\n",
    "    - 생성자 함수\n",
    "        - 매개변수 4개\n",
    "            - _name : 지갑 소유자 이름\n",
    "            - _loc : 유저 거주 지역\n",
    "            - _birth : 유저 생년월일\n",
    "            - _balance : 지갑 잔액\n",
    "        - work() 함수\n",
    "            - 매개변수 1개\n",
    "                - _cost : 금액\n",
    "            - 지갑의 잔액을 _cost만큼 증가\n",
    "        - buy() 함수\n",
    "            - 매개변수 1개\n",
    "                - _cost : 금액\n",
    "            - 지갑의 잔액을 _cost만큼 감소\n",
    "                - 조건 : 지갑의 잔액이 _cost보다 크거나 같은 경우에만"
   ]
  },
  {
   "cell_type": "code",
   "execution_count": null,
   "metadata": {},
   "outputs": [],
   "source": [
    "# class User:\n",
    "    \n",
    "#     def __init__(self, _name, _loc, _birth):\n",
    "#         self.name = _name\n",
    "#         self.loc = _loc\n",
    "#         self.birth = _birth\n",
    "    \n",
    "#     #유저 정보\n",
    "#     def user_info(self):\n",
    "#         print(f'''\n",
    "#               유저 이름 : {self.name}\n",
    "#               거주 지역 : {self.loc}\n",
    "#               생년월일 : {self.birth}\n",
    "#               ''')\n",
    "        \n",
    "        \n",
    "# class Wallet:\n",
    "    \n",
    "#     def __init__(self, _name, _loc, _birth, _balance = 0):\n",
    "#         self.name = _name\n",
    "#         self.loc = _loc\n",
    "#         self.birth = _birth\n",
    "#         self.balance = _balance\n",
    "        \n",
    "#     def work(self, _cost):\n",
    "#         self.balance += _cost\n",
    "#         print(f'현재 잔액은 {self.balance}입니다.')\n",
    "    \n",
    "#     def buy(self, _cost):\n",
    "#         if(self.balance < _cost):\n",
    "#             print('잔액이 부족합니다.')\n",
    "#             print(f'현재 잔액은 {self.balance}입니다.')\n",
    "#         else:\n",
    "#             self.balance -=_cost\n",
    "#             print(f'현재 잔액은 {self.balance}입니다.')\n",
    "        "
   ]
  },
  {
   "cell_type": "code",
   "execution_count": 29,
   "metadata": {},
   "outputs": [],
   "source": [
    "user1 = User('kjs','incheon','010120')"
   ]
  },
  {
   "cell_type": "code",
   "execution_count": 30,
   "metadata": {},
   "outputs": [
    {
     "name": "stdout",
     "output_type": "stream",
     "text": [
      "\n",
      "              유저 이름 : kjs\n",
      "              거주 지역 : incheon\n",
      "              생년월일 : 010120\n",
      "              \n"
     ]
    }
   ],
   "source": [
    "user1.user_info()"
   ]
  },
  {
   "cell_type": "code",
   "execution_count": 31,
   "metadata": {},
   "outputs": [],
   "source": [
    "wallet1 = Wallet('aaa','seoul','990101')"
   ]
  },
  {
   "cell_type": "code",
   "execution_count": 33,
   "metadata": {},
   "outputs": [
    {
     "name": "stdout",
     "output_type": "stream",
     "text": [
      "현재 잔액은 6000입니다.\n"
     ]
    }
   ],
   "source": [
    "wallet1.work(3000)"
   ]
  },
  {
   "cell_type": "code",
   "execution_count": 34,
   "metadata": {},
   "outputs": [
    {
     "name": "stdout",
     "output_type": "stream",
     "text": [
      "현재 잔액은 4000입니다.\n"
     ]
    }
   ],
   "source": [
    "wallet1.buy(2000)"
   ]
  },
  {
   "cell_type": "code",
   "execution_count": 47,
   "metadata": {},
   "outputs": [],
   "source": [
    "class User:\n",
    "    \n",
    "    def __init__(self, _name, _loc, _birth):\n",
    "        print('User class')\n",
    "        self.name = _name\n",
    "        self.loc = _loc\n",
    "        self.birth = _birth\n",
    "    \n",
    "    #유저 정보\n",
    "    def user_info(self):\n",
    "        print(f'''\n",
    "              유저 이름 : {self.name}\n",
    "              거주 지역 : {self.loc}\n",
    "              생년월일 : {self.birth}\n",
    "              ''')\n",
    "        \n",
    "        \n",
    "class Wallet(User):\n",
    "    \n",
    "    def __init__(self, _name, _loc, _birth, _balance = 0):\n",
    "        print('wallet class')\n",
    "        # self.name = _name\n",
    "        # self.loc = _loc\n",
    "        # self.birth = _birth\n",
    "        super().__init__(_name,_loc,_birth)\n",
    "        self.balance = _balance\n",
    "        \n",
    "    def work(self, _cost):\n",
    "        self.balance += _cost\n",
    "        print(f'현재 잔액은 {self.balance}입니다.')\n",
    "    \n",
    "    def buy(self, _cost):\n",
    "        if(self.balance < _cost):\n",
    "            print('잔액이 부족합니다.')\n",
    "            print(f'현재 잔액은 {self.balance}입니다.')\n",
    "        else:\n",
    "            self.balance -=_cost\n",
    "            print(f'현재 잔액은 {self.balance}입니다.')\n",
    "        "
   ]
  },
  {
   "cell_type": "code",
   "execution_count": 48,
   "metadata": {},
   "outputs": [
    {
     "name": "stdout",
     "output_type": "stream",
     "text": [
      "wallet class\n",
      "User class\n",
      "wallet class\n",
      "User class\n"
     ]
    }
   ],
   "source": [
    "wallet2 = Wallet('kim','busan','900101')\n",
    "wallet3 = Wallet('park','seoul','800101')"
   ]
  },
  {
   "cell_type": "code",
   "execution_count": 49,
   "metadata": {},
   "outputs": [
    {
     "name": "stdout",
     "output_type": "stream",
     "text": [
      "현재 잔액은 1000000입니다.\n"
     ]
    }
   ],
   "source": [
    "#지갑의 잔액을 증가\n",
    "wallet2.work(1000000)"
   ]
  },
  {
   "cell_type": "code",
   "execution_count": 50,
   "metadata": {},
   "outputs": [
    {
     "data": {
      "text/plain": [
       "0"
      ]
     },
     "execution_count": 50,
     "metadata": {},
     "output_type": "execute_result"
    }
   ],
   "source": [
    "wallet3.balance"
   ]
  },
  {
   "cell_type": "code",
   "execution_count": 51,
   "metadata": {},
   "outputs": [
    {
     "name": "stdout",
     "output_type": "stream",
     "text": [
      "현재 잔액은 500000입니다.\n"
     ]
    }
   ],
   "source": [
    "wallet2.buy(500000)"
   ]
  },
  {
   "cell_type": "code",
   "execution_count": 52,
   "metadata": {},
   "outputs": [
    {
     "name": "stdout",
     "output_type": "stream",
     "text": [
      "잔액이 부족합니다.\n",
      "현재 잔액은 0입니다.\n"
     ]
    }
   ],
   "source": [
    "wallet3.buy(100000)"
   ]
  },
  {
   "cell_type": "code",
   "execution_count": 60,
   "metadata": {},
   "outputs": [],
   "source": [
    "#shopping 클래스\n",
    "#구매한 물품 리스트를 만들어주겠다.\n",
    "#wallet, user 클래스 기능을 상속받을 것이다.\n",
    "#item_list[]\n",
    "class Shopping(Wallet):\n",
    "    #구매를 성공한 물품만 저장\n",
    "    def __init__(self,_name,_loc,_birth,_balance=0):\n",
    "        print(\"Shoppnig class\")\n",
    "        #부모 클래스 생성자 호출\n",
    "        super().__init__(_name,_loc,_birth,_balance)\n",
    "        #구매한 물품의 목록을 추가하기 위한 변수 리스트 생성\n",
    "        self.item_list = []\n",
    "    \n",
    "    #물건을 구매 시도 후 성공하면 물품의 이름을 아이텀 리스트에 추가\n",
    "    #물건을 선택 -> 물건의 이름 입력\n",
    "    #비용 지불 -> 지갑 잔액 차감 -> wallet에 buy()\n",
    "    #구매에 성공하면 item_list에 이름 추가\n",
    "    #실패한다면 아무 행동도 하지 않는다.\n",
    "    def buy_item(self, item_name, item_cost):\n",
    "        #현재 지갑의 잔액을 변수에 저장\n",
    "        before = self.balance\n",
    "        \n",
    "        #wallet 클래스에 buy함수 호출\n",
    "        super().buy(item_cost)\n",
    "        \n",
    "        #buy()함수 실행 이후 지갑의 잔액 비교\n",
    "        after = self.balance\n",
    "        \n",
    "        #함수 실행 전 잔액과 실행 후 잔액이 같지 않다면 구매 성공\n",
    "        #성공했다면 해당 물품의 이름을 아이템 리스트에 추가 .append\n",
    "        if before != after:\n",
    "            self.item_list.append(item_name)\n",
    "            print(f'{item_name} 구매에 성공했습니다.')\n",
    "            print(f'구매한 물품의 목록은 {self.item_list}\\n 입니다.')\n",
    "        else :\n",
    "            print(f\"{item_name}의 구매를 실패했습니다.\")"
   ]
  },
  {
   "cell_type": "code",
   "execution_count": 66,
   "metadata": {},
   "outputs": [
    {
     "name": "stdout",
     "output_type": "stream",
     "text": [
      "Shoppnig class\n",
      "wallet class\n",
      "User class\n",
      "Shoppnig class\n",
      "wallet class\n",
      "User class\n"
     ]
    }
   ],
   "source": [
    "item1 = Shopping('kim','busan','900101')\n",
    "item2 = Shopping('park','seoul','951010')"
   ]
  },
  {
   "cell_type": "code",
   "execution_count": 67,
   "metadata": {},
   "outputs": [
    {
     "name": "stdout",
     "output_type": "stream",
     "text": [
      "현재 잔액은 1000000입니다.\n",
      "현재 잔액은 5000000입니다.\n"
     ]
    }
   ],
   "source": [
    "#지갑 잔액 증가 시키기\n",
    "item1.work(1000000)\n",
    "item2.work(5000000)"
   ]
  },
  {
   "cell_type": "code",
   "execution_count": 68,
   "metadata": {},
   "outputs": [
    {
     "name": "stdout",
     "output_type": "stream",
     "text": [
      "현재 잔액은 4950000입니다.\n"
     ]
    }
   ],
   "source": [
    "item2.buy(50000)"
   ]
  },
  {
   "cell_type": "code",
   "execution_count": 70,
   "metadata": {},
   "outputs": [
    {
     "name": "stdout",
     "output_type": "stream",
     "text": [
      "\n",
      "              유저 이름 : kim\n",
      "              거주 지역 : busan\n",
      "              생년월일 : 900101\n",
      "              \n"
     ]
    }
   ],
   "source": [
    "item1.user_info()"
   ]
  },
  {
   "cell_type": "code",
   "execution_count": 79,
   "metadata": {},
   "outputs": [
    {
     "name": "stdout",
     "output_type": "stream",
     "text": [
      "현재 잔액은 983800입니다.\n",
      "banana milk 구매에 성공했습니다.\n",
      "구매한 물품의 목록은 ['banana milk', 'banana milk', 'banana milk', 'banana milk', 'banana milk', 'banana milk', 'banana milk', 'banana milk', 'banana milk']\n",
      " 입니다.\n",
      "현재 잔액은 4944600입니다.\n",
      "strawberry milk 구매에 성공했습니다.\n",
      "구매한 물품의 목록은 ['strawberry milk', 'strawberry milk', 'strawberry milk']\n",
      " 입니다.\n"
     ]
    }
   ],
   "source": [
    "item1.buy_item('banana milk',1800)\n",
    "item2.buy_item('strawberry milk',1800)"
   ]
  },
  {
   "cell_type": "code",
   "execution_count": 80,
   "metadata": {},
   "outputs": [
    {
     "name": "stdout",
     "output_type": "stream",
     "text": [
      "잔액이 부족합니다.\n",
      "현재 잔액은 4944600입니다.\n",
      "macstudio의 구매를 실패했습니다.\n"
     ]
    }
   ],
   "source": [
    "item2.buy_item('macstudio',115000000)"
   ]
  },
  {
   "cell_type": "code",
   "execution_count": 81,
   "metadata": {},
   "outputs": [
    {
     "data": {
      "text/plain": [
       "4944600"
      ]
     },
     "execution_count": 81,
     "metadata": {},
     "output_type": "execute_result"
    }
   ],
   "source": [
    "item2.balance"
   ]
  }
 ],
 "metadata": {
  "kernelspec": {
   "display_name": "Python 3",
   "language": "python",
   "name": "python3"
  },
  "language_info": {
   "codemirror_mode": {
    "name": "ipython",
    "version": 3
   },
   "file_extension": ".py",
   "mimetype": "text/x-python",
   "name": "python",
   "nbconvert_exporter": "python",
   "pygments_lexer": "ipython3",
   "version": "3.13.1"
  }
 },
 "nbformat": 4,
 "nbformat_minor": 2
}
