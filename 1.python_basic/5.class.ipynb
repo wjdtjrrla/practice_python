{
 "cells": [
  {
   "cell_type": "code",
   "execution_count": 35,
   "metadata": {},
   "outputs": [],
   "source": [
    "#클래스 변수 존재하는 class 생성\n",
    "class Test:\n",
    "    #클래스 변수 생성\n",
    "    user_cnt = 0\n",
    "    user_list = []\n",
    "    \n",
    "    #생성자 함수 생성\n",
    "    def __init__(self,_name,_age):\n",
    "        self.name = _name\n",
    "        self.age = _age\n",
    "        #클래스 변수 user_list에 name을 추가\n",
    "        #클래스 변수 user_list = self.user_list\n",
    "        #self.user_list.append(_name)  <- 해당 방법은 클래스 변수를 변환시키기 적합하지 않음\n",
    "        #클래스 변수에 user_list에 추가하는 방법\n",
    "        Test.user_list.append(_name)\n",
    "        Test.user_cnt += 1\n",
    "        \n",
    "        \n",
    "    #클래스 내부의 self 변수들을 출력하는 함수\n",
    "    def user_info(self):\n",
    "        print(f\"이름은 {self.name}, 나이는 {self.age}\")\n",
    "    \n",
    "    #클래스 변수를 출력하는 함수\n",
    "    def users_info(slef):\n",
    "        print(f\"등록된 유저의 수는 {Test.user_cnt}\")\n",
    "        print(f'등록된 유저의 목록은 {Test.user_list}')"
   ]
  },
  {
   "cell_type": "code",
   "execution_count": 36,
   "metadata": {},
   "outputs": [
    {
     "name": "stdout",
     "output_type": "stream",
     "text": [
      "이름은 kjs, 나이는 20\n",
      "등록된 유저의 수는 2\n",
      "등록된 유저의 목록은 ['kjs', 'aaa']\n"
     ]
    }
   ],
   "source": [
    "#class 생성\n",
    "#__init__(self,_name,_age)함수가 호출\n",
    "#self -> user_1 값 (주소값)\n",
    "#name -> 'kjs' 대입\n",
    "#_age -> 20 대입\n",
    "#class가 생성되는 공간에 name 변수를 생성하여 'kjs' 저장\n",
    "#class가 생성되는 공간에 age 변수를 생성하여 20 대입\n",
    "#Test class 안에 존재하는 user_list클래스 변수에 'kjs'추가\n",
    "#user_list는 [] -> ['kjs']\n",
    "#Test class 안에 존재하는 user_cnt 클래스 변수를 1 증가\n",
    "#user_cnt 는 0 -> 1로 변경\n",
    "\n",
    "\n",
    "cl_1 = Test('kjs',20)\n",
    "cl_2 = Test('aaa',21)\n",
    "cl_1.user_info()\n",
    "\n",
    "#users_info()에 self 매개변수를 넣어주지 않아 생기는 오류 -> users_info(self)로 수정\n",
    "#TypeError: Test.users_info() takes 0 positional arguments but 1 was given\n",
    "cl_1.users_info()"
   ]
  },
  {
   "cell_type": "code",
   "execution_count": 37,
   "metadata": {},
   "outputs": [],
   "source": [
    "#__init__(self,_name,_age) 호출\n",
    "#self 에는 user_2(주소값)\n",
    "#_name 에는 'park' 대입\n",
    "#_age 에는 30 대입\n",
    "#class가 생성되는 공간 안에 name에 'park' 데이터를 저장\n",
    "#class가 생성되는 공간 안에 age에 30 데이터를 저장\n",
    "#Test class 안에 존재하는 클래스 변수 user_list에 'park' 추가\n",
    "#user_list는 ['kim'] --> user_list 는 ['kjs','park']\n",
    "#Test class 안에 존재하는 클래스 변수 user_cnt를 1 증가시킨다\n",
    "#user_cnt 는 1 --> user_cnt 는 2\n",
    "\n",
    "\n",
    "user_2 = Test('park',30)"
   ]
  },
  {
   "cell_type": "code",
   "execution_count": 38,
   "metadata": {},
   "outputs": [
    {
     "name": "stdout",
     "output_type": "stream",
     "text": [
      "이름은 park, 나이는 30\n",
      "등록된 유저의 수는 3\n",
      "등록된 유저의 목록은 ['kjs', 'aaa', 'park']\n"
     ]
    }
   ],
   "source": [
    "user_2.user_info()\n",
    "user_2.users_info()"
   ]
  },
  {
   "cell_type": "markdown",
   "metadata": {},
   "source": [
    "### 은행 계좌 class 하나 생성\n",
    "\n",
    "- 생성자 함수\n",
    "    - 이름 (문자)[str]\n",
    "        - name\n",
    "    - 종류[str]\n",
    "    (\n",
    "        '00','01' : 기본 (비대면, 대면),\n",
    "        '10','11' : 급여 통장,\n",
    "        '20','21' : 모임 통장\n",
    "    )\n",
    "        - type\n",
    "\n",
    "    - 잔액 (기본값 = 0)[int]\n",
    "        - cost\n",
    "    - 생년월일\n",
    "        - birth[str]\n",
    "    - 입출금 내역\n",
    "        - log\n",
    "\n",
    "\n",
    "- 함수 생성\n",
    "    - 입금\n",
    "        - 종류 (0 : 일반, 1 : 급여)\n",
    "            - type [int]\n",
    "        - 금액\n",
    "            - cost [int]\n",
    "        - 입금자명(기본값 \"\")\n",
    "            - s_name[str]\n",
    "        - 잔액에 금액을 합해서 잔액에 저장\n",
    "        - 종류, 금액, 입금자명을 리스트로 생성하여 입/출금 내역에 추가\n",
    "    \n",
    "    - 출금\n",
    "        - 종류 (0 : 현금, 1 : 이체)\n",
    "            - tpye[int]\n",
    "        - 금액\n",
    "            -cost[int]\n",
    "        - 사유 (기본값 : 0)\n",
    "            - why [str]\n",
    "\n",
    "        - 잔액에 금액을 빼서 잔액에 저장\n",
    "            - 조건문 : 현재 잔액이 금액보다 크거나 같을 경우만 실행\n",
    "                - 조건이 거짓이라면 한도 초과 메시지 출력 후 잔액 유지\n",
    "            - 종류, 금액, 사유를 리스트로 생성하여 입/출금 내역에 추가\n",
    "        - 내 통장의 정보를 출력하는 함수\n",
    "            - 이름, 종류, 잔액을 출력해주는 함수\n",
    "        - 입/출금 히스토리를 출력하는 함수\n",
    "            - 종류 (0: 전체 내역 확인, 1: 입금만, 2: 출금만)\n",
    "            - 종류에 따라 내역을 출력"
   ]
  },
  {
   "cell_type": "code",
   "execution_count": null,
   "metadata": {},
   "outputs": [],
   "source": [
    "class Bank:\n",
    "    #클래스 변수 생성 : 은행에 생성된 계좌의 수 확인\n",
    "    user_cnt = 0\n",
    "    #통장 종류의 코드 데이터 딕셔너리 생성\n",
    "    b_type = {\n",
    "        '00':'기본, 비대면',\n",
    "        '01':'기본, 대면',\n",
    "        '10':'급여, 비대면',\n",
    "        '11':'급여, 대면',\n",
    "        '20':'모임, 비대면',\n",
    "        '21':'모임, 대면'\n",
    "        }\n",
    "    \n",
    "    #생성자 함수\n",
    "    def __init__(\n",
    "        self,\n",
    "        _name,\n",
    "        _birth,\n",
    "        _type = \"00\",\n",
    "        _cost = 0\n",
    "    ):\n",
    "        self.name = _name\n",
    "        self.birth = _birth\n",
    "        self.type = _type\n",
    "        self.cost = _cost\n",
    "        self.log = []\n",
    "        \n",
    "    def view_info(self):\n",
    "        #class의 self 변수들을 출력\n",
    "        #name, birth, cost는 변수의 데이터를 그대로\n",
    "        #type은\n",
    "        #클래스 변수의 b_type의 데이터에서 대응이 되는 value출력\n",
    "        print(\n",
    "            f\"\"\"\n",
    "            계약자 이름 : {self.name}\\n\n",
    "            계약자 생년월일 : {self.birth}\\n\n",
    "            현재 잔액 : {self.cost}\\n\n",
    "            통장의 종류 : {Bank.b_type[self.type]}\n",
    "            \"\"\"\n",
    "        )\n",
    "        \n",
    "    #b_type 코드표에 코드를 추가하는 함수\n",
    "    #접근이 관리자인지 pwd를 통해 확인. 비교해서 접근 가능할 때만 코드 추가\n",
    "    #수정 추가 기능 -> 실무에서 이렇게 하면 '키값 중복시 수정할것인지' 물어봐야 함.\n",
    "    #_pwd, _code, _value 변수 \n",
    "    def update_code_book(self,_pwd,_code,_value):\n",
    "        #입력받은 pwd는 '1111'이라면 수정 허가\n",
    "        if(_pwd == '1111'):\n",
    "            Bank.b_type[_code] = _value\n",
    "            print('code_book이 업데이트 되었습니다.')\n",
    "            print(Bank.b_type)\n",
    "        else:\n",
    "            print('관리자 패스워드가 일치하지 않습니다.')\n",
    "    \n",
    "    #입금 함수 생성 -> 잔액 증가\n",
    "    def deposit(self,_cost,_type=0,_s_name=\"\"):\n",
    "        #self.cost를 _cost만큼 증가\n",
    "        self.cost += _cost\n",
    "        #입출금 내역 저장 -> log[종류, 입금금액, 입금자명]\n",
    "        log_data = [_type,_cost,_s_name]\n",
    "        self.log.append(log_data)\n",
    "        #입금 금액과 입금자, 총 잔액 출력\n",
    "        print(f\"\"\"\n",
    "              입금자 명 : {_s_name}\\n\n",
    "              입금 금액 : {_cost}\\n\n",
    "              현재 잔액 : {self.cost}\n",
    "              \"\"\"\n",
    "        )\n",
    "        \n",
    "    #출금 함수 생성 -> 잔액 감소\n",
    "    def withdrawl(self,_cost,_type=10,_why=\"\"):\n",
    "        #self.cost를 _cost만큼 감소\n",
    "        #기존 금액보다 출금 금액이 크면 '잔액 부족'\n",
    "        if (self.cost-_cost < 0):\n",
    "            print('잔액이 부족합니다.')\n",
    "            print(f'현재 잔액 : {self.cost}')\n",
    "        else:\n",
    "            self.cost -= _cost\n",
    "            #출금 내역 저장 -> log[종류, 출금 금액, 출금 이유]\n",
    "            log_data = [_type,_cost,_why]\n",
    "            self.log.append(log_data)\n",
    "            #출금 이유, 출금 금액, 총 잔액 출력\n",
    "            print(f\"\"\"\n",
    "              출금 이유 : {_why}\\n\n",
    "              출금 금액 : {_cost}\\n\n",
    "              현재 잔액 : {self.cost}\n",
    "              \"\"\"\n",
    "            )\n",
    "            \n",
    "    #로그를 출력하는 함수를 생성\n",
    "    #입/출금을 모두 출력, 입금만 출력, 출금만 출력 하는 하나의 함수 생성\n",
    "    # def view_log_data(self,type=''):\n",
    "    #     if(type==1):\n",
    "    #         #입금만 보여주기\n",
    "    #         for i in range(len(self.log)):\n",
    "    #             if len(str(self.log[i][0])) == 1:\n",
    "    #                 print(self.log[i])\n",
    "    #             else:\n",
    "    #                 continue\n",
    "    #     elif(type==2):\n",
    "    #         #출금만 보여주기\n",
    "    #         for i in range(len(self.log)):\n",
    "    #             if len(str(self.log[i][0])) == 2:\n",
    "    #                 print(self.log[i])\n",
    "    #             else:\n",
    "    #                 continue\n",
    "    #     else:\n",
    "    #         #모든 로그 보여주기\n",
    "    #         for i in range(len(self.log)):\n",
    "    #             print(self.log[i])\n",
    "    \n",
    "    \n",
    "    def view_log_data(self,type=''):\n",
    "        for i in range(len(self.log)):\n",
    "            if(type==1):\n",
    "                #입금만 보여주기\n",
    "                if len(str(self.log[i][0])) == 1:\n",
    "                    print(self.log[i])\n",
    "            elif(type==2):\n",
    "                #출금만 보여주기\n",
    "                if len(str(self.log[i][0])) == 2:\n",
    "                    print(self.log[i])\n",
    "            else:\n",
    "                #모든 로그 보여주기\n",
    "                print(self.log[i])\n",
    "    \n"
   ]
  },
  {
   "cell_type": "code",
   "execution_count": 301,
   "metadata": {},
   "outputs": [
    {
     "name": "stdout",
     "output_type": "stream",
     "text": [
      "\n",
      "            계약자 이름 : kim\n",
      "\n",
      "            계약자 생년월일 : 001010\n",
      "\n",
      "            현재 잔액 : 0\n",
      "\n",
      "            통장의 종류 : 기본, 비대면\n",
      "            \n"
     ]
    }
   ],
   "source": [
    "#class 생성\n",
    "bank_1 = Bank('kim','001010')\n",
    "bank_1.view_info()"
   ]
  },
  {
   "cell_type": "code",
   "execution_count": 312,
   "metadata": {},
   "outputs": [
    {
     "name": "stdout",
     "output_type": "stream",
     "text": [
      "[0, 3000, '나나']\n",
      "[0, 3000, '나나']\n",
      "[0, 3000, '나나']\n",
      "[0, 3000, '나나']\n",
      "[0, 3000, '나나']\n",
      "[0, 3000, '나나']\n",
      "[11, 1000, '저녁회식']\n",
      "[11, 1000, '저녁회식']\n",
      "[11, 1000, '저녁회식']\n",
      "[11, 1000, '저녁회식']\n"
     ]
    }
   ],
   "source": [
    "bank_1.view_log_data()"
   ]
  },
  {
   "cell_type": "code",
   "execution_count": 238,
   "metadata": {},
   "outputs": [
    {
     "name": "stdout",
     "output_type": "stream",
     "text": [
      "code_book이 업데이트 되었습니다.\n",
      "{'00': '기본, 비대면', '01': '기본, 대면', '10': '급여, 비대면', '11': '급여, 대면', '20': '모임, 비대면', '21': '모임, 대면', '30': '예금, 비대면'}\n",
      "관리자 패스워드가 일치하지 않습니다.\n"
     ]
    }
   ],
   "source": [
    "bank_1.update_code_book('1111','30','예금, 비대면')\n",
    "# print(Bank.b_type)\n",
    "bank_1.update_code_book('1234','31','예금, 대면')"
   ]
  },
  {
   "cell_type": "code",
   "execution_count": 307,
   "metadata": {},
   "outputs": [
    {
     "name": "stdout",
     "output_type": "stream",
     "text": [
      "\n",
      "              입금자 명 : 나나\n",
      "\n",
      "              입금 금액 : 3000\n",
      "\n",
      "              현재 잔액 : 18000\n",
      "              \n"
     ]
    },
    {
     "data": {
      "text/plain": [
       "[[0, 3000, '나나'],\n",
       " [0, 3000, '나나'],\n",
       " [0, 3000, '나나'],\n",
       " [0, 3000, '나나'],\n",
       " [0, 3000, '나나'],\n",
       " [0, 3000, '나나']]"
      ]
     },
     "execution_count": 307,
     "metadata": {},
     "output_type": "execute_result"
    }
   ],
   "source": [
    "#입금함수호출\n",
    "bank_1.deposit(3000, _s_name=\"나나\")\n",
    "bank_1.log"
   ]
  },
  {
   "cell_type": "code",
   "execution_count": 311,
   "metadata": {},
   "outputs": [
    {
     "name": "stdout",
     "output_type": "stream",
     "text": [
      "\n",
      "              출금 이유 : 저녁회식\n",
      "\n",
      "              출금 금액 : 1000\n",
      "\n",
      "              현재 잔액 : 14000\n",
      "              \n"
     ]
    },
    {
     "data": {
      "text/plain": [
       "[[0, 3000, '나나'],\n",
       " [0, 3000, '나나'],\n",
       " [0, 3000, '나나'],\n",
       " [0, 3000, '나나'],\n",
       " [0, 3000, '나나'],\n",
       " [0, 3000, '나나'],\n",
       " [11, 1000, '저녁회식'],\n",
       " [11, 1000, '저녁회식'],\n",
       " [11, 1000, '저녁회식'],\n",
       " [11, 1000, '저녁회식']]"
      ]
     },
     "execution_count": 311,
     "metadata": {},
     "output_type": "execute_result"
    }
   ],
   "source": [
    "#출금 함수 호출\n",
    "bank_1.withdrawl(1000,_type=11,_why=\"저녁회식\")\n",
    "bank_1.log"
   ]
  },
  {
   "cell_type": "code",
   "execution_count": 1,
   "metadata": {},
   "outputs": [],
   "source": [
    "#상속 --> 클래스가 클래스의 기능을 물려받아서 사용\n",
    "class A:\n",
    "    def __init__(self,_name):\n",
    "        self.name = _name\n",
    "        \n",
    "    def view_name(self):\n",
    "        print(f'이름은 {self.name} 입니다.')\n",
    "        \n",
    "#B클래스는 A클래스의 기능을 상속받아 사용\n",
    "class B(A):\n",
    "    def __init__(self,_name,_age):\n",
    "        #함수에 _name의 값을 받아오는 곳에 부모 클래스의 생성자함수를 실행한다.\n",
    "        #부모클래스에 있는 생성자 함수(__init__)에 인자값은 _name으로 호출\n",
    "        super().__init__(_name)\n",
    "        self.age = _age\n",
    "        \n",
    "    def view_age(self):\n",
    "        print(self.age)\n",
    "        \n",
    "    def view_name(self):\n",
    "        print(f'이름은 {self.name}이고 나이는 {self.age}입니다')"
   ]
  },
  {
   "cell_type": "code",
   "execution_count": 2,
   "metadata": {},
   "outputs": [],
   "source": [
    "a = A('kim')\n",
    "c = B('kim',20)"
   ]
  },
  {
   "cell_type": "code",
   "execution_count": 3,
   "metadata": {},
   "outputs": [
    {
     "name": "stdout",
     "output_type": "stream",
     "text": [
      "이름은 kim 입니다.\n",
      "이름은 kim이고 나이는 20입니다\n"
     ]
    }
   ],
   "source": [
    "a.view_name()\n",
    "c.view_name()"
   ]
  },
  {
   "cell_type": "code",
   "execution_count": 393,
   "metadata": {},
   "outputs": [],
   "source": [
    "class InplaceTest:\n",
    "    def __init__(self, _num):\n",
    "        self.num = _num\n",
    "        \n",
    "    def add_num(self, other_num, Inplace = False):\n",
    "        # print(self.num + other_num)\n",
    "        if Inplace:\n",
    "            self.num += other_num\n",
    "        else:\n",
    "            return(self.num + other_num)"
   ]
  },
  {
   "cell_type": "code",
   "execution_count": 403,
   "metadata": {},
   "outputs": [],
   "source": [
    "in_test = InplaceTest(10)"
   ]
  },
  {
   "cell_type": "code",
   "execution_count": 404,
   "metadata": {},
   "outputs": [],
   "source": [
    "InplaceTest.num = in_test.add_num(5)"
   ]
  },
  {
   "cell_type": "code",
   "execution_count": 405,
   "metadata": {},
   "outputs": [
    {
     "name": "stdout",
     "output_type": "stream",
     "text": [
      "15\n"
     ]
    }
   ],
   "source": [
    "print(InplaceTest.num)"
   ]
  },
  {
   "cell_type": "code",
   "execution_count": 406,
   "metadata": {},
   "outputs": [
    {
     "name": "stdout",
     "output_type": "stream",
     "text": [
      "15\n"
     ]
    }
   ],
   "source": [
    "InplaceTest.num = in_test.add_num(5)\n",
    "print(InplaceTest.num)"
   ]
  },
  {
   "cell_type": "code",
   "execution_count": null,
   "metadata": {},
   "outputs": [
    {
     "ename": "TypeError",
     "evalue": "InplaceTest.add_num() got an unexpected keyword argument 'inplace'. Did you mean 'Inplace'?",
     "output_type": "error",
     "traceback": [
      "\u001b[1;31m---------------------------------------------------------------------------\u001b[0m",
      "\u001b[1;31mTypeError\u001b[0m                                 Traceback (most recent call last)",
      "Cell \u001b[1;32mIn[408], line 1\u001b[0m\n\u001b[1;32m----> 1\u001b[0m \u001b[43mInplaceTest\u001b[49m\u001b[38;5;241;43m.\u001b[39;49m\u001b[43madd_num\u001b[49m\u001b[43m(\u001b[49m\u001b[38;5;241;43m-\u001b[39;49m\u001b[38;5;241;43m8\u001b[39;49m\u001b[43m,\u001b[49m\u001b[43minplace\u001b[49m\u001b[38;5;241;43m=\u001b[39;49m\u001b[38;5;28;43;01mTrue\u001b[39;49;00m\u001b[43m)\u001b[49m\n",
      "\u001b[1;31mTypeError\u001b[0m: InplaceTest.add_num() got an unexpected keyword argument 'inplace'. Did you mean 'Inplace'?"
     ]
    }
   ],
   "source": []
  }
 ],
 "metadata": {
  "kernelspec": {
   "display_name": "Python 3",
   "language": "python",
   "name": "python3"
  },
  "language_info": {
   "codemirror_mode": {
    "name": "ipython",
    "version": 3
   },
   "file_extension": ".py",
   "mimetype": "text/x-python",
   "name": "python",
   "nbconvert_exporter": "python",
   "pygments_lexer": "ipython3",
   "version": "3.13.1"
  }
 },
 "nbformat": 4,
 "nbformat_minor": 2
}
