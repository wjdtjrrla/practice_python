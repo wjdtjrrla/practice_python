{
 "cells": [
  {
   "cell_type": "markdown",
   "metadata": {
    "id": "AL1Jbx7txOcd"
   },
   "source": [
    "# 문제1\n",
    "- 반복문을 이용하여 구구단을 구구단을 출력하시오"
   ]
  },
  {
   "cell_type": "code",
   "execution_count": null,
   "metadata": {
    "colab": {
     "base_uri": "https://localhost:8080/"
    },
    "executionInfo": {
     "elapsed": 18,
     "status": "ok",
     "timestamp": 1742298282339,
     "user": {
      "displayName": "김정석",
      "userId": "12571149945141910060"
     },
     "user_tz": -540
    },
    "id": "mrYl4fZbxOch",
    "outputId": "ef6af3d0-90ad-486b-9506-665454d07886"
   },
   "outputs": [
    {
     "name": "stdout",
     "output_type": "stream",
     "text": [
      "1*1=1\t2*1=2\t3*1=3\t4*1=4\t5*1=5\t6*1=6\t7*1=7\t8*1=8\t9*1=9\t\n",
      "1*2=2\t2*2=4\t3*2=6\t4*2=8\t5*2=10\t6*2=12\t7*2=14\t8*2=16\t9*2=18\t\n",
      "1*3=3\t2*3=6\t3*3=9\t4*3=12\t5*3=15\t6*3=18\t7*3=21\t8*3=24\t9*3=27\t\n",
      "1*4=4\t2*4=8\t3*4=12\t4*4=16\t5*4=20\t6*4=24\t7*4=28\t8*4=32\t9*4=36\t\n",
      "1*5=5\t2*5=10\t3*5=15\t4*5=20\t5*5=25\t6*5=30\t7*5=35\t8*5=40\t9*5=45\t\n",
      "1*6=6\t2*6=12\t3*6=18\t4*6=24\t5*6=30\t6*6=36\t7*6=42\t8*6=48\t9*6=54\t\n",
      "1*7=7\t2*7=14\t3*7=21\t4*7=28\t5*7=35\t6*7=42\t7*7=49\t8*7=56\t9*7=63\t\n",
      "1*8=8\t2*8=16\t3*8=24\t4*8=32\t5*8=40\t6*8=48\t7*8=56\t8*8=64\t9*8=72\t\n",
      "1*9=9\t2*9=18\t3*9=27\t4*9=36\t5*9=45\t6*9=54\t7*9=63\t8*9=72\t9*9=81\t\n"
     ]
    }
   ],
   "source": [
    "for i in range(1,10):\n",
    "    for j in range(1,10):\n",
    "        print(f'{j}*{i}={i*j}',end='\\t')\n",
    "    print('')\n"
   ]
  },
  {
   "cell_type": "markdown",
   "metadata": {
    "id": "uWCL-PMXxOci"
   },
   "source": [
    "# 문제2\n",
    "- 두 개의 주사위의 합이 8인 모든 경우의 수를 출력하시오"
   ]
  },
  {
   "cell_type": "code",
   "execution_count": null,
   "metadata": {
    "colab": {
     "base_uri": "https://localhost:8080/"
    },
    "executionInfo": {
     "elapsed": 6,
     "status": "ok",
     "timestamp": 1742298285355,
     "user": {
      "displayName": "김정석",
      "userId": "12571149945141910060"
     },
     "user_tz": -540
    },
    "id": "9w00KhtvxOcj",
    "outputId": "09df8d93-29ef-43e3-dcf1-25d8470a3472"
   },
   "outputs": [
    {
     "name": "stdout",
     "output_type": "stream",
     "text": [
      "2 6\n",
      "3 5\n",
      "4 4\n",
      "5 3\n",
      "6 2\n",
      "두 개의 주사위의 합이 8인 경우의 수 : 5\n"
     ]
    }
   ],
   "source": [
    "cnt_8 = 0\n",
    "# 첫 번째 주사위\n",
    "for i in range(1,7)\n",
    "    # 두 번째 주사위\n",
    "    for j in range(1,7):\n",
    "        sum = i + j\n",
    "        if(sum == 8):\n",
    "            cnt_8 += 1\n",
    "            print(i, j)\n",
    "print(f'두 개의 주사위의 합이 8인 경우의 수 : {cnt_8}')\n",
    "\n"
   ]
  },
  {
   "cell_type": "markdown",
   "metadata": {
    "id": "ZDHQ75YOxOcj"
   },
   "source": [
    "# 문제3\n",
    "- 2부터 50까지의 숫자들중 소수를 리스트의 형태로 출력하시오\n",
    "    - 소수는 1과 자기 자신 외에는 나누어지지 않는 수이다.\n",
    "    - 2부터 50까지 반복을 하면서 2부터 시작하여 자기 자신의 -1 까지 나누어 나머지 값이 0 존재하지 않는 수들을 리스트에 담아서 출력하시오"
   ]
  },
  {
   "cell_type": "code",
   "execution_count": 134,
   "metadata": {
    "colab": {
     "base_uri": "https://localhost:8080/"
    },
    "executionInfo": {
     "elapsed": 15,
     "status": "ok",
     "timestamp": 1742305390682,
     "user": {
      "displayName": "김정석",
      "userId": "12571149945141910060"
     },
     "user_tz": -540
    },
    "id": "PniF9EPBxOck",
    "outputId": "39d60513-ba2a-412f-af74-debfc2f8738a"
   },
   "outputs": [
    {
     "data": {
      "text/plain": [
       "[2, 3, 5, 7, 11, 13, 17, 19, 23, 29, 31, 37, 41, 43, 47]"
      ]
     },
     "execution_count": 134,
     "metadata": {},
     "output_type": "execute_result"
    }
   ],
   "source": [
    "sosu = []\n",
    "\n",
    "for i in range(2,51):\n",
    "    zero_cnt=0\n",
    "    for j in range(2,i):\n",
    "        if i % j == 0:\n",
    "            zero_cnt += 1\n",
    "    if zero_cnt == 0:\n",
    "        sosu.append(i)\n",
    "sosu"
   ]
  },
  {
   "cell_type": "markdown",
   "metadata": {
    "id": "upzE16uLxOck"
   },
   "source": [
    "# 문제4\n",
    "- +,-를 번갈아가면서 출력하시오\n",
    "- input를 이용하여 받은 총 출력 횟수를 이용하여 +-를 반복하여 줄 바꿈 없이 한줄로 출력하시오\n",
    "    - 예시) 입력값 : 5 , 출력 : +-+-+"
   ]
  },
  {
   "cell_type": "code",
   "execution_count": null,
   "metadata": {
    "colab": {
     "base_uri": "https://localhost:8080/"
    },
    "executionInfo": {
     "elapsed": 11444,
     "status": "ok",
     "timestamp": 1742298301913,
     "user": {
      "displayName": "김정석",
      "userId": "12571149945141910060"
     },
     "user_tz": -540
    },
    "id": "V5lra44dxOck",
    "outputId": "8212d940-1c7d-4fd8-9b46-47a344ef8635"
   },
   "outputs": [
    {
     "name": "stdout",
     "output_type": "stream",
     "text": [
      "총 출력할 횟수를 입력하시오 : 7\n"
     ]
    }
   ],
   "source": [
    "# 7입력\n",
    "n = int(input('총 출력할 횟수를 입력하시오 : '))"
   ]
  },
  {
   "cell_type": "code",
   "execution_count": null,
   "metadata": {
    "colab": {
     "base_uri": "https://localhost:8080/"
    },
    "executionInfo": {
     "elapsed": 24,
     "status": "ok",
     "timestamp": 1742298303606,
     "user": {
      "displayName": "김정석",
      "userId": "12571149945141910060"
     },
     "user_tz": -540
    },
    "id": "0alHRy9rxOcl",
    "outputId": "0f8186f6-c634-4ffd-abde-231050c5d045"
   },
   "outputs": [
    {
     "name": "stdout",
     "output_type": "stream",
     "text": [
      "+-+-+-+"
     ]
    }
   ],
   "source": [
    "for i in range(1,n+1):\n",
    "    # 홀수면 ?\n",
    "    if i % 2 != 0:\n",
    "        print('+',end='')\n",
    "    # 짝수면 ?\n",
    "    if i % 2 == 0:\n",
    "        print('-',end='')"
   ]
  },
  {
   "cell_type": "markdown",
   "metadata": {
    "id": "E3Mm_i23xOcl"
   },
   "source": [
    "# 문제5\n",
    "- 중복된 문자열을 제거하시오\n",
    "- Level_Text라는 문자열에서 중복이 되고 있는 문자열을 제거하고 새로운 문자열을 생성하라\n",
    "- 입력 값 : Level_Test , 출력 값 : Levl_Tst"
   ]
  },
  {
   "cell_type": "code",
   "execution_count": null,
   "metadata": {
    "id": "1GgSA740xOcl"
   },
   "outputs": [],
   "source": [
    "text = \"Level_Test\"\n",
    "\n"
   ]
  },
  {
   "cell_type": "markdown",
   "metadata": {
    "id": "EoLle_r-xOcm"
   },
   "source": [
    "# 문제6\n",
    "- 숫자형 데이터를 반대로 뒤집어서 출력하는 함수를 생성하시오\n",
    "- 음수형 데이터도 적용이 가능하도록 코드를 작성하시오\n",
    "- 예시)\n",
    "    - 입력값 : 12345, 출력값 : 54321\n",
    "    - 입력값 : -9876, 출력값 : -6789"
   ]
  },
  {
   "cell_type": "code",
   "execution_count": 128,
   "metadata": {
    "executionInfo": {
     "elapsed": 7,
     "status": "ok",
     "timestamp": 1742305008103,
     "user": {
      "displayName": "김정석",
      "userId": "12571149945141910060"
     },
     "user_tz": -540
    },
    "id": "e4i75T9kxOcm"
   },
   "outputs": [],
   "source": [
    "def reverce_num(_num):\n",
    "    num = str(_num)\n",
    "    result =''\n",
    "    if _num < 0:\n",
    "        print('-',end='')\n",
    "    for i in range(len(num)-1,-1,-1):\n",
    "        if num[i] == '-':\n",
    "            break\n",
    "        result += num[i]\n",
    "    return result"
   ]
  },
  {
   "cell_type": "code",
   "execution_count": 129,
   "metadata": {
    "colab": {
     "base_uri": "https://localhost:8080/"
    },
    "executionInfo": {
     "elapsed": 16,
     "status": "ok",
     "timestamp": 1742305009344,
     "user": {
      "displayName": "김정석",
      "userId": "12571149945141910060"
     },
     "user_tz": -540
    },
    "id": "4Z5WACQWxOcm",
    "outputId": "590c813e-4a44-4766-fe2d-7552f4d1401a"
   },
   "outputs": [
    {
     "name": "stdout",
     "output_type": "stream",
     "text": [
      "54321\n",
      "-6789\n"
     ]
    }
   ],
   "source": [
    "print(reverce_num(12345))\n",
    "print(reverce_num(-9876))"
   ]
  },
  {
   "cell_type": "markdown",
   "metadata": {
    "id": "oiQAmC_IxOcn"
   },
   "source": [
    "# 문제7\n",
    "- 특정 숫자를 입력하면 2진수로 변환을 하는 함수를 생성하시오\n",
    "- 매개변수는 1개로 함수 호출 시 인자 값을 2진수로 변환하여 되돌려주는 함수를 생성하시오\n",
    "- 인자 값이 0인 경우에는 0을 되돌려주고 양수인 경우와 음수인 경우를 모두 생각해서 함수를 구성하시오"
   ]
  },
  {
   "cell_type": "code",
   "execution_count": 106,
   "metadata": {
    "executionInfo": {
     "elapsed": 4,
     "status": "ok",
     "timestamp": 1742304222836,
     "user": {
      "displayName": "김정석",
      "userId": "12571149945141910060"
     },
     "user_tz": -540
    },
    "id": "Xa7hWeS8S2lG"
   },
   "outputs": [],
   "source": [
    "  def binary(num):\n",
    "      if num == 0:\n",
    "          return '0'\n",
    "      #양수\n",
    "      result = ''\n",
    "      if num > 0:\n",
    "          while num > 0:\n",
    "              remain = num % 2\n",
    "              result = str(remain) + result\n",
    "              num = num // 2\n",
    "          return result\n",
    "      #음수\n",
    "      else:\n",
    "          num = -num  # 절댓값 변환\n",
    "          while num > 0:\n",
    "              remain = num % 2\n",
    "              result = str(remain) + result\n",
    "              num = num // 2\n",
    "\n",
    "          # 1의 보수\n",
    "          ones = result.replace('0', 'x').replace('1', '0').replace('x', '1')\n",
    "\n",
    "          # 1의 보수에 +1\n",
    "          twos = ''\n",
    "          plus = 1\n",
    "          for i in range(len(ones) - 1, -1, -1):\n",
    "              if ones[i] == '1' and plus == 1:\n",
    "                  twos = '0' + twos\n",
    "              elif ones[i] == '0' and plus == 1:\n",
    "                  twos = '1' + twos\n",
    "                  plus = 0  # 더하기 끝\n",
    "              else:\n",
    "                  twos = ones[i] + twos\n",
    "\n",
    "          twos = '1' + twos\n",
    "\n",
    "          return twos\n"
   ]
  },
  {
   "cell_type": "code",
   "execution_count": 108,
   "metadata": {
    "colab": {
     "base_uri": "https://localhost:8080/"
    },
    "executionInfo": {
     "elapsed": 12,
     "status": "ok",
     "timestamp": 1742304233241,
     "user": {
      "displayName": "김정석",
      "userId": "12571149945141910060"
     },
     "user_tz": -540
    },
    "id": "GPrpG8OWxOcn",
    "outputId": "26b95e11-4c79-47bc-994b-dd028ccd1ff2"
   },
   "outputs": [
    {
     "name": "stdout",
     "output_type": "stream",
     "text": [
      "1010\n",
      "11000\n",
      "0\n"
     ]
    }
   ],
   "source": [
    "print(binary(10))\n",
    "print(binary(-8))\n",
    "print(binary(0))"
   ]
  },
  {
   "cell_type": "markdown",
   "metadata": {
    "id": "gU5pmo8bxOcn"
   },
   "source": [
    "# 문제8\n",
    "- list에는 reverse() 함수가 존재한다.\n",
    "- 리스트의 역순으로 되돌려주는 함수를 생성하시오\n",
    "- 역순으로 변경하는 방법으로 첫 원소와 마지막 원소를 변경해 주는 방식으로 반복 횟수는 리스트의 총 길이에서 2로 나눈 몫의 값 만큼 반복 실행"
   ]
  },
  {
   "cell_type": "code",
   "execution_count": 117,
   "metadata": {
    "collapsed": true,
    "executionInfo": {
     "elapsed": 13,
     "status": "ok",
     "timestamp": 1742304640765,
     "user": {
      "displayName": "김정석",
      "userId": "12571149945141910060"
     },
     "user_tz": -540
    },
    "id": "Xeb8cgBbbZKr"
   },
   "outputs": [],
   "source": [
    "def reverse_list(list):\n",
    "    for i in range(len(list)//2):\n",
    "        # list[i],list[len(list)-1-i] = list[len(list)-1-i],list[i]\n",
    "\n",
    "        temp = list[i]\n",
    "\n",
    "        list[i] = list[len(list)-1-i]\n",
    "        list[len(list)-1-i] = temp\n",
    "\n",
    "    return list"
   ]
  },
  {
   "cell_type": "code",
   "execution_count": 118,
   "metadata": {
    "colab": {
     "base_uri": "https://localhost:8080/"
    },
    "executionInfo": {
     "elapsed": 9,
     "status": "ok",
     "timestamp": 1742304642076,
     "user": {
      "displayName": "김정석",
      "userId": "12571149945141910060"
     },
     "user_tz": -540
    },
    "id": "C9bInYGgxOcn",
    "outputId": "f2cbdfa1-d1a8-4bcf-f2d2-7a9063c9948e"
   },
   "outputs": [
    {
     "data": {
      "text/plain": [
       "[5, 4, 3, 2, 1]"
      ]
     },
     "execution_count": 118,
     "metadata": {},
     "output_type": "execute_result"
    }
   ],
   "source": [
    "reverse_list([1,2,3,4,5])"
   ]
  },
  {
   "cell_type": "markdown",
   "metadata": {
    "id": "1HLf1cNexOcn"
   },
   "source": [
    "# 문제9\n",
    "- 특정 숫자를 연속된 자연수의 합을 출력하는 함수를 생성하시오\n",
    "- 인자값을 받아와서 연속된 자연수의 합이 인자값과 같은 모든 경우의 수를 리스트 형태로 출력"
   ]
  },
  {
   "cell_type": "code",
   "execution_count": null,
   "metadata": {
    "id": "5g_yOyk-xOco",
    "outputId": "f1113a44-85de-4e6e-91df-5ef6ac10f477"
   },
   "outputs": [
    {
     "data": {
      "text/plain": [
       "[[1, 2, 3, 4, 5], [4, 5, 6], [7, 8]]"
      ]
     },
     "execution_count": 49,
     "metadata": {},
     "output_type": "execute_result"
    }
   ],
   "source": [
    "list =[]\n",
    "\n",
    "for i in range(1,15+1):\n",
    "    sum_list=[]\n",
    "    sum = 0\n",
    "    for j in range(i,15):\n",
    "        sum += j\n",
    "        sum_list.append(j)\n",
    "\n",
    "        if sum==15:\n",
    "            list.append(sum_list)\n",
    "            break\n",
    "list"
   ]
  },
  {
   "cell_type": "code",
   "execution_count": null,
   "metadata": {
    "id": "K0DlbcH4xOco",
    "outputId": "7bbd0237-54ee-4c52-cf7c-74d5bf13566d"
   },
   "outputs": [
    {
     "data": {
      "text/plain": [
       "[[1, 2, 3, 4, 5], [4, 5, 6], [7, 8]]"
      ]
     },
     "execution_count": 43,
     "metadata": {},
     "output_type": "execute_result"
    }
   ],
   "source": [
    "print(consecutive_sums(15))\n"
   ]
  },
  {
   "cell_type": "markdown",
   "metadata": {
    "id": "jYxTfy0ExOco"
   },
   "source": [
    "# 문제10\n",
    "- 두 개의 단어가 애너그램인지 판단을 하는 함수를 생성하시오\n",
    "- 두개의 매개변수에 입력이 되는 두 인자의 값이 애너그램인지 bool 형태로 출력하시오"
   ]
  },
  {
   "cell_type": "code",
   "execution_count": 132,
   "metadata": {
    "executionInfo": {
     "elapsed": 6,
     "status": "ok",
     "timestamp": 1742305240321,
     "user": {
      "displayName": "김정석",
      "userId": "12571149945141910060"
     },
     "user_tz": -540
    },
    "id": "aqHFXsuxe36U"
   },
   "outputs": [],
   "source": [
    "def is_anagram(_word1, _word2):\n",
    "    if len(_word1) != len(_word2):\n",
    "        return False\n",
    "\n",
    "    list1 = list(_word1)\n",
    "    list2 = list(_word2)\n",
    "\n",
    "    list1.sort()\n",
    "    list2.sort()\n",
    "\n",
    "    return list1 == list2"
   ]
  },
  {
   "cell_type": "code",
   "execution_count": 133,
   "metadata": {
    "colab": {
     "base_uri": "https://localhost:8080/"
    },
    "executionInfo": {
     "elapsed": 7,
     "status": "ok",
     "timestamp": 1742305241031,
     "user": {
      "displayName": "김정석",
      "userId": "12571149945141910060"
     },
     "user_tz": -540
    },
    "id": "4RGASj8_xOco",
    "outputId": "995eea2e-51a3-4456-8f93-0ed75ac47806"
   },
   "outputs": [
    {
     "name": "stdout",
     "output_type": "stream",
     "text": [
      "True\n",
      "False\n"
     ]
    }
   ],
   "source": [
    "print(is_anagram(\"listen\", \"silent\"))\n",
    "print(is_anagram(\"hello\", \"world\"))"
   ]
  },
  {
   "cell_type": "code",
   "execution_count": null,
   "metadata": {
    "id": "VqCoS3J_xOcp"
   },
   "outputs": [],
   "source": []
  }
 ],
 "metadata": {
  "colab": {
   "collapsed_sections": [
    "EoLle_r-xOcm",
    "oiQAmC_IxOcn",
    "gU5pmo8bxOcn",
    "1HLf1cNexOcn",
    "jYxTfy0ExOco"
   ],
   "provenance": []
  },
  "kernelspec": {
   "display_name": "Python 3",
   "language": "python",
   "name": "python3"
  },
  "language_info": {
   "codemirror_mode": {
    "name": "ipython",
    "version": 3
   },
   "file_extension": ".py",
   "mimetype": "text/x-python",
   "name": "python",
   "nbconvert_exporter": "python",
   "pygments_lexer": "ipython3",
   "version": "3.13.1"
  }
 },
 "nbformat": 4,
 "nbformat_minor": 0
}
