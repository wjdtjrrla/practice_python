{
 "cells": [
  {
   "cell_type": "markdown",
   "metadata": {},
   "source": [
    "### 예제\n",
    "1. test_csv 폴더에서 '오프라인.csv' 파일 로드\n",
    "2. 컬럼의 이름 변경 -> ['기준년월','업종','성별','연령대','총이용건수','총이용금액']\n",
    "3. 결측치가 존재하는가? 확인\n",
    "4. 기준년월 데이터를 시계열 데이터로 to_datetime\n",
    "5. 성별 기준 연도별 건당 이용금액 평균이 어케 되나?\n",
    "    - 기준년 데이터가 존재하지 않음 -> 기준년 컬럼 생성 -> 기준년월 컬럼에서 추출\n",
    "    - 건당 이용금액 데이터는 총이용금액 / 총이용금액\n",
    "    - 기준년 데이터를 이용해 데이터 그룹화 / 재구조화 -> 건당 이용금액의 현금 "
   ]
  },
  {
   "cell_type": "code",
   "execution_count": 1,
   "metadata": {},
   "outputs": [],
   "source": [
    "import pandas as pd\n",
    "from datetime import datetime"
   ]
  },
  {
   "cell_type": "code",
   "execution_count": 2,
   "metadata": {},
   "outputs": [],
   "source": [
    "#데이터 로드\n",
    "offline = pd.read_csv(\"../test_csv/오프라인.csv\",encoding='cp949')"
   ]
  },
  {
   "cell_type": "code",
   "execution_count": 3,
   "metadata": {},
   "outputs": [
    {
     "data": {
      "text/html": [
       "<div>\n",
       "<style scoped>\n",
       "    .dataframe tbody tr th:only-of-type {\n",
       "        vertical-align: middle;\n",
       "    }\n",
       "\n",
       "    .dataframe tbody tr th {\n",
       "        vertical-align: top;\n",
       "    }\n",
       "\n",
       "    .dataframe thead th {\n",
       "        text-align: right;\n",
       "    }\n",
       "</style>\n",
       "<table border=\"1\" class=\"dataframe\">\n",
       "  <thead>\n",
       "    <tr style=\"text-align: right;\">\n",
       "      <th></th>\n",
       "      <th>crym</th>\n",
       "      <th>tco_btc_nm</th>\n",
       "      <th>ma_fem_dc</th>\n",
       "      <th>agegrp_dc</th>\n",
       "      <th>tco_btc_u_ct</th>\n",
       "      <th>tco_btc_u_am</th>\n",
       "    </tr>\n",
       "  </thead>\n",
       "  <tbody>\n",
       "    <tr>\n",
       "      <th>0</th>\n",
       "      <td>201901</td>\n",
       "      <td>백화점</td>\n",
       "      <td>1</td>\n",
       "      <td>1</td>\n",
       "      <td>1</td>\n",
       "      <td>7.600000e+03</td>\n",
       "    </tr>\n",
       "    <tr>\n",
       "      <th>1</th>\n",
       "      <td>201901</td>\n",
       "      <td>백화점</td>\n",
       "      <td>1</td>\n",
       "      <td>10</td>\n",
       "      <td>379</td>\n",
       "      <td>1.945872e+07</td>\n",
       "    </tr>\n",
       "    <tr>\n",
       "      <th>2</th>\n",
       "      <td>201901</td>\n",
       "      <td>백화점</td>\n",
       "      <td>1</td>\n",
       "      <td>20</td>\n",
       "      <td>45173</td>\n",
       "      <td>4.747711e+09</td>\n",
       "    </tr>\n",
       "  </tbody>\n",
       "</table>\n",
       "</div>"
      ],
      "text/plain": [
       "     crym tco_btc_nm  ma_fem_dc  agegrp_dc  tco_btc_u_ct  tco_btc_u_am\n",
       "0  201901        백화점          1          1             1  7.600000e+03\n",
       "1  201901        백화점          1         10           379  1.945872e+07\n",
       "2  201901        백화점          1         20         45173  4.747711e+09"
      ]
     },
     "execution_count": 3,
     "metadata": {},
     "output_type": "execute_result"
    }
   ],
   "source": [
    "offline.head(3)"
   ]
  },
  {
   "cell_type": "code",
   "execution_count": 4,
   "metadata": {},
   "outputs": [
    {
     "data": {
      "text/html": [
       "<div>\n",
       "<style scoped>\n",
       "    .dataframe tbody tr th:only-of-type {\n",
       "        vertical-align: middle;\n",
       "    }\n",
       "\n",
       "    .dataframe tbody tr th {\n",
       "        vertical-align: top;\n",
       "    }\n",
       "\n",
       "    .dataframe thead th {\n",
       "        text-align: right;\n",
       "    }\n",
       "</style>\n",
       "<table border=\"1\" class=\"dataframe\">\n",
       "  <thead>\n",
       "    <tr style=\"text-align: right;\">\n",
       "      <th></th>\n",
       "      <th>기준년월</th>\n",
       "      <th>업종</th>\n",
       "      <th>성별</th>\n",
       "      <th>연령대</th>\n",
       "      <th>총이용건수</th>\n",
       "      <th>총이용금액</th>\n",
       "    </tr>\n",
       "  </thead>\n",
       "  <tbody>\n",
       "    <tr>\n",
       "      <th>0</th>\n",
       "      <td>201901</td>\n",
       "      <td>백화점</td>\n",
       "      <td>1</td>\n",
       "      <td>1</td>\n",
       "      <td>1</td>\n",
       "      <td>7600.0</td>\n",
       "    </tr>\n",
       "  </tbody>\n",
       "</table>\n",
       "</div>"
      ],
      "text/plain": [
       "     기준년월   업종  성별  연령대  총이용건수   총이용금액\n",
       "0  201901  백화점   1    1      1  7600.0"
      ]
     },
     "execution_count": 4,
     "metadata": {},
     "output_type": "execute_result"
    }
   ],
   "source": [
    "#데이터의 컬럼 변경\n",
    "offline.columns = ['기준년월','업종','성별','연령대','총이용건수','총이용금액']\n",
    "offline.head(1)"
   ]
  },
  {
   "cell_type": "code",
   "execution_count": 5,
   "metadata": {},
   "outputs": [
    {
     "data": {
      "text/html": [
       "<div>\n",
       "<style scoped>\n",
       "    .dataframe tbody tr th:only-of-type {\n",
       "        vertical-align: middle;\n",
       "    }\n",
       "\n",
       "    .dataframe tbody tr th {\n",
       "        vertical-align: top;\n",
       "    }\n",
       "\n",
       "    .dataframe thead th {\n",
       "        text-align: right;\n",
       "    }\n",
       "</style>\n",
       "<table border=\"1\" class=\"dataframe\">\n",
       "  <thead>\n",
       "    <tr style=\"text-align: right;\">\n",
       "      <th></th>\n",
       "      <th>기준년월</th>\n",
       "      <th>업종</th>\n",
       "      <th>성별</th>\n",
       "      <th>연령대</th>\n",
       "      <th>총이용건수</th>\n",
       "      <th>총이용금액</th>\n",
       "    </tr>\n",
       "  </thead>\n",
       "  <tbody>\n",
       "    <tr>\n",
       "      <th>0</th>\n",
       "      <td>201901</td>\n",
       "      <td>백화점</td>\n",
       "      <td>1</td>\n",
       "      <td>1</td>\n",
       "      <td>1</td>\n",
       "      <td>7.600000e+03</td>\n",
       "    </tr>\n",
       "    <tr>\n",
       "      <th>1</th>\n",
       "      <td>201901</td>\n",
       "      <td>백화점</td>\n",
       "      <td>1</td>\n",
       "      <td>10</td>\n",
       "      <td>379</td>\n",
       "      <td>1.945872e+07</td>\n",
       "    </tr>\n",
       "    <tr>\n",
       "      <th>2</th>\n",
       "      <td>201901</td>\n",
       "      <td>백화점</td>\n",
       "      <td>1</td>\n",
       "      <td>20</td>\n",
       "      <td>45173</td>\n",
       "      <td>4.747711e+09</td>\n",
       "    </tr>\n",
       "    <tr>\n",
       "      <th>3</th>\n",
       "      <td>201901</td>\n",
       "      <td>백화점</td>\n",
       "      <td>1</td>\n",
       "      <td>30</td>\n",
       "      <td>271858</td>\n",
       "      <td>2.791826e+10</td>\n",
       "    </tr>\n",
       "    <tr>\n",
       "      <th>4</th>\n",
       "      <td>201901</td>\n",
       "      <td>백화점</td>\n",
       "      <td>1</td>\n",
       "      <td>40</td>\n",
       "      <td>391109</td>\n",
       "      <td>3.791149e+10</td>\n",
       "    </tr>\n",
       "    <tr>\n",
       "      <th>...</th>\n",
       "      <td>...</td>\n",
       "      <td>...</td>\n",
       "      <td>...</td>\n",
       "      <td>...</td>\n",
       "      <td>...</td>\n",
       "      <td>...</td>\n",
       "    </tr>\n",
       "    <tr>\n",
       "      <th>2643</th>\n",
       "      <td>202109</td>\n",
       "      <td>편의점</td>\n",
       "      <td>2</td>\n",
       "      <td>50</td>\n",
       "      <td>844081</td>\n",
       "      <td>6.283353e+09</td>\n",
       "    </tr>\n",
       "    <tr>\n",
       "      <th>2644</th>\n",
       "      <td>202109</td>\n",
       "      <td>편의점</td>\n",
       "      <td>2</td>\n",
       "      <td>60</td>\n",
       "      <td>243768</td>\n",
       "      <td>1.997442e+09</td>\n",
       "    </tr>\n",
       "    <tr>\n",
       "      <th>2645</th>\n",
       "      <td>202109</td>\n",
       "      <td>편의점</td>\n",
       "      <td>2</td>\n",
       "      <td>70</td>\n",
       "      <td>40523</td>\n",
       "      <td>3.524203e+08</td>\n",
       "    </tr>\n",
       "    <tr>\n",
       "      <th>2646</th>\n",
       "      <td>202109</td>\n",
       "      <td>편의점</td>\n",
       "      <td>2</td>\n",
       "      <td>80</td>\n",
       "      <td>6349</td>\n",
       "      <td>5.333488e+07</td>\n",
       "    </tr>\n",
       "    <tr>\n",
       "      <th>2647</th>\n",
       "      <td>202109</td>\n",
       "      <td>편의점</td>\n",
       "      <td>2</td>\n",
       "      <td>90</td>\n",
       "      <td>273</td>\n",
       "      <td>2.619730e+06</td>\n",
       "    </tr>\n",
       "  </tbody>\n",
       "</table>\n",
       "<p>2648 rows × 6 columns</p>\n",
       "</div>"
      ],
      "text/plain": [
       "        기준년월   업종  성별  연령대   총이용건수         총이용금액\n",
       "0     201901  백화점   1    1       1  7.600000e+03\n",
       "1     201901  백화점   1   10     379  1.945872e+07\n",
       "2     201901  백화점   1   20   45173  4.747711e+09\n",
       "3     201901  백화점   1   30  271858  2.791826e+10\n",
       "4     201901  백화점   1   40  391109  3.791149e+10\n",
       "...      ...  ...  ..  ...     ...           ...\n",
       "2643  202109  편의점   2   50  844081  6.283353e+09\n",
       "2644  202109  편의점   2   60  243768  1.997442e+09\n",
       "2645  202109  편의점   2   70   40523  3.524203e+08\n",
       "2646  202109  편의점   2   80    6349  5.333488e+07\n",
       "2647  202109  편의점   2   90     273  2.619730e+06\n",
       "\n",
       "[2648 rows x 6 columns]"
      ]
     },
     "execution_count": 5,
     "metadata": {},
     "output_type": "execute_result"
    }
   ],
   "source": [
    "offline.rename(\n",
    "    columns = {\n",
    "        '기준년월' : '기준년월'\n",
    "    }\n",
    ")"
   ]
  },
  {
   "cell_type": "code",
   "execution_count": 6,
   "metadata": {},
   "outputs": [
    {
     "name": "stdout",
     "output_type": "stream",
     "text": [
      "<class 'pandas.core.frame.DataFrame'>\n",
      "RangeIndex: 2648 entries, 0 to 2647\n",
      "Data columns (total 6 columns):\n",
      " #   Column  Non-Null Count  Dtype  \n",
      "---  ------  --------------  -----  \n",
      " 0   기준년월    2648 non-null   int64  \n",
      " 1   업종      2648 non-null   object \n",
      " 2   성별      2648 non-null   int64  \n",
      " 3   연령대     2648 non-null   int64  \n",
      " 4   총이용건수   2648 non-null   int64  \n",
      " 5   총이용금액   2648 non-null   float64\n",
      "dtypes: float64(1), int64(4), object(1)\n",
      "memory usage: 124.3+ KB\n"
     ]
    }
   ],
   "source": [
    "#결측치 확인\n",
    "offline.info()"
   ]
  },
  {
   "cell_type": "code",
   "execution_count": 7,
   "metadata": {},
   "outputs": [
    {
     "data": {
      "text/plain": [
       "기준년월     0\n",
       "업종       0\n",
       "성별       0\n",
       "연령대      0\n",
       "총이용건수    0\n",
       "총이용금액    0\n",
       "dtype: int64"
      ]
     },
     "execution_count": 7,
     "metadata": {},
     "output_type": "execute_result"
    }
   ],
   "source": [
    "offline.isna().sum()"
   ]
  },
  {
   "cell_type": "code",
   "execution_count": 8,
   "metadata": {},
   "outputs": [
    {
     "data": {
      "text/plain": [
       "np.int64(0)"
      ]
     },
     "execution_count": 8,
     "metadata": {},
     "output_type": "execute_result"
    }
   ],
   "source": [
    "# 성별 컬럼 데이터 중 '-'는 결측치라고 항목 정의서에 명시됨\n",
    "# - 데이터의 개수 확인\n",
    "# 1:남자, 2:여자, 9:남녀무관, -:결측치\n",
    "offline['성별'].isin(['-']).sum()"
   ]
  },
  {
   "cell_type": "code",
   "execution_count": 9,
   "metadata": {},
   "outputs": [
    {
     "data": {
      "text/plain": [
       "성별\n",
       "2    1336\n",
       "1    1312\n",
       "Name: count, dtype: int64"
      ]
     },
     "execution_count": 9,
     "metadata": {},
     "output_type": "execute_result"
    }
   ],
   "source": [
    "offline['성별'].value_counts()"
   ]
  },
  {
   "cell_type": "code",
   "execution_count": 10,
   "metadata": {},
   "outputs": [
    {
     "data": {
      "text/html": [
       "<div>\n",
       "<style scoped>\n",
       "    .dataframe tbody tr th:only-of-type {\n",
       "        vertical-align: middle;\n",
       "    }\n",
       "\n",
       "    .dataframe tbody tr th {\n",
       "        vertical-align: top;\n",
       "    }\n",
       "\n",
       "    .dataframe thead th {\n",
       "        text-align: right;\n",
       "    }\n",
       "</style>\n",
       "<table border=\"1\" class=\"dataframe\">\n",
       "  <thead>\n",
       "    <tr style=\"text-align: right;\">\n",
       "      <th></th>\n",
       "      <th>기준년월</th>\n",
       "      <th>업종</th>\n",
       "      <th>성별</th>\n",
       "      <th>연령대</th>\n",
       "      <th>총이용건수</th>\n",
       "      <th>총이용금액</th>\n",
       "    </tr>\n",
       "  </thead>\n",
       "  <tbody>\n",
       "    <tr>\n",
       "      <th>0</th>\n",
       "      <td>201901</td>\n",
       "      <td>백화점</td>\n",
       "      <td>1</td>\n",
       "      <td>1</td>\n",
       "      <td>1</td>\n",
       "      <td>7.600000e+03</td>\n",
       "    </tr>\n",
       "    <tr>\n",
       "      <th>1</th>\n",
       "      <td>201901</td>\n",
       "      <td>백화점</td>\n",
       "      <td>1</td>\n",
       "      <td>10</td>\n",
       "      <td>379</td>\n",
       "      <td>1.945872e+07</td>\n",
       "    </tr>\n",
       "    <tr>\n",
       "      <th>2</th>\n",
       "      <td>201901</td>\n",
       "      <td>백화점</td>\n",
       "      <td>1</td>\n",
       "      <td>20</td>\n",
       "      <td>45173</td>\n",
       "      <td>4.747711e+09</td>\n",
       "    </tr>\n",
       "    <tr>\n",
       "      <th>3</th>\n",
       "      <td>201901</td>\n",
       "      <td>백화점</td>\n",
       "      <td>1</td>\n",
       "      <td>30</td>\n",
       "      <td>271858</td>\n",
       "      <td>2.791826e+10</td>\n",
       "    </tr>\n",
       "    <tr>\n",
       "      <th>4</th>\n",
       "      <td>201901</td>\n",
       "      <td>백화점</td>\n",
       "      <td>1</td>\n",
       "      <td>40</td>\n",
       "      <td>391109</td>\n",
       "      <td>3.791149e+10</td>\n",
       "    </tr>\n",
       "  </tbody>\n",
       "</table>\n",
       "</div>"
      ],
      "text/plain": [
       "     기준년월   업종  성별  연령대   총이용건수         총이용금액\n",
       "0  201901  백화점   1    1       1  7.600000e+03\n",
       "1  201901  백화점   1   10     379  1.945872e+07\n",
       "2  201901  백화점   1   20   45173  4.747711e+09\n",
       "3  201901  백화점   1   30  271858  2.791826e+10\n",
       "4  201901  백화점   1   40  391109  3.791149e+10"
      ]
     },
     "execution_count": 10,
     "metadata": {},
     "output_type": "execute_result"
    }
   ],
   "source": [
    "offline.head()"
   ]
  },
  {
   "cell_type": "code",
   "execution_count": 11,
   "metadata": {},
   "outputs": [
    {
     "data": {
      "text/plain": [
       "0      2019-01-01\n",
       "1      2019-01-01\n",
       "2      2019-01-01\n",
       "3      2019-01-01\n",
       "4      2019-01-01\n",
       "          ...    \n",
       "2643   2021-09-01\n",
       "2644   2021-09-01\n",
       "2645   2021-09-01\n",
       "2646   2021-09-01\n",
       "2647   2021-09-01\n",
       "Name: 기준년월, Length: 2648, dtype: datetime64[ns]"
      ]
     },
     "execution_count": 11,
     "metadata": {},
     "output_type": "execute_result"
    }
   ],
   "source": [
    "# python에서 제공하는 map -> 함수, 1차원 데이터 -> map 타입으로 생성\n",
    "# series에서 제공하는 map -> 함수만 써주면 됨 -> series 타입으로 생성\n",
    "offline['기준년월'].map(\n",
    "    lambda x : datetime.strptime(str(x),'%Y%m')\n",
    ")"
   ]
  },
  {
   "cell_type": "code",
   "execution_count": 12,
   "metadata": {},
   "outputs": [
    {
     "data": {
      "text/plain": [
       "0      2019-01-01\n",
       "1      2019-01-01\n",
       "2      2019-01-01\n",
       "3      2019-01-01\n",
       "4      2019-01-01\n",
       "          ...    \n",
       "2643   2021-09-01\n",
       "2644   2021-09-01\n",
       "2645   2021-09-01\n",
       "2646   2021-09-01\n",
       "2647   2021-09-01\n",
       "Name: 기준년월, Length: 2648, dtype: datetime64[ns]"
      ]
     },
     "execution_count": 12,
     "metadata": {},
     "output_type": "execute_result"
    }
   ],
   "source": [
    "offline['기준년월'] = pd.to_datetime(offline['기준년월'],format='%Y%m')\n",
    "offline['기준년월'] "
   ]
  },
  {
   "cell_type": "code",
   "execution_count": 13,
   "metadata": {},
   "outputs": [
    {
     "data": {
      "text/html": [
       "<div>\n",
       "<style scoped>\n",
       "    .dataframe tbody tr th:only-of-type {\n",
       "        vertical-align: middle;\n",
       "    }\n",
       "\n",
       "    .dataframe tbody tr th {\n",
       "        vertical-align: top;\n",
       "    }\n",
       "\n",
       "    .dataframe thead th {\n",
       "        text-align: right;\n",
       "    }\n",
       "</style>\n",
       "<table border=\"1\" class=\"dataframe\">\n",
       "  <thead>\n",
       "    <tr style=\"text-align: right;\">\n",
       "      <th></th>\n",
       "      <th>기준년월</th>\n",
       "      <th>업종</th>\n",
       "      <th>성별</th>\n",
       "      <th>연령대</th>\n",
       "      <th>총이용건수</th>\n",
       "      <th>총이용금액</th>\n",
       "    </tr>\n",
       "  </thead>\n",
       "  <tbody>\n",
       "    <tr>\n",
       "      <th>0</th>\n",
       "      <td>2019-01-01</td>\n",
       "      <td>백화점</td>\n",
       "      <td>1</td>\n",
       "      <td>1</td>\n",
       "      <td>1</td>\n",
       "      <td>7600.0</td>\n",
       "    </tr>\n",
       "  </tbody>\n",
       "</table>\n",
       "</div>"
      ],
      "text/plain": [
       "        기준년월   업종  성별  연령대  총이용건수   총이용금액\n",
       "0 2019-01-01  백화점   1    1      1  7600.0"
      ]
     },
     "execution_count": 13,
     "metadata": {},
     "output_type": "execute_result"
    }
   ],
   "source": [
    "offline.head(1)"
   ]
  },
  {
   "cell_type": "code",
   "execution_count": 14,
   "metadata": {},
   "outputs": [],
   "source": [
    "#년도만 추출\n",
    "offline['기준년'] = offline['기준년월'].dt.strftime('%Y')"
   ]
  },
  {
   "cell_type": "code",
   "execution_count": 15,
   "metadata": {},
   "outputs": [
    {
     "data": {
      "text/plain": [
       "0       2019\n",
       "1       2019\n",
       "2       2019\n",
       "3       2019\n",
       "4       2019\n",
       "        ... \n",
       "2643    2021\n",
       "2644    2021\n",
       "2645    2021\n",
       "2646    2021\n",
       "2647    2021\n",
       "Name: 기준년월, Length: 2648, dtype: object"
      ]
     },
     "execution_count": 15,
     "metadata": {},
     "output_type": "execute_result"
    }
   ],
   "source": [
    "offline['기준년월'].map(\n",
    "    lambda x : x.strftime('%Y')\n",
    ")"
   ]
  },
  {
   "cell_type": "code",
   "execution_count": 16,
   "metadata": {},
   "outputs": [
    {
     "data": {
      "text/html": [
       "<div>\n",
       "<style scoped>\n",
       "    .dataframe tbody tr th:only-of-type {\n",
       "        vertical-align: middle;\n",
       "    }\n",
       "\n",
       "    .dataframe tbody tr th {\n",
       "        vertical-align: top;\n",
       "    }\n",
       "\n",
       "    .dataframe thead th {\n",
       "        text-align: right;\n",
       "    }\n",
       "</style>\n",
       "<table border=\"1\" class=\"dataframe\">\n",
       "  <thead>\n",
       "    <tr style=\"text-align: right;\">\n",
       "      <th></th>\n",
       "      <th>기준년월</th>\n",
       "      <th>업종</th>\n",
       "      <th>성별</th>\n",
       "      <th>연령대</th>\n",
       "      <th>총이용건수</th>\n",
       "      <th>총이용금액</th>\n",
       "      <th>기준년</th>\n",
       "      <th>건당이용금액</th>\n",
       "    </tr>\n",
       "  </thead>\n",
       "  <tbody>\n",
       "    <tr>\n",
       "      <th>0</th>\n",
       "      <td>2019-01-01</td>\n",
       "      <td>백화점</td>\n",
       "      <td>1</td>\n",
       "      <td>1</td>\n",
       "      <td>1</td>\n",
       "      <td>7.600000e+03</td>\n",
       "      <td>2019</td>\n",
       "      <td>7600.000000</td>\n",
       "    </tr>\n",
       "    <tr>\n",
       "      <th>1</th>\n",
       "      <td>2019-01-01</td>\n",
       "      <td>백화점</td>\n",
       "      <td>1</td>\n",
       "      <td>10</td>\n",
       "      <td>379</td>\n",
       "      <td>1.945872e+07</td>\n",
       "      <td>2019</td>\n",
       "      <td>51342.269129</td>\n",
       "    </tr>\n",
       "    <tr>\n",
       "      <th>2</th>\n",
       "      <td>2019-01-01</td>\n",
       "      <td>백화점</td>\n",
       "      <td>1</td>\n",
       "      <td>20</td>\n",
       "      <td>45173</td>\n",
       "      <td>4.747711e+09</td>\n",
       "      <td>2019</td>\n",
       "      <td>105100.635357</td>\n",
       "    </tr>\n",
       "  </tbody>\n",
       "</table>\n",
       "</div>"
      ],
      "text/plain": [
       "        기준년월   업종  성별  연령대  총이용건수         총이용금액   기준년         건당이용금액\n",
       "0 2019-01-01  백화점   1    1      1  7.600000e+03  2019    7600.000000\n",
       "1 2019-01-01  백화점   1   10    379  1.945872e+07  2019   51342.269129\n",
       "2 2019-01-01  백화점   1   20  45173  4.747711e+09  2019  105100.635357"
      ]
     },
     "execution_count": 16,
     "metadata": {},
     "output_type": "execute_result"
    }
   ],
   "source": [
    "# 건당 이용금액, 총 이용건수, 총 이용금액\n",
    "offline['건당이용금액'] = offline['총이용금액'] / offline['총이용건수']\n",
    "offline.head(3)"
   ]
  },
  {
   "cell_type": "code",
   "execution_count": 17,
   "metadata": {},
   "outputs": [],
   "source": [
    "# 연도별 건당이용금액을 확인\n",
    "# 성별과 년도별 data를 이용하여 그룹화를 하고, 건당 이용급액의 평균을 구함\n",
    "group_data = offline[['성별','기준년','건당이용금액']].groupby(['성별','기준년']).mean()"
   ]
  },
  {
   "cell_type": "code",
   "execution_count": 18,
   "metadata": {},
   "outputs": [
    {
     "data": {
      "text/html": [
       "<div>\n",
       "<style scoped>\n",
       "    .dataframe tbody tr th:only-of-type {\n",
       "        vertical-align: middle;\n",
       "    }\n",
       "\n",
       "    .dataframe tbody tr th {\n",
       "        vertical-align: top;\n",
       "    }\n",
       "\n",
       "    .dataframe thead tr th {\n",
       "        text-align: left;\n",
       "    }\n",
       "\n",
       "    .dataframe thead tr:last-of-type th {\n",
       "        text-align: right;\n",
       "    }\n",
       "</style>\n",
       "<table border=\"1\" class=\"dataframe\">\n",
       "  <thead>\n",
       "    <tr>\n",
       "      <th></th>\n",
       "      <th colspan=\"3\" halign=\"left\">건당이용금액</th>\n",
       "    </tr>\n",
       "    <tr>\n",
       "      <th>기준년</th>\n",
       "      <th>2019</th>\n",
       "      <th>2020</th>\n",
       "      <th>2021</th>\n",
       "    </tr>\n",
       "    <tr>\n",
       "      <th>성별</th>\n",
       "      <th></th>\n",
       "      <th></th>\n",
       "      <th></th>\n",
       "    </tr>\n",
       "  </thead>\n",
       "  <tbody>\n",
       "    <tr>\n",
       "      <th>1</th>\n",
       "      <td>39184.349662</td>\n",
       "      <td>44009.589591</td>\n",
       "      <td>46948.320084</td>\n",
       "    </tr>\n",
       "    <tr>\n",
       "      <th>2</th>\n",
       "      <td>38107.838544</td>\n",
       "      <td>41389.763130</td>\n",
       "      <td>43306.318972</td>\n",
       "    </tr>\n",
       "  </tbody>\n",
       "</table>\n",
       "</div>"
      ],
      "text/plain": [
       "           건당이용금액                            \n",
       "기준년          2019          2020          2021\n",
       "성별                                           \n",
       "1    39184.349662  44009.589591  46948.320084\n",
       "2    38107.838544  41389.763130  43306.318972"
      ]
     },
     "execution_count": 18,
     "metadata": {},
     "output_type": "execute_result"
    }
   ],
   "source": [
    "# unstack() -> 인덱스의 기준을 컬럼의 기준으로 변경\n",
    "# stack() -> 컬럼의 기준을 인덱스의 기준으로 변경\n",
    "group_data.unstack()"
   ]
  },
  {
   "cell_type": "code",
   "execution_count": 19,
   "metadata": {},
   "outputs": [
    {
     "data": {
      "text/html": [
       "<div>\n",
       "<style scoped>\n",
       "    .dataframe tbody tr th:only-of-type {\n",
       "        vertical-align: middle;\n",
       "    }\n",
       "\n",
       "    .dataframe tbody tr th {\n",
       "        vertical-align: top;\n",
       "    }\n",
       "\n",
       "    .dataframe thead th {\n",
       "        text-align: right;\n",
       "    }\n",
       "</style>\n",
       "<table border=\"1\" class=\"dataframe\">\n",
       "  <thead>\n",
       "    <tr style=\"text-align: right;\">\n",
       "      <th></th>\n",
       "      <th></th>\n",
       "      <th>총이용금액</th>\n",
       "    </tr>\n",
       "    <tr>\n",
       "      <th>성별</th>\n",
       "      <th>기준년</th>\n",
       "      <th></th>\n",
       "    </tr>\n",
       "  </thead>\n",
       "  <tbody>\n",
       "    <tr>\n",
       "      <th rowspan=\"3\" valign=\"top\">1</th>\n",
       "      <th>2019</th>\n",
       "      <td>3.542740e+12</td>\n",
       "    </tr>\n",
       "    <tr>\n",
       "      <th>2020</th>\n",
       "      <td>3.476297e+12</td>\n",
       "    </tr>\n",
       "    <tr>\n",
       "      <th>2021</th>\n",
       "      <td>2.643688e+12</td>\n",
       "    </tr>\n",
       "    <tr>\n",
       "      <th rowspan=\"3\" valign=\"top\">2</th>\n",
       "      <th>2019</th>\n",
       "      <td>7.210066e+12</td>\n",
       "    </tr>\n",
       "    <tr>\n",
       "      <th>2020</th>\n",
       "      <td>6.485446e+12</td>\n",
       "    </tr>\n",
       "    <tr>\n",
       "      <th>2021</th>\n",
       "      <td>4.840621e+12</td>\n",
       "    </tr>\n",
       "  </tbody>\n",
       "</table>\n",
       "</div>"
      ],
      "text/plain": [
       "                총이용금액\n",
       "성별 기준년               \n",
       "1  2019  3.542740e+12\n",
       "   2020  3.476297e+12\n",
       "   2021  2.643688e+12\n",
       "2  2019  7.210066e+12\n",
       "   2020  6.485446e+12\n",
       "   2021  4.840621e+12"
      ]
     },
     "execution_count": 19,
     "metadata": {},
     "output_type": "execute_result"
    }
   ],
   "source": [
    "# 총 이용 금액은?\n",
    "# pivot_table 이용 -> 성별 년도별로 총 이용 금액의 합계 확인하기\n",
    "offline.pivot_table(\n",
    "    index=['성별','기준년'],\n",
    "    values = '총이용금액',\n",
    "    aggfunc= 'sum'\n",
    ")"
   ]
  },
  {
   "cell_type": "markdown",
   "metadata": {},
   "source": [
    "- 위 데이터의 결과\n",
    "    - 건당 이용 금액의 경우 남자의 금액이 여자의 금액보다 컸다.\n",
    "    - 총 이용 금액의 경우 남자의 금액이 여자의 금액보다 작았다.\n",
    "- 왜?\n",
    "    - 큰 금액이 들어가는 물건은 남자의 카드로 결제했을 가능성이 있다.\n",
    "    - 예시로 장보기와 같은 행동은 여자의 카드로 진행했을 가능성이 있다."
   ]
  },
  {
   "cell_type": "code",
   "execution_count": 20,
   "metadata": {},
   "outputs": [],
   "source": [
    "# import warnings\n",
    "# warnings.filterwarnings()"
   ]
  },
  {
   "cell_type": "code",
   "execution_count": 21,
   "metadata": {},
   "outputs": [],
   "source": [
    "import matplotlib.pyplot as plt\n",
    "import platform"
   ]
  },
  {
   "cell_type": "code",
   "execution_count": 22,
   "metadata": {},
   "outputs": [],
   "source": [
    "# 그래프 시각화를 위한 폰트 변경\n",
    "if platform.system() == 'Darwin':\n",
    "    plt.rc('font',famliy='AppleGothic')\n",
    "elif platform.system() == 'Windows':\n",
    "    plt.rc('font',family=\"Malgun Gothic\")"
   ]
  },
  {
   "cell_type": "code",
   "execution_count": 23,
   "metadata": {},
   "outputs": [
    {
     "data": {
      "text/plain": [
       "Text(0, 0.5, '총 이용금액')"
      ]
     },
     "execution_count": 23,
     "metadata": {},
     "output_type": "execute_result"
    },
    {
     "data": {
      "image/png": "[encoded data removed]",
      "text/plain": [
       "<Figure size 640x480 with 1 Axes>"
      ]
     },
     "metadata": {},
     "output_type": "display_data"
    }
   ],
   "source": [
    "# 기준년월, 업종 별 총 이용금액 합계 -> 그래프 시각화(라인그래프)\n",
    "group_data2 = offline.groupby(['기준년월','업종'])['총이용금액'].sum()\n",
    "group_data2.unstack().plot()\n",
    "\n",
    "plt.title(\"오프라인 : 업종별 총 이용금액 추이 (기준년월별)\", fontsize=10)  # 제목 추가\n",
    "plt.xlabel(\"기준년월\")  # x축 라벨\n",
    "plt.ylabel(\"총 이용금액\")  # y축 라벨"
   ]
  },
  {
   "cell_type": "markdown",
   "metadata": {},
   "source": [
    "1. 온라인.csv 파일 로드\n",
    "2. 두 개의 데이터 프레임 단순 행 결합 ( 유니언 )\n",
    "    - 오프라인 데이터와 온라인 데이터의 컬럼의 이름이 다름\n",
    "        - 온라인 데이터의 컬럼의 이름을 변경\n",
    "    - 오프라인 데이터에서 기준년월 컬럼은 시계열, 온라인은 숫자\n",
    "        - 온라인 기준년월을 시계열로 변경\n",
    "    - 오프라인 데이터에서 기준년, 건당이용금액 제거 (drop)\n",
    "    - 온라인 데이터에 결측치가 존재하는가?\n",
    "    - 단순 행 결합\n",
    "3. 온라인 데이터에는 업종 컬럼이 존재하지 않기 때문에 결측치 생성\n",
    "    - 결측치는 'online'으로 대체"
   ]
  },
  {
   "cell_type": "code",
   "execution_count": 24,
   "metadata": {},
   "outputs": [],
   "source": [
    "# 데이터 로드\n",
    "online = pd.read_csv('../test_csv/온라인.csv',encoding='cp949')"
   ]
  },
  {
   "cell_type": "code",
   "execution_count": 25,
   "metadata": {},
   "outputs": [],
   "source": [
    "# 온라인 데이터의 컬럼 이름 변경경\n",
    "online.columns = ['기준년월','성별','연령대','총이용건수','총이용금액']"
   ]
  },
  {
   "cell_type": "code",
   "execution_count": 26,
   "metadata": {},
   "outputs": [],
   "source": [
    "# online 기준년월을 데이터타임으로 변경\n",
    "online['기준년월'] = pd.to_datetime(online['기준년월'],format='%Y%m')"
   ]
  },
  {
   "cell_type": "code",
   "execution_count": 27,
   "metadata": {},
   "outputs": [],
   "source": [
    "# online 컬럼 종류에서 파생 변수 삭제 (필터)\n",
    "offline.drop(labels=['기준년','건당이용금액'], axis=1, inplace=True)"
   ]
  },
  {
   "cell_type": "code",
   "execution_count": 28,
   "metadata": {},
   "outputs": [
    {
     "data": {
      "text/html": [
       "<div>\n",
       "<style scoped>\n",
       "    .dataframe tbody tr th:only-of-type {\n",
       "        vertical-align: middle;\n",
       "    }\n",
       "\n",
       "    .dataframe tbody tr th {\n",
       "        vertical-align: top;\n",
       "    }\n",
       "\n",
       "    .dataframe thead th {\n",
       "        text-align: right;\n",
       "    }\n",
       "</style>\n",
       "<table border=\"1\" class=\"dataframe\">\n",
       "  <thead>\n",
       "    <tr style=\"text-align: right;\">\n",
       "      <th></th>\n",
       "      <th>기준년월</th>\n",
       "      <th>업종</th>\n",
       "      <th>성별</th>\n",
       "      <th>연령대</th>\n",
       "      <th>총이용건수</th>\n",
       "      <th>총이용금액</th>\n",
       "    </tr>\n",
       "  </thead>\n",
       "  <tbody>\n",
       "    <tr>\n",
       "      <th>0</th>\n",
       "      <td>2019-01-01</td>\n",
       "      <td>백화점</td>\n",
       "      <td>1</td>\n",
       "      <td>1</td>\n",
       "      <td>1</td>\n",
       "      <td>7.600000e+03</td>\n",
       "    </tr>\n",
       "    <tr>\n",
       "      <th>1</th>\n",
       "      <td>2019-01-01</td>\n",
       "      <td>백화점</td>\n",
       "      <td>1</td>\n",
       "      <td>10</td>\n",
       "      <td>379</td>\n",
       "      <td>1.945872e+07</td>\n",
       "    </tr>\n",
       "    <tr>\n",
       "      <th>2</th>\n",
       "      <td>2019-01-01</td>\n",
       "      <td>백화점</td>\n",
       "      <td>1</td>\n",
       "      <td>20</td>\n",
       "      <td>45173</td>\n",
       "      <td>4.747711e+09</td>\n",
       "    </tr>\n",
       "    <tr>\n",
       "      <th>3</th>\n",
       "      <td>2019-01-01</td>\n",
       "      <td>백화점</td>\n",
       "      <td>1</td>\n",
       "      <td>30</td>\n",
       "      <td>271858</td>\n",
       "      <td>2.791826e+10</td>\n",
       "    </tr>\n",
       "    <tr>\n",
       "      <th>4</th>\n",
       "      <td>2019-01-01</td>\n",
       "      <td>백화점</td>\n",
       "      <td>1</td>\n",
       "      <td>40</td>\n",
       "      <td>391109</td>\n",
       "      <td>3.791149e+10</td>\n",
       "    </tr>\n",
       "    <tr>\n",
       "      <th>...</th>\n",
       "      <td>...</td>\n",
       "      <td>...</td>\n",
       "      <td>...</td>\n",
       "      <td>...</td>\n",
       "      <td>...</td>\n",
       "      <td>...</td>\n",
       "    </tr>\n",
       "    <tr>\n",
       "      <th>2643</th>\n",
       "      <td>2021-09-01</td>\n",
       "      <td>편의점</td>\n",
       "      <td>2</td>\n",
       "      <td>50</td>\n",
       "      <td>844081</td>\n",
       "      <td>6.283353e+09</td>\n",
       "    </tr>\n",
       "    <tr>\n",
       "      <th>2644</th>\n",
       "      <td>2021-09-01</td>\n",
       "      <td>편의점</td>\n",
       "      <td>2</td>\n",
       "      <td>60</td>\n",
       "      <td>243768</td>\n",
       "      <td>1.997442e+09</td>\n",
       "    </tr>\n",
       "    <tr>\n",
       "      <th>2645</th>\n",
       "      <td>2021-09-01</td>\n",
       "      <td>편의점</td>\n",
       "      <td>2</td>\n",
       "      <td>70</td>\n",
       "      <td>40523</td>\n",
       "      <td>3.524203e+08</td>\n",
       "    </tr>\n",
       "    <tr>\n",
       "      <th>2646</th>\n",
       "      <td>2021-09-01</td>\n",
       "      <td>편의점</td>\n",
       "      <td>2</td>\n",
       "      <td>80</td>\n",
       "      <td>6349</td>\n",
       "      <td>5.333488e+07</td>\n",
       "    </tr>\n",
       "    <tr>\n",
       "      <th>2647</th>\n",
       "      <td>2021-09-01</td>\n",
       "      <td>편의점</td>\n",
       "      <td>2</td>\n",
       "      <td>90</td>\n",
       "      <td>273</td>\n",
       "      <td>2.619730e+06</td>\n",
       "    </tr>\n",
       "  </tbody>\n",
       "</table>\n",
       "<p>2648 rows × 6 columns</p>\n",
       "</div>"
      ],
      "text/plain": [
       "           기준년월   업종  성별  연령대   총이용건수         총이용금액\n",
       "0    2019-01-01  백화점   1    1       1  7.600000e+03\n",
       "1    2019-01-01  백화점   1   10     379  1.945872e+07\n",
       "2    2019-01-01  백화점   1   20   45173  4.747711e+09\n",
       "3    2019-01-01  백화점   1   30  271858  2.791826e+10\n",
       "4    2019-01-01  백화점   1   40  391109  3.791149e+10\n",
       "...         ...  ...  ..  ...     ...           ...\n",
       "2643 2021-09-01  편의점   2   50  844081  6.283353e+09\n",
       "2644 2021-09-01  편의점   2   60  243768  1.997442e+09\n",
       "2645 2021-09-01  편의점   2   70   40523  3.524203e+08\n",
       "2646 2021-09-01  편의점   2   80    6349  5.333488e+07\n",
       "2647 2021-09-01  편의점   2   90     273  2.619730e+06\n",
       "\n",
       "[2648 rows x 6 columns]"
      ]
     },
     "execution_count": 28,
     "metadata": {},
     "output_type": "execute_result"
    }
   ],
   "source": [
    "# 특정 컬럼만 선택 (필터)\n",
    "offline.loc[:,'기준년월':'총이용금액']"
   ]
  },
  {
   "cell_type": "code",
   "execution_count": 29,
   "metadata": {},
   "outputs": [
    {
     "data": {
      "text/plain": [
       "기준년월     0\n",
       "성별       0\n",
       "연령대      0\n",
       "총이용건수    0\n",
       "총이용금액    0\n",
       "dtype: int64"
      ]
     },
     "execution_count": 29,
     "metadata": {},
     "output_type": "execute_result"
    }
   ],
   "source": [
    "# online데이터에 결측치 확인\n",
    "online.isin(['-']).sum() # 성별 결측치 확인 왜? -> 성별 결측치는 '-'로 표시하고 있다고 했으므로."
   ]
  },
  {
   "cell_type": "code",
   "execution_count": 30,
   "metadata": {},
   "outputs": [],
   "source": [
    "# online, offline 유니언 결합\n",
    "df = pd.concat([online,offline],axis=0)"
   ]
  },
  {
   "cell_type": "code",
   "execution_count": 31,
   "metadata": {},
   "outputs": [
    {
     "data": {
      "text/html": [
       "<div>\n",
       "<style scoped>\n",
       "    .dataframe tbody tr th:only-of-type {\n",
       "        vertical-align: middle;\n",
       "    }\n",
       "\n",
       "    .dataframe tbody tr th {\n",
       "        vertical-align: top;\n",
       "    }\n",
       "\n",
       "    .dataframe thead th {\n",
       "        text-align: right;\n",
       "    }\n",
       "</style>\n",
       "<table border=\"1\" class=\"dataframe\">\n",
       "  <thead>\n",
       "    <tr style=\"text-align: right;\">\n",
       "      <th></th>\n",
       "      <th>기준년월</th>\n",
       "      <th>성별</th>\n",
       "      <th>연령대</th>\n",
       "      <th>총이용건수</th>\n",
       "      <th>총이용금액</th>\n",
       "      <th>업종</th>\n",
       "    </tr>\n",
       "  </thead>\n",
       "  <tbody>\n",
       "    <tr>\n",
       "      <th>0</th>\n",
       "      <td>2019-01-01</td>\n",
       "      <td>1</td>\n",
       "      <td>1</td>\n",
       "      <td>1</td>\n",
       "      <td>1.106850e+05</td>\n",
       "      <td>NaN</td>\n",
       "    </tr>\n",
       "    <tr>\n",
       "      <th>1</th>\n",
       "      <td>2019-01-01</td>\n",
       "      <td>1</td>\n",
       "      <td>10</td>\n",
       "      <td>2333</td>\n",
       "      <td>9.810822e+07</td>\n",
       "      <td>NaN</td>\n",
       "    </tr>\n",
       "    <tr>\n",
       "      <th>2</th>\n",
       "      <td>2019-01-01</td>\n",
       "      <td>1</td>\n",
       "      <td>20</td>\n",
       "      <td>272915</td>\n",
       "      <td>1.385408e+10</td>\n",
       "      <td>NaN</td>\n",
       "    </tr>\n",
       "    <tr>\n",
       "      <th>3</th>\n",
       "      <td>2019-01-01</td>\n",
       "      <td>1</td>\n",
       "      <td>30</td>\n",
       "      <td>1320227</td>\n",
       "      <td>8.294613e+10</td>\n",
       "      <td>NaN</td>\n",
       "    </tr>\n",
       "    <tr>\n",
       "      <th>4</th>\n",
       "      <td>2019-01-01</td>\n",
       "      <td>1</td>\n",
       "      <td>40</td>\n",
       "      <td>1372052</td>\n",
       "      <td>9.555085e+10</td>\n",
       "      <td>NaN</td>\n",
       "    </tr>\n",
       "  </tbody>\n",
       "</table>\n",
       "</div>"
      ],
      "text/plain": [
       "        기준년월  성별  연령대    총이용건수         총이용금액   업종\n",
       "0 2019-01-01   1    1        1  1.106850e+05  NaN\n",
       "1 2019-01-01   1   10     2333  9.810822e+07  NaN\n",
       "2 2019-01-01   1   20   272915  1.385408e+10  NaN\n",
       "3 2019-01-01   1   30  1320227  8.294613e+10  NaN\n",
       "4 2019-01-01   1   40  1372052  9.555085e+10  NaN"
      ]
     },
     "execution_count": 31,
     "metadata": {},
     "output_type": "execute_result"
    }
   ],
   "source": [
    "df.head()"
   ]
  },
  {
   "cell_type": "code",
   "execution_count": 32,
   "metadata": {},
   "outputs": [
    {
     "data": {
      "text/plain": [
       "np.int64(651)"
      ]
     },
     "execution_count": 32,
     "metadata": {},
     "output_type": "execute_result"
    }
   ],
   "source": [
    "# online데이터에 결측치 확인\n",
    "df['업종'].isna().sum()"
   ]
  },
  {
   "cell_type": "code",
   "execution_count": 33,
   "metadata": {},
   "outputs": [],
   "source": [
    "# 업종 결측치에 online 대체\n",
    "\n",
    "# CASE 1:\n",
    "# df['업종'].fillna('온라인')\n",
    "\n",
    "# CASE 2:\n",
    "df['업종'] = df['업종'].map(lambda x: '온라인' if pd.isna(x) else x)\n",
    "\n",
    "# CASE 3:\n",
    "# flag = df['업종'].isna()\n",
    "# df.loc[flag,'업종'] ='온라인'"
   ]
  },
  {
   "cell_type": "code",
   "execution_count": 34,
   "metadata": {},
   "outputs": [
    {
     "data": {
      "text/plain": [
       "연령대\n",
       "10    330\n",
       "20    330\n",
       "30    330\n",
       "70    330\n",
       "40    330\n",
       "50    330\n",
       "60    330\n",
       "90    330\n",
       "80    330\n",
       "0     284\n",
       "1      45\n",
       "Name: count, dtype: int64"
      ]
     },
     "execution_count": 34,
     "metadata": {},
     "output_type": "execute_result"
    }
   ],
   "source": [
    "df['연령대'].value_counts()"
   ]
  },
  {
   "cell_type": "code",
   "execution_count": 35,
   "metadata": {},
   "outputs": [
    {
     "data": {
      "text/html": [
       "<div>\n",
       "<style scoped>\n",
       "    .dataframe tbody tr th:only-of-type {\n",
       "        vertical-align: middle;\n",
       "    }\n",
       "\n",
       "    .dataframe tbody tr th {\n",
       "        vertical-align: top;\n",
       "    }\n",
       "\n",
       "    .dataframe thead th {\n",
       "        text-align: right;\n",
       "    }\n",
       "</style>\n",
       "<table border=\"1\" class=\"dataframe\">\n",
       "  <thead>\n",
       "    <tr style=\"text-align: right;\">\n",
       "      <th></th>\n",
       "      <th>기준년월</th>\n",
       "      <th>성별</th>\n",
       "      <th>연령대</th>\n",
       "      <th>총이용건수</th>\n",
       "      <th>총이용금액</th>\n",
       "      <th>업종</th>\n",
       "    </tr>\n",
       "  </thead>\n",
       "  <tbody>\n",
       "    <tr>\n",
       "      <th>10</th>\n",
       "      <td>2019-01-01</td>\n",
       "      <td>2</td>\n",
       "      <td>0</td>\n",
       "      <td>1</td>\n",
       "      <td>1000.0</td>\n",
       "      <td>온라인</td>\n",
       "    </tr>\n",
       "    <tr>\n",
       "      <th>38</th>\n",
       "      <td>2019-03-01</td>\n",
       "      <td>1</td>\n",
       "      <td>0</td>\n",
       "      <td>1</td>\n",
       "      <td>500.0</td>\n",
       "      <td>온라인</td>\n",
       "    </tr>\n",
       "    <tr>\n",
       "      <th>48</th>\n",
       "      <td>2019-03-01</td>\n",
       "      <td>2</td>\n",
       "      <td>0</td>\n",
       "      <td>2</td>\n",
       "      <td>202300.0</td>\n",
       "      <td>온라인</td>\n",
       "    </tr>\n",
       "    <tr>\n",
       "      <th>141</th>\n",
       "      <td>2019-08-01</td>\n",
       "      <td>2</td>\n",
       "      <td>0</td>\n",
       "      <td>5</td>\n",
       "      <td>189230.0</td>\n",
       "      <td>온라인</td>\n",
       "    </tr>\n",
       "    <tr>\n",
       "      <th>161</th>\n",
       "      <td>2019-09-01</td>\n",
       "      <td>2</td>\n",
       "      <td>0</td>\n",
       "      <td>4</td>\n",
       "      <td>125110.0</td>\n",
       "      <td>온라인</td>\n",
       "    </tr>\n",
       "    <tr>\n",
       "      <th>...</th>\n",
       "      <td>...</td>\n",
       "      <td>...</td>\n",
       "      <td>...</td>\n",
       "      <td>...</td>\n",
       "      <td>...</td>\n",
       "      <td>...</td>\n",
       "    </tr>\n",
       "    <tr>\n",
       "      <th>2598</th>\n",
       "      <td>2021-09-01</td>\n",
       "      <td>2</td>\n",
       "      <td>0</td>\n",
       "      <td>6</td>\n",
       "      <td>160420.0</td>\n",
       "      <td>할인점</td>\n",
       "    </tr>\n",
       "    <tr>\n",
       "      <th>2608</th>\n",
       "      <td>2021-09-01</td>\n",
       "      <td>1</td>\n",
       "      <td>0</td>\n",
       "      <td>27</td>\n",
       "      <td>1481300.0</td>\n",
       "      <td>슈퍼마켓</td>\n",
       "    </tr>\n",
       "    <tr>\n",
       "      <th>2618</th>\n",
       "      <td>2021-09-01</td>\n",
       "      <td>2</td>\n",
       "      <td>0</td>\n",
       "      <td>63</td>\n",
       "      <td>851350.0</td>\n",
       "      <td>슈퍼마켓</td>\n",
       "    </tr>\n",
       "    <tr>\n",
       "      <th>2628</th>\n",
       "      <td>2021-09-01</td>\n",
       "      <td>1</td>\n",
       "      <td>0</td>\n",
       "      <td>31</td>\n",
       "      <td>210240.0</td>\n",
       "      <td>편의점</td>\n",
       "    </tr>\n",
       "    <tr>\n",
       "      <th>2638</th>\n",
       "      <td>2021-09-01</td>\n",
       "      <td>2</td>\n",
       "      <td>0</td>\n",
       "      <td>61</td>\n",
       "      <td>375060.0</td>\n",
       "      <td>편의점</td>\n",
       "    </tr>\n",
       "  </tbody>\n",
       "</table>\n",
       "<p>284 rows × 6 columns</p>\n",
       "</div>"
      ],
      "text/plain": [
       "           기준년월  성별  연령대  총이용건수      총이용금액    업종\n",
       "10   2019-01-01   2    0      1     1000.0   온라인\n",
       "38   2019-03-01   1    0      1      500.0   온라인\n",
       "48   2019-03-01   2    0      2   202300.0   온라인\n",
       "141  2019-08-01   2    0      5   189230.0   온라인\n",
       "161  2019-09-01   2    0      4   125110.0   온라인\n",
       "...         ...  ..  ...    ...        ...   ...\n",
       "2598 2021-09-01   2    0      6   160420.0   할인점\n",
       "2608 2021-09-01   1    0     27  1481300.0  슈퍼마켓\n",
       "2618 2021-09-01   2    0     63   851350.0  슈퍼마켓\n",
       "2628 2021-09-01   1    0     31   210240.0   편의점\n",
       "2638 2021-09-01   2    0     61   375060.0   편의점\n",
       "\n",
       "[284 rows x 6 columns]"
      ]
     },
     "execution_count": 35,
     "metadata": {},
     "output_type": "execute_result"
    }
   ],
   "source": [
    "# 연령대가 0인 데이터 284개\n",
    "# 뭘까 무슨 의미일까 ????\n",
    "# 우선은 해당 데이터를 제외하고 진행.\n",
    "df.loc[df['연령대']==0]"
   ]
  },
  {
   "cell_type": "code",
   "execution_count": 36,
   "metadata": {},
   "outputs": [],
   "source": [
    "# 연령대가 0이 아닌 데이터\n",
    "df2 = df.loc[df['연령대']!=0]"
   ]
  },
  {
   "cell_type": "code",
   "execution_count": 37,
   "metadata": {},
   "outputs": [],
   "source": [
    "# 업종 별 총이용금액 합계\n",
    "group_data3 = df2.groupby(['기준년월','업종'])['총이용금액'].sum()"
   ]
  },
  {
   "cell_type": "code",
   "execution_count": 38,
   "metadata": {},
   "outputs": [
    {
     "data": {
      "text/plain": [
       "Text(0, 0.5, '총 이용금액')"
      ]
     },
     "execution_count": 38,
     "metadata": {},
     "output_type": "execute_result"
    },
    {
     "data": {
      "image/png": "[encoded data removed]",
      "text/plain": [
       "<Figure size 640x480 with 1 Axes>"
      ]
     },
     "metadata": {},
     "output_type": "display_data"
    }
   ],
   "source": [
    "group_data3.unstack().plot()\n",
    "plt.title('온라인 추가 : 업종별 총이용금액',fontsize=10)  # 제목 추가\n",
    "plt.xlabel(\"기준년월\")  # x축 라벨\n",
    "plt.ylabel(\"총 이용금액\")  # y축 라벨)"
   ]
  },
  {
   "cell_type": "code",
   "execution_count": 39,
   "metadata": {},
   "outputs": [
    {
     "name": "stderr",
     "output_type": "stream",
     "text": [
      "C:\\Users\\Owner\\AppData\\Local\\Temp\\ipykernel_34496\\3601826857.py:5: SettingWithCopyWarning: \n",
      "A value is trying to be set on a copy of a slice from a DataFrame.\n",
      "Try using .loc[row_indexer,col_indexer] = value instead\n",
      "\n",
      "See the caveats in the documentation: https://pandas.pydata.org/pandas-docs/stable/user_guide/indexing.html#returning-a-view-versus-a-copy\n",
      "  df2.loc[flag, '온/오프'] = 0\n"
     ]
    }
   ],
   "source": [
    "# 온라인과 오프라인의 그래프만 그리기\n",
    "\n",
    "# 새로운 파생변수 생성 ( 온라인이면 0, 오프라인이면 1)\n",
    "flag = df2['업종']=='온라인'\n",
    "df2.loc[flag, '온/오프'] = 0\n",
    "df2.loc[~flag, '온/오프'] = 1"
   ]
  },
  {
   "cell_type": "code",
   "execution_count": 40,
   "metadata": {},
   "outputs": [
    {
     "data": {
      "text/plain": [
       "온/오프\n",
       "1.0    2415\n",
       "0.0     600\n",
       "Name: count, dtype: int64"
      ]
     },
     "execution_count": 40,
     "metadata": {},
     "output_type": "execute_result"
    }
   ],
   "source": [
    "df2['온/오프'].value_counts()"
   ]
  },
  {
   "cell_type": "code",
   "execution_count": 41,
   "metadata": {},
   "outputs": [
    {
     "name": "stderr",
     "output_type": "stream",
     "text": [
      "C:\\Users\\Owner\\AppData\\Local\\Temp\\ipykernel_34496\\102971708.py:1: SettingWithCopyWarning: \n",
      "A value is trying to be set on a copy of a slice from a DataFrame.\n",
      "Try using .loc[row_indexer,col_indexer] = value instead\n",
      "\n",
      "See the caveats in the documentation: https://pandas.pydata.org/pandas-docs/stable/user_guide/indexing.html#returning-a-view-versus-a-copy\n",
      "  df2['온/오프'] = df2['온/오프'].map(\n"
     ]
    }
   ],
   "source": [
    "df2['온/오프'] = df2['온/오프'].map(\n",
    "    {\n",
    "        0: '온라인',\n",
    "        1: '오프라인'\n",
    "    }\n",
    ")"
   ]
  },
  {
   "cell_type": "code",
   "execution_count": 42,
   "metadata": {},
   "outputs": [
    {
     "data": {
      "text/plain": [
       "Text(0.5, 1.0, '온라인, 오프라인 총 이용금액')"
      ]
     },
     "execution_count": 42,
     "metadata": {},
     "output_type": "execute_result"
    },
    {
     "data": {
      "image/png": "[encoded data removed]",
      "text/plain": [
       "<Figure size 640x480 with 1 Axes>"
      ]
     },
     "metadata": {},
     "output_type": "display_data"
    }
   ],
   "source": [
    "df2.pivot_table(\n",
    "    index = '기준년월',\n",
    "    columns = '온/오프',\n",
    "    values = '총이용금액',\n",
    "    aggfunc = 'sum'\n",
    ").plot()\n",
    "plt.title('온라인, 오프라인 총 이용금액')"
   ]
  },
  {
   "cell_type": "code",
   "execution_count": 43,
   "metadata": {},
   "outputs": [
    {
     "data": {
      "text/plain": [
       "기준년월        업종  \n",
       "2019-01-01  백화점     4.558954e+11\n",
       "            슈퍼마켓    1.736124e+11\n",
       "            온라인     7.782817e+11\n",
       "            편의점     4.408355e+10\n",
       "            할인점     1.981718e+11\n",
       "                        ...     \n",
       "2021-09-01  백화점     4.220791e+11\n",
       "            슈퍼마켓    1.818071e+11\n",
       "            온라인     1.195268e+12\n",
       "            편의점     6.136224e+10\n",
       "            할인점     1.510787e+11\n",
       "Name: 총이용금액, Length: 165, dtype: float64"
      ]
     },
     "execution_count": 43,
     "metadata": {},
     "output_type": "execute_result"
    }
   ],
   "source": [
    "group_data3"
   ]
  },
  {
   "cell_type": "code",
   "execution_count": 44,
   "metadata": {},
   "outputs": [
    {
     "data": {
      "text/plain": [
       "<Axes: xlabel='기준년월'>"
      ]
     },
     "execution_count": 44,
     "metadata": {},
     "output_type": "execute_result"
    },
    {
     "data": {
      "image/png": "[encoded data removed]",
      "text/plain": [
       "<Figure size 640x480 with 1 Axes>"
      ]
     },
     "metadata": {},
     "output_type": "display_data"
    }
   ],
   "source": [
    "group_data3.unstack().drop('온라인',axis=1).sum(axis=1).plot()"
   ]
  }
 ],
 "metadata": {
  "kernelspec": {
   "display_name": "Python 3",
   "language": "python",
   "name": "python3"
  },
  "language_info": {
   "codemirror_mode": {
    "name": "ipython",
    "version": 3
   },
   "file_extension": ".py",
   "mimetype": "text/x-python",
   "name": "python",
   "nbconvert_exporter": "python",
   "pygments_lexer": "ipython3",
   "version": "3.13.2"
  }
 },
 "nbformat": 4,
 "nbformat_minor": 2
}
