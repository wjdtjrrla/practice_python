{
 "cells": [
  {
   "cell_type": "markdown",
   "metadata": {},
   "source": [
    "### 분류 분석\n",
    "- 실제 분류와 예측 분류가 얼마나 일치하는가를 기반으로 알고리즘 성능 평가\n",
    "\n",
    "#### 정확도\n",
    "- 실제 데이터에서 에측 데이터가 얼마나 같은지 판단하는 지표\n",
    "- 데이터 구성에 따라 머신러닝 모델의 성능을 왜곡할 가능성이 존재"
   ]
  },
  {
   "cell_type": "code",
   "execution_count": 42,
   "metadata": {},
   "outputs": [],
   "source": [
    "from sklearn.datasets import load_iris\n",
    "import pandas as pd"
   ]
  },
  {
   "cell_type": "code",
   "execution_count": 43,
   "metadata": {},
   "outputs": [],
   "source": [
    "iris_data = load_iris()"
   ]
  },
  {
   "cell_type": "code",
   "execution_count": 44,
   "metadata": {},
   "outputs": [
    {
     "data": {
      "text/html": [
       "<div>\n",
       "<style scoped>\n",
       "    .dataframe tbody tr th:only-of-type {\n",
       "        vertical-align: middle;\n",
       "    }\n",
       "\n",
       "    .dataframe tbody tr th {\n",
       "        vertical-align: top;\n",
       "    }\n",
       "\n",
       "    .dataframe thead th {\n",
       "        text-align: right;\n",
       "    }\n",
       "</style>\n",
       "<table border=\"1\" class=\"dataframe\">\n",
       "  <thead>\n",
       "    <tr style=\"text-align: right;\">\n",
       "      <th></th>\n",
       "      <th>sepal length (cm)</th>\n",
       "      <th>sepal width (cm)</th>\n",
       "      <th>petal length (cm)</th>\n",
       "      <th>petal width (cm)</th>\n",
       "    </tr>\n",
       "  </thead>\n",
       "  <tbody>\n",
       "    <tr>\n",
       "      <th>0</th>\n",
       "      <td>5.1</td>\n",
       "      <td>3.5</td>\n",
       "      <td>1.4</td>\n",
       "      <td>0.2</td>\n",
       "    </tr>\n",
       "    <tr>\n",
       "      <th>1</th>\n",
       "      <td>4.9</td>\n",
       "      <td>3.0</td>\n",
       "      <td>1.4</td>\n",
       "      <td>0.2</td>\n",
       "    </tr>\n",
       "    <tr>\n",
       "      <th>2</th>\n",
       "      <td>4.7</td>\n",
       "      <td>3.2</td>\n",
       "      <td>1.3</td>\n",
       "      <td>0.2</td>\n",
       "    </tr>\n",
       "    <tr>\n",
       "      <th>3</th>\n",
       "      <td>4.6</td>\n",
       "      <td>3.1</td>\n",
       "      <td>1.5</td>\n",
       "      <td>0.2</td>\n",
       "    </tr>\n",
       "    <tr>\n",
       "      <th>4</th>\n",
       "      <td>5.0</td>\n",
       "      <td>3.6</td>\n",
       "      <td>1.4</td>\n",
       "      <td>0.2</td>\n",
       "    </tr>\n",
       "  </tbody>\n",
       "</table>\n",
       "</div>"
      ],
      "text/plain": [
       "   sepal length (cm)  sepal width (cm)  petal length (cm)  petal width (cm)\n",
       "0                5.1               3.5                1.4               0.2\n",
       "1                4.9               3.0                1.4               0.2\n",
       "2                4.7               3.2                1.3               0.2\n",
       "3                4.6               3.1                1.5               0.2\n",
       "4                5.0               3.6                1.4               0.2"
      ]
     },
     "execution_count": 44,
     "metadata": {},
     "output_type": "execute_result"
    }
   ],
   "source": [
    "df= pd.DataFrame(iris_data['data'],columns=iris_data['feature_names'])\n",
    "df.head()"
   ]
  },
  {
   "cell_type": "code",
   "execution_count": 45,
   "metadata": {},
   "outputs": [],
   "source": [
    "iris_target = iris_data['target']"
   ]
  },
  {
   "cell_type": "code",
   "execution_count": 46,
   "metadata": {},
   "outputs": [],
   "source": [
    "# 데이터 분할\n",
    "from sklearn.model_selection import train_test_split\n",
    "\n",
    "x_train, x_test, y_train, y_test = train_test_split(\n",
    "    df,iris_target,\n",
    "    test_size=0.3,\n",
    "    stratify=iris_target,\n",
    "    random_state=10\n",
    ")"
   ]
  },
  {
   "cell_type": "code",
   "execution_count": 47,
   "metadata": {},
   "outputs": [
    {
     "data": {
      "text/plain": [
       "sepal length (cm)    0\n",
       "sepal width (cm)     0\n",
       "petal length (cm)    0\n",
       "petal width (cm)     0\n",
       "dtype: int64"
      ]
     },
     "execution_count": 47,
     "metadata": {},
     "output_type": "execute_result"
    }
   ],
   "source": [
    "#결측치 확인\n",
    "df.isna().sum()"
   ]
  },
  {
   "cell_type": "code",
   "execution_count": 48,
   "metadata": {},
   "outputs": [],
   "source": [
    "# 모델 학습\n",
    "# 의사결정나무 사용-> 분류 분석\n",
    "# 트리의 깊이는 너무 깊게하면 시간이 길어짐. 해당 코드에서는 1,3,5,7로 설정 모델 네가지 선택\n",
    "from sklearn.tree import DecisionTreeClassifier\n",
    "dctree_clf_7 = DecisionTreeClassifier(max_depth=7, random_state=10)\n",
    "dctree_clf_5 = DecisionTreeClassifier(max_depth=5, random_state=10)\n",
    "dctree_clf_3 = DecisionTreeClassifier(max_depth=3, random_state=10)\n",
    "dctree_clf_1 = DecisionTreeClassifier(max_depth=1, random_state=10)"
   ]
  },
  {
   "cell_type": "code",
   "execution_count": 49,
   "metadata": {},
   "outputs": [
    {
     "name": "stdout",
     "output_type": "stream",
     "text": [
      "교차 검증 정확도:  [0.909 1.    0.909 0.909 0.909 1.    1.    1.    0.8   0.8  ]\n",
      "평균 검증 정확도:  0.9236363636363638\n"
     ]
    }
   ],
   "source": [
    "import numpy as np\n",
    "# 검증 평가 10회\n",
    "from sklearn.model_selection import cross_val_score\n",
    "scores = cross_val_score(dctree_clf_7, x_train, y_train, cv=10,scoring='accuracy')\n",
    "print('교차 검증 정확도: ',np.round(scores,3))\n",
    "print('평균 검증 정확도: ',np.mean(scores))"
   ]
  },
  {
   "cell_type": "code",
   "execution_count": 50,
   "metadata": {},
   "outputs": [
    {
     "name": "stdout",
     "output_type": "stream",
     "text": [
      "교차 검증 정확도:  [0.909 1.    0.909 0.909 0.909 1.    1.    1.    0.8   0.8  ]\n",
      "평균 검증 정확도:  0.9236363636363638\n"
     ]
    }
   ],
   "source": [
    "scores = cross_val_score(dctree_clf_5, x_train, y_train, cv=10,scoring='accuracy')\n",
    "print('교차 검증 정확도: ',np.round(scores,3))\n",
    "print('평균 검증 정확도: ',np.mean(scores))"
   ]
  },
  {
   "cell_type": "code",
   "execution_count": 51,
   "metadata": {},
   "outputs": [
    {
     "name": "stdout",
     "output_type": "stream",
     "text": [
      "교차 검증 정확도:  [0.909 1.    0.818 0.818 0.818 1.    1.    1.    0.8   0.8  ]\n",
      "평균 검증 정확도:  0.8963636363636365\n"
     ]
    }
   ],
   "source": [
    "scores = cross_val_score(dctree_clf_3, x_train, y_train, cv=10,scoring='accuracy')\n",
    "print('교차 검증 정확도: ',np.round(scores,3))\n",
    "print('평균 검증 정확도: ',np.mean(scores))"
   ]
  },
  {
   "cell_type": "code",
   "execution_count": 52,
   "metadata": {},
   "outputs": [
    {
     "name": "stdout",
     "output_type": "stream",
     "text": [
      "교차 검증 정확도:  [0.636 0.636 0.636 0.636 0.636 0.6   0.6   0.6   0.6   0.6  ]\n",
      "평균 검증 정확도:  0.6181818181818182\n"
     ]
    }
   ],
   "source": [
    "scores = cross_val_score(dctree_clf_1, x_train, y_train, cv=10,scoring='accuracy')\n",
    "print('교차 검증 정확도: ',np.round(scores,3))\n",
    "print('평균 검증 정확도: ',np.mean(scores))"
   ]
  },
  {
   "cell_type": "code",
   "execution_count": null,
   "metadata": {},
   "outputs": [],
   "source": [
    "# 위에 결과를 보았을 때 깊이 5와 깊이 7의 평균 검증 정확도가 같으므로 깊이 5가 적합하다고 판단\n",
    "\n",
    "# 학습\n",
    "dctree_clf_5.fit(x_train,y_train)\n",
    "\n",
    "# 예측\n",
    "pred = dctree_clf_5.predict(x_test)"
   ]
  },
  {
   "cell_type": "code",
   "execution_count": 59,
   "metadata": {},
   "outputs": [
    {
     "name": "stdout",
     "output_type": "stream",
     "text": [
      "의사결정나무 깊이가 5인 예측 정확도는  1.0\n"
     ]
    }
   ],
   "source": [
    "# 예측 정확도 확인\n",
    "from sklearn.metrics import accuracy_score\n",
    "print('의사결정나무 깊이가 5인 예측 정확도는 ',round(accuracy_score(y_test,pred),2))"
   ]
  },
  {
   "cell_type": "code",
   "execution_count": 55,
   "metadata": {},
   "outputs": [],
   "source": [
    "pred_df = pd.DataFrame(pred,columns=['Pred'])\n",
    "test_df = pd.DataFrame(y_test,columns=['Test'])"
   ]
  },
  {
   "cell_type": "code",
   "execution_count": 56,
   "metadata": {},
   "outputs": [
    {
     "data": {
      "text/html": [
       "<div>\n",
       "<style scoped>\n",
       "    .dataframe tbody tr th:only-of-type {\n",
       "        vertical-align: middle;\n",
       "    }\n",
       "\n",
       "    .dataframe tbody tr th {\n",
       "        vertical-align: top;\n",
       "    }\n",
       "\n",
       "    .dataframe thead th {\n",
       "        text-align: right;\n",
       "    }\n",
       "</style>\n",
       "<table border=\"1\" class=\"dataframe\">\n",
       "  <thead>\n",
       "    <tr style=\"text-align: right;\">\n",
       "      <th></th>\n",
       "      <th>Pred</th>\n",
       "      <th>Test</th>\n",
       "    </tr>\n",
       "  </thead>\n",
       "  <tbody>\n",
       "    <tr>\n",
       "      <th>0</th>\n",
       "      <td>0</td>\n",
       "      <td>0</td>\n",
       "    </tr>\n",
       "    <tr>\n",
       "      <th>1</th>\n",
       "      <td>2</td>\n",
       "      <td>2</td>\n",
       "    </tr>\n",
       "    <tr>\n",
       "      <th>2</th>\n",
       "      <td>0</td>\n",
       "      <td>0</td>\n",
       "    </tr>\n",
       "    <tr>\n",
       "      <th>3</th>\n",
       "      <td>2</td>\n",
       "      <td>2</td>\n",
       "    </tr>\n",
       "    <tr>\n",
       "      <th>4</th>\n",
       "      <td>1</td>\n",
       "      <td>1</td>\n",
       "    </tr>\n",
       "    <tr>\n",
       "      <th>5</th>\n",
       "      <td>0</td>\n",
       "      <td>0</td>\n",
       "    </tr>\n",
       "    <tr>\n",
       "      <th>6</th>\n",
       "      <td>1</td>\n",
       "      <td>1</td>\n",
       "    </tr>\n",
       "    <tr>\n",
       "      <th>7</th>\n",
       "      <td>1</td>\n",
       "      <td>1</td>\n",
       "    </tr>\n",
       "    <tr>\n",
       "      <th>8</th>\n",
       "      <td>0</td>\n",
       "      <td>0</td>\n",
       "    </tr>\n",
       "    <tr>\n",
       "      <th>9</th>\n",
       "      <td>1</td>\n",
       "      <td>1</td>\n",
       "    </tr>\n",
       "  </tbody>\n",
       "</table>\n",
       "</div>"
      ],
      "text/plain": [
       "   Pred  Test\n",
       "0     0     0\n",
       "1     2     2\n",
       "2     0     0\n",
       "3     2     2\n",
       "4     1     1\n",
       "5     0     0\n",
       "6     1     1\n",
       "7     1     1\n",
       "8     0     0\n",
       "9     1     1"
      ]
     },
     "execution_count": 56,
     "metadata": {},
     "output_type": "execute_result"
    }
   ],
   "source": [
    "pd.concat([pred_df,test_df],axis=1).head(10)"
   ]
  },
  {
   "cell_type": "code",
   "execution_count": 85,
   "metadata": {},
   "outputs": [],
   "source": [
    "### load_wine 데이터에 로드해서 교차 검증 1,3,5 확인하여 가장 높은 깊이를 선택\n",
    "# 학습 -> 정확도 확인\n",
    "\n",
    "from sklearn.datasets import load_wine\n",
    "from sklearn.tree import DecisionTreeClassifier\n",
    "from sklearn.model_selection import cross_val_score\n",
    "\n",
    "#데이터 로드\n",
    "wine_data = load_wine()\n",
    "\n",
    "wine_df= pd.DataFrame(wine_data['data'], columns=wine_data['feature_names'])\n",
    "wine_target = wine_data['target']"
   ]
  },
  {
   "cell_type": "code",
   "execution_count": 86,
   "metadata": {},
   "outputs": [],
   "source": [
    "# 데이터 분할\n",
    "from sklearn.model_selection import train_test_split\n",
    "\n",
    "x_train, x_test, y_train, y_test = train_test_split(\n",
    "    wine_df,wine_target,\n",
    "    test_size=0.25,\n",
    "    stratify=wine_target,\n",
    "    random_state=10\n",
    ")"
   ]
  },
  {
   "cell_type": "code",
   "execution_count": 87,
   "metadata": {},
   "outputs": [],
   "source": [
    "# 교차 검증을 위한 모델 생성\n",
    "wine_tree_5 = DecisionTreeClassifier(max_depth=5, random_state=10)\n",
    "wine_tree_3 = DecisionTreeClassifier(max_depth=3, random_state=10)\n",
    "wine_tree_1 = DecisionTreeClassifier(max_depth=1, random_state=10)"
   ]
  },
  {
   "cell_type": "code",
   "execution_count": 88,
   "metadata": {},
   "outputs": [
    {
     "name": "stdout",
     "output_type": "stream",
     "text": [
      "교차 검증 정확도:  [0.929 0.929 0.857 0.923 0.769 0.846 1.    1.    0.846 1.   ]\n",
      "평균 검증 정확도:  0.9098901098901099\n"
     ]
    }
   ],
   "source": [
    "import numpy as np\n",
    "# 검증 평가(cv)는 10회\n",
    "from sklearn.model_selection import cross_val_score\n",
    "scores = cross_val_score(wine_tree_5, x_train, y_train, cv=10,scoring='accuracy')\n",
    "print('교차 검증 정확도: ',np.round(scores,3))\n",
    "print('평균 검증 정확도: ',np.mean(scores))"
   ]
  },
  {
   "cell_type": "code",
   "execution_count": 89,
   "metadata": {},
   "outputs": [
    {
     "name": "stdout",
     "output_type": "stream",
     "text": [
      "교차 검증 정확도:  [0.929 0.929 0.929 0.923 0.769 0.769 1.    1.    0.846 1.   ]\n",
      "평균 검증 정확도:  0.9093406593406593\n"
     ]
    }
   ],
   "source": [
    "scores = cross_val_score(wine_tree_3, x_train,y_train,cv=10,scoring='accuracy')\n",
    "print('교차 검증 정확도: ',np.round(scores,3))\n",
    "print('평균 검증 정확도: ',np.mean(scores))"
   ]
  },
  {
   "cell_type": "code",
   "execution_count": 90,
   "metadata": {},
   "outputs": [
    {
     "name": "stdout",
     "output_type": "stream",
     "text": [
      "교차 검증 정확도:  [0.714 0.714 0.643 0.538 0.692 0.538 0.692 0.692 0.462 0.615]\n",
      "평균 검증 정확도:  0.6302197802197803\n"
     ]
    }
   ],
   "source": [
    "scores = cross_val_score(wine_tree_1, x_train,y_train,cv=10,scoring='accuracy')\n",
    "print('교차 검증 정확도: ',np.round(scores,3))\n",
    "print('평균 검증 정확도: ',np.mean(scores))"
   ]
  },
  {
   "cell_type": "code",
   "execution_count": 91,
   "metadata": {},
   "outputs": [
    {
     "name": "stdout",
     "output_type": "stream",
     "text": [
      "의사결정나무 깊이가 5인 예측 정확도는  0.96\n"
     ]
    }
   ],
   "source": [
    "# 가장 높은 정확도 dctree_clf_5 모델로 진행\n",
    "\n",
    "# 학습\n",
    "wine_tree_5.fit(x_train,y_train)\n",
    "\n",
    "# 예측\n",
    "pred = wine_tree_5.predict(x_test)\n",
    "# 예측 정확도 확인\n",
    "from sklearn.metrics import accuracy_score\n",
    "print('의사결정나무 깊이가 5인 예측 정확도는 ',round(accuracy_score(y_test,pred),2))"
   ]
  },
  {
   "cell_type": "code",
   "execution_count": 95,
   "metadata": {},
   "outputs": [
    {
     "data": {
      "text/html": [
       "<div>\n",
       "<style scoped>\n",
       "    .dataframe tbody tr th:only-of-type {\n",
       "        vertical-align: middle;\n",
       "    }\n",
       "\n",
       "    .dataframe tbody tr th {\n",
       "        vertical-align: top;\n",
       "    }\n",
       "\n",
       "    .dataframe thead th {\n",
       "        text-align: right;\n",
       "    }\n",
       "</style>\n",
       "<table border=\"1\" class=\"dataframe\">\n",
       "  <thead>\n",
       "    <tr style=\"text-align: right;\">\n",
       "      <th></th>\n",
       "      <th>Pred</th>\n",
       "      <th>test</th>\n",
       "    </tr>\n",
       "  </thead>\n",
       "  <tbody>\n",
       "    <tr>\n",
       "      <th>0</th>\n",
       "      <td>0</td>\n",
       "      <td>0</td>\n",
       "    </tr>\n",
       "    <tr>\n",
       "      <th>1</th>\n",
       "      <td>1</td>\n",
       "      <td>1</td>\n",
       "    </tr>\n",
       "    <tr>\n",
       "      <th>2</th>\n",
       "      <td>2</td>\n",
       "      <td>2</td>\n",
       "    </tr>\n",
       "    <tr>\n",
       "      <th>3</th>\n",
       "      <td>2</td>\n",
       "      <td>2</td>\n",
       "    </tr>\n",
       "    <tr>\n",
       "      <th>4</th>\n",
       "      <td>2</td>\n",
       "      <td>2</td>\n",
       "    </tr>\n",
       "    <tr>\n",
       "      <th>5</th>\n",
       "      <td>0</td>\n",
       "      <td>0</td>\n",
       "    </tr>\n",
       "    <tr>\n",
       "      <th>6</th>\n",
       "      <td>1</td>\n",
       "      <td>1</td>\n",
       "    </tr>\n",
       "    <tr>\n",
       "      <th>7</th>\n",
       "      <td>0</td>\n",
       "      <td>0</td>\n",
       "    </tr>\n",
       "    <tr>\n",
       "      <th>8</th>\n",
       "      <td>2</td>\n",
       "      <td>2</td>\n",
       "    </tr>\n",
       "    <tr>\n",
       "      <th>9</th>\n",
       "      <td>1</td>\n",
       "      <td>1</td>\n",
       "    </tr>\n",
       "  </tbody>\n",
       "</table>\n",
       "</div>"
      ],
      "text/plain": [
       "   Pred  test\n",
       "0     0     0\n",
       "1     1     1\n",
       "2     2     2\n",
       "3     2     2\n",
       "4     2     2\n",
       "5     0     0\n",
       "6     1     1\n",
       "7     0     0\n",
       "8     2     2\n",
       "9     1     1"
      ]
     },
     "execution_count": 95,
     "metadata": {},
     "output_type": "execute_result"
    }
   ],
   "source": [
    "pred_df = pd.DataFrame(pred,columns=['Pred'])\n",
    "test_df = pd.DataFrame(y_test,columns=['test'])\n",
    "pd.concat([pred_df,test_df],axis=1).head(10)"
   ]
  },
  {
   "cell_type": "code",
   "execution_count": null,
   "metadata": {},
   "outputs": [],
   "source": []
  }
 ],
 "metadata": {
  "kernelspec": {
   "display_name": "Python 3",
   "language": "python",
   "name": "python3"
  },
  "language_info": {
   "codemirror_mode": {
    "name": "ipython",
    "version": 3
   },
   "file_extension": ".py",
   "mimetype": "text/x-python",
   "name": "python",
   "nbconvert_exporter": "python",
   "pygments_lexer": "ipython3",
   "version": "3.13.1"
  }
 },
 "nbformat": 4,
 "nbformat_minor": 2
}
