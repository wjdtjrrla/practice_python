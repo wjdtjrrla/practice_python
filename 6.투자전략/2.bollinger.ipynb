{
 "cells": [
  {
   "cell_type": "markdown",
   "metadata": {},
   "source": [
    "### 볼린저 밴드 투자 전략 \n",
    "1. 이동 평균선 : 데이터의 20개의 평균값\n",
    "2. 상단 밴드 : 이동 평균선 + (2 * 20개의 데이터의 표준편차)\n",
    "3. 하단 밴드 : 이동 평균선 - (2 * 20개의 데이터의 표준편차)\n",
    "4. 매수 타이밍 : 하단 밴드보다 이하로 가격이 떨어졌을때\n",
    "5. 매도 타이밍 : 상단 밴드보다 이상으로 가격이 올랐을때"
   ]
  },
  {
   "cell_type": "code",
   "execution_count": 1,
   "metadata": {},
   "outputs": [],
   "source": [
    "import pandas as pd\n",
    "import numpy as np\n",
    "import matplotlib.pyplot as plt\n",
    "from datetime import datetime"
   ]
  },
  {
   "cell_type": "code",
   "execution_count": 2,
   "metadata": {},
   "outputs": [
    {
     "data": {
      "text/html": [
       "<div>\n",
       "<style scoped>\n",
       "    .dataframe tbody tr th:only-of-type {\n",
       "        vertical-align: middle;\n",
       "    }\n",
       "\n",
       "    .dataframe tbody tr th {\n",
       "        vertical-align: top;\n",
       "    }\n",
       "\n",
       "    .dataframe thead th {\n",
       "        text-align: right;\n",
       "    }\n",
       "</style>\n",
       "<table border=\"1\" class=\"dataframe\">\n",
       "  <thead>\n",
       "    <tr style=\"text-align: right;\">\n",
       "      <th></th>\n",
       "      <th>Date</th>\n",
       "      <th>Open</th>\n",
       "      <th>High</th>\n",
       "      <th>Low</th>\n",
       "      <th>Close</th>\n",
       "      <th>Adj Close</th>\n",
       "      <th>Volume</th>\n",
       "    </tr>\n",
       "  </thead>\n",
       "  <tbody>\n",
       "    <tr>\n",
       "      <th>0</th>\n",
       "      <td>1986-03-13</td>\n",
       "      <td>0.088542</td>\n",
       "      <td>0.101563</td>\n",
       "      <td>0.088542</td>\n",
       "      <td>0.097222</td>\n",
       "      <td>0.069996</td>\n",
       "      <td>1031788800</td>\n",
       "    </tr>\n",
       "    <tr>\n",
       "      <th>1</th>\n",
       "      <td>1986-03-14</td>\n",
       "      <td>0.097222</td>\n",
       "      <td>0.102431</td>\n",
       "      <td>0.097222</td>\n",
       "      <td>0.100694</td>\n",
       "      <td>0.072496</td>\n",
       "      <td>308160000</td>\n",
       "    </tr>\n",
       "    <tr>\n",
       "      <th>2</th>\n",
       "      <td>1986-03-17</td>\n",
       "      <td>0.100694</td>\n",
       "      <td>0.103299</td>\n",
       "      <td>0.100694</td>\n",
       "      <td>0.102431</td>\n",
       "      <td>0.073746</td>\n",
       "      <td>133171200</td>\n",
       "    </tr>\n",
       "    <tr>\n",
       "      <th>3</th>\n",
       "      <td>1986-03-18</td>\n",
       "      <td>0.102431</td>\n",
       "      <td>0.103299</td>\n",
       "      <td>0.098958</td>\n",
       "      <td>0.099826</td>\n",
       "      <td>0.071871</td>\n",
       "      <td>67766400</td>\n",
       "    </tr>\n",
       "    <tr>\n",
       "      <th>4</th>\n",
       "      <td>1986-03-19</td>\n",
       "      <td>0.099826</td>\n",
       "      <td>0.100694</td>\n",
       "      <td>0.097222</td>\n",
       "      <td>0.098090</td>\n",
       "      <td>0.070621</td>\n",
       "      <td>47894400</td>\n",
       "    </tr>\n",
       "  </tbody>\n",
       "</table>\n",
       "</div>"
      ],
      "text/plain": [
       "         Date      Open      High       Low     Close  Adj Close      Volume\n",
       "0  1986-03-13  0.088542  0.101563  0.088542  0.097222   0.069996  1031788800\n",
       "1  1986-03-14  0.097222  0.102431  0.097222  0.100694   0.072496   308160000\n",
       "2  1986-03-17  0.100694  0.103299  0.100694  0.102431   0.073746   133171200\n",
       "3  1986-03-18  0.102431  0.103299  0.098958  0.099826   0.071871    67766400\n",
       "4  1986-03-19  0.099826  0.100694  0.097222  0.098090   0.070621    47894400"
      ]
     },
     "execution_count": 2,
     "metadata": {},
     "output_type": "execute_result"
    }
   ],
   "source": [
    "df = pd.read_csv(\"../csv/MSFT.csv\")\n",
    "df.head()"
   ]
  },
  {
   "cell_type": "code",
   "execution_count": 3,
   "metadata": {},
   "outputs": [
    {
     "name": "stdout",
     "output_type": "stream",
     "text": [
      "<class 'pandas.core.frame.DataFrame'>\n",
      "RangeIndex: 8389 entries, 0 to 8388\n",
      "Data columns (total 7 columns):\n",
      " #   Column     Non-Null Count  Dtype  \n",
      "---  ------     --------------  -----  \n",
      " 0   Date       8389 non-null   object \n",
      " 1   Open       8389 non-null   float64\n",
      " 2   High       8389 non-null   float64\n",
      " 3   Low        8389 non-null   float64\n",
      " 4   Close      8389 non-null   float64\n",
      " 5   Adj Close  8389 non-null   float64\n",
      " 6   Volume     8389 non-null   int64  \n",
      "dtypes: float64(5), int64(1), object(1)\n",
      "memory usage: 458.9+ KB\n"
     ]
    }
   ],
   "source": [
    "# 데이터프레임의 정보 확인 \n",
    "df.info()"
   ]
  },
  {
   "cell_type": "code",
   "execution_count": 4,
   "metadata": {},
   "outputs": [],
   "source": [
    "# Date 컬럼의 데이터를 시계열로 변경하고 인덱스 설정\n",
    "df['Date'] = pd.to_datetime(df['Date'])\n",
    "df.set_index('Date', inplace=True)"
   ]
  },
  {
   "cell_type": "code",
   "execution_count": 5,
   "metadata": {},
   "outputs": [],
   "source": [
    "# 결측치, 양의 무한대, 음의 무한대를 제외\n",
    "flag = df.isin( [np.nan, np.inf, -np.inf] ).any(axis=1)\n",
    "df = df.loc[~flag, ['Adj Close']]"
   ]
  },
  {
   "cell_type": "code",
   "execution_count": 6,
   "metadata": {},
   "outputs": [
    {
     "data": {
      "text/html": [
       "<div>\n",
       "<style scoped>\n",
       "    .dataframe tbody tr th:only-of-type {\n",
       "        vertical-align: middle;\n",
       "    }\n",
       "\n",
       "    .dataframe tbody tr th {\n",
       "        vertical-align: top;\n",
       "    }\n",
       "\n",
       "    .dataframe thead th {\n",
       "        text-align: right;\n",
       "    }\n",
       "</style>\n",
       "<table border=\"1\" class=\"dataframe\">\n",
       "  <thead>\n",
       "    <tr style=\"text-align: right;\">\n",
       "      <th></th>\n",
       "      <th>Adj Close</th>\n",
       "    </tr>\n",
       "    <tr>\n",
       "      <th>Date</th>\n",
       "      <th></th>\n",
       "    </tr>\n",
       "  </thead>\n",
       "  <tbody>\n",
       "    <tr>\n",
       "      <th>1986-03-13</th>\n",
       "      <td>0.069996</td>\n",
       "    </tr>\n",
       "    <tr>\n",
       "      <th>1986-03-14</th>\n",
       "      <td>0.072496</td>\n",
       "    </tr>\n",
       "    <tr>\n",
       "      <th>1986-03-17</th>\n",
       "      <td>0.073746</td>\n",
       "    </tr>\n",
       "    <tr>\n",
       "      <th>1986-03-18</th>\n",
       "      <td>0.071871</td>\n",
       "    </tr>\n",
       "    <tr>\n",
       "      <th>1986-03-19</th>\n",
       "      <td>0.070621</td>\n",
       "    </tr>\n",
       "    <tr>\n",
       "      <th>...</th>\n",
       "      <td>...</td>\n",
       "    </tr>\n",
       "    <tr>\n",
       "      <th>2019-06-18</th>\n",
       "      <td>135.160004</td>\n",
       "    </tr>\n",
       "    <tr>\n",
       "      <th>2019-06-19</th>\n",
       "      <td>135.690002</td>\n",
       "    </tr>\n",
       "    <tr>\n",
       "      <th>2019-06-20</th>\n",
       "      <td>136.949997</td>\n",
       "    </tr>\n",
       "    <tr>\n",
       "      <th>2019-06-21</th>\n",
       "      <td>136.970001</td>\n",
       "    </tr>\n",
       "    <tr>\n",
       "      <th>2019-06-24</th>\n",
       "      <td>138.289993</td>\n",
       "    </tr>\n",
       "  </tbody>\n",
       "</table>\n",
       "<p>8389 rows × 1 columns</p>\n",
       "</div>"
      ],
      "text/plain": [
       "             Adj Close\n",
       "Date                  \n",
       "1986-03-13    0.069996\n",
       "1986-03-14    0.072496\n",
       "1986-03-17    0.073746\n",
       "1986-03-18    0.071871\n",
       "1986-03-19    0.070621\n",
       "...                ...\n",
       "2019-06-18  135.160004\n",
       "2019-06-19  135.690002\n",
       "2019-06-20  136.949997\n",
       "2019-06-21  136.970001\n",
       "2019-06-24  138.289993\n",
       "\n",
       "[8389 rows x 1 columns]"
      ]
     },
     "execution_count": 6,
     "metadata": {},
     "output_type": "execute_result"
    }
   ],
   "source": [
    "df"
   ]
  },
  {
   "cell_type": "code",
   "execution_count": 7,
   "metadata": {},
   "outputs": [
    {
     "data": {
      "text/html": [
       "<div>\n",
       "<style scoped>\n",
       "    .dataframe tbody tr th:only-of-type {\n",
       "        vertical-align: middle;\n",
       "    }\n",
       "\n",
       "    .dataframe tbody tr th {\n",
       "        vertical-align: top;\n",
       "    }\n",
       "\n",
       "    .dataframe thead th {\n",
       "        text-align: right;\n",
       "    }\n",
       "</style>\n",
       "<table border=\"1\" class=\"dataframe\">\n",
       "  <thead>\n",
       "    <tr style=\"text-align: right;\">\n",
       "      <th></th>\n",
       "      <th>Adj Close</th>\n",
       "    </tr>\n",
       "    <tr>\n",
       "      <th>Date</th>\n",
       "      <th></th>\n",
       "    </tr>\n",
       "  </thead>\n",
       "  <tbody>\n",
       "    <tr>\n",
       "      <th>1986-03-13</th>\n",
       "      <td>0.069996</td>\n",
       "    </tr>\n",
       "    <tr>\n",
       "      <th>1986-03-14</th>\n",
       "      <td>0.072496</td>\n",
       "    </tr>\n",
       "    <tr>\n",
       "      <th>1986-03-17</th>\n",
       "      <td>0.073746</td>\n",
       "    </tr>\n",
       "    <tr>\n",
       "      <th>1986-03-18</th>\n",
       "      <td>0.071871</td>\n",
       "    </tr>\n",
       "    <tr>\n",
       "      <th>1986-03-19</th>\n",
       "      <td>0.070621</td>\n",
       "    </tr>\n",
       "  </tbody>\n",
       "</table>\n",
       "</div>"
      ],
      "text/plain": [
       "            Adj Close\n",
       "Date                 \n",
       "1986-03-13   0.069996\n",
       "1986-03-14   0.072496\n",
       "1986-03-17   0.073746\n",
       "1986-03-18   0.071871\n",
       "1986-03-19   0.070621"
      ]
     },
     "execution_count": 7,
     "metadata": {},
     "output_type": "execute_result"
    }
   ],
   "source": [
    "df.head()"
   ]
  },
  {
   "cell_type": "code",
   "execution_count": 8,
   "metadata": {},
   "outputs": [
    {
     "data": {
      "text/plain": [
       "Adj Close    0.069246\n",
       "dtype: float64"
      ]
     },
     "execution_count": 8,
     "metadata": {},
     "output_type": "execute_result"
    }
   ],
   "source": [
    "# 이동 평균선 생성\n",
    "# 20개의 데이터의 평균 값\n",
    "df.iloc[0:20].mean()"
   ]
  },
  {
   "cell_type": "code",
   "execution_count": 9,
   "metadata": {},
   "outputs": [],
   "source": [
    "df2 = df.copy()"
   ]
  },
  {
   "cell_type": "code",
   "execution_count": 10,
   "metadata": {},
   "outputs": [],
   "source": [
    "df2['center'] = np.nan"
   ]
  },
  {
   "cell_type": "code",
   "execution_count": 11,
   "metadata": {},
   "outputs": [
    {
     "data": {
      "text/html": [
       "<div>\n",
       "<style scoped>\n",
       "    .dataframe tbody tr th:only-of-type {\n",
       "        vertical-align: middle;\n",
       "    }\n",
       "\n",
       "    .dataframe tbody tr th {\n",
       "        vertical-align: top;\n",
       "    }\n",
       "\n",
       "    .dataframe thead th {\n",
       "        text-align: right;\n",
       "    }\n",
       "</style>\n",
       "<table border=\"1\" class=\"dataframe\">\n",
       "  <thead>\n",
       "    <tr style=\"text-align: right;\">\n",
       "      <th></th>\n",
       "      <th>Adj Close</th>\n",
       "      <th>center</th>\n",
       "    </tr>\n",
       "    <tr>\n",
       "      <th>Date</th>\n",
       "      <th></th>\n",
       "      <th></th>\n",
       "    </tr>\n",
       "  </thead>\n",
       "  <tbody>\n",
       "    <tr>\n",
       "      <th>1986-03-13</th>\n",
       "      <td>0.069996</td>\n",
       "      <td>NaN</td>\n",
       "    </tr>\n",
       "    <tr>\n",
       "      <th>1986-03-14</th>\n",
       "      <td>0.072496</td>\n",
       "      <td>NaN</td>\n",
       "    </tr>\n",
       "    <tr>\n",
       "      <th>1986-03-17</th>\n",
       "      <td>0.073746</td>\n",
       "      <td>NaN</td>\n",
       "    </tr>\n",
       "    <tr>\n",
       "      <th>1986-03-18</th>\n",
       "      <td>0.071871</td>\n",
       "      <td>NaN</td>\n",
       "    </tr>\n",
       "    <tr>\n",
       "      <th>1986-03-19</th>\n",
       "      <td>0.070621</td>\n",
       "      <td>NaN</td>\n",
       "    </tr>\n",
       "    <tr>\n",
       "      <th>...</th>\n",
       "      <td>...</td>\n",
       "      <td>...</td>\n",
       "    </tr>\n",
       "    <tr>\n",
       "      <th>2019-06-18</th>\n",
       "      <td>135.160004</td>\n",
       "      <td>128.226002</td>\n",
       "    </tr>\n",
       "    <tr>\n",
       "      <th>2019-06-19</th>\n",
       "      <td>135.690002</td>\n",
       "      <td>128.665502</td>\n",
       "    </tr>\n",
       "    <tr>\n",
       "      <th>2019-06-20</th>\n",
       "      <td>136.949997</td>\n",
       "      <td>129.129502</td>\n",
       "    </tr>\n",
       "    <tr>\n",
       "      <th>2019-06-21</th>\n",
       "      <td>136.970001</td>\n",
       "      <td>129.669002</td>\n",
       "    </tr>\n",
       "    <tr>\n",
       "      <th>2019-06-24</th>\n",
       "      <td>138.289993</td>\n",
       "      <td>NaN</td>\n",
       "    </tr>\n",
       "  </tbody>\n",
       "</table>\n",
       "<p>8389 rows × 2 columns</p>\n",
       "</div>"
      ],
      "text/plain": [
       "             Adj Close      center\n",
       "Date                              \n",
       "1986-03-13    0.069996         NaN\n",
       "1986-03-14    0.072496         NaN\n",
       "1986-03-17    0.073746         NaN\n",
       "1986-03-18    0.071871         NaN\n",
       "1986-03-19    0.070621         NaN\n",
       "...                ...         ...\n",
       "2019-06-18  135.160004  128.226002\n",
       "2019-06-19  135.690002  128.665502\n",
       "2019-06-20  136.949997  129.129502\n",
       "2019-06-21  136.970001  129.669002\n",
       "2019-06-24  138.289993         NaN\n",
       "\n",
       "[8389 rows x 2 columns]"
      ]
     },
     "execution_count": 11,
     "metadata": {},
     "output_type": "execute_result"
    }
   ],
   "source": [
    "for i in range(20, len(df2-1)):\n",
    "    mean_data = df2.iloc[i-20:i,0].mean()\n",
    "    # 평균값을 i번째 인덱스에 두 번째 컬럼(1)에 대입\n",
    "    df2.iloc[i-1,1] = mean_data\n",
    "df2"
   ]
  },
  {
   "cell_type": "code",
   "execution_count": 12,
   "metadata": {},
   "outputs": [],
   "source": [
    "# rolling(n) : n만큼 데이터를 그룹화\n",
    "df['center'] = df['Adj Close'].rolling(20).mean()"
   ]
  },
  {
   "cell_type": "code",
   "execution_count": 13,
   "metadata": {},
   "outputs": [
    {
     "data": {
      "text/html": [
       "<div>\n",
       "<style scoped>\n",
       "    .dataframe tbody tr th:only-of-type {\n",
       "        vertical-align: middle;\n",
       "    }\n",
       "\n",
       "    .dataframe tbody tr th {\n",
       "        vertical-align: top;\n",
       "    }\n",
       "\n",
       "    .dataframe thead th {\n",
       "        text-align: right;\n",
       "    }\n",
       "</style>\n",
       "<table border=\"1\" class=\"dataframe\">\n",
       "  <thead>\n",
       "    <tr style=\"text-align: right;\">\n",
       "      <th></th>\n",
       "      <th>Adj Close</th>\n",
       "      <th>center</th>\n",
       "    </tr>\n",
       "    <tr>\n",
       "      <th>Date</th>\n",
       "      <th></th>\n",
       "      <th></th>\n",
       "    </tr>\n",
       "  </thead>\n",
       "  <tbody>\n",
       "    <tr>\n",
       "      <th>1986-04-09</th>\n",
       "      <td>0.069996</td>\n",
       "      <td>NaN</td>\n",
       "    </tr>\n",
       "    <tr>\n",
       "      <th>1986-04-10</th>\n",
       "      <td>0.070621</td>\n",
       "      <td>0.069246</td>\n",
       "    </tr>\n",
       "    <tr>\n",
       "      <th>1986-04-11</th>\n",
       "      <td>0.071871</td>\n",
       "      <td>0.069340</td>\n",
       "    </tr>\n",
       "    <tr>\n",
       "      <th>1986-04-14</th>\n",
       "      <td>0.072496</td>\n",
       "      <td>0.069340</td>\n",
       "    </tr>\n",
       "  </tbody>\n",
       "</table>\n",
       "</div>"
      ],
      "text/plain": [
       "            Adj Close    center\n",
       "Date                           \n",
       "1986-04-09   0.069996       NaN\n",
       "1986-04-10   0.070621  0.069246\n",
       "1986-04-11   0.071871  0.069340\n",
       "1986-04-14   0.072496  0.069340"
      ]
     },
     "execution_count": 13,
     "metadata": {},
     "output_type": "execute_result"
    }
   ],
   "source": [
    "df.iloc[18:22]"
   ]
  },
  {
   "cell_type": "code",
   "execution_count": 14,
   "metadata": {},
   "outputs": [],
   "source": [
    "# 상단 밴드 생성\n",
    "df['up'] = df['center'] + (2 * df['Adj Close'].rolling(20).std())"
   ]
  },
  {
   "cell_type": "code",
   "execution_count": 15,
   "metadata": {},
   "outputs": [],
   "source": [
    "# 하단 밴드 생성\n",
    "df['down'] = df['center'] - (2 * df['Adj Close'].rolling(20).std())"
   ]
  },
  {
   "cell_type": "code",
   "execution_count": 16,
   "metadata": {},
   "outputs": [],
   "source": [
    "df_test = df.tail(100)"
   ]
  },
  {
   "cell_type": "code",
   "execution_count": 17,
   "metadata": {},
   "outputs": [
    {
     "data": {
      "image/png": "[encoded data removed]",
      "text/plain": [
       "<Figure size 1600x800 with 1 Axes>"
      ]
     },
     "metadata": {},
     "output_type": "display_data"
    }
   ],
   "source": [
    "# 20일 이평선과\n",
    "# 볼린져 밴드 생성 그래프\n",
    "x = df_test.index\n",
    "center_price = df_test['center']\n",
    "up_price = df_test['up']\n",
    "down_price = df_test['down']\n",
    "\n",
    "plt.figure(figsize=(16,8))\n",
    "plt.plot(x, center_price)\n",
    "plt.plot(x, up_price)\n",
    "plt.plot(x, down_price)\n",
    "\n",
    "plt.show()"
   ]
  },
  {
   "cell_type": "code",
   "execution_count": 18,
   "metadata": {},
   "outputs": [
    {
     "data": {
      "text/plain": [
       "<Axes: xlabel='Date'>"
      ]
     },
     "execution_count": 18,
     "metadata": {},
     "output_type": "execute_result"
    },
    {
     "data": {
      "image/png": "[encoded data removed]",
      "text/plain": [
       "<Figure size 640x480 with 1 Axes>"
      ]
     },
     "metadata": {},
     "output_type": "display_data"
    }
   ],
   "source": [
    "# 20일 이평선과 과거 실제 종가 데이터\n",
    "df_test[['Adj Close', 'up','down']].plot()"
   ]
  },
  {
   "cell_type": "code",
   "execution_count": 19,
   "metadata": {},
   "outputs": [],
   "source": [
    "# 원하는 시작 지점부터 그래프 생성하기\n",
    "start = '2010-01-01'"
   ]
  },
  {
   "cell_type": "code",
   "execution_count": 20,
   "metadata": {},
   "outputs": [],
   "source": [
    "start = datetime.strptime(start,'%Y-%m-%d')"
   ]
  },
  {
   "cell_type": "code",
   "execution_count": 21,
   "metadata": {},
   "outputs": [],
   "source": [
    "price_df = df.loc[start:]"
   ]
  },
  {
   "cell_type": "markdown",
   "metadata": {},
   "source": [
    "### 보유 내역 추가\n",
    "- 조건식\n",
    "    - 상단 밴드보다 수정 종가가 높거나 같은 경우 \n",
    "        - 현재 보유 상태라면?\n",
    "            - 매도(trade='')\n",
    "        - 현재 보유 상태가 아니면?\n",
    "            - 유지(trade = '')\n",
    "    - 상단 밴드보다 낮고, 하단 밴드보다 높은 경우\n",
    "        - 현재 보유 상태라면?\n",
    "            - 유지(trade='buy')\n",
    "        - 현재 보유 상태가 아니면?\n",
    "            - 유지(trade='')\n",
    "    - 하단밴드보다 수정 종가가 낮거나 같은 경우\n",
    "        - 현재 보유 상태라면?\n",
    "            - 유지(trade='buy')\n",
    "        - 보유 상태가 아니면?\n",
    "            - 매수(trade='')"
   ]
  },
  {
   "cell_type": "code",
   "execution_count": 22,
   "metadata": {},
   "outputs": [
    {
     "name": "stderr",
     "output_type": "stream",
     "text": [
      "C:\\Users\\Owner\\AppData\\Local\\Temp\\ipykernel_34156\\3496652659.py:2: SettingWithCopyWarning: \n",
      "A value is trying to be set on a copy of a slice from a DataFrame.\n",
      "Try using .loc[row_indexer,col_indexer] = value instead\n",
      "\n",
      "See the caveats in the documentation: https://pandas.pydata.org/pandas-docs/stable/user_guide/indexing.html#returning-a-view-versus-a-copy\n",
      "  price_df['trade'] = ''\n"
     ]
    }
   ],
   "source": [
    "# trade 컬럼 생성\n",
    "price_df['trade'] = ''"
   ]
  },
  {
   "cell_type": "code",
   "execution_count": 23,
   "metadata": {},
   "outputs": [
    {
     "data": {
      "text/html": [
       "<div>\n",
       "<style scoped>\n",
       "    .dataframe tbody tr th:only-of-type {\n",
       "        vertical-align: middle;\n",
       "    }\n",
       "\n",
       "    .dataframe tbody tr th {\n",
       "        vertical-align: top;\n",
       "    }\n",
       "\n",
       "    .dataframe thead th {\n",
       "        text-align: right;\n",
       "    }\n",
       "</style>\n",
       "<table border=\"1\" class=\"dataframe\">\n",
       "  <thead>\n",
       "    <tr style=\"text-align: right;\">\n",
       "      <th></th>\n",
       "      <th>Adj Close</th>\n",
       "      <th>center</th>\n",
       "      <th>up</th>\n",
       "      <th>down</th>\n",
       "      <th>trade</th>\n",
       "    </tr>\n",
       "    <tr>\n",
       "      <th>Date</th>\n",
       "      <th></th>\n",
       "      <th></th>\n",
       "      <th></th>\n",
       "      <th></th>\n",
       "      <th></th>\n",
       "    </tr>\n",
       "  </thead>\n",
       "  <tbody>\n",
       "    <tr>\n",
       "      <th>2010-01-04</th>\n",
       "      <td>24.525019</td>\n",
       "      <td>24.056307</td>\n",
       "      <td>24.964478</td>\n",
       "      <td>23.148135</td>\n",
       "      <td></td>\n",
       "    </tr>\n",
       "    <tr>\n",
       "      <th>2010-01-05</th>\n",
       "      <td>24.532942</td>\n",
       "      <td>24.095134</td>\n",
       "      <td>25.015633</td>\n",
       "      <td>23.174635</td>\n",
       "      <td></td>\n",
       "    </tr>\n",
       "    <tr>\n",
       "      <th>2010-01-06</th>\n",
       "      <td>24.382378</td>\n",
       "      <td>24.133962</td>\n",
       "      <td>25.032815</td>\n",
       "      <td>23.235109</td>\n",
       "      <td></td>\n",
       "    </tr>\n",
       "  </tbody>\n",
       "</table>\n",
       "</div>"
      ],
      "text/plain": [
       "            Adj Close     center         up       down trade\n",
       "Date                                                        \n",
       "2010-01-04  24.525019  24.056307  24.964478  23.148135      \n",
       "2010-01-05  24.532942  24.095134  25.015633  23.174635      \n",
       "2010-01-06  24.382378  24.133962  25.032815  23.235109      "
      ]
     },
     "execution_count": 23,
     "metadata": {},
     "output_type": "execute_result"
    }
   ],
   "source": [
    "price_df.head(3)"
   ]
  },
  {
   "cell_type": "code",
   "execution_count": 24,
   "metadata": {},
   "outputs": [],
   "source": [
    "for idx in price_df.index:\n",
    "    # idx에는 price_df의 인덱스 값(시계열 데이터)\n",
    "    # 상단 밴드의 값보다 수정 종가의 값이 크거나 같다면\n",
    "    if price_df.loc[idx, 'Adj Close'] >= price_df.loc[idx,'up']:\n",
    "        # 현재 보유 상태라면? -> 전날의 trade가 'buy'인 경우\n",
    "        if price_df.shift().loc[idx,'trade'] == 'buy':\n",
    "            price_df.loc[idx,'trade'] =''\n",
    "        # 현재 보유상태가 아니라면\n",
    "        else:\n",
    "            price_df.loc[idx,'trade'] =''\n",
    "            \n",
    "            \n",
    "    # 하단 밴드보다 낮거나 같다면?\n",
    "    elif price_df.loc[idx,'Adj Close'] <= price_df.loc[idx,'down']:\n",
    "        # 현재 보유 상태라면? -> 전날의 trade가 'buy'인 경우 -> 유지\n",
    "        if price_df.shift().loc[idx,'trade'] == 'buy':\n",
    "            price_df.loc[idx,'trade'] = 'buy'\n",
    "        else:\n",
    "            price_df.loc[idx,'trade'] = 'buy'\n",
    "            \n",
    "            \n",
    "    # 수정 종가가 밴드 사이에 있을 때\n",
    "    else:\n",
    "        # 현재 보유 상태라면?-> 유지\n",
    "        if price_df.shift().loc[idx,'trade'] == 'buy':\n",
    "            price_df.loc[idx,'trade'] = 'buy'\n",
    "        else:\n",
    "            price_df.loc[idx,'trade'] = ''"
   ]
  },
  {
   "cell_type": "code",
   "execution_count": 25,
   "metadata": {},
   "outputs": [
    {
     "data": {
      "text/plain": [
       "trade\n",
       "       1400\n",
       "buy     984\n",
       "Name: count, dtype: int64"
      ]
     },
     "execution_count": 25,
     "metadata": {},
     "output_type": "execute_result"
    }
   ],
   "source": [
    "price_df['trade'].value_counts()"
   ]
  },
  {
   "cell_type": "markdown",
   "metadata": {},
   "source": [
    "### 수익률 계산\n",
    "- 구매한 날의 수정 종가\n",
    "    - 전날의 trade가 ''이고, 오늘의 trade가 'buy'인 조건의 Adj Close\n",
    "- 판매한 날의 수정 종가\n",
    "    - 전날의 trade가 'buy'이고, 오늘의 trade가 ''인 조건의 Adj Close\n",
    "- 수익율\n",
    "    - 판매한 날의 수정 종가 / 구매한 날의 수정 종가"
   ]
  },
  {
   "cell_type": "code",
   "execution_count": 26,
   "metadata": {},
   "outputs": [
    {
     "name": "stderr",
     "output_type": "stream",
     "text": [
      "C:\\Users\\Owner\\AppData\\Local\\Temp\\ipykernel_34156\\1178645707.py:2: SettingWithCopyWarning: \n",
      "A value is trying to be set on a copy of a slice from a DataFrame.\n",
      "Try using .loc[row_indexer,col_indexer] = value instead\n",
      "\n",
      "See the caveats in the documentation: https://pandas.pydata.org/pandas-docs/stable/user_guide/indexing.html#returning-a-view-versus-a-copy\n",
      "  price_df['rtn'] = 1\n"
     ]
    }
   ],
   "source": [
    "# 수익률 컬럼 생성\n",
    "price_df['rtn'] = 1"
   ]
  },
  {
   "cell_type": "code",
   "execution_count": 27,
   "metadata": {},
   "outputs": [
    {
     "name": "stderr",
     "output_type": "stream",
     "text": [
      "C:\\Users\\Owner\\AppData\\Local\\Temp\\ipykernel_34156\\3792186152.py:9: FutureWarning: Setting an item of incompatible dtype is deprecated and will raise an error in a future version of pandas. Value '1.0279195322598862' has dtype incompatible with int64, please explicitly cast to a compatible dtype first.\n",
      "  price_df.loc[idx,'rtn'] = rtn\n"
     ]
    },
    {
     "name": "stdout",
     "output_type": "stream",
     "text": [
      "매수일 : 2010-01-22 00:00:00, 매수한 가격 : 22.948128\n",
      "매도일 : 2010-03-17 00:00:00, 매도한 가격 : 23.588829\n",
      "수익률은 : 1.0279195322598862\n",
      "매수일 : 2010-05-06 00:00:00, 매수한 가격 : 23.07136\n",
      "매도일 : 2010-09-13 00:00:00, 매도한 가격 : 20.187721\n",
      "수익률은 : 0.875012179602763\n",
      "매수일 : 2010-11-23 00:00:00, 매수한 가격 : 20.319853\n",
      "매도일 : 2011-01-06 00:00:00, 매도한 가격 : 23.312819\n",
      "수익률은 : 1.1472926994107686\n",
      "매수일 : 2011-03-16 00:00:00, 매수한 가격 : 20.171436\n",
      "매도일 : 2011-04-06 00:00:00, 매도한 가격 : 21.278055\n",
      "수익률은 : 1.0548606950937949\n",
      "매수일 : 2011-05-16 00:00:00, 매수한 가격 : 19.992422\n",
      "매도일 : 2011-06-27 00:00:00, 매도한 가격 : 20.639456\n",
      "수익률은 : 1.032363962705469\n",
      "매수일 : 2011-08-04 00:00:00, 매수한 가격 : 21.245531\n",
      "매도일 : 2011-08-31 00:00:00, 매도한 가격 : 21.923595\n",
      "수익률은 : 1.0319156061573607\n",
      "매수일 : 2011-11-01 00:00:00, 매수한 가격 : 21.420837\n",
      "매도일 : 2012-01-03 00:00:00, 매도한 가격 : 22.229851\n",
      "수익률은 : 1.037767618510892\n",
      "매수일 : 2012-04-04 00:00:00, 매수한 가격 : 26.087456\n",
      "매도일 : 2012-06-19 00:00:00, 매도한 가격 : 25.829544\n",
      "수익률은 : 0.9901135626256542\n",
      "매수일 : 2012-07-12 00:00:00, 매수한 가격 : 24.087934\n",
      "매도일 : 2012-09-06 00:00:00, 매도한 가격 : 26.551155\n",
      "수익률은 : 1.1022595379080664\n",
      "매수일 : 2012-09-28 00:00:00, 매수한 가격 : 25.204538\n",
      "매도일 : 2013-01-25 00:00:00, 매도한 가격 : 23.806347\n",
      "수익률은 : 0.9445262198418396\n",
      "매수일 : 2013-06-20 00:00:00, 매수한 가격 : 29.035603\n",
      "매도일 : 2013-07-11 00:00:00, 매도한 가격 : 30.942978\n",
      "수익률은 : 1.0656909036812496\n",
      "매수일 : 2013-07-19 00:00:00, 매수한 가격 : 27.223581\n",
      "매도일 : 2013-08-23 00:00:00, 매도한 가격 : 30.340303\n",
      "수익률은 : 1.11448611407882\n",
      "매수일 : 2014-01-08 00:00:00, 매수한 가격 : 31.458933\n",
      "매도일 : 2014-01-31 00:00:00, 매도한 가격 : 33.288746\n",
      "수익률은 : 1.0581651323012133\n",
      "매수일 : 2014-10-10 00:00:00, 매수한 가격 : 39.545464\n",
      "매도일 : 2015-04-23 00:00:00, 매도한 가격 : 39.450024\n",
      "수익률은 : 0.9975865752896462\n",
      "매수일 : 2015-06-08 00:00:00, 매수한 가격 : 41.896034\n",
      "매도일 : 2015-10-02 00:00:00, 매도한 가격 : 42.024754\n",
      "수익률은 : 1.0030723671839679\n",
      "매수일 : 2016-01-07 00:00:00, 매수한 가격 : 48.435574\n",
      "매도일 : 2016-03-16 00:00:00, 매도한 가격 : 50.821819\n",
      "수익률은 : 1.04926637186131\n",
      "매수일 : 2016-04-22 00:00:00, 매수한 가격 : 48.418652\n",
      "매도일 : 2016-05-25 00:00:00, 매도한 가격 : 49.077465\n",
      "수익률은 : 1.0136065952435023\n",
      "매수일 : 2016-06-27 00:00:00, 매수한 가격 : 45.602867\n",
      "매도일 : 2016-07-12 00:00:00, 매도한 가격 : 50.103844\n",
      "수익률은 : 1.0986994304546684\n",
      "매수일 : 2016-09-09 00:00:00, 매수한 가격 : 53.258598\n",
      "매도일 : 2016-10-21 00:00:00, 매도한 가격 : 56.527447\n",
      "수익률은 : 1.0613769254684475\n",
      "매수일 : 2017-08-10 00:00:00, 매수한 가격 : 68.923355\n",
      "매도일 : 2017-08-30 00:00:00, 매도한 가격 : 71.813408\n",
      "수익률은 : 1.0419314033682776\n",
      "매수일 : 2017-12-04 00:00:00, 매수한 가격 : 79.068665\n",
      "매도일 : 2017-12-15 00:00:00, 매도한 가격 : 84.695534\n",
      "수익률은 : 1.0711643354545066\n",
      "매수일 : 2018-02-08 00:00:00, 매수한 가격 : 82.901184\n",
      "매도일 : 2018-04-17 00:00:00, 매도한 가격 : 94.126915\n",
      "수익률은 : 1.135410985203782\n",
      "매수일 : 2018-06-27 00:00:00, 매수한 가격 : 95.981407\n",
      "매도일 : 2018-07-12 00:00:00, 매도한 가격 : 102.525146\n",
      "수익률은 : 1.068177152268668\n",
      "매수일 : 2018-10-10 00:00:00, 매수한 가격 : 104.865669\n",
      "매도일 : 2019-02-21 00:00:00, 매도한 가격 : 109.0065\n",
      "수익률은 : 1.0394870031296897\n",
      "매수일 : 2019-06-03 00:00:00, 매수한 가격 : 119.839996\n",
      "매도일 : 2019-06-07 00:00:00, 매도한 가격 : 131.399994\n",
      "수익률은 : 1.0964619357964598\n"
     ]
    }
   ],
   "source": [
    "for idx in price_df.index:\n",
    "    if(price_df.shift().loc[idx,'trade'] == '') & (price_df.loc[idx,'trade']=='buy'):\n",
    "        buy = price_df.loc[idx,'Adj Close']\n",
    "        print(f'매수일 : {idx}, 매수한 가격 : {buy}')\n",
    "    elif(price_df.shift().loc[idx,'trade'] == 'buy') & (price_df.loc[idx,'trade']==''):\n",
    "        sell = price_df.loc[idx,'Adj Close']\n",
    "        print(f'매도일 : {idx}, 매도한 가격 : {sell}')\n",
    "        rtn = sell/buy\n",
    "        price_df.loc[idx,'rtn'] = rtn\n",
    "        print(f'수익률은 : {rtn}')"
   ]
  },
  {
   "cell_type": "code",
   "execution_count": 28,
   "metadata": {},
   "outputs": [
    {
     "data": {
      "text/html": [
       "<div>\n",
       "<style scoped>\n",
       "    .dataframe tbody tr th:only-of-type {\n",
       "        vertical-align: middle;\n",
       "    }\n",
       "\n",
       "    .dataframe tbody tr th {\n",
       "        vertical-align: top;\n",
       "    }\n",
       "\n",
       "    .dataframe thead th {\n",
       "        text-align: right;\n",
       "    }\n",
       "</style>\n",
       "<table border=\"1\" class=\"dataframe\">\n",
       "  <thead>\n",
       "    <tr style=\"text-align: right;\">\n",
       "      <th></th>\n",
       "      <th>Adj Close</th>\n",
       "      <th>center</th>\n",
       "      <th>up</th>\n",
       "      <th>down</th>\n",
       "      <th>trade</th>\n",
       "      <th>rtn</th>\n",
       "    </tr>\n",
       "    <tr>\n",
       "      <th>Date</th>\n",
       "      <th></th>\n",
       "      <th></th>\n",
       "      <th></th>\n",
       "      <th></th>\n",
       "      <th></th>\n",
       "      <th></th>\n",
       "    </tr>\n",
       "  </thead>\n",
       "  <tbody>\n",
       "    <tr>\n",
       "      <th>2010-01-04</th>\n",
       "      <td>24.525019</td>\n",
       "      <td>24.056307</td>\n",
       "      <td>24.964478</td>\n",
       "      <td>23.148135</td>\n",
       "      <td></td>\n",
       "      <td>1.0</td>\n",
       "    </tr>\n",
       "    <tr>\n",
       "      <th>2010-01-05</th>\n",
       "      <td>24.532942</td>\n",
       "      <td>24.095134</td>\n",
       "      <td>25.015633</td>\n",
       "      <td>23.174635</td>\n",
       "      <td></td>\n",
       "      <td>1.0</td>\n",
       "    </tr>\n",
       "    <tr>\n",
       "      <th>2010-01-06</th>\n",
       "      <td>24.382378</td>\n",
       "      <td>24.133962</td>\n",
       "      <td>25.032815</td>\n",
       "      <td>23.235109</td>\n",
       "      <td></td>\n",
       "      <td>1.0</td>\n",
       "    </tr>\n",
       "  </tbody>\n",
       "</table>\n",
       "</div>"
      ],
      "text/plain": [
       "            Adj Close     center         up       down trade  rtn\n",
       "Date                                                             \n",
       "2010-01-04  24.525019  24.056307  24.964478  23.148135        1.0\n",
       "2010-01-05  24.532942  24.095134  25.015633  23.174635        1.0\n",
       "2010-01-06  24.382378  24.133962  25.032815  23.235109        1.0"
      ]
     },
     "execution_count": 28,
     "metadata": {},
     "output_type": "execute_result"
    }
   ],
   "source": [
    "price_df.head(3)"
   ]
  },
  {
   "cell_type": "code",
   "execution_count": 29,
   "metadata": {},
   "outputs": [
    {
     "data": {
      "text/plain": [
       "np.float64(2.985057953026086)"
      ]
     },
     "execution_count": 29,
     "metadata": {},
     "output_type": "execute_result"
    }
   ],
   "source": [
    "acc_rtn = 1\n",
    "\n",
    "for idx in price_df.index:\n",
    "    acc_rtn *= price_df.loc[idx,'rtn']\n",
    "acc_rtn"
   ]
  },
  {
   "cell_type": "code",
   "execution_count": 30,
   "metadata": {},
   "outputs": [
    {
     "data": {
      "text/plain": [
       "Date\n",
       "2010-01-04    1.000000\n",
       "2010-01-05    1.000000\n",
       "2010-01-06    1.000000\n",
       "2010-01-07    1.000000\n",
       "2010-01-08    1.000000\n",
       "                ...   \n",
       "2019-06-18    2.985058\n",
       "2019-06-19    2.985058\n",
       "2019-06-20    2.985058\n",
       "2019-06-21    2.985058\n",
       "2019-06-24    2.985058\n",
       "Name: rtn, Length: 2384, dtype: float64"
      ]
     },
     "execution_count": 30,
     "metadata": {},
     "output_type": "execute_result"
    }
   ],
   "source": [
    "# 누적 수익률 계산\n",
    "price_df['rtn'].cumprod()"
   ]
  },
  {
   "cell_type": "markdown",
   "metadata": {},
   "source": [
    "#### 볼린저 밴드의 함수화\n",
    "1. 첫번째 함수\n",
    "    - 밴드를 생성하는 함수\n",
    "        - 매개변수 5개\n",
    "            - DataFrame\n",
    "            - 기준이 되는 컬럼의 이름 ('Adj Close')\n",
    "            - 시작 시간 ('2010-01-01')\n",
    "            - 종료 시간 (현재 시간)\n",
    "            - 볼린저 밴드의 그룹이 되는 데이터의 개수 (20) 며칠 평균선?\n",
    "        - 데이터 프레임에 컬럼 중 Date가 존재하는가?\n",
    "            - 존재한다면 Date 컬럼을 인덱스로 변경\n",
    "        - index를 시계열 데이터로 변경\n",
    "        - 결측치와 무한대 값을 제외\n",
    "        - 기준이 되는 컬럼을 제외하고 모두 삭제\n",
    "        - 이평선, 상단밴드, 하단 밴드 컬럼 생성\n",
    "        - 시작 시간과 종료 시간을 기준으로 필터링\n",
    "        - 위에서 작업 한 결과를 되돌려준다."
   ]
  },
  {
   "cell_type": "code",
   "execution_count": 31,
   "metadata": {},
   "outputs": [],
   "source": [
    "def create_band(_df,\n",
    "                  _stdcol='Adj Close',\n",
    "                  _start = '2010-01-01',\n",
    "                  _end = datetime.now(),\n",
    "                  _cnt = 20):\n",
    "    result = _df.copy()\n",
    "    # 데이터 프레임 중 date가 존재한다면 date를 인덱스로 재설정\n",
    "    if 'Date' in result.columns:\n",
    "        # 데이터 프레임의 인덱스 재설정\n",
    "        result.set_index('Date',inplace=True)\n",
    "    # index 타입을 datetime으로 변환\n",
    "    result.index = pd.to_datetime(result.index)\n",
    "        \n",
    "    # 결측치와 무한대 값 제거\n",
    "    flag = result.isin([np.nan,np.inf,-np.inf]).any(axis=1)\n",
    "    result = result.loc[~flag, [_stdcol]] # 동시에 기준이 되는 컬럼을 제외한 나머지 컬럼 삭제\n",
    "    \n",
    "    #이평선 먼저 생성\n",
    "    result['center'] = result[_stdcol].rolling(_cnt).mean()\n",
    "    \n",
    "    # 상단 밴드, 하단 밴드 컬럼 생성\n",
    "    result['up'] = result['center'] + (2 * result[_stdcol].rolling(_cnt).std())\n",
    "    result['down'] = result['center'] - (2 * result[_stdcol].rolling(_cnt).std())\n",
    "    \n",
    "    # 시작 시간과 종료 시간을 시계열ㄷ ㅔ이터로 변경\n",
    "    try :\n",
    "        start = datetime.strptime(_start,'%Y-%m-%d')\n",
    "        if type(_end) == 'str' :\n",
    "            end = datetime.strptime(_end, '%Y-%m-%d')\n",
    "        else:\n",
    "            end = _end\n",
    "    except:\n",
    "        print('시작 시간과 종료 시간의 포멧은 YYYY-mm-dd입니다.')\n",
    "        return ''\n",
    "    \n",
    "    result = result.loc[start: end]\n",
    "    return result"
   ]
  },
  {
   "cell_type": "code",
   "execution_count": 32,
   "metadata": {},
   "outputs": [
    {
     "data": {
      "text/html": [
       "<div>\n",
       "<style scoped>\n",
       "    .dataframe tbody tr th:only-of-type {\n",
       "        vertical-align: middle;\n",
       "    }\n",
       "\n",
       "    .dataframe tbody tr th {\n",
       "        vertical-align: top;\n",
       "    }\n",
       "\n",
       "    .dataframe thead th {\n",
       "        text-align: right;\n",
       "    }\n",
       "</style>\n",
       "<table border=\"1\" class=\"dataframe\">\n",
       "  <thead>\n",
       "    <tr style=\"text-align: right;\">\n",
       "      <th></th>\n",
       "      <th>Date</th>\n",
       "      <th>Open</th>\n",
       "      <th>High</th>\n",
       "      <th>Low</th>\n",
       "      <th>Close</th>\n",
       "      <th>Adj Close</th>\n",
       "      <th>Volume</th>\n",
       "    </tr>\n",
       "  </thead>\n",
       "  <tbody>\n",
       "    <tr>\n",
       "      <th>0</th>\n",
       "      <td>1986-03-13</td>\n",
       "      <td>0.088542</td>\n",
       "      <td>0.101563</td>\n",
       "      <td>0.088542</td>\n",
       "      <td>0.097222</td>\n",
       "      <td>0.069996</td>\n",
       "      <td>1031788800</td>\n",
       "    </tr>\n",
       "    <tr>\n",
       "      <th>1</th>\n",
       "      <td>1986-03-14</td>\n",
       "      <td>0.097222</td>\n",
       "      <td>0.102431</td>\n",
       "      <td>0.097222</td>\n",
       "      <td>0.100694</td>\n",
       "      <td>0.072496</td>\n",
       "      <td>308160000</td>\n",
       "    </tr>\n",
       "    <tr>\n",
       "      <th>2</th>\n",
       "      <td>1986-03-17</td>\n",
       "      <td>0.100694</td>\n",
       "      <td>0.103299</td>\n",
       "      <td>0.100694</td>\n",
       "      <td>0.102431</td>\n",
       "      <td>0.073746</td>\n",
       "      <td>133171200</td>\n",
       "    </tr>\n",
       "    <tr>\n",
       "      <th>3</th>\n",
       "      <td>1986-03-18</td>\n",
       "      <td>0.102431</td>\n",
       "      <td>0.103299</td>\n",
       "      <td>0.098958</td>\n",
       "      <td>0.099826</td>\n",
       "      <td>0.071871</td>\n",
       "      <td>67766400</td>\n",
       "    </tr>\n",
       "    <tr>\n",
       "      <th>4</th>\n",
       "      <td>1986-03-19</td>\n",
       "      <td>0.099826</td>\n",
       "      <td>0.100694</td>\n",
       "      <td>0.097222</td>\n",
       "      <td>0.098090</td>\n",
       "      <td>0.070621</td>\n",
       "      <td>47894400</td>\n",
       "    </tr>\n",
       "  </tbody>\n",
       "</table>\n",
       "</div>"
      ],
      "text/plain": [
       "         Date      Open      High       Low     Close  Adj Close      Volume\n",
       "0  1986-03-13  0.088542  0.101563  0.088542  0.097222   0.069996  1031788800\n",
       "1  1986-03-14  0.097222  0.102431  0.097222  0.100694   0.072496   308160000\n",
       "2  1986-03-17  0.100694  0.103299  0.100694  0.102431   0.073746   133171200\n",
       "3  1986-03-18  0.102431  0.103299  0.098958  0.099826   0.071871    67766400\n",
       "4  1986-03-19  0.099826  0.100694  0.097222  0.098090   0.070621    47894400"
      ]
     },
     "execution_count": 32,
     "metadata": {},
     "output_type": "execute_result"
    }
   ],
   "source": [
    "df11 = pd.read_csv(\"../csv/MSFT.csv\")\n",
    "df11.head()\n"
   ]
  },
  {
   "cell_type": "code",
   "execution_count": 33,
   "metadata": {},
   "outputs": [
    {
     "data": {
      "text/html": [
       "<div>\n",
       "<style scoped>\n",
       "    .dataframe tbody tr th:only-of-type {\n",
       "        vertical-align: middle;\n",
       "    }\n",
       "\n",
       "    .dataframe tbody tr th {\n",
       "        vertical-align: top;\n",
       "    }\n",
       "\n",
       "    .dataframe thead th {\n",
       "        text-align: right;\n",
       "    }\n",
       "</style>\n",
       "<table border=\"1\" class=\"dataframe\">\n",
       "  <thead>\n",
       "    <tr style=\"text-align: right;\">\n",
       "      <th></th>\n",
       "      <th>Adj Close</th>\n",
       "      <th>center</th>\n",
       "      <th>up</th>\n",
       "      <th>down</th>\n",
       "    </tr>\n",
       "    <tr>\n",
       "      <th>Date</th>\n",
       "      <th></th>\n",
       "      <th></th>\n",
       "      <th></th>\n",
       "      <th></th>\n",
       "    </tr>\n",
       "  </thead>\n",
       "  <tbody>\n",
       "    <tr>\n",
       "      <th>2010-01-04</th>\n",
       "      <td>24.525019</td>\n",
       "      <td>24.056307</td>\n",
       "      <td>24.964478</td>\n",
       "      <td>23.148135</td>\n",
       "    </tr>\n",
       "    <tr>\n",
       "      <th>2010-01-05</th>\n",
       "      <td>24.532942</td>\n",
       "      <td>24.095134</td>\n",
       "      <td>25.015633</td>\n",
       "      <td>23.174635</td>\n",
       "    </tr>\n",
       "    <tr>\n",
       "      <th>2010-01-06</th>\n",
       "      <td>24.382378</td>\n",
       "      <td>24.133962</td>\n",
       "      <td>25.032815</td>\n",
       "      <td>23.235109</td>\n",
       "    </tr>\n",
       "    <tr>\n",
       "      <th>2010-01-07</th>\n",
       "      <td>24.128809</td>\n",
       "      <td>24.168828</td>\n",
       "      <td>25.004852</td>\n",
       "      <td>23.332803</td>\n",
       "    </tr>\n",
       "    <tr>\n",
       "      <th>2010-01-08</th>\n",
       "      <td>24.295214</td>\n",
       "      <td>24.206467</td>\n",
       "      <td>24.989876</td>\n",
       "      <td>23.423058</td>\n",
       "    </tr>\n",
       "    <tr>\n",
       "      <th>...</th>\n",
       "      <td>...</td>\n",
       "      <td>...</td>\n",
       "      <td>...</td>\n",
       "      <td>...</td>\n",
       "    </tr>\n",
       "    <tr>\n",
       "      <th>2019-06-18</th>\n",
       "      <td>135.160004</td>\n",
       "      <td>128.226002</td>\n",
       "      <td>136.343399</td>\n",
       "      <td>120.108604</td>\n",
       "    </tr>\n",
       "    <tr>\n",
       "      <th>2019-06-19</th>\n",
       "      <td>135.690002</td>\n",
       "      <td>128.665502</td>\n",
       "      <td>137.408349</td>\n",
       "      <td>119.922655</td>\n",
       "    </tr>\n",
       "    <tr>\n",
       "      <th>2019-06-20</th>\n",
       "      <td>136.949997</td>\n",
       "      <td>129.129502</td>\n",
       "      <td>138.604271</td>\n",
       "      <td>119.654733</td>\n",
       "    </tr>\n",
       "    <tr>\n",
       "      <th>2019-06-21</th>\n",
       "      <td>136.970001</td>\n",
       "      <td>129.669002</td>\n",
       "      <td>139.651788</td>\n",
       "      <td>119.686216</td>\n",
       "    </tr>\n",
       "    <tr>\n",
       "      <th>2019-06-24</th>\n",
       "      <td>138.289993</td>\n",
       "      <td>130.271501</td>\n",
       "      <td>140.821327</td>\n",
       "      <td>119.721676</td>\n",
       "    </tr>\n",
       "  </tbody>\n",
       "</table>\n",
       "<p>2384 rows × 4 columns</p>\n",
       "</div>"
      ],
      "text/plain": [
       "             Adj Close      center          up        down\n",
       "Date                                                      \n",
       "2010-01-04   24.525019   24.056307   24.964478   23.148135\n",
       "2010-01-05   24.532942   24.095134   25.015633   23.174635\n",
       "2010-01-06   24.382378   24.133962   25.032815   23.235109\n",
       "2010-01-07   24.128809   24.168828   25.004852   23.332803\n",
       "2010-01-08   24.295214   24.206467   24.989876   23.423058\n",
       "...                ...         ...         ...         ...\n",
       "2019-06-18  135.160004  128.226002  136.343399  120.108604\n",
       "2019-06-19  135.690002  128.665502  137.408349  119.922655\n",
       "2019-06-20  136.949997  129.129502  138.604271  119.654733\n",
       "2019-06-21  136.970001  129.669002  139.651788  119.686216\n",
       "2019-06-24  138.289993  130.271501  140.821327  119.721676\n",
       "\n",
       "[2384 rows x 4 columns]"
      ]
     },
     "execution_count": 33,
     "metadata": {},
     "output_type": "execute_result"
    }
   ],
   "source": [
    "create_band(df11)"
   ]
  },
  {
   "cell_type": "markdown",
   "metadata": {},
   "source": [
    "2. 두번째 함수\n",
    "- 트레이드 컬럼을 생성하는 함수\n",
    "    - 매개변수 1 개 (create_band()함수의 결과)\n",
    "- 복사본 생성\n",
    "- 데이터프레임에서 첫번째 컬럼의 이름을 변수(col)에 저장\n",
    "- trade 컬럼을 생성해서 '' 을 대입\n",
    "- 보유 내역을 반복문을 이용하여 대입\n",
    "- 해당 결과를 되돌려줌"
   ]
  },
  {
   "cell_type": "code",
   "execution_count": 34,
   "metadata": {},
   "outputs": [],
   "source": [
    "def create_trade(_cb_result):\n",
    "    # 복사본 생성\n",
    "    df = _cb_result.copy()\n",
    "    \n",
    "    #데이터프레임에서 첫번째 컬럼 이름 col에 저장\n",
    "    col = df.columns[0]\n",
    "    # trade 컬럼 생성, ' ' 대입\n",
    "    df['trade'] = ''\n",
    "    for idx in df.index:\n",
    "        # 상단 밴드보다 높은 가격일 때\n",
    "        if df.loc[idx,col] >= df.loc[idx,'up']:\n",
    "            # 현재 보유 상태라면?\n",
    "            if df.shift().loc[idx,'trade'] == 'buy':\n",
    "                df.loc[idx,'trade'] = ''\n",
    "            else:\n",
    "                df.loc[idx,'trade'] = ''\n",
    "        \n",
    "        # 하단 밴드보다 낮은 가격일 때\n",
    "        elif df.loc[idx,col] <= df.loc[idx,'down']:\n",
    "            if df.shift().loc[idx,'trade'] == 'buy':\n",
    "                df.loc[idx,'trade'] = 'buy'\n",
    "            else:\n",
    "                df.loc[idx,'trade'] = 'buy'\n",
    "        # 밴드 중간에 있을 때\n",
    "        else:\n",
    "            if df.shift().loc[idx,'trade'] == 'buy':\n",
    "                df.loc[idx,'trade'] = 'buy'\n",
    "            else:\n",
    "                df.loc[idx,'trade'] = ''\n",
    "    return df"
   ]
  },
  {
   "cell_type": "code",
   "execution_count": 35,
   "metadata": {},
   "outputs": [
    {
     "data": {
      "text/plain": [
       "trade\n",
       "       1400\n",
       "buy     984\n",
       "Name: count, dtype: int64"
      ]
     },
     "execution_count": 35,
     "metadata": {},
     "output_type": "execute_result"
    }
   ],
   "source": [
    "create_trade(create_band(df11))['trade'].value_counts()"
   ]
  },
  {
   "cell_type": "markdown",
   "metadata": {},
   "source": [
    "3. 세번째 함수\n",
    "- 수익률을 계산하는 함수\n",
    "    - 매개변수 1개 : create_trade() 함수의 결과\n",
    "- 복사본 생성\n",
    "- 컬럼의 첫 번째 이름을 변수(col)에 저장\n",
    "- 수익율 컬럼 하나 생성하고 1 대입\n",
    "- 매수인 경우, 매도인 경우를 찾아서 수익률 rtn에 대입\n",
    "- 수익률 데이터를 기준으로 하여 누적 수익율 컬럼을 생성, 대입\n",
    "- 생성된 데이터프레임과 최종 누적 수익율을 되돌려줌\n"
   ]
  },
  {
   "cell_type": "code",
   "execution_count": 36,
   "metadata": {},
   "outputs": [],
   "source": [
    "def create_rtn(_df):\n",
    "    result = _df.copy()\n",
    "    \n",
    "    col = result.columns[0]\n",
    "    \n",
    "    result['rtn'] = 1\n",
    "    \n",
    "    for idx in result.index:\n",
    "        #매수일 \n",
    "        if result.shift().loc[idx,'trade'] == '' and result.loc[idx,'trade'] =='buy':\n",
    "            buy = result.loc[idx,col]\n",
    "        #매도일\n",
    "        elif result.shift().loc[idx,'trade'] =='buy' and result.loc[idx,'trade'] == '':\n",
    "            sell = result.loc[idx,col]\n",
    "            rtn = sell / buy\n",
    "            result.loc[idx,'rtn'] = rtn\n",
    "    # 누적 수익률\n",
    "    result['acc_rtn'] = result['rtn'].cumprod()\n",
    "    # 최종 누적 수익율 변수 저장\n",
    "    acc_rtn = result.iloc[-1,-1]\n",
    "    return result, acc_rtn"
   ]
  },
  {
   "cell_type": "code",
   "execution_count": 37,
   "metadata": {},
   "outputs": [
    {
     "name": "stderr",
     "output_type": "stream",
     "text": [
      "C:\\Users\\Owner\\AppData\\Local\\Temp\\ipykernel_34156\\849643288.py:16: FutureWarning: Setting an item of incompatible dtype is deprecated and will raise an error in a future version of pandas. Value '1.0279195322598862' has dtype incompatible with int64, please explicitly cast to a compatible dtype first.\n",
      "  result.loc[idx,'rtn'] = rtn\n"
     ]
    },
    {
     "data": {
      "text/plain": [
       "np.float64(2.985057953026086)"
      ]
     },
     "execution_count": 37,
     "metadata": {},
     "output_type": "execute_result"
    }
   ],
   "source": [
    "create_rtn(create_trade(create_band(df11)))[1]"
   ]
  },
  {
   "cell_type": "code",
   "execution_count": 38,
   "metadata": {},
   "outputs": [
    {
     "name": "stderr",
     "output_type": "stream",
     "text": [
      "C:\\Users\\Owner\\AppData\\Local\\Temp\\ipykernel_34156\\849643288.py:16: FutureWarning: Setting an item of incompatible dtype is deprecated and will raise an error in a future version of pandas. Value '1.0279195322598862' has dtype incompatible with int64, please explicitly cast to a compatible dtype first.\n",
      "  result.loc[idx,'rtn'] = rtn\n"
     ]
    },
    {
     "data": {
      "text/html": [
       "<div>\n",
       "<style scoped>\n",
       "    .dataframe tbody tr th:only-of-type {\n",
       "        vertical-align: middle;\n",
       "    }\n",
       "\n",
       "    .dataframe tbody tr th {\n",
       "        vertical-align: top;\n",
       "    }\n",
       "\n",
       "    .dataframe thead th {\n",
       "        text-align: right;\n",
       "    }\n",
       "</style>\n",
       "<table border=\"1\" class=\"dataframe\">\n",
       "  <thead>\n",
       "    <tr style=\"text-align: right;\">\n",
       "      <th></th>\n",
       "      <th>Adj Close</th>\n",
       "      <th>center</th>\n",
       "      <th>up</th>\n",
       "      <th>down</th>\n",
       "      <th>trade</th>\n",
       "      <th>rtn</th>\n",
       "      <th>acc_rtn</th>\n",
       "    </tr>\n",
       "    <tr>\n",
       "      <th>Date</th>\n",
       "      <th></th>\n",
       "      <th></th>\n",
       "      <th></th>\n",
       "      <th></th>\n",
       "      <th></th>\n",
       "      <th></th>\n",
       "      <th></th>\n",
       "    </tr>\n",
       "  </thead>\n",
       "  <tbody>\n",
       "    <tr>\n",
       "      <th>2010-01-04</th>\n",
       "      <td>24.525019</td>\n",
       "      <td>24.056307</td>\n",
       "      <td>24.964478</td>\n",
       "      <td>23.148135</td>\n",
       "      <td></td>\n",
       "      <td>1.0</td>\n",
       "      <td>1.000000</td>\n",
       "    </tr>\n",
       "    <tr>\n",
       "      <th>2010-01-05</th>\n",
       "      <td>24.532942</td>\n",
       "      <td>24.095134</td>\n",
       "      <td>25.015633</td>\n",
       "      <td>23.174635</td>\n",
       "      <td></td>\n",
       "      <td>1.0</td>\n",
       "      <td>1.000000</td>\n",
       "    </tr>\n",
       "    <tr>\n",
       "      <th>2010-01-06</th>\n",
       "      <td>24.382378</td>\n",
       "      <td>24.133962</td>\n",
       "      <td>25.032815</td>\n",
       "      <td>23.235109</td>\n",
       "      <td></td>\n",
       "      <td>1.0</td>\n",
       "      <td>1.000000</td>\n",
       "    </tr>\n",
       "    <tr>\n",
       "      <th>2010-01-07</th>\n",
       "      <td>24.128809</td>\n",
       "      <td>24.168828</td>\n",
       "      <td>25.004852</td>\n",
       "      <td>23.332803</td>\n",
       "      <td></td>\n",
       "      <td>1.0</td>\n",
       "      <td>1.000000</td>\n",
       "    </tr>\n",
       "    <tr>\n",
       "      <th>2010-01-08</th>\n",
       "      <td>24.295214</td>\n",
       "      <td>24.206467</td>\n",
       "      <td>24.989876</td>\n",
       "      <td>23.423058</td>\n",
       "      <td></td>\n",
       "      <td>1.0</td>\n",
       "      <td>1.000000</td>\n",
       "    </tr>\n",
       "    <tr>\n",
       "      <th>...</th>\n",
       "      <td>...</td>\n",
       "      <td>...</td>\n",
       "      <td>...</td>\n",
       "      <td>...</td>\n",
       "      <td>...</td>\n",
       "      <td>...</td>\n",
       "      <td>...</td>\n",
       "    </tr>\n",
       "    <tr>\n",
       "      <th>2019-06-18</th>\n",
       "      <td>135.160004</td>\n",
       "      <td>128.226002</td>\n",
       "      <td>136.343399</td>\n",
       "      <td>120.108604</td>\n",
       "      <td></td>\n",
       "      <td>1.0</td>\n",
       "      <td>2.985058</td>\n",
       "    </tr>\n",
       "    <tr>\n",
       "      <th>2019-06-19</th>\n",
       "      <td>135.690002</td>\n",
       "      <td>128.665502</td>\n",
       "      <td>137.408349</td>\n",
       "      <td>119.922655</td>\n",
       "      <td></td>\n",
       "      <td>1.0</td>\n",
       "      <td>2.985058</td>\n",
       "    </tr>\n",
       "    <tr>\n",
       "      <th>2019-06-20</th>\n",
       "      <td>136.949997</td>\n",
       "      <td>129.129502</td>\n",
       "      <td>138.604271</td>\n",
       "      <td>119.654733</td>\n",
       "      <td></td>\n",
       "      <td>1.0</td>\n",
       "      <td>2.985058</td>\n",
       "    </tr>\n",
       "    <tr>\n",
       "      <th>2019-06-21</th>\n",
       "      <td>136.970001</td>\n",
       "      <td>129.669002</td>\n",
       "      <td>139.651788</td>\n",
       "      <td>119.686216</td>\n",
       "      <td></td>\n",
       "      <td>1.0</td>\n",
       "      <td>2.985058</td>\n",
       "    </tr>\n",
       "    <tr>\n",
       "      <th>2019-06-24</th>\n",
       "      <td>138.289993</td>\n",
       "      <td>130.271501</td>\n",
       "      <td>140.821327</td>\n",
       "      <td>119.721676</td>\n",
       "      <td></td>\n",
       "      <td>1.0</td>\n",
       "      <td>2.985058</td>\n",
       "    </tr>\n",
       "  </tbody>\n",
       "</table>\n",
       "<p>2384 rows × 7 columns</p>\n",
       "</div>"
      ],
      "text/plain": [
       "             Adj Close      center          up        down trade  rtn  \\\n",
       "Date                                                                    \n",
       "2010-01-04   24.525019   24.056307   24.964478   23.148135        1.0   \n",
       "2010-01-05   24.532942   24.095134   25.015633   23.174635        1.0   \n",
       "2010-01-06   24.382378   24.133962   25.032815   23.235109        1.0   \n",
       "2010-01-07   24.128809   24.168828   25.004852   23.332803        1.0   \n",
       "2010-01-08   24.295214   24.206467   24.989876   23.423058        1.0   \n",
       "...                ...         ...         ...         ...   ...  ...   \n",
       "2019-06-18  135.160004  128.226002  136.343399  120.108604        1.0   \n",
       "2019-06-19  135.690002  128.665502  137.408349  119.922655        1.0   \n",
       "2019-06-20  136.949997  129.129502  138.604271  119.654733        1.0   \n",
       "2019-06-21  136.970001  129.669002  139.651788  119.686216        1.0   \n",
       "2019-06-24  138.289993  130.271501  140.821327  119.721676        1.0   \n",
       "\n",
       "             acc_rtn  \n",
       "Date                  \n",
       "2010-01-04  1.000000  \n",
       "2010-01-05  1.000000  \n",
       "2010-01-06  1.000000  \n",
       "2010-01-07  1.000000  \n",
       "2010-01-08  1.000000  \n",
       "...              ...  \n",
       "2019-06-18  2.985058  \n",
       "2019-06-19  2.985058  \n",
       "2019-06-20  2.985058  \n",
       "2019-06-21  2.985058  \n",
       "2019-06-24  2.985058  \n",
       "\n",
       "[2384 rows x 7 columns]"
      ]
     },
     "execution_count": 38,
     "metadata": {},
     "output_type": "execute_result"
    }
   ],
   "source": [
    "create_rtn(create_trade(create_band(df11)))[0]"
   ]
  }
 ],
 "metadata": {
  "kernelspec": {
   "display_name": "Python 3",
   "language": "python",
   "name": "python3"
  },
  "language_info": {
   "codemirror_mode": {
    "name": "ipython",
    "version": 3
   },
   "file_extension": ".py",
   "mimetype": "text/x-python",
   "name": "python",
   "nbconvert_exporter": "python",
   "pygments_lexer": "ipython3",
   "version": "3.13.2"
  }
 },
 "nbformat": 4,
 "nbformat_minor": 2
}
