{
 "cells": [
  {
   "cell_type": "code",
   "execution_count": 56,
   "metadata": {},
   "outputs": [],
   "source": [
    "import boll"
   ]
  },
  {
   "cell_type": "code",
   "execution_count": 65,
   "metadata": {},
   "outputs": [
    {
     "data": {
      "text/plain": [
       "<module 'boll' from 'c:\\\\Users\\\\Owner\\\\Desktop\\\\ubion_project\\\\20250324\\\\boll.py'>"
      ]
     },
     "execution_count": 65,
     "metadata": {},
     "output_type": "execute_result"
    }
   ],
   "source": [
    "import importlib\n",
    "importlib.reload(boll)"
   ]
  },
  {
   "cell_type": "code",
   "execution_count": 92,
   "metadata": {},
   "outputs": [],
   "source": [
    "import yfinance as yf\n",
    "from datetime import datetime\n",
    "import pandas as pd"
   ]
  },
  {
   "cell_type": "code",
   "execution_count": 58,
   "metadata": {},
   "outputs": [],
   "source": [
    "# 티커를 기준으로 데이터 로드\n",
    "ticker_aapl = yf.Ticker('AAPL')"
   ]
  },
  {
   "cell_type": "code",
   "execution_count": 59,
   "metadata": {},
   "outputs": [],
   "source": [
    "df_aapl = ticker_aapl.history(\n",
    "    start = '2020-01-01'\n",
    ")"
   ]
  },
  {
   "cell_type": "code",
   "execution_count": 60,
   "metadata": {},
   "outputs": [
    {
     "data": {
      "text/plain": [
       "pandas.core.indexes.datetimes.DatetimeIndex"
      ]
     },
     "execution_count": 60,
     "metadata": {},
     "output_type": "execute_result"
    }
   ],
   "source": [
    "type(df_aapl.index)"
   ]
  },
  {
   "cell_type": "code",
   "execution_count": 61,
   "metadata": {},
   "outputs": [
    {
     "data": {
      "text/html": [
       "<div>\n",
       "<style scoped>\n",
       "    .dataframe tbody tr th:only-of-type {\n",
       "        vertical-align: middle;\n",
       "    }\n",
       "\n",
       "    .dataframe tbody tr th {\n",
       "        vertical-align: top;\n",
       "    }\n",
       "\n",
       "    .dataframe thead th {\n",
       "        text-align: right;\n",
       "    }\n",
       "</style>\n",
       "<table border=\"1\" class=\"dataframe\">\n",
       "  <thead>\n",
       "    <tr style=\"text-align: right;\">\n",
       "      <th></th>\n",
       "      <th>Open</th>\n",
       "      <th>High</th>\n",
       "      <th>Low</th>\n",
       "      <th>Close</th>\n",
       "      <th>Volume</th>\n",
       "      <th>Dividends</th>\n",
       "      <th>Stock Splits</th>\n",
       "    </tr>\n",
       "    <tr>\n",
       "      <th>Date</th>\n",
       "      <th></th>\n",
       "      <th></th>\n",
       "      <th></th>\n",
       "      <th></th>\n",
       "      <th></th>\n",
       "      <th></th>\n",
       "      <th></th>\n",
       "    </tr>\n",
       "  </thead>\n",
       "  <tbody>\n",
       "    <tr>\n",
       "      <th>2020-01-02 00:00:00-05:00</th>\n",
       "      <td>71.720996</td>\n",
       "      <td>72.776575</td>\n",
       "      <td>71.466790</td>\n",
       "      <td>72.716049</td>\n",
       "      <td>135480400</td>\n",
       "      <td>0.0</td>\n",
       "      <td>0.0</td>\n",
       "    </tr>\n",
       "    <tr>\n",
       "      <th>2020-01-03 00:00:00-05:00</th>\n",
       "      <td>71.941336</td>\n",
       "      <td>72.771752</td>\n",
       "      <td>71.783969</td>\n",
       "      <td>72.009125</td>\n",
       "      <td>146322800</td>\n",
       "      <td>0.0</td>\n",
       "      <td>0.0</td>\n",
       "    </tr>\n",
       "    <tr>\n",
       "      <th>2020-01-06 00:00:00-05:00</th>\n",
       "      <td>71.127866</td>\n",
       "      <td>72.621646</td>\n",
       "      <td>70.876075</td>\n",
       "      <td>72.582909</td>\n",
       "      <td>118387200</td>\n",
       "      <td>0.0</td>\n",
       "      <td>0.0</td>\n",
       "    </tr>\n",
       "    <tr>\n",
       "      <th>2020-01-07 00:00:00-05:00</th>\n",
       "      <td>72.592586</td>\n",
       "      <td>72.849216</td>\n",
       "      <td>72.021223</td>\n",
       "      <td>72.241539</td>\n",
       "      <td>108872000</td>\n",
       "      <td>0.0</td>\n",
       "      <td>0.0</td>\n",
       "    </tr>\n",
       "    <tr>\n",
       "      <th>2020-01-08 00:00:00-05:00</th>\n",
       "      <td>71.943751</td>\n",
       "      <td>73.706271</td>\n",
       "      <td>71.943751</td>\n",
       "      <td>73.403641</td>\n",
       "      <td>132079200</td>\n",
       "      <td>0.0</td>\n",
       "      <td>0.0</td>\n",
       "    </tr>\n",
       "    <tr>\n",
       "      <th>...</th>\n",
       "      <td>...</td>\n",
       "      <td>...</td>\n",
       "      <td>...</td>\n",
       "      <td>...</td>\n",
       "      <td>...</td>\n",
       "      <td>...</td>\n",
       "      <td>...</td>\n",
       "    </tr>\n",
       "    <tr>\n",
       "      <th>2025-03-18 00:00:00-04:00</th>\n",
       "      <td>214.160004</td>\n",
       "      <td>215.149994</td>\n",
       "      <td>211.490005</td>\n",
       "      <td>212.690002</td>\n",
       "      <td>42432400</td>\n",
       "      <td>0.0</td>\n",
       "      <td>0.0</td>\n",
       "    </tr>\n",
       "    <tr>\n",
       "      <th>2025-03-19 00:00:00-04:00</th>\n",
       "      <td>214.220001</td>\n",
       "      <td>218.759995</td>\n",
       "      <td>213.750000</td>\n",
       "      <td>215.240005</td>\n",
       "      <td>54385400</td>\n",
       "      <td>0.0</td>\n",
       "      <td>0.0</td>\n",
       "    </tr>\n",
       "    <tr>\n",
       "      <th>2025-03-20 00:00:00-04:00</th>\n",
       "      <td>213.990005</td>\n",
       "      <td>217.490005</td>\n",
       "      <td>212.220001</td>\n",
       "      <td>214.100006</td>\n",
       "      <td>48862900</td>\n",
       "      <td>0.0</td>\n",
       "      <td>0.0</td>\n",
       "    </tr>\n",
       "    <tr>\n",
       "      <th>2025-03-21 00:00:00-04:00</th>\n",
       "      <td>211.559998</td>\n",
       "      <td>218.839996</td>\n",
       "      <td>211.279999</td>\n",
       "      <td>218.270004</td>\n",
       "      <td>93954500</td>\n",
       "      <td>0.0</td>\n",
       "      <td>0.0</td>\n",
       "    </tr>\n",
       "    <tr>\n",
       "      <th>2025-03-24 00:00:00-04:00</th>\n",
       "      <td>221.000000</td>\n",
       "      <td>221.020996</td>\n",
       "      <td>218.580002</td>\n",
       "      <td>220.729996</td>\n",
       "      <td>42364298</td>\n",
       "      <td>0.0</td>\n",
       "      <td>0.0</td>\n",
       "    </tr>\n",
       "  </tbody>\n",
       "</table>\n",
       "<p>1313 rows × 7 columns</p>\n",
       "</div>"
      ],
      "text/plain": [
       "                                 Open        High         Low       Close  \\\n",
       "Date                                                                        \n",
       "2020-01-02 00:00:00-05:00   71.720996   72.776575   71.466790   72.716049   \n",
       "2020-01-03 00:00:00-05:00   71.941336   72.771752   71.783969   72.009125   \n",
       "2020-01-06 00:00:00-05:00   71.127866   72.621646   70.876075   72.582909   \n",
       "2020-01-07 00:00:00-05:00   72.592586   72.849216   72.021223   72.241539   \n",
       "2020-01-08 00:00:00-05:00   71.943751   73.706271   71.943751   73.403641   \n",
       "...                               ...         ...         ...         ...   \n",
       "2025-03-18 00:00:00-04:00  214.160004  215.149994  211.490005  212.690002   \n",
       "2025-03-19 00:00:00-04:00  214.220001  218.759995  213.750000  215.240005   \n",
       "2025-03-20 00:00:00-04:00  213.990005  217.490005  212.220001  214.100006   \n",
       "2025-03-21 00:00:00-04:00  211.559998  218.839996  211.279999  218.270004   \n",
       "2025-03-24 00:00:00-04:00  221.000000  221.020996  218.580002  220.729996   \n",
       "\n",
       "                              Volume  Dividends  Stock Splits  \n",
       "Date                                                           \n",
       "2020-01-02 00:00:00-05:00  135480400        0.0           0.0  \n",
       "2020-01-03 00:00:00-05:00  146322800        0.0           0.0  \n",
       "2020-01-06 00:00:00-05:00  118387200        0.0           0.0  \n",
       "2020-01-07 00:00:00-05:00  108872000        0.0           0.0  \n",
       "2020-01-08 00:00:00-05:00  132079200        0.0           0.0  \n",
       "...                              ...        ...           ...  \n",
       "2025-03-18 00:00:00-04:00   42432400        0.0           0.0  \n",
       "2025-03-19 00:00:00-04:00   54385400        0.0           0.0  \n",
       "2025-03-20 00:00:00-04:00   48862900        0.0           0.0  \n",
       "2025-03-21 00:00:00-04:00   93954500        0.0           0.0  \n",
       "2025-03-24 00:00:00-04:00   42364298        0.0           0.0  \n",
       "\n",
       "[1313 rows x 7 columns]"
      ]
     },
     "execution_count": 61,
     "metadata": {},
     "output_type": "execute_result"
    }
   ],
   "source": [
    "df_aapl"
   ]
  },
  {
   "cell_type": "code",
   "execution_count": 62,
   "metadata": {},
   "outputs": [
    {
     "data": {
      "text/plain": [
       "DatetimeIndex(['2020-01-02 00:00:00-05:00', '2020-01-03 00:00:00-05:00',\n",
       "               '2020-01-06 00:00:00-05:00', '2020-01-07 00:00:00-05:00',\n",
       "               '2020-01-08 00:00:00-05:00', '2020-01-09 00:00:00-05:00',\n",
       "               '2020-01-10 00:00:00-05:00', '2020-01-13 00:00:00-05:00',\n",
       "               '2020-01-14 00:00:00-05:00', '2020-01-15 00:00:00-05:00',\n",
       "               ...\n",
       "               '2025-03-11 00:00:00-04:00', '2025-03-12 00:00:00-04:00',\n",
       "               '2025-03-13 00:00:00-04:00', '2025-03-14 00:00:00-04:00',\n",
       "               '2025-03-17 00:00:00-04:00', '2025-03-18 00:00:00-04:00',\n",
       "               '2025-03-19 00:00:00-04:00', '2025-03-20 00:00:00-04:00',\n",
       "               '2025-03-21 00:00:00-04:00', '2025-03-24 00:00:00-04:00'],\n",
       "              dtype='datetime64[ns, America/New_York]', name='Date', length=1313, freq=None)"
      ]
     },
     "execution_count": 62,
     "metadata": {},
     "output_type": "execute_result"
    }
   ],
   "source": [
    "df_aapl.index"
   ]
  },
  {
   "cell_type": "markdown",
   "metadata": {},
   "source": []
  },
  {
   "cell_type": "code",
   "execution_count": 66,
   "metadata": {},
   "outputs": [],
   "source": [
    "band_aapl = boll.create_band(df_aapl, _col = 'Close', _start='2020-01-01')"
   ]
  },
  {
   "cell_type": "code",
   "execution_count": 68,
   "metadata": {},
   "outputs": [
    {
     "data": {
      "text/html": [
       "<div>\n",
       "<style scoped>\n",
       "    .dataframe tbody tr th:only-of-type {\n",
       "        vertical-align: middle;\n",
       "    }\n",
       "\n",
       "    .dataframe tbody tr th {\n",
       "        vertical-align: top;\n",
       "    }\n",
       "\n",
       "    .dataframe thead th {\n",
       "        text-align: right;\n",
       "    }\n",
       "</style>\n",
       "<table border=\"1\" class=\"dataframe\">\n",
       "  <thead>\n",
       "    <tr style=\"text-align: right;\">\n",
       "      <th></th>\n",
       "      <th>Close</th>\n",
       "      <th>center</th>\n",
       "      <th>up</th>\n",
       "      <th>down</th>\n",
       "    </tr>\n",
       "    <tr>\n",
       "      <th>Date</th>\n",
       "      <th></th>\n",
       "      <th></th>\n",
       "      <th></th>\n",
       "      <th></th>\n",
       "    </tr>\n",
       "  </thead>\n",
       "  <tbody>\n",
       "    <tr>\n",
       "      <th>2020-01-02</th>\n",
       "      <td>72.716049</td>\n",
       "      <td>NaN</td>\n",
       "      <td>NaN</td>\n",
       "      <td>NaN</td>\n",
       "    </tr>\n",
       "    <tr>\n",
       "      <th>2020-01-03</th>\n",
       "      <td>72.009125</td>\n",
       "      <td>NaN</td>\n",
       "      <td>NaN</td>\n",
       "      <td>NaN</td>\n",
       "    </tr>\n",
       "    <tr>\n",
       "      <th>2020-01-06</th>\n",
       "      <td>72.582909</td>\n",
       "      <td>NaN</td>\n",
       "      <td>NaN</td>\n",
       "      <td>NaN</td>\n",
       "    </tr>\n",
       "    <tr>\n",
       "      <th>2020-01-07</th>\n",
       "      <td>72.241539</td>\n",
       "      <td>NaN</td>\n",
       "      <td>NaN</td>\n",
       "      <td>NaN</td>\n",
       "    </tr>\n",
       "    <tr>\n",
       "      <th>2020-01-08</th>\n",
       "      <td>73.403641</td>\n",
       "      <td>NaN</td>\n",
       "      <td>NaN</td>\n",
       "      <td>NaN</td>\n",
       "    </tr>\n",
       "  </tbody>\n",
       "</table>\n",
       "</div>"
      ],
      "text/plain": [
       "                Close  center  up  down\n",
       "Date                                   \n",
       "2020-01-02  72.716049     NaN NaN   NaN\n",
       "2020-01-03  72.009125     NaN NaN   NaN\n",
       "2020-01-06  72.582909     NaN NaN   NaN\n",
       "2020-01-07  72.241539     NaN NaN   NaN\n",
       "2020-01-08  73.403641     NaN NaN   NaN"
      ]
     },
     "execution_count": 68,
     "metadata": {},
     "output_type": "execute_result"
    }
   ],
   "source": [
    "band_aapl.head()"
   ]
  },
  {
   "cell_type": "code",
   "execution_count": 69,
   "metadata": {},
   "outputs": [],
   "source": [
    "trade_aapl = boll.create_trade(band_aapl)"
   ]
  },
  {
   "cell_type": "code",
   "execution_count": 71,
   "metadata": {},
   "outputs": [
    {
     "data": {
      "text/plain": [
       "trade\n",
       "       789\n",
       "buy    524\n",
       "Name: count, dtype: int64"
      ]
     },
     "execution_count": 71,
     "metadata": {},
     "output_type": "execute_result"
    }
   ],
   "source": [
    "trade_aapl['trade'].value_counts()"
   ]
  },
  {
   "cell_type": "code",
   "execution_count": 74,
   "metadata": {},
   "outputs": [
    {
     "name": "stdout",
     "output_type": "stream",
     "text": [
      "매수일 : 2020-02-24 00:00:00, 매수가 : 72.36201477050781\n",
      "매도일 : 2020-04-14 00:00:00, 매도가 : 69.6610107421875\n",
      "수익율 : 0.9626737310053293\n",
      "매수일 : 2020-10-30 00:00:00, 매수가 : 106.14926147460938\n",
      "매도일 : 2020-12-02 00:00:00, 매도가 : 120.22221374511719\n",
      "수익율 : 1.132577015374469\n",
      "매수일 : 2021-02-22 00:00:00, 매수가 : 123.25833892822266\n",
      "매도일 : 2021-04-07 00:00:00, 매도가 : 125.11697387695312\n",
      "수익율 : 1.0150791821867144\n",
      "매수일 : 2021-05-04 00:00:00, 매수가 : 125.06807708740234\n",
      "매도일 : 2021-06-14 00:00:00, 매도가 : 127.85763549804688\n",
      "수익율 : 1.0223043199800304\n",
      "매수일 : 2021-09-20 00:00:00, 매수가 : 140.27711486816406\n",
      "매도일 : 2021-10-19 00:00:00, 매도가 : 145.9886474609375\n",
      "수익율 : 1.0407160683204904\n"
     ]
    },
    {
     "name": "stderr",
     "output_type": "stream",
     "text": [
      "c:\\Users\\Owner\\Desktop\\ubion_project\\20250324\\boll.py:105: FutureWarning: Setting an item of incompatible dtype is deprecated and will raise an error in a future version of pandas. Value '0.9626737310053293' has dtype incompatible with int64, please explicitly cast to a compatible dtype first.\n",
      "  result.loc[idx, 'rtn'] = rtn\n"
     ]
    },
    {
     "name": "stdout",
     "output_type": "stream",
     "text": [
      "매수일 : 2022-01-19 00:00:00, 매수가 : 163.3712615966797\n",
      "매도일 : 2022-03-24 00:00:00, 매도가 : 171.29443359375\n",
      "수익율 : 1.0484979544115325\n",
      "매수일 : 2022-04-26 00:00:00, 매수가 : 154.2998046875\n",
      "매도일 : 2022-07-21 00:00:00, 매도가 : 153.09754943847656\n",
      "수익율 : 0.9922083164560167\n",
      "매수일 : 2022-08-30 00:00:00, 매수가 : 156.82347106933594\n",
      "매도일 : 2022-10-25 00:00:00, 매도가 : 150.3397216796875\n",
      "수익율 : 0.9586557462002496\n",
      "매수일 : 2022-12-15 00:00:00, 매수가 : 134.93115234375\n",
      "매도일 : 2023-01-23 00:00:00, 매도가 : 139.48812866210938\n",
      "수익율 : 1.03377260357749\n",
      "매수일 : 2023-08-04 00:00:00, 매수가 : 180.42221069335938\n",
      "매도일 : 2023-08-31 00:00:00, 매도가 : 186.50306701660156\n",
      "수익율 : 1.03370347974273\n",
      "매수일 : 2023-10-26 00:00:00, 매수가 : 165.67572021484375\n",
      "매도일 : 2023-11-10 00:00:00, 매도가 : 185.28753662109375\n",
      "수익율 : 1.1183747164691238\n",
      "매수일 : 2024-01-02 00:00:00, 매수가 : 184.53208923339844\n",
      "매도일 : 2024-05-03 00:00:00, 매도가 : 182.51817321777344\n",
      "수익율 : 0.9890863641982736\n",
      "매수일 : 2024-08-05 00:00:00, 매수가 : 208.5690155029297\n",
      "매도일 : 2024-09-30 00:00:00, 매도가 : 232.48831176757812\n",
      "수익율 : 1.1146828842576209\n",
      "매수일 : 2024-11-04 00:00:00, 매수가 : 221.52244567871094\n",
      "매도일 : 2024-11-26 00:00:00, 매도가 : 234.8018341064453\n",
      "수익율 : 1.059946017601279\n",
      "매수일 : 2025-01-10 00:00:00, 매수가 : 236.58987426757812\n"
     ]
    }
   ],
   "source": [
    "rtn_aapl, acc_rtn_aapl = boll.create_rtn(trade_aapl)"
   ]
  },
  {
   "cell_type": "code",
   "execution_count": 75,
   "metadata": {},
   "outputs": [
    {
     "data": {
      "text/plain": [
       "np.float64(1.6400987740655624)"
      ]
     },
     "execution_count": 75,
     "metadata": {},
     "output_type": "execute_result"
    }
   ],
   "source": [
    "acc_rtn_aapl"
   ]
  },
  {
   "cell_type": "code",
   "execution_count": 77,
   "metadata": {},
   "outputs": [
    {
     "name": "stdout",
     "output_type": "stream",
     "text": [
      "매수일 : 2022-01-19 00:00:00, 매수가 : 163.3712615966797\n",
      "매도일 : 2022-03-24 00:00:00, 매도가 : 171.29443359375\n",
      "수익율 : 1.0484979544115325\n",
      "매수일 : 2022-04-26 00:00:00, 매수가 : 154.2998046875\n",
      "매도일 : 2022-07-21 00:00:00, 매도가 : 153.09754943847656\n",
      "수익율 : 0.9922083164560167\n",
      "매수일 : 2022-08-30 00:00:00, 매수가 : 156.82347106933594\n",
      "매도일 : 2022-10-25 00:00:00, 매도가 : 150.3397216796875\n",
      "수익율 : 0.9586557462002496\n",
      "매수일 : 2022-12-15 00:00:00, 매수가 : 134.93115234375\n",
      "매도일 : 2023-01-23 00:00:00, 매도가 : 139.48812866210938\n",
      "수익율 : 1.03377260357749\n",
      "매수일 : 2023-08-04 00:00:00, 매수가 : 180.42221069335938\n",
      "매도일 : 2023-08-31 00:00:00, 매도가 : 186.50306701660156\n",
      "수익율 : 1.03370347974273\n",
      "매수일 : 2023-10-26 00:00:00, 매수가 : 165.67572021484375\n",
      "매도일 : 2023-11-10 00:00:00, 매도가 : 185.28753662109375\n",
      "수익율 : 1.1183747164691238\n",
      "매수일 : 2024-01-02 00:00:00, 매수가 : 184.53208923339844\n",
      "매도일 : 2024-05-03 00:00:00, 매도가 : 182.51817321777344\n",
      "수익율 : 0.9890863641982736\n"
     ]
    },
    {
     "name": "stderr",
     "output_type": "stream",
     "text": [
      "c:\\Users\\Owner\\Desktop\\ubion_project\\20250324\\boll.py:105: FutureWarning: Setting an item of incompatible dtype is deprecated and will raise an error in a future version of pandas. Value '1.0484979544115325' has dtype incompatible with int64, please explicitly cast to a compatible dtype first.\n",
      "  result.loc[idx, 'rtn'] = rtn\n"
     ]
    },
    {
     "name": "stdout",
     "output_type": "stream",
     "text": [
      "매수일 : 2024-08-05 00:00:00, 매수가 : 208.5690155029297\n",
      "매도일 : 2024-09-30 00:00:00, 매도가 : 232.48831176757812\n",
      "수익율 : 1.1146828842576209\n",
      "매수일 : 2024-11-04 00:00:00, 매수가 : 221.52244567871094\n",
      "매도일 : 2024-11-26 00:00:00, 매도가 : 234.8018341064453\n",
      "수익율 : 1.059946017601279\n",
      "매수일 : 2025-01-10 00:00:00, 매수가 : 236.58987426757812\n"
     ]
    },
    {
     "data": {
      "text/plain": [
       "(                 Close      center          up        down trade  rtn  \\\n",
       " Date                                                                    \n",
       " 2022-01-03  178.879898  172.472038  180.676464  164.267611        1.0   \n",
       " 2022-01-04  176.609634  173.178674  180.091136  166.266213        1.0   \n",
       " 2022-01-05  171.911850  173.362458  179.907301  166.817615        1.0   \n",
       " 2022-01-06  169.042084  173.211108  180.016691  166.405526        1.0   \n",
       " 2022-01-07  169.209137  173.093664  180.097543  166.089785        1.0   \n",
       " ...                ...         ...         ...         ...   ...  ...   \n",
       " 2025-03-18  212.690002  232.457500  258.495777  206.419222   buy  1.0   \n",
       " 2025-03-19  215.240005  230.976000  257.409379  204.542621   buy  1.0   \n",
       " 2025-03-20  214.100006  229.389500  255.877849  202.901152   buy  1.0   \n",
       " 2025-03-21  218.270004  228.025500  253.810140  202.240861   buy  1.0   \n",
       " 2025-03-24  220.729996  226.707000  251.040841  202.373159   buy  1.0   \n",
       " \n",
       "              acc_rtn  \n",
       " Date                  \n",
       " 2022-01-03  1.000000  \n",
       " 2022-01-04  1.000000  \n",
       " 2022-01-05  1.000000  \n",
       " 2022-01-06  1.000000  \n",
       " 2022-01-07  1.000000  \n",
       " ...              ...  \n",
       " 2025-03-18  1.392871  \n",
       " 2025-03-19  1.392871  \n",
       " 2025-03-20  1.392871  \n",
       " 2025-03-21  1.392871  \n",
       " 2025-03-24  1.392871  \n",
       " \n",
       " [808 rows x 7 columns],\n",
       " np.float64(1.3928705690577001))"
      ]
     },
     "execution_count": 77,
     "metadata": {},
     "output_type": "execute_result"
    }
   ],
   "source": [
    "boll.create_rtn(\n",
    "    boll.create_trade(\n",
    "        boll.create_band(df_aapl,\n",
    "                         _col='Close',\n",
    "                         _start='2022-01-01',\n",
    "                         _cnt=20)\n",
    "    )\n",
    ")"
   ]
  },
  {
   "cell_type": "code",
   "execution_count": 83,
   "metadata": {},
   "outputs": [],
   "source": [
    "trade_20 = boll.create_trade(\n",
    "    boll.create_band(df_aapl,\n",
    "                     _col='Close',\n",
    "                     _start='2022-01-01')\n",
    ")"
   ]
  },
  {
   "cell_type": "code",
   "execution_count": 84,
   "metadata": {},
   "outputs": [],
   "source": [
    "trade_30 = boll.create_trade(\n",
    "    boll.create_band(df_aapl,\n",
    "                     _col='Close',\n",
    "                     _start='2022-01-01',\n",
    "                     _cnt=30)\n",
    ")"
   ]
  },
  {
   "cell_type": "code",
   "execution_count": 87,
   "metadata": {},
   "outputs": [],
   "source": [
    "trade_20.drop(\n",
    "    ['center','up','down'],axis=1, inplace=True\n",
    ")"
   ]
  },
  {
   "cell_type": "code",
   "execution_count": 89,
   "metadata": {},
   "outputs": [],
   "source": [
    "trade_30 = trade_30[['Close','trade']]"
   ]
  },
  {
   "cell_type": "code",
   "execution_count": 95,
   "metadata": {},
   "outputs": [],
   "source": [
    "# trade_20, trade_30 단순한 열 결합\n",
    "trade_df = \\\n",
    "pd.concat([trade_20,trade_30], axis = 1, ignore_index=True)"
   ]
  },
  {
   "cell_type": "code",
   "execution_count": 100,
   "metadata": {},
   "outputs": [
    {
     "ename": "KeyError",
     "evalue": "'[2] not found in axis'",
     "output_type": "error",
     "traceback": [
      "\u001b[1;31m---------------------------------------------------------------------------\u001b[0m",
      "\u001b[1;31mKeyError\u001b[0m                                  Traceback (most recent call last)",
      "Cell \u001b[1;32mIn[100], line 2\u001b[0m\n\u001b[0;32m      1\u001b[0m \u001b[38;5;66;03m# trade_df에 2라는 컬럼 제거\u001b[39;00m\n\u001b[1;32m----> 2\u001b[0m \u001b[43mtrade_df\u001b[49m\u001b[38;5;241;43m.\u001b[39;49m\u001b[43mdrop\u001b[49m\u001b[43m(\u001b[49m\u001b[38;5;241;43m2\u001b[39;49m\u001b[43m,\u001b[49m\u001b[43maxis\u001b[49m\u001b[38;5;241;43m=\u001b[39;49m\u001b[38;5;241;43m1\u001b[39;49m\u001b[43m,\u001b[49m\u001b[43minplace\u001b[49m\u001b[38;5;241;43m=\u001b[39;49m\u001b[38;5;28;43;01mTrue\u001b[39;49;00m\u001b[43m)\u001b[49m\n",
      "File \u001b[1;32mc:\\Users\\Owner\\AppData\\Local\\Programs\\Python\\Python313\\Lib\\site-packages\\pandas\\core\\frame.py:5581\u001b[0m, in \u001b[0;36mDataFrame.drop\u001b[1;34m(self, labels, axis, index, columns, level, inplace, errors)\u001b[0m\n\u001b[0;32m   5433\u001b[0m \u001b[38;5;28;01mdef\u001b[39;00m\u001b[38;5;250m \u001b[39m\u001b[38;5;21mdrop\u001b[39m(\n\u001b[0;32m   5434\u001b[0m     \u001b[38;5;28mself\u001b[39m,\n\u001b[0;32m   5435\u001b[0m     labels: IndexLabel \u001b[38;5;241m|\u001b[39m \u001b[38;5;28;01mNone\u001b[39;00m \u001b[38;5;241m=\u001b[39m \u001b[38;5;28;01mNone\u001b[39;00m,\n\u001b[1;32m   (...)\u001b[0m\n\u001b[0;32m   5442\u001b[0m     errors: IgnoreRaise \u001b[38;5;241m=\u001b[39m \u001b[38;5;124m\"\u001b[39m\u001b[38;5;124mraise\u001b[39m\u001b[38;5;124m\"\u001b[39m,\n\u001b[0;32m   5443\u001b[0m ) \u001b[38;5;241m-\u001b[39m\u001b[38;5;241m>\u001b[39m DataFrame \u001b[38;5;241m|\u001b[39m \u001b[38;5;28;01mNone\u001b[39;00m:\n\u001b[0;32m   5444\u001b[0m \u001b[38;5;250m    \u001b[39m\u001b[38;5;124;03m\"\"\"\u001b[39;00m\n\u001b[0;32m   5445\u001b[0m \u001b[38;5;124;03m    Drop specified labels from rows or columns.\u001b[39;00m\n\u001b[0;32m   5446\u001b[0m \n\u001b[1;32m   (...)\u001b[0m\n\u001b[0;32m   5579\u001b[0m \u001b[38;5;124;03m            weight  1.0     0.8\u001b[39;00m\n\u001b[0;32m   5580\u001b[0m \u001b[38;5;124;03m    \"\"\"\u001b[39;00m\n\u001b[1;32m-> 5581\u001b[0m     \u001b[38;5;28;01mreturn\u001b[39;00m \u001b[38;5;28;43msuper\u001b[39;49m\u001b[43m(\u001b[49m\u001b[43m)\u001b[49m\u001b[38;5;241;43m.\u001b[39;49m\u001b[43mdrop\u001b[49m\u001b[43m(\u001b[49m\n\u001b[0;32m   5582\u001b[0m \u001b[43m        \u001b[49m\u001b[43mlabels\u001b[49m\u001b[38;5;241;43m=\u001b[39;49m\u001b[43mlabels\u001b[49m\u001b[43m,\u001b[49m\n\u001b[0;32m   5583\u001b[0m \u001b[43m        \u001b[49m\u001b[43maxis\u001b[49m\u001b[38;5;241;43m=\u001b[39;49m\u001b[43maxis\u001b[49m\u001b[43m,\u001b[49m\n\u001b[0;32m   5584\u001b[0m \u001b[43m        \u001b[49m\u001b[43mindex\u001b[49m\u001b[38;5;241;43m=\u001b[39;49m\u001b[43mindex\u001b[49m\u001b[43m,\u001b[49m\n\u001b[0;32m   5585\u001b[0m \u001b[43m        \u001b[49m\u001b[43mcolumns\u001b[49m\u001b[38;5;241;43m=\u001b[39;49m\u001b[43mcolumns\u001b[49m\u001b[43m,\u001b[49m\n\u001b[0;32m   5586\u001b[0m \u001b[43m        \u001b[49m\u001b[43mlevel\u001b[49m\u001b[38;5;241;43m=\u001b[39;49m\u001b[43mlevel\u001b[49m\u001b[43m,\u001b[49m\n\u001b[0;32m   5587\u001b[0m \u001b[43m        \u001b[49m\u001b[43minplace\u001b[49m\u001b[38;5;241;43m=\u001b[39;49m\u001b[43minplace\u001b[49m\u001b[43m,\u001b[49m\n\u001b[0;32m   5588\u001b[0m \u001b[43m        \u001b[49m\u001b[43merrors\u001b[49m\u001b[38;5;241;43m=\u001b[39;49m\u001b[43merrors\u001b[49m\u001b[43m,\u001b[49m\n\u001b[0;32m   5589\u001b[0m \u001b[43m    \u001b[49m\u001b[43m)\u001b[49m\n",
      "File \u001b[1;32mc:\\Users\\Owner\\AppData\\Local\\Programs\\Python\\Python313\\Lib\\site-packages\\pandas\\core\\generic.py:4788\u001b[0m, in \u001b[0;36mNDFrame.drop\u001b[1;34m(self, labels, axis, index, columns, level, inplace, errors)\u001b[0m\n\u001b[0;32m   4786\u001b[0m \u001b[38;5;28;01mfor\u001b[39;00m axis, labels \u001b[38;5;129;01min\u001b[39;00m axes\u001b[38;5;241m.\u001b[39mitems():\n\u001b[0;32m   4787\u001b[0m     \u001b[38;5;28;01mif\u001b[39;00m labels \u001b[38;5;129;01mis\u001b[39;00m \u001b[38;5;129;01mnot\u001b[39;00m \u001b[38;5;28;01mNone\u001b[39;00m:\n\u001b[1;32m-> 4788\u001b[0m         obj \u001b[38;5;241m=\u001b[39m \u001b[43mobj\u001b[49m\u001b[38;5;241;43m.\u001b[39;49m\u001b[43m_drop_axis\u001b[49m\u001b[43m(\u001b[49m\u001b[43mlabels\u001b[49m\u001b[43m,\u001b[49m\u001b[43m \u001b[49m\u001b[43maxis\u001b[49m\u001b[43m,\u001b[49m\u001b[43m \u001b[49m\u001b[43mlevel\u001b[49m\u001b[38;5;241;43m=\u001b[39;49m\u001b[43mlevel\u001b[49m\u001b[43m,\u001b[49m\u001b[43m \u001b[49m\u001b[43merrors\u001b[49m\u001b[38;5;241;43m=\u001b[39;49m\u001b[43merrors\u001b[49m\u001b[43m)\u001b[49m\n\u001b[0;32m   4790\u001b[0m \u001b[38;5;28;01mif\u001b[39;00m inplace:\n\u001b[0;32m   4791\u001b[0m     \u001b[38;5;28mself\u001b[39m\u001b[38;5;241m.\u001b[39m_update_inplace(obj)\n",
      "File \u001b[1;32mc:\\Users\\Owner\\AppData\\Local\\Programs\\Python\\Python313\\Lib\\site-packages\\pandas\\core\\generic.py:4830\u001b[0m, in \u001b[0;36mNDFrame._drop_axis\u001b[1;34m(self, labels, axis, level, errors, only_slice)\u001b[0m\n\u001b[0;32m   4828\u001b[0m         new_axis \u001b[38;5;241m=\u001b[39m axis\u001b[38;5;241m.\u001b[39mdrop(labels, level\u001b[38;5;241m=\u001b[39mlevel, errors\u001b[38;5;241m=\u001b[39merrors)\n\u001b[0;32m   4829\u001b[0m     \u001b[38;5;28;01melse\u001b[39;00m:\n\u001b[1;32m-> 4830\u001b[0m         new_axis \u001b[38;5;241m=\u001b[39m \u001b[43maxis\u001b[49m\u001b[38;5;241;43m.\u001b[39;49m\u001b[43mdrop\u001b[49m\u001b[43m(\u001b[49m\u001b[43mlabels\u001b[49m\u001b[43m,\u001b[49m\u001b[43m \u001b[49m\u001b[43merrors\u001b[49m\u001b[38;5;241;43m=\u001b[39;49m\u001b[43merrors\u001b[49m\u001b[43m)\u001b[49m\n\u001b[0;32m   4831\u001b[0m     indexer \u001b[38;5;241m=\u001b[39m axis\u001b[38;5;241m.\u001b[39mget_indexer(new_axis)\n\u001b[0;32m   4833\u001b[0m \u001b[38;5;66;03m# Case for non-unique axis\u001b[39;00m\n\u001b[0;32m   4834\u001b[0m \u001b[38;5;28;01melse\u001b[39;00m:\n",
      "File \u001b[1;32mc:\\Users\\Owner\\AppData\\Local\\Programs\\Python\\Python313\\Lib\\site-packages\\pandas\\core\\indexes\\base.py:7070\u001b[0m, in \u001b[0;36mIndex.drop\u001b[1;34m(self, labels, errors)\u001b[0m\n\u001b[0;32m   7068\u001b[0m \u001b[38;5;28;01mif\u001b[39;00m mask\u001b[38;5;241m.\u001b[39many():\n\u001b[0;32m   7069\u001b[0m     \u001b[38;5;28;01mif\u001b[39;00m errors \u001b[38;5;241m!=\u001b[39m \u001b[38;5;124m\"\u001b[39m\u001b[38;5;124mignore\u001b[39m\u001b[38;5;124m\"\u001b[39m:\n\u001b[1;32m-> 7070\u001b[0m         \u001b[38;5;28;01mraise\u001b[39;00m \u001b[38;5;167;01mKeyError\u001b[39;00m(\u001b[38;5;124mf\u001b[39m\u001b[38;5;124m\"\u001b[39m\u001b[38;5;132;01m{\u001b[39;00mlabels[mask]\u001b[38;5;241m.\u001b[39mtolist()\u001b[38;5;132;01m}\u001b[39;00m\u001b[38;5;124m not found in axis\u001b[39m\u001b[38;5;124m\"\u001b[39m)\n\u001b[0;32m   7071\u001b[0m     indexer \u001b[38;5;241m=\u001b[39m indexer[\u001b[38;5;241m~\u001b[39mmask]\n\u001b[0;32m   7072\u001b[0m \u001b[38;5;28;01mreturn\u001b[39;00m \u001b[38;5;28mself\u001b[39m\u001b[38;5;241m.\u001b[39mdelete(indexer)\n",
      "\u001b[1;31mKeyError\u001b[0m: '[2] not found in axis'"
     ]
    }
   ],
   "source": [
    "# trade_df에 2라는 컬럼 제거\n",
    "trade_df.drop(2,axis=1,inplace=True)"
   ]
  },
  {
   "cell_type": "code",
   "execution_count": 103,
   "metadata": {},
   "outputs": [],
   "source": [
    "# 컬럼 이름 재지정\n",
    "trade_df.columns = ['Close','trade_20','trade_30']"
   ]
  },
  {
   "cell_type": "code",
   "execution_count": 105,
   "metadata": {},
   "outputs": [],
   "source": [
    "# trade_20과 trad_30에 둘 다 buy 라는 값이라면\n",
    "# trade 컬럼에 'buy'가 들어가게 \n",
    "\n",
    "trade_df['trade'] = ''\n",
    "for i in trade_df.index:\n",
    "    if trade_df.loc[i,'trade_20'] =='buy' and trade_df.loc[i,'trade_30'] =='buy':\n",
    "        trade_df.loc[i,'trade'] = 'buy'\n",
    "    else:\n",
    "        trade_df.loc[i,'trade'] = ''"
   ]
  },
  {
   "cell_type": "code",
   "execution_count": 109,
   "metadata": {},
   "outputs": [
    {
     "data": {
      "text/plain": [
       "trade\n",
       "         512\n",
       "buy      296\n",
       "Name: count, dtype: int64"
      ]
     },
     "execution_count": 109,
     "metadata": {},
     "output_type": "execute_result"
    }
   ],
   "source": [
    "trade_df[['trade']].value_counts()"
   ]
  },
  {
   "cell_type": "code",
   "execution_count": 117,
   "metadata": {},
   "outputs": [],
   "source": [
    "# trade_20, trade_30에 buy가 포함되어 있는가?\n",
    "flag = trade_df[['trade_20','trade_30']].isin(['buy']).all(axis=1)"
   ]
  },
  {
   "cell_type": "code",
   "execution_count": 115,
   "metadata": {},
   "outputs": [],
   "source": [
    "trade_df['trade_2'] = ''"
   ]
  },
  {
   "cell_type": "code",
   "execution_count": 118,
   "metadata": {},
   "outputs": [],
   "source": [
    "trade_df.loc[flag,'trade_2'] = 'buy'"
   ]
  },
  {
   "cell_type": "code",
   "execution_count": 120,
   "metadata": {},
   "outputs": [
    {
     "data": {
      "text/plain": [
       "trade_2\n",
       "       512\n",
       "buy    296\n",
       "Name: count, dtype: int64"
      ]
     },
     "execution_count": 120,
     "metadata": {},
     "output_type": "execute_result"
    }
   ],
   "source": [
    "trade_df['trade_2'].value_counts()"
   ]
  },
  {
   "cell_type": "code",
   "execution_count": 121,
   "metadata": {},
   "outputs": [
    {
     "name": "stdout",
     "output_type": "stream",
     "text": [
      "매수일 : 2022-01-19 00:00:00, 매수가 : 163.3712615966797\n",
      "매도일 : 2022-03-24 00:00:00, 매도가 : 171.29443359375\n",
      "수익율 : 1.0484979544115325\n",
      "매수일 : 2022-05-11 00:00:00, 매수가 : 144.3758544921875\n",
      "매도일 : 2022-07-21 00:00:00, 매도가 : 153.09754943847656\n",
      "수익율 : 1.0604096507478058\n",
      "매수일 : 2022-09-29 00:00:00, 매수가 : 140.60914611816406\n",
      "매도일 : 2022-10-25 00:00:00, 매도가 : 150.3397216796875\n",
      "수익율 : 1.0692030058510285\n",
      "매수일 : 2022-12-15 00:00:00, 매수가 : 134.93115234375\n",
      "매도일 : 2023-01-23 00:00:00, 매도가 : 139.48812866210938\n",
      "수익율 : 1.03377260357749\n",
      "매수일 : 2023-08-04 00:00:00, 매수가 : 180.42221069335938\n",
      "매도일 : 2023-08-31 00:00:00, 매도가 : 186.50306701660156\n",
      "수익율 : 1.03370347974273\n",
      "매수일 : 2023-10-26 00:00:00, 매수가 : 165.67572021484375\n",
      "매도일 : 2023-11-10 00:00:00, 매도가 : 185.28753662109375\n",
      "수익율 : 1.1183747164691238\n"
     ]
    },
    {
     "name": "stderr",
     "output_type": "stream",
     "text": [
      "c:\\Users\\Owner\\Desktop\\ubion_project\\20250324\\boll.py:105: FutureWarning: Setting an item of incompatible dtype is deprecated and will raise an error in a future version of pandas. Value '1.0484979544115325' has dtype incompatible with int64, please explicitly cast to a compatible dtype first.\n",
      "  result.loc[idx, 'rtn'] = rtn\n"
     ]
    },
    {
     "name": "stdout",
     "output_type": "stream",
     "text": [
      "매수일 : 2024-01-02 00:00:00, 매수가 : 184.53208923339844\n",
      "매도일 : 2024-05-03 00:00:00, 매도가 : 182.51817321777344\n",
      "수익율 : 0.9890863641982736\n",
      "매수일 : 2025-01-16 00:00:00, 매수가 : 228.00930786132812\n"
     ]
    },
    {
     "data": {
      "text/plain": [
       "(                 Close trade_20 trade_30 trade trade_2  rtn   acc_rtn\n",
       " Date                                                                 \n",
       " 2022-01-03  178.879898                                  1.0  1.000000\n",
       " 2022-01-04  176.609634                                  1.0  1.000000\n",
       " 2022-01-05  171.911850                                  1.0  1.000000\n",
       " 2022-01-06  169.042084                                  1.0  1.000000\n",
       " 2022-01-07  169.209137                                  1.0  1.000000\n",
       " ...                ...      ...      ...   ...     ...  ...       ...\n",
       " 2025-03-18  212.690002      buy      buy   buy     buy  1.0  1.405219\n",
       " 2025-03-19  215.240005      buy      buy   buy     buy  1.0  1.405219\n",
       " 2025-03-20  214.100006      buy      buy   buy     buy  1.0  1.405219\n",
       " 2025-03-21  218.270004      buy      buy   buy     buy  1.0  1.405219\n",
       " 2025-03-24  220.729996      buy      buy   buy     buy  1.0  1.405219\n",
       " \n",
       " [808 rows x 7 columns],\n",
       " np.float64(1.4052188980770286))"
      ]
     },
     "execution_count": 121,
     "metadata": {},
     "output_type": "execute_result"
    }
   ],
   "source": [
    "boll.create_rtn(trade_df)"
   ]
  },
  {
   "cell_type": "markdown",
   "metadata": {},
   "source": [
    "### 두 개의 투자 전략을 하나의 class 선언\n",
    "\n",
    "1. 클래스의 이름은 Invest 상속은 X\n",
    "2. 생성자 함수\n",
    "    - 매개변수\n",
    "        - 주식 데이터 (_df)\n",
    "        - 기준이 되는 컬럼의 이름 (_col = 'Adj Close')\n",
    "        - 투자의 시작 시간 (_start = '2010-01-01')\n",
    "        - 투자의 종료 시간 (_end = 'datetime.now())\n",
    "    - 결측치, 양의 무한대, 음의 무한대를 제외\n",
    "    - 컬럼 중 date 컬럼이 존재한다면 date 컬럼을 ㄷ인덱스로 변환\n",
    "    - index를 시계열 데이터로 변환\n",
    "        - 종료시간은 문자열인 경우에만 변환\n",
    "    - index에 tz에 존재한다면 tz를 None으로 변환\n",
    "    - 기준이 컬럼self.col, 시작시간self.start, 종료시간self.end은 self변수로 생성\n",
    "3. buyandhold 함수 생성\n",
    "    - 매개변수 x (self) 생성\n",
    "    - 데이터프레임을 복사본 생성\n",
    "    - 시작시간과 종료 시간으로 인덱스 필터, 기준이 되는 컬럼 제외하고 모두 제거\n",
    "    - 일별 수익율 컬럼을 생성하여 pct_change() + 1 함수를 이용하여 값을 대입\n",
    "    - 누적 수익율 컬럼을 생성하여 누적 수익율 데이터 대입\n",
    "    - 만들어진 데이터프레임과 총 누적 수익율을 되돌려 준다.\n",
    "4. bollinger 함수 생성\n",
    "    - 매개변수 2개 \n",
    "        - 신뢰구간(_num = 2)\n",
    "        - 데이터 개수 (_cnt = 20)\n",
    "    - 특정컬럼(self.col) 컬럼을 제외한 나머지 컬럼을 제거하고 변수에 저장\n",
    "    - 이동평균선, 상단밴드, 하단밴드 생성\n",
    "    - 시작시간, 종료 시간을 기준으로 데이터 필터링\n",
    "    - 보유 내역 추가\n",
    "5. 수익율을 계산하는 함수 생성\n",
    "    - 매개변수 1개 : bollinger()함수의 결과 데이터 프레임\n",
    "    - 복사본 생성\n",
    "    - rtn 컬럼을 생성해서 1을 대입\n",
    "    - 매수, 매도 시기를 확인하여 수익율 대입\n",
    "    - rtn을 기준으로 누적 수익율을 acc_rtn 컬럼에 대입\n",
    "    - 만들어진 데이터 프레임과 최종수익율을 되돌려준다.\n",
    "    "
   ]
  },
  {
   "cell_type": "code",
   "execution_count": null,
   "metadata": {},
   "outputs": [],
   "source": [
    "class Invest:\n",
    "    def __init__(self,\n",
    "                 _df,\n",
    "                 _col = 'Adj Close',\n",
    "                 _start = '2010-01-01',\n",
    "                 _end = datetime.now()\n",
    "                 ):\n",
    "        self.df = _df.copy()\n",
    "        self.col = _col\n",
    "        self.start = _start\n",
    "        self.end = _end\n",
    "        \n",
    "        #결측치, 양의 무한, 음의 무한 제외\n",
    "        flag = self.df.isin([np.nan,np.inf,-np.inf]).any(axis=1)\n",
    "        self.df = self.df.loc[~flag]\n",
    "        \n",
    "        # 컬럼 중 'Date'가 있다면 인덱스 재설정\n",
    "        if 'Date' in self.df.columns:\n",
    "            self.df.set_index('Date',inplace=True)\n",
    "            \n",
    "        # 인덱스 date 타임으로 변환\n",
    "        self.df.index = pd.to_datetime(self.df.index)\n",
    "        \n",
    "        #index에 tz 속성에 값이 존재하면 None으로 변경\n",
    "        if self.df.index.tz:\n",
    "            self.df.index = self.df.index.tz_localize(None)\n",
    "            \n",
    "        try:\n",
    "            # 시작 시간은 시계열로 변경\n",
    "            self.start = datetime.strptime(_start, '%Y-%m-%d')\n",
    "            \n",
    "            # 종료 시간이 str인 경우 datetime으로 변환\n",
    "            if type(self.end) == 'str':\n",
    "                self.end = datetime.strptime(self.end,'%Y,%m-%d')\n",
    "        except:\n",
    "            print('시간의 타입이 맞지 않습니다. 포멧은 YYYY-mm-dd 형식입니다.')\n",
    "            print('Class를 다시 생성하시기 바랍니다.')\n",
    "\n",
    "    def buyandhold(self):\n",
    "        # 시작 시간, 종료 시간, 특정 컬럼을 기준으로 데이터 필터\n",
    "        result = self.df.loc[self.start : self.end ,[self.col]]\n",
    "        \n",
    "        # 일별 수익율 \n",
    "        result['rtn'] = ((result[self.col]).pct_change() +1).fillna(1)\n",
    "        \n",
    "        # 누적 수익율 \n",
    "        result['acc_rtn'] = result['rtn'].cumprod()\n",
    "        \n",
    "        # 총 누적 수익율을 변수에 저장\n",
    "        acc_rtn = result.iloc[-1,-1]\n",
    "        return result,acc_rtn"
   ]
  },
  {
   "cell_type": "code",
   "execution_count": 146,
   "metadata": {},
   "outputs": [],
   "source": [
    "df = pd.read_csv('../csv/AAPL.csv')"
   ]
  },
  {
   "cell_type": "code",
   "execution_count": 147,
   "metadata": {},
   "outputs": [],
   "source": [
    "test_invest = Invest(df)"
   ]
  },
  {
   "cell_type": "code",
   "execution_count": 148,
   "metadata": {},
   "outputs": [
    {
     "data": {
      "text/html": [
       "<div>\n",
       "<style scoped>\n",
       "    .dataframe tbody tr th:only-of-type {\n",
       "        vertical-align: middle;\n",
       "    }\n",
       "\n",
       "    .dataframe tbody tr th {\n",
       "        vertical-align: top;\n",
       "    }\n",
       "\n",
       "    .dataframe thead th {\n",
       "        text-align: right;\n",
       "    }\n",
       "</style>\n",
       "<table border=\"1\" class=\"dataframe\">\n",
       "  <thead>\n",
       "    <tr style=\"text-align: right;\">\n",
       "      <th></th>\n",
       "      <th>Open</th>\n",
       "      <th>High</th>\n",
       "      <th>Low</th>\n",
       "      <th>Close</th>\n",
       "      <th>Adj Close</th>\n",
       "      <th>Volume</th>\n",
       "    </tr>\n",
       "    <tr>\n",
       "      <th>Date</th>\n",
       "      <th></th>\n",
       "      <th></th>\n",
       "      <th></th>\n",
       "      <th></th>\n",
       "      <th></th>\n",
       "      <th></th>\n",
       "    </tr>\n",
       "  </thead>\n",
       "  <tbody>\n",
       "    <tr>\n",
       "      <th>1980-12-12</th>\n",
       "      <td>0.513393</td>\n",
       "      <td>0.515625</td>\n",
       "      <td>0.513393</td>\n",
       "      <td>0.513393</td>\n",
       "      <td>0.410525</td>\n",
       "      <td>117258400.0</td>\n",
       "    </tr>\n",
       "    <tr>\n",
       "      <th>1980-12-15</th>\n",
       "      <td>0.488839</td>\n",
       "      <td>0.488839</td>\n",
       "      <td>0.486607</td>\n",
       "      <td>0.486607</td>\n",
       "      <td>0.389106</td>\n",
       "      <td>43971200.0</td>\n",
       "    </tr>\n",
       "    <tr>\n",
       "      <th>1980-12-16</th>\n",
       "      <td>0.453125</td>\n",
       "      <td>0.453125</td>\n",
       "      <td>0.450893</td>\n",
       "      <td>0.450893</td>\n",
       "      <td>0.360548</td>\n",
       "      <td>26432000.0</td>\n",
       "    </tr>\n",
       "    <tr>\n",
       "      <th>1980-12-17</th>\n",
       "      <td>0.462054</td>\n",
       "      <td>0.464286</td>\n",
       "      <td>0.462054</td>\n",
       "      <td>0.462054</td>\n",
       "      <td>0.369472</td>\n",
       "      <td>21610400.0</td>\n",
       "    </tr>\n",
       "    <tr>\n",
       "      <th>1980-12-18</th>\n",
       "      <td>0.475446</td>\n",
       "      <td>0.477679</td>\n",
       "      <td>0.475446</td>\n",
       "      <td>0.475446</td>\n",
       "      <td>0.380182</td>\n",
       "      <td>18362400.0</td>\n",
       "    </tr>\n",
       "    <tr>\n",
       "      <th>...</th>\n",
       "      <td>...</td>\n",
       "      <td>...</td>\n",
       "      <td>...</td>\n",
       "      <td>...</td>\n",
       "      <td>...</td>\n",
       "      <td>...</td>\n",
       "    </tr>\n",
       "    <tr>\n",
       "      <th>2019-06-18</th>\n",
       "      <td>196.050003</td>\n",
       "      <td>200.289993</td>\n",
       "      <td>195.210007</td>\n",
       "      <td>198.449997</td>\n",
       "      <td>198.449997</td>\n",
       "      <td>26551000.0</td>\n",
       "    </tr>\n",
       "    <tr>\n",
       "      <th>2019-06-19</th>\n",
       "      <td>199.679993</td>\n",
       "      <td>199.880005</td>\n",
       "      <td>197.309998</td>\n",
       "      <td>197.869995</td>\n",
       "      <td>197.869995</td>\n",
       "      <td>21124200.0</td>\n",
       "    </tr>\n",
       "    <tr>\n",
       "      <th>2019-06-20</th>\n",
       "      <td>200.369995</td>\n",
       "      <td>200.610001</td>\n",
       "      <td>198.029999</td>\n",
       "      <td>199.460007</td>\n",
       "      <td>199.460007</td>\n",
       "      <td>21514000.0</td>\n",
       "    </tr>\n",
       "    <tr>\n",
       "      <th>2019-06-21</th>\n",
       "      <td>198.800003</td>\n",
       "      <td>200.850006</td>\n",
       "      <td>198.149994</td>\n",
       "      <td>198.779999</td>\n",
       "      <td>198.779999</td>\n",
       "      <td>47735300.0</td>\n",
       "    </tr>\n",
       "    <tr>\n",
       "      <th>2019-06-24</th>\n",
       "      <td>198.539993</td>\n",
       "      <td>200.160004</td>\n",
       "      <td>198.169998</td>\n",
       "      <td>199.169998</td>\n",
       "      <td>199.169998</td>\n",
       "      <td>9025362.0</td>\n",
       "    </tr>\n",
       "  </tbody>\n",
       "</table>\n",
       "<p>9713 rows × 6 columns</p>\n",
       "</div>"
      ],
      "text/plain": [
       "                  Open        High         Low       Close   Adj Close  \\\n",
       "Date                                                                     \n",
       "1980-12-12    0.513393    0.515625    0.513393    0.513393    0.410525   \n",
       "1980-12-15    0.488839    0.488839    0.486607    0.486607    0.389106   \n",
       "1980-12-16    0.453125    0.453125    0.450893    0.450893    0.360548   \n",
       "1980-12-17    0.462054    0.464286    0.462054    0.462054    0.369472   \n",
       "1980-12-18    0.475446    0.477679    0.475446    0.475446    0.380182   \n",
       "...                ...         ...         ...         ...         ...   \n",
       "2019-06-18  196.050003  200.289993  195.210007  198.449997  198.449997   \n",
       "2019-06-19  199.679993  199.880005  197.309998  197.869995  197.869995   \n",
       "2019-06-20  200.369995  200.610001  198.029999  199.460007  199.460007   \n",
       "2019-06-21  198.800003  200.850006  198.149994  198.779999  198.779999   \n",
       "2019-06-24  198.539993  200.160004  198.169998  199.169998  199.169998   \n",
       "\n",
       "                 Volume  \n",
       "Date                     \n",
       "1980-12-12  117258400.0  \n",
       "1980-12-15   43971200.0  \n",
       "1980-12-16   26432000.0  \n",
       "1980-12-17   21610400.0  \n",
       "1980-12-18   18362400.0  \n",
       "...                 ...  \n",
       "2019-06-18   26551000.0  \n",
       "2019-06-19   21124200.0  \n",
       "2019-06-20   21514000.0  \n",
       "2019-06-21   47735300.0  \n",
       "2019-06-24    9025362.0  \n",
       "\n",
       "[9713 rows x 6 columns]"
      ]
     },
     "execution_count": 148,
     "metadata": {},
     "output_type": "execute_result"
    }
   ],
   "source": [
    "test_invest.df"
   ]
  },
  {
   "cell_type": "code",
   "execution_count": 149,
   "metadata": {},
   "outputs": [
    {
     "data": {
      "text/plain": [
       "(             Adj Close       rtn   acc_rtn\n",
       " Date                                      \n",
       " 2010-01-04   26.782711  1.000000  1.000000\n",
       " 2010-01-05   26.829010  1.001729  1.001729\n",
       " 2010-01-06   26.402260  0.984094  0.985795\n",
       " 2010-01-07   26.353460  0.998152  0.983973\n",
       " 2010-01-08   26.528664  1.006648  0.990515\n",
       " ...                ...       ...       ...\n",
       " 2019-06-18  198.449997  1.023518  7.409631\n",
       " 2019-06-19  197.869995  0.997077  7.387975\n",
       " 2019-06-20  199.460007  1.008036  7.447342\n",
       " 2019-06-21  198.779999  0.996591  7.421952\n",
       " 2019-06-24  199.169998  1.001962  7.436514\n",
       " \n",
       " [2384 rows x 3 columns],\n",
       " np.float64(7.436513727083075))"
      ]
     },
     "execution_count": 149,
     "metadata": {},
     "output_type": "execute_result"
    }
   ],
   "source": [
    "test_invest.buyandhold()"
   ]
  }
 ],
 "metadata": {
  "kernelspec": {
   "display_name": "Python 3",
   "language": "python",
   "name": "python3"
  },
  "language_info": {
   "codemirror_mode": {
    "name": "ipython",
    "version": 3
   },
   "file_extension": ".py",
   "mimetype": "text/x-python",
   "name": "python",
   "nbconvert_exporter": "python",
   "pygments_lexer": "ipython3",
   "version": "3.13.1"
  }
 },
 "nbformat": 4,
 "nbformat_minor": 2
}
