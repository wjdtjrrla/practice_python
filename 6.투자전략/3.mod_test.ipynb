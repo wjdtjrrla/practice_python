{
 "cells": [
  {
   "cell_type": "code",
   "execution_count": 1,
   "metadata": {},
   "outputs": [],
   "source": [
    "import boll"
   ]
  },
  {
   "cell_type": "code",
   "execution_count": 2,
   "metadata": {},
   "outputs": [
    {
     "data": {
      "text/plain": [
       "<module 'boll' from 'c:\\\\practice_python\\\\6.투자전략\\\\boll.py'>"
      ]
     },
     "execution_count": 2,
     "metadata": {},
     "output_type": "execute_result"
    }
   ],
   "source": [
    "import importlib\n",
    "importlib.reload(boll)"
   ]
  },
  {
   "cell_type": "code",
   "execution_count": 3,
   "metadata": {},
   "outputs": [],
   "source": [
    "import yfinance as yf\n",
    "from datetime import datetime\n",
    "import pandas as pd"
   ]
  },
  {
   "cell_type": "code",
   "execution_count": 4,
   "metadata": {},
   "outputs": [],
   "source": [
    "# 티커를 기준으로 데이터 로드\n",
    "ticker_aapl = yf.Ticker('AAPL')"
   ]
  },
  {
   "cell_type": "code",
   "execution_count": 5,
   "metadata": {},
   "outputs": [],
   "source": [
    "df_aapl = ticker_aapl.history(\n",
    "    start = '2020-01-01'\n",
    ")"
   ]
  },
  {
   "cell_type": "code",
   "execution_count": 6,
   "metadata": {},
   "outputs": [
    {
     "data": {
      "text/plain": [
       "pandas.core.indexes.datetimes.DatetimeIndex"
      ]
     },
     "execution_count": 6,
     "metadata": {},
     "output_type": "execute_result"
    }
   ],
   "source": [
    "type(df_aapl.index)"
   ]
  },
  {
   "cell_type": "code",
   "execution_count": 7,
   "metadata": {},
   "outputs": [
    {
     "data": {
      "text/html": [
       "<div>\n",
       "<style scoped>\n",
       "    .dataframe tbody tr th:only-of-type {\n",
       "        vertical-align: middle;\n",
       "    }\n",
       "\n",
       "    .dataframe tbody tr th {\n",
       "        vertical-align: top;\n",
       "    }\n",
       "\n",
       "    .dataframe thead th {\n",
       "        text-align: right;\n",
       "    }\n",
       "</style>\n",
       "<table border=\"1\" class=\"dataframe\">\n",
       "  <thead>\n",
       "    <tr style=\"text-align: right;\">\n",
       "      <th></th>\n",
       "      <th>Open</th>\n",
       "      <th>High</th>\n",
       "      <th>Low</th>\n",
       "      <th>Close</th>\n",
       "      <th>Volume</th>\n",
       "      <th>Dividends</th>\n",
       "      <th>Stock Splits</th>\n",
       "    </tr>\n",
       "    <tr>\n",
       "      <th>Date</th>\n",
       "      <th></th>\n",
       "      <th></th>\n",
       "      <th></th>\n",
       "      <th></th>\n",
       "      <th></th>\n",
       "      <th></th>\n",
       "      <th></th>\n",
       "    </tr>\n",
       "  </thead>\n",
       "  <tbody>\n",
       "    <tr>\n",
       "      <th>2020-01-02 00:00:00-05:00</th>\n",
       "      <td>71.721011</td>\n",
       "      <td>72.776591</td>\n",
       "      <td>71.466805</td>\n",
       "      <td>72.716064</td>\n",
       "      <td>135480400</td>\n",
       "      <td>0.0</td>\n",
       "      <td>0.0</td>\n",
       "    </tr>\n",
       "    <tr>\n",
       "      <th>2020-01-03 00:00:00-05:00</th>\n",
       "      <td>71.941328</td>\n",
       "      <td>72.771745</td>\n",
       "      <td>71.783962</td>\n",
       "      <td>72.009117</td>\n",
       "      <td>146322800</td>\n",
       "      <td>0.0</td>\n",
       "      <td>0.0</td>\n",
       "    </tr>\n",
       "    <tr>\n",
       "      <th>2020-01-06 00:00:00-05:00</th>\n",
       "      <td>71.127858</td>\n",
       "      <td>72.621639</td>\n",
       "      <td>70.876068</td>\n",
       "      <td>72.582901</td>\n",
       "      <td>118387200</td>\n",
       "      <td>0.0</td>\n",
       "      <td>0.0</td>\n",
       "    </tr>\n",
       "    <tr>\n",
       "      <th>2020-01-07 00:00:00-05:00</th>\n",
       "      <td>72.592578</td>\n",
       "      <td>72.849208</td>\n",
       "      <td>72.021215</td>\n",
       "      <td>72.241531</td>\n",
       "      <td>108872000</td>\n",
       "      <td>0.0</td>\n",
       "      <td>0.0</td>\n",
       "    </tr>\n",
       "    <tr>\n",
       "      <th>2020-01-08 00:00:00-05:00</th>\n",
       "      <td>71.943759</td>\n",
       "      <td>73.706279</td>\n",
       "      <td>71.943759</td>\n",
       "      <td>73.403648</td>\n",
       "      <td>132079200</td>\n",
       "      <td>0.0</td>\n",
       "      <td>0.0</td>\n",
       "    </tr>\n",
       "    <tr>\n",
       "      <th>...</th>\n",
       "      <td>...</td>\n",
       "      <td>...</td>\n",
       "      <td>...</td>\n",
       "      <td>...</td>\n",
       "      <td>...</td>\n",
       "      <td>...</td>\n",
       "      <td>...</td>\n",
       "    </tr>\n",
       "    <tr>\n",
       "      <th>2025-03-28 00:00:00-04:00</th>\n",
       "      <td>221.669998</td>\n",
       "      <td>223.809998</td>\n",
       "      <td>217.679993</td>\n",
       "      <td>217.899994</td>\n",
       "      <td>39818600</td>\n",
       "      <td>0.0</td>\n",
       "      <td>0.0</td>\n",
       "    </tr>\n",
       "    <tr>\n",
       "      <th>2025-03-31 00:00:00-04:00</th>\n",
       "      <td>217.009995</td>\n",
       "      <td>225.619995</td>\n",
       "      <td>216.229996</td>\n",
       "      <td>222.130005</td>\n",
       "      <td>65299300</td>\n",
       "      <td>0.0</td>\n",
       "      <td>0.0</td>\n",
       "    </tr>\n",
       "    <tr>\n",
       "      <th>2025-04-01 00:00:00-04:00</th>\n",
       "      <td>219.809998</td>\n",
       "      <td>223.679993</td>\n",
       "      <td>218.899994</td>\n",
       "      <td>223.190002</td>\n",
       "      <td>36412700</td>\n",
       "      <td>0.0</td>\n",
       "      <td>0.0</td>\n",
       "    </tr>\n",
       "    <tr>\n",
       "      <th>2025-04-02 00:00:00-04:00</th>\n",
       "      <td>221.320007</td>\n",
       "      <td>225.190002</td>\n",
       "      <td>221.020004</td>\n",
       "      <td>223.889999</td>\n",
       "      <td>35114000</td>\n",
       "      <td>0.0</td>\n",
       "      <td>0.0</td>\n",
       "    </tr>\n",
       "    <tr>\n",
       "      <th>2025-04-03 00:00:00-04:00</th>\n",
       "      <td>205.520004</td>\n",
       "      <td>207.489899</td>\n",
       "      <td>202.520004</td>\n",
       "      <td>203.770004</td>\n",
       "      <td>27274909</td>\n",
       "      <td>0.0</td>\n",
       "      <td>0.0</td>\n",
       "    </tr>\n",
       "  </tbody>\n",
       "</table>\n",
       "<p>1321 rows × 7 columns</p>\n",
       "</div>"
      ],
      "text/plain": [
       "                                 Open        High         Low       Close  \\\n",
       "Date                                                                        \n",
       "2020-01-02 00:00:00-05:00   71.721011   72.776591   71.466805   72.716064   \n",
       "2020-01-03 00:00:00-05:00   71.941328   72.771745   71.783962   72.009117   \n",
       "2020-01-06 00:00:00-05:00   71.127858   72.621639   70.876068   72.582901   \n",
       "2020-01-07 00:00:00-05:00   72.592578   72.849208   72.021215   72.241531   \n",
       "2020-01-08 00:00:00-05:00   71.943759   73.706279   71.943759   73.403648   \n",
       "...                               ...         ...         ...         ...   \n",
       "2025-03-28 00:00:00-04:00  221.669998  223.809998  217.679993  217.899994   \n",
       "2025-03-31 00:00:00-04:00  217.009995  225.619995  216.229996  222.130005   \n",
       "2025-04-01 00:00:00-04:00  219.809998  223.679993  218.899994  223.190002   \n",
       "2025-04-02 00:00:00-04:00  221.320007  225.190002  221.020004  223.889999   \n",
       "2025-04-03 00:00:00-04:00  205.520004  207.489899  202.520004  203.770004   \n",
       "\n",
       "                              Volume  Dividends  Stock Splits  \n",
       "Date                                                           \n",
       "2020-01-02 00:00:00-05:00  135480400        0.0           0.0  \n",
       "2020-01-03 00:00:00-05:00  146322800        0.0           0.0  \n",
       "2020-01-06 00:00:00-05:00  118387200        0.0           0.0  \n",
       "2020-01-07 00:00:00-05:00  108872000        0.0           0.0  \n",
       "2020-01-08 00:00:00-05:00  132079200        0.0           0.0  \n",
       "...                              ...        ...           ...  \n",
       "2025-03-28 00:00:00-04:00   39818600        0.0           0.0  \n",
       "2025-03-31 00:00:00-04:00   65299300        0.0           0.0  \n",
       "2025-04-01 00:00:00-04:00   36412700        0.0           0.0  \n",
       "2025-04-02 00:00:00-04:00   35114000        0.0           0.0  \n",
       "2025-04-03 00:00:00-04:00   27274909        0.0           0.0  \n",
       "\n",
       "[1321 rows x 7 columns]"
      ]
     },
     "execution_count": 7,
     "metadata": {},
     "output_type": "execute_result"
    }
   ],
   "source": [
    "df_aapl"
   ]
  },
  {
   "cell_type": "code",
   "execution_count": 8,
   "metadata": {},
   "outputs": [
    {
     "data": {
      "text/plain": [
       "DatetimeIndex(['2020-01-02 00:00:00-05:00', '2020-01-03 00:00:00-05:00',\n",
       "               '2020-01-06 00:00:00-05:00', '2020-01-07 00:00:00-05:00',\n",
       "               '2020-01-08 00:00:00-05:00', '2020-01-09 00:00:00-05:00',\n",
       "               '2020-01-10 00:00:00-05:00', '2020-01-13 00:00:00-05:00',\n",
       "               '2020-01-14 00:00:00-05:00', '2020-01-15 00:00:00-05:00',\n",
       "               ...\n",
       "               '2025-03-21 00:00:00-04:00', '2025-03-24 00:00:00-04:00',\n",
       "               '2025-03-25 00:00:00-04:00', '2025-03-26 00:00:00-04:00',\n",
       "               '2025-03-27 00:00:00-04:00', '2025-03-28 00:00:00-04:00',\n",
       "               '2025-03-31 00:00:00-04:00', '2025-04-01 00:00:00-04:00',\n",
       "               '2025-04-02 00:00:00-04:00', '2025-04-03 00:00:00-04:00'],\n",
       "              dtype='datetime64[ns, America/New_York]', name='Date', length=1321, freq=None)"
      ]
     },
     "execution_count": 8,
     "metadata": {},
     "output_type": "execute_result"
    }
   ],
   "source": [
    "df_aapl.index"
   ]
  },
  {
   "cell_type": "markdown",
   "metadata": {},
   "source": []
  },
  {
   "cell_type": "code",
   "execution_count": 9,
   "metadata": {},
   "outputs": [],
   "source": [
    "band_aapl = boll.create_band(df_aapl, _col = 'Close', _start='2020-01-01')"
   ]
  },
  {
   "cell_type": "code",
   "execution_count": 10,
   "metadata": {},
   "outputs": [
    {
     "data": {
      "text/html": [
       "<div>\n",
       "<style scoped>\n",
       "    .dataframe tbody tr th:only-of-type {\n",
       "        vertical-align: middle;\n",
       "    }\n",
       "\n",
       "    .dataframe tbody tr th {\n",
       "        vertical-align: top;\n",
       "    }\n",
       "\n",
       "    .dataframe thead th {\n",
       "        text-align: right;\n",
       "    }\n",
       "</style>\n",
       "<table border=\"1\" class=\"dataframe\">\n",
       "  <thead>\n",
       "    <tr style=\"text-align: right;\">\n",
       "      <th></th>\n",
       "      <th>Close</th>\n",
       "      <th>center</th>\n",
       "      <th>up</th>\n",
       "      <th>down</th>\n",
       "    </tr>\n",
       "    <tr>\n",
       "      <th>Date</th>\n",
       "      <th></th>\n",
       "      <th></th>\n",
       "      <th></th>\n",
       "      <th></th>\n",
       "    </tr>\n",
       "  </thead>\n",
       "  <tbody>\n",
       "    <tr>\n",
       "      <th>2020-01-02</th>\n",
       "      <td>72.716064</td>\n",
       "      <td>NaN</td>\n",
       "      <td>NaN</td>\n",
       "      <td>NaN</td>\n",
       "    </tr>\n",
       "    <tr>\n",
       "      <th>2020-01-03</th>\n",
       "      <td>72.009117</td>\n",
       "      <td>NaN</td>\n",
       "      <td>NaN</td>\n",
       "      <td>NaN</td>\n",
       "    </tr>\n",
       "    <tr>\n",
       "      <th>2020-01-06</th>\n",
       "      <td>72.582901</td>\n",
       "      <td>NaN</td>\n",
       "      <td>NaN</td>\n",
       "      <td>NaN</td>\n",
       "    </tr>\n",
       "    <tr>\n",
       "      <th>2020-01-07</th>\n",
       "      <td>72.241531</td>\n",
       "      <td>NaN</td>\n",
       "      <td>NaN</td>\n",
       "      <td>NaN</td>\n",
       "    </tr>\n",
       "    <tr>\n",
       "      <th>2020-01-08</th>\n",
       "      <td>73.403648</td>\n",
       "      <td>NaN</td>\n",
       "      <td>NaN</td>\n",
       "      <td>NaN</td>\n",
       "    </tr>\n",
       "  </tbody>\n",
       "</table>\n",
       "</div>"
      ],
      "text/plain": [
       "                Close  center  up  down\n",
       "Date                                   \n",
       "2020-01-02  72.716064     NaN NaN   NaN\n",
       "2020-01-03  72.009117     NaN NaN   NaN\n",
       "2020-01-06  72.582901     NaN NaN   NaN\n",
       "2020-01-07  72.241531     NaN NaN   NaN\n",
       "2020-01-08  73.403648     NaN NaN   NaN"
      ]
     },
     "execution_count": 10,
     "metadata": {},
     "output_type": "execute_result"
    }
   ],
   "source": [
    "band_aapl.head()"
   ]
  },
  {
   "cell_type": "code",
   "execution_count": 11,
   "metadata": {},
   "outputs": [],
   "source": [
    "trade_aapl = boll.create_trade(band_aapl)"
   ]
  },
  {
   "cell_type": "code",
   "execution_count": 12,
   "metadata": {},
   "outputs": [
    {
     "data": {
      "text/plain": [
       "trade\n",
       "       789\n",
       "buy    532\n",
       "Name: count, dtype: int64"
      ]
     },
     "execution_count": 12,
     "metadata": {},
     "output_type": "execute_result"
    }
   ],
   "source": [
    "trade_aapl['trade'].value_counts()"
   ]
  },
  {
   "cell_type": "code",
   "execution_count": 13,
   "metadata": {},
   "outputs": [
    {
     "name": "stdout",
     "output_type": "stream",
     "text": [
      "매수일 : 2020-02-24 00:00:00, 매수가 : 72.3620376586914\n",
      "매도일 : 2020-04-14 00:00:00, 매도가 : 69.66101837158203\n",
      "수익율 : 0.9626735319443432\n",
      "매수일 : 2020-10-30 00:00:00, 매수가 : 106.14925384521484\n",
      "매도일 : 2020-12-02 00:00:00, 매도가 : 120.22221374511719\n",
      "수익율 : 1.1325770967775555\n",
      "매수일 : 2021-02-22 00:00:00, 매수가 : 123.25833129882812\n",
      "매도일 : 2021-04-07 00:00:00, 매도가 : 125.11698150634766\n",
      "수익율 : 1.015079306915274\n",
      "매수일 : 2021-05-04 00:00:00, 매수가 : 125.06807708740234\n",
      "매도일 : 2021-06-14 00:00:00, 매도가 : 127.8576431274414\n",
      "수익율 : 1.022304380981964\n",
      "매수일 : 2021-09-20 00:00:00, 매수가 : 140.277099609375\n",
      "매도일 : 2021-10-19 00:00:00, 매도가 : 145.9886474609375\n",
      "수익율 : 1.0407161815254753\n",
      "매수일 : 2022-01-19 00:00:00, 매수가 : 163.37124633789062\n",
      "매도일 : 2022-03-24 00:00:00, 매도가 : 171.29441833496094\n",
      "수익율 : 1.048497958941216\n",
      "매수일 : 2022-04-26 00:00:00, 매수가 : 154.29981994628906\n",
      "매도일 : 2022-07-21 00:00:00, 매도가 : 153.0975341796875\n",
      "수익율 : 0.992208119445505\n",
      "매수일 : 2022-08-30 00:00:00, 매수가 : 156.8234405517578\n",
      "매도일 : 2022-10-25 00:00:00, 매도가 : 150.33973693847656\n",
      "수익율 : 0.9586560300522078\n",
      "매수일 : 2022-12-15 00:00:00, 매수가 : 134.93115234375\n",
      "매도일 : 2023-01-23 00:00:00, 매도가 : 139.48817443847656\n",
      "수익율 : 1.0337729428347067\n",
      "매수일 : 2023-08-04 00:00:00, 매수가 : 180.42221069335938\n",
      "매도일 : 2023-08-31 00:00:00, 매도가 : 186.5030517578125\n",
      "수익율 : 1.0337033951700545\n",
      "매수일 : 2023-10-26 00:00:00, 매수가 : 165.67572021484375\n",
      "매도일 : 2023-11-10 00:00:00, 매도가 : 185.28753662109375\n",
      "수익율 : 1.1183747164691238\n",
      "매수일 : 2024-01-02 00:00:00, 매수가 : 184.53208923339844\n",
      "매도일 : 2024-05-03 00:00:00, 매도가 : 182.51817321777344\n",
      "수익율 : 0.9890863641982736\n",
      "매수일 : 2024-08-05 00:00:00, 매수가 : 208.56903076171875\n",
      "매도일 : 2024-09-30 00:00:00, 매도가 : 232.48831176757812\n",
      "수익율 : 1.114682802708069\n",
      "매수일 : 2024-11-04 00:00:00, 매수가 : 221.52244567871094\n",
      "매도일 : 2024-11-26 00:00:00, 매도가 : 234.8018341064453\n",
      "수익율 : 1.059946017601279\n",
      "매수일 : 2025-01-10 00:00:00, 매수가 : 236.58987426757812\n"
     ]
    },
    {
     "name": "stderr",
     "output_type": "stream",
     "text": [
      "c:\\practice_python\\6.투자전략\\boll.py:105: FutureWarning: Setting an item of incompatible dtype is deprecated and will raise an error in a future version of pandas. Value '0.9626735319443432' has dtype incompatible with int64, please explicitly cast to a compatible dtype first.\n",
      "  result.loc[idx, 'rtn'] = rtn\n"
     ]
    }
   ],
   "source": [
    "rtn_aapl, acc_rtn_aapl = boll.create_rtn(trade_aapl)"
   ]
  },
  {
   "cell_type": "code",
   "execution_count": 14,
   "metadata": {},
   "outputs": [
    {
     "data": {
      "text/plain": [
       "np.float64(1.6400994817242294)"
      ]
     },
     "execution_count": 14,
     "metadata": {},
     "output_type": "execute_result"
    }
   ],
   "source": [
    "acc_rtn_aapl"
   ]
  },
  {
   "cell_type": "code",
   "execution_count": 15,
   "metadata": {},
   "outputs": [
    {
     "name": "stdout",
     "output_type": "stream",
     "text": [
      "매수일 : 2022-01-19 00:00:00, 매수가 : 163.37124633789062\n",
      "매도일 : 2022-03-24 00:00:00, 매도가 : 171.29441833496094\n",
      "수익율 : 1.048497958941216\n",
      "매수일 : 2022-04-26 00:00:00, 매수가 : 154.29981994628906\n",
      "매도일 : 2022-07-21 00:00:00, 매도가 : 153.0975341796875\n",
      "수익율 : 0.992208119445505\n",
      "매수일 : 2022-08-30 00:00:00, 매수가 : 156.8234405517578\n",
      "매도일 : 2022-10-25 00:00:00, 매도가 : 150.33973693847656\n",
      "수익율 : 0.9586560300522078\n",
      "매수일 : 2022-12-15 00:00:00, 매수가 : 134.93115234375\n",
      "매도일 : 2023-01-23 00:00:00, 매도가 : 139.48817443847656\n",
      "수익율 : 1.0337729428347067\n",
      "매수일 : 2023-08-04 00:00:00, 매수가 : 180.42221069335938\n",
      "매도일 : 2023-08-31 00:00:00, 매도가 : 186.5030517578125\n",
      "수익율 : 1.0337033951700545\n",
      "매수일 : 2023-10-26 00:00:00, 매수가 : 165.67572021484375\n",
      "매도일 : 2023-11-10 00:00:00, 매도가 : 185.28753662109375\n",
      "수익율 : 1.1183747164691238\n",
      "매수일 : 2024-01-02 00:00:00, 매수가 : 184.53208923339844\n",
      "매도일 : 2024-05-03 00:00:00, 매도가 : 182.51817321777344\n",
      "수익율 : 0.9890863641982736\n",
      "매수일 : 2024-08-05 00:00:00, 매수가 : 208.56903076171875\n",
      "매도일 : 2024-09-30 00:00:00, 매도가 : 232.48831176757812\n",
      "수익율 : 1.114682802708069\n",
      "매수일 : 2024-11-04 00:00:00, 매수가 : 221.52244567871094\n",
      "매도일 : 2024-11-26 00:00:00, 매도가 : 234.8018341064453\n",
      "수익율 : 1.059946017601279\n",
      "매수일 : 2025-01-10 00:00:00, 매수가 : 236.58987426757812\n"
     ]
    },
    {
     "name": "stderr",
     "output_type": "stream",
     "text": [
      "c:\\practice_python\\6.투자전략\\boll.py:105: FutureWarning: Setting an item of incompatible dtype is deprecated and will raise an error in a future version of pandas. Value '1.048497958941216' has dtype incompatible with int64, please explicitly cast to a compatible dtype first.\n",
      "  result.loc[idx, 'rtn'] = rtn\n"
     ]
    },
    {
     "data": {
      "text/plain": [
       "(                 Close      center          up        down trade  rtn  \\\n",
       " Date                                                                    \n",
       " 2022-01-03  178.879898  172.472041  180.676455  164.267627        1.0   \n",
       " 2022-01-04  176.609634  173.178675  180.091140  166.266210        1.0   \n",
       " 2022-01-05  171.911865  173.362461  179.907302  166.817620        1.0   \n",
       " 2022-01-06  169.042068  173.211110  180.016693  166.405527        1.0   \n",
       " 2022-01-07  169.209137  173.093666  180.097545  166.089787        1.0   \n",
       " ...                ...         ...         ...         ...   ...  ...   \n",
       " 2025-03-28  217.899994  222.731500  241.519905  203.943095   buy  1.0   \n",
       " 2025-03-31  222.130005  221.936501  239.290081  204.582920   buy  1.0   \n",
       " 2025-04-01  223.190002  221.299501  237.378812  205.220190   buy  1.0   \n",
       " 2025-04-02  223.889999  220.707001  235.355489  206.058512   buy  1.0   \n",
       " 2025-04-03  203.770004  219.129001  233.943464  204.314538   buy  1.0   \n",
       " \n",
       "              acc_rtn  \n",
       " Date                  \n",
       " 2022-01-03  1.000000  \n",
       " 2022-01-04  1.000000  \n",
       " 2022-01-05  1.000000  \n",
       " 2022-01-06  1.000000  \n",
       " 2022-01-07  1.000000  \n",
       " ...              ...  \n",
       " 2025-03-28  1.392871  \n",
       " 2025-03-31  1.392871  \n",
       " 2025-04-01  1.392871  \n",
       " 2025-04-02  1.392871  \n",
       " 2025-04-03  1.392871  \n",
       " \n",
       " [816 rows x 7 columns],\n",
       " np.float64(1.3928709521744025))"
      ]
     },
     "execution_count": 15,
     "metadata": {},
     "output_type": "execute_result"
    }
   ],
   "source": [
    "boll.create_rtn(\n",
    "    boll.create_trade(\n",
    "        boll.create_band(df_aapl,\n",
    "                         _col='Close',\n",
    "                         _start='2022-01-01',\n",
    "                         _cnt=20)\n",
    "    )\n",
    ")"
   ]
  },
  {
   "cell_type": "code",
   "execution_count": 16,
   "metadata": {},
   "outputs": [],
   "source": [
    "trade_20 = boll.create_trade(\n",
    "    boll.create_band(df_aapl,\n",
    "                     _col='Close',\n",
    "                     _start='2022-01-01')\n",
    ")"
   ]
  },
  {
   "cell_type": "code",
   "execution_count": 17,
   "metadata": {},
   "outputs": [],
   "source": [
    "trade_30 = boll.create_trade(\n",
    "    boll.create_band(df_aapl,\n",
    "                     _col='Close',\n",
    "                     _start='2022-01-01',\n",
    "                     _cnt=30)\n",
    ")"
   ]
  },
  {
   "cell_type": "code",
   "execution_count": 18,
   "metadata": {},
   "outputs": [],
   "source": [
    "trade_20.drop(\n",
    "    ['center','up','down'],axis=1, inplace=True\n",
    ")"
   ]
  },
  {
   "cell_type": "code",
   "execution_count": 19,
   "metadata": {},
   "outputs": [],
   "source": [
    "trade_30 = trade_30[['Close','trade']]"
   ]
  },
  {
   "cell_type": "code",
   "execution_count": 20,
   "metadata": {},
   "outputs": [],
   "source": [
    "# trade_20, trade_30 단순한 열 결합\n",
    "trade_df = \\\n",
    "pd.concat([trade_20,trade_30], axis = 1, ignore_index=True)"
   ]
  },
  {
   "cell_type": "code",
   "execution_count": 21,
   "metadata": {},
   "outputs": [],
   "source": [
    "# trade_df에 2라는 컬럼 제거\n",
    "trade_df.drop(2,axis=1,inplace=True)"
   ]
  },
  {
   "cell_type": "code",
   "execution_count": 22,
   "metadata": {},
   "outputs": [],
   "source": [
    "# 컬럼 이름 재지정\n",
    "trade_df.columns = ['Close','trade_20','trade_30']"
   ]
  },
  {
   "cell_type": "code",
   "execution_count": 23,
   "metadata": {},
   "outputs": [],
   "source": [
    "# trade_20과 trad_30에 둘 다 buy 라는 값이라면\n",
    "# trade 컬럼에 'buy'가 들어가게 \n",
    "\n",
    "trade_df['trade'] = ''\n",
    "for i in trade_df.index:\n",
    "    if trade_df.loc[i,'trade_20'] =='buy' and trade_df.loc[i,'trade_30'] =='buy':\n",
    "        trade_df.loc[i,'trade'] = 'buy'\n",
    "    else:\n",
    "        trade_df.loc[i,'trade'] = ''"
   ]
  },
  {
   "cell_type": "code",
   "execution_count": 24,
   "metadata": {},
   "outputs": [
    {
     "data": {
      "text/plain": [
       "trade\n",
       "         512\n",
       "buy      304\n",
       "Name: count, dtype: int64"
      ]
     },
     "execution_count": 24,
     "metadata": {},
     "output_type": "execute_result"
    }
   ],
   "source": [
    "trade_df[['trade']].value_counts()"
   ]
  },
  {
   "cell_type": "code",
   "execution_count": 25,
   "metadata": {},
   "outputs": [],
   "source": [
    "# trade_20, trade_30에 buy가 포함되어 있는가?\n",
    "flag = trade_df[['trade_20','trade_30']].isin(['buy']).all(axis=1)"
   ]
  },
  {
   "cell_type": "code",
   "execution_count": 26,
   "metadata": {},
   "outputs": [],
   "source": [
    "trade_df['trade_2'] = ''"
   ]
  },
  {
   "cell_type": "code",
   "execution_count": 27,
   "metadata": {},
   "outputs": [],
   "source": [
    "trade_df.loc[flag,'trade_2'] = 'buy'"
   ]
  },
  {
   "cell_type": "code",
   "execution_count": 28,
   "metadata": {},
   "outputs": [
    {
     "data": {
      "text/plain": [
       "trade_2\n",
       "       512\n",
       "buy    304\n",
       "Name: count, dtype: int64"
      ]
     },
     "execution_count": 28,
     "metadata": {},
     "output_type": "execute_result"
    }
   ],
   "source": [
    "trade_df['trade_2'].value_counts()"
   ]
  },
  {
   "cell_type": "code",
   "execution_count": 29,
   "metadata": {},
   "outputs": [
    {
     "name": "stdout",
     "output_type": "stream",
     "text": [
      "매수일 : 2022-01-19 00:00:00, 매수가 : 163.37124633789062\n",
      "매도일 : 2022-03-24 00:00:00, 매도가 : 171.29441833496094\n",
      "수익율 : 1.048497958941216\n",
      "매수일 : 2022-05-11 00:00:00, 매수가 : 144.3758544921875\n",
      "매도일 : 2022-07-21 00:00:00, 매도가 : 153.0975341796875\n",
      "수익율 : 1.060409545059849\n",
      "매수일 : 2022-09-29 00:00:00, 매수가 : 140.6091766357422\n",
      "매도일 : 2022-10-25 00:00:00, 매도가 : 150.33973693847656\n",
      "수익율 : 1.06920288231217\n",
      "매수일 : 2022-12-15 00:00:00, 매수가 : 134.93115234375\n",
      "매도일 : 2023-01-23 00:00:00, 매도가 : 139.48817443847656\n",
      "수익율 : 1.0337729428347067\n",
      "매수일 : 2023-08-04 00:00:00, 매수가 : 180.42221069335938\n",
      "매도일 : 2023-08-31 00:00:00, 매도가 : 186.5030517578125\n",
      "수익율 : 1.0337033951700545\n",
      "매수일 : 2023-10-26 00:00:00, 매수가 : 165.67572021484375\n",
      "매도일 : 2023-11-10 00:00:00, 매도가 : 185.28753662109375\n",
      "수익율 : 1.1183747164691238\n",
      "매수일 : 2024-01-02 00:00:00, 매수가 : 184.53208923339844\n",
      "매도일 : 2024-05-03 00:00:00, 매도가 : 182.51817321777344\n",
      "수익율 : 0.9890863641982736\n",
      "매수일 : 2025-01-16 00:00:00, 매수가 : 228.00930786132812\n"
     ]
    },
    {
     "name": "stderr",
     "output_type": "stream",
     "text": [
      "c:\\practice_python\\6.투자전략\\boll.py:105: FutureWarning: Setting an item of incompatible dtype is deprecated and will raise an error in a future version of pandas. Value '1.048497958941216' has dtype incompatible with int64, please explicitly cast to a compatible dtype first.\n",
      "  result.loc[idx, 'rtn'] = rtn\n"
     ]
    },
    {
     "data": {
      "text/plain": [
       "(                 Close trade_20 trade_30 trade trade_2  rtn   acc_rtn\n",
       " Date                                                                 \n",
       " 2022-01-03  178.879898                                  1.0  1.000000\n",
       " 2022-01-04  176.609634                                  1.0  1.000000\n",
       " 2022-01-05  171.911865                                  1.0  1.000000\n",
       " 2022-01-06  169.042068                                  1.0  1.000000\n",
       " 2022-01-07  169.209137                                  1.0  1.000000\n",
       " ...                ...      ...      ...   ...     ...  ...       ...\n",
       " 2025-03-28  217.899994      buy      buy   buy     buy  1.0  1.405219\n",
       " 2025-03-31  222.130005      buy      buy   buy     buy  1.0  1.405219\n",
       " 2025-04-01  223.190002      buy      buy   buy     buy  1.0  1.405219\n",
       " 2025-04-02  223.889999      buy      buy   buy     buy  1.0  1.405219\n",
       " 2025-04-03  203.770004      buy      buy   buy     buy  1.0  1.405219\n",
       " \n",
       " [816 rows x 7 columns],\n",
       " np.float64(1.4052189479184076))"
      ]
     },
     "execution_count": 29,
     "metadata": {},
     "output_type": "execute_result"
    }
   ],
   "source": [
    "boll.create_rtn(trade_df)"
   ]
  },
  {
   "cell_type": "markdown",
   "metadata": {},
   "source": [
    "### 두 개의 투자 전략을 하나의 class 선언\n",
    "\n",
    "1. 클래스의 이름은 Invest 상속은 X\n",
    "2. 생성자 함수\n",
    "    - 매개변수\n",
    "        - 주식 데이터 (_df)\n",
    "        - 기준이 되는 컬럼의 이름 (_col = 'Adj Close')\n",
    "        - 투자의 시작 시간 (_start = '2010-01-01')\n",
    "        - 투자의 종료 시간 (_end = 'datetime.now())\n",
    "    - 결측치, 양의 무한대, 음의 무한대를 제외\n",
    "    - 컬럼 중 date 컬럼이 존재한다면 date 컬럼을 ㄷ인덱스로 변환\n",
    "    - index를 시계열 데이터로 변환\n",
    "        - 종료시간은 문자열인 경우에만 변환\n",
    "    - index에 tz에 존재한다면 tz를 None으로 변환\n",
    "    - 기준이 컬럼self.col, 시작시간self.start, 종료시간self.end은 self변수로 생성\n",
    "3. buyandhold 함수 생성\n",
    "    - 매개변수 x (self) 생성\n",
    "    - 데이터프레임을 복사본 생성\n",
    "    - 시작시간과 종료 시간으로 인덱스 필터, 기준이 되는 컬럼 제외하고 모두 제거\n",
    "    - 일별 수익율 컬럼을 생성하여 pct_change() + 1 함수를 이용하여 값을 대입\n",
    "    - 누적 수익율 컬럼을 생성하여 누적 수익율 데이터 대입\n",
    "    - 만들어진 데이터프레임과 총 누적 수익율을 되돌려 준다.\n",
    "4. bollinger 함수 생성\n",
    "    - 매개변수 2개 \n",
    "        - 신뢰구간(_num = 2)\n",
    "        - 데이터 개수 (_cnt = 20)\n",
    "    - 특정컬럼(self.col) 컬럼을 제외한 나머지 컬럼을 제거하고 변수에 저장\n",
    "    - 이동평균선, 상단밴드, 하단밴드 생성\n",
    "    - 시작시간, 종료 시간을 기준으로 데이터 필터링\n",
    "    - 보유 내역 추가\n",
    "5. 수익율을 계산하는 함수 생성\n",
    "    - 매개변수 1개 : bollinger()함수의 결과 데이터 프레임\n",
    "    - 복사본 생성\n",
    "    - rtn 컬럼을 생성해서 1을 대입\n",
    "    - 매수, 매도 시기를 확인하여 수익율 대입\n",
    "    - rtn을 기준으로 누적 수익율을 acc_rtn 컬럼에 대입\n",
    "    - 만들어진 데이터 프레임과 최종수익율을 되돌려준다.\n",
    "    "
   ]
  },
  {
   "cell_type": "code",
   "execution_count": 30,
   "metadata": {},
   "outputs": [],
   "source": [
    "class Invest:\n",
    "    def __init__(self,\n",
    "                 _df,\n",
    "                 _col = 'Adj Close',\n",
    "                 _start = '2010-01-01',\n",
    "                 _end = datetime.now()\n",
    "                 ):\n",
    "        self.df = _df.copy()\n",
    "        self.col = _col\n",
    "        self.start = _start\n",
    "        self.end = _end\n",
    "        \n",
    "        #결측치, 양의 무한, 음의 무한 제외\n",
    "        flag = self.df.isin([np.nan,np.inf,-np.inf]).any(axis=1)\n",
    "        self.df = self.df.loc[~flag]\n",
    "        \n",
    "        # 컬럼 중 'Date'가 있다면 인덱스 재설정\n",
    "        if 'Date' in self.df.columns:\n",
    "            self.df.set_index('Date',inplace=True)\n",
    "            \n",
    "        # 인덱스 date 타임으로 변환\n",
    "        self.df.index = pd.to_datetime(self.df.index)\n",
    "        \n",
    "        #index에 tz 속성에 값이 존재하면 None으로 변경\n",
    "        if self.df.index.tz:\n",
    "            self.df.index = self.df.index.tz_localize(None)\n",
    "            \n",
    "        try:\n",
    "            # 시작 시간은 시계열로 변경\n",
    "            self.start = datetime.strptime(_start, '%Y-%m-%d')\n",
    "            \n",
    "            # 종료 시간이 str인 경우 datetime으로 변환\n",
    "            if type(self.end) == 'str':\n",
    "                self.end = datetime.strptime(self.end,'%Y,%m-%d')\n",
    "        except:\n",
    "            print('시간의 타입이 맞지 않습니다. 포멧은 YYYY-mm-dd 형식입니다.')\n",
    "            print('Class를 다시 생성하시기 바랍니다.')\n",
    "\n",
    "    def buyandhold(self):\n",
    "        # 시작 시간, 종료 시간, 특정 컬럼을 기준으로 데이터 필터\n",
    "        result = self.df.loc[self.start : self.end ,[self.col]]\n",
    "        \n",
    "        # 일별 수익율 \n",
    "        result['rtn'] = ((result[self.col]).pct_change() +1).fillna(1)\n",
    "        \n",
    "        # 누적 수익율 \n",
    "        result['acc_rtn'] = result['rtn'].cumprod()\n",
    "        \n",
    "        # 총 누적 수익율을 변수에 저장\n",
    "        acc_rtn = result.iloc[-1,-1]\n",
    "        return result,acc_rtn"
   ]
  },
  {
   "cell_type": "code",
   "execution_count": 31,
   "metadata": {},
   "outputs": [],
   "source": [
    "df = pd.read_csv('../csv/AAPL.csv')"
   ]
  },
  {
   "cell_type": "code",
   "execution_count": 32,
   "metadata": {},
   "outputs": [
    {
     "ename": "NameError",
     "evalue": "name 'np' is not defined",
     "output_type": "error",
     "traceback": [
      "\u001b[31m---------------------------------------------------------------------------\u001b[39m",
      "\u001b[31mNameError\u001b[39m                                 Traceback (most recent call last)",
      "\u001b[36mCell\u001b[39m\u001b[36m \u001b[39m\u001b[32mIn[32]\u001b[39m\u001b[32m, line 1\u001b[39m\n\u001b[32m----> \u001b[39m\u001b[32m1\u001b[39m test_invest = \u001b[43mInvest\u001b[49m\u001b[43m(\u001b[49m\u001b[43mdf\u001b[49m\u001b[43m)\u001b[49m\n",
      "\u001b[36mCell\u001b[39m\u001b[36m \u001b[39m\u001b[32mIn[30]\u001b[39m\u001b[32m, line 14\u001b[39m, in \u001b[36mInvest.__init__\u001b[39m\u001b[34m(self, _df, _col, _start, _end)\u001b[39m\n\u001b[32m     11\u001b[39m \u001b[38;5;28mself\u001b[39m.end = _end\n\u001b[32m     13\u001b[39m \u001b[38;5;66;03m#결측치, 양의 무한, 음의 무한 제외\u001b[39;00m\n\u001b[32m---> \u001b[39m\u001b[32m14\u001b[39m flag = \u001b[38;5;28mself\u001b[39m.df.isin([\u001b[43mnp\u001b[49m.nan,np.inf,-np.inf]).any(axis=\u001b[32m1\u001b[39m)\n\u001b[32m     15\u001b[39m \u001b[38;5;28mself\u001b[39m.df = \u001b[38;5;28mself\u001b[39m.df.loc[~flag]\n\u001b[32m     17\u001b[39m \u001b[38;5;66;03m# 컬럼 중 'Date'가 있다면 인덱스 재설정\u001b[39;00m\n",
      "\u001b[31mNameError\u001b[39m: name 'np' is not defined"
     ]
    }
   ],
   "source": [
    "test_invest = Invest(df)"
   ]
  },
  {
   "cell_type": "code",
   "execution_count": null,
   "metadata": {},
   "outputs": [
    {
     "data": {
      "text/html": [
       "<div>\n",
       "<style scoped>\n",
       "    .dataframe tbody tr th:only-of-type {\n",
       "        vertical-align: middle;\n",
       "    }\n",
       "\n",
       "    .dataframe tbody tr th {\n",
       "        vertical-align: top;\n",
       "    }\n",
       "\n",
       "    .dataframe thead th {\n",
       "        text-align: right;\n",
       "    }\n",
       "</style>\n",
       "<table border=\"1\" class=\"dataframe\">\n",
       "  <thead>\n",
       "    <tr style=\"text-align: right;\">\n",
       "      <th></th>\n",
       "      <th>Open</th>\n",
       "      <th>High</th>\n",
       "      <th>Low</th>\n",
       "      <th>Close</th>\n",
       "      <th>Adj Close</th>\n",
       "      <th>Volume</th>\n",
       "    </tr>\n",
       "    <tr>\n",
       "      <th>Date</th>\n",
       "      <th></th>\n",
       "      <th></th>\n",
       "      <th></th>\n",
       "      <th></th>\n",
       "      <th></th>\n",
       "      <th></th>\n",
       "    </tr>\n",
       "  </thead>\n",
       "  <tbody>\n",
       "    <tr>\n",
       "      <th>1980-12-12</th>\n",
       "      <td>0.513393</td>\n",
       "      <td>0.515625</td>\n",
       "      <td>0.513393</td>\n",
       "      <td>0.513393</td>\n",
       "      <td>0.410525</td>\n",
       "      <td>117258400.0</td>\n",
       "    </tr>\n",
       "    <tr>\n",
       "      <th>1980-12-15</th>\n",
       "      <td>0.488839</td>\n",
       "      <td>0.488839</td>\n",
       "      <td>0.486607</td>\n",
       "      <td>0.486607</td>\n",
       "      <td>0.389106</td>\n",
       "      <td>43971200.0</td>\n",
       "    </tr>\n",
       "    <tr>\n",
       "      <th>1980-12-16</th>\n",
       "      <td>0.453125</td>\n",
       "      <td>0.453125</td>\n",
       "      <td>0.450893</td>\n",
       "      <td>0.450893</td>\n",
       "      <td>0.360548</td>\n",
       "      <td>26432000.0</td>\n",
       "    </tr>\n",
       "    <tr>\n",
       "      <th>1980-12-17</th>\n",
       "      <td>0.462054</td>\n",
       "      <td>0.464286</td>\n",
       "      <td>0.462054</td>\n",
       "      <td>0.462054</td>\n",
       "      <td>0.369472</td>\n",
       "      <td>21610400.0</td>\n",
       "    </tr>\n",
       "    <tr>\n",
       "      <th>1980-12-18</th>\n",
       "      <td>0.475446</td>\n",
       "      <td>0.477679</td>\n",
       "      <td>0.475446</td>\n",
       "      <td>0.475446</td>\n",
       "      <td>0.380182</td>\n",
       "      <td>18362400.0</td>\n",
       "    </tr>\n",
       "    <tr>\n",
       "      <th>...</th>\n",
       "      <td>...</td>\n",
       "      <td>...</td>\n",
       "      <td>...</td>\n",
       "      <td>...</td>\n",
       "      <td>...</td>\n",
       "      <td>...</td>\n",
       "    </tr>\n",
       "    <tr>\n",
       "      <th>2019-06-18</th>\n",
       "      <td>196.050003</td>\n",
       "      <td>200.289993</td>\n",
       "      <td>195.210007</td>\n",
       "      <td>198.449997</td>\n",
       "      <td>198.449997</td>\n",
       "      <td>26551000.0</td>\n",
       "    </tr>\n",
       "    <tr>\n",
       "      <th>2019-06-19</th>\n",
       "      <td>199.679993</td>\n",
       "      <td>199.880005</td>\n",
       "      <td>197.309998</td>\n",
       "      <td>197.869995</td>\n",
       "      <td>197.869995</td>\n",
       "      <td>21124200.0</td>\n",
       "    </tr>\n",
       "    <tr>\n",
       "      <th>2019-06-20</th>\n",
       "      <td>200.369995</td>\n",
       "      <td>200.610001</td>\n",
       "      <td>198.029999</td>\n",
       "      <td>199.460007</td>\n",
       "      <td>199.460007</td>\n",
       "      <td>21514000.0</td>\n",
       "    </tr>\n",
       "    <tr>\n",
       "      <th>2019-06-21</th>\n",
       "      <td>198.800003</td>\n",
       "      <td>200.850006</td>\n",
       "      <td>198.149994</td>\n",
       "      <td>198.779999</td>\n",
       "      <td>198.779999</td>\n",
       "      <td>47735300.0</td>\n",
       "    </tr>\n",
       "    <tr>\n",
       "      <th>2019-06-24</th>\n",
       "      <td>198.539993</td>\n",
       "      <td>200.160004</td>\n",
       "      <td>198.169998</td>\n",
       "      <td>199.169998</td>\n",
       "      <td>199.169998</td>\n",
       "      <td>9025362.0</td>\n",
       "    </tr>\n",
       "  </tbody>\n",
       "</table>\n",
       "<p>9713 rows × 6 columns</p>\n",
       "</div>"
      ],
      "text/plain": [
       "                  Open        High         Low       Close   Adj Close  \\\n",
       "Date                                                                     \n",
       "1980-12-12    0.513393    0.515625    0.513393    0.513393    0.410525   \n",
       "1980-12-15    0.488839    0.488839    0.486607    0.486607    0.389106   \n",
       "1980-12-16    0.453125    0.453125    0.450893    0.450893    0.360548   \n",
       "1980-12-17    0.462054    0.464286    0.462054    0.462054    0.369472   \n",
       "1980-12-18    0.475446    0.477679    0.475446    0.475446    0.380182   \n",
       "...                ...         ...         ...         ...         ...   \n",
       "2019-06-18  196.050003  200.289993  195.210007  198.449997  198.449997   \n",
       "2019-06-19  199.679993  199.880005  197.309998  197.869995  197.869995   \n",
       "2019-06-20  200.369995  200.610001  198.029999  199.460007  199.460007   \n",
       "2019-06-21  198.800003  200.850006  198.149994  198.779999  198.779999   \n",
       "2019-06-24  198.539993  200.160004  198.169998  199.169998  199.169998   \n",
       "\n",
       "                 Volume  \n",
       "Date                     \n",
       "1980-12-12  117258400.0  \n",
       "1980-12-15   43971200.0  \n",
       "1980-12-16   26432000.0  \n",
       "1980-12-17   21610400.0  \n",
       "1980-12-18   18362400.0  \n",
       "...                 ...  \n",
       "2019-06-18   26551000.0  \n",
       "2019-06-19   21124200.0  \n",
       "2019-06-20   21514000.0  \n",
       "2019-06-21   47735300.0  \n",
       "2019-06-24    9025362.0  \n",
       "\n",
       "[9713 rows x 6 columns]"
      ]
     },
     "execution_count": 148,
     "metadata": {},
     "output_type": "execute_result"
    }
   ],
   "source": [
    "test_invest.df"
   ]
  },
  {
   "cell_type": "code",
   "execution_count": null,
   "metadata": {},
   "outputs": [
    {
     "data": {
      "text/plain": [
       "(             Adj Close       rtn   acc_rtn\n",
       " Date                                      \n",
       " 2010-01-04   26.782711  1.000000  1.000000\n",
       " 2010-01-05   26.829010  1.001729  1.001729\n",
       " 2010-01-06   26.402260  0.984094  0.985795\n",
       " 2010-01-07   26.353460  0.998152  0.983973\n",
       " 2010-01-08   26.528664  1.006648  0.990515\n",
       " ...                ...       ...       ...\n",
       " 2019-06-18  198.449997  1.023518  7.409631\n",
       " 2019-06-19  197.869995  0.997077  7.387975\n",
       " 2019-06-20  199.460007  1.008036  7.447342\n",
       " 2019-06-21  198.779999  0.996591  7.421952\n",
       " 2019-06-24  199.169998  1.001962  7.436514\n",
       " \n",
       " [2384 rows x 3 columns],\n",
       " np.float64(7.436513727083075))"
      ]
     },
     "execution_count": 149,
     "metadata": {},
     "output_type": "execute_result"
    }
   ],
   "source": [
    "test_invest.buyandhold()"
   ]
  }
 ],
 "metadata": {
  "kernelspec": {
   "display_name": "Python 3",
   "language": "python",
   "name": "python3"
  },
  "language_info": {
   "codemirror_mode": {
    "name": "ipython",
    "version": 3
   },
   "file_extension": ".py",
   "mimetype": "text/x-python",
   "name": "python",
   "nbconvert_exporter": "python",
   "pygments_lexer": "ipython3",
   "version": "3.13.2"
  }
 },
 "nbformat": 4,
 "nbformat_minor": 2
}
