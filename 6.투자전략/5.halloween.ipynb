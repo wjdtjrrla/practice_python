{
 "cells": [
  {
   "cell_type": "markdown",
   "metadata": {},
   "source": [
    "### 할로윈 투자 전략\n",
    "    - 11월의 첫날에 구매 -> 4월 마지막날에 판매\n",
    "    - 11월의 첫날에 시작 가격 구매\n",
    "    - 4월 마지막 날 종가로 판매\n",
    "    - 판매한 금액 / 구매한 금액\n",
    "    - 누적 수익률"
   ]
  },
  {
   "cell_type": "code",
   "execution_count": 1,
   "metadata": {},
   "outputs": [],
   "source": [
    "import pandas as pd\n",
    "from datetime import datetime\n",
    "from dateutil.relativedelta import relativedelta"
   ]
  },
  {
   "cell_type": "code",
   "execution_count": 2,
   "metadata": {},
   "outputs": [],
   "source": [
    "df = pd.read_csv('../csv/AMZN.csv',index_col='Date')"
   ]
  },
  {
   "cell_type": "code",
   "execution_count": 3,
   "metadata": {},
   "outputs": [
    {
     "data": {
      "text/html": [
       "<div>\n",
       "<style scoped>\n",
       "    .dataframe tbody tr th:only-of-type {\n",
       "        vertical-align: middle;\n",
       "    }\n",
       "\n",
       "    .dataframe tbody tr th {\n",
       "        vertical-align: top;\n",
       "    }\n",
       "\n",
       "    .dataframe thead th {\n",
       "        text-align: right;\n",
       "    }\n",
       "</style>\n",
       "<table border=\"1\" class=\"dataframe\">\n",
       "  <thead>\n",
       "    <tr style=\"text-align: right;\">\n",
       "      <th></th>\n",
       "      <th>Open</th>\n",
       "      <th>High</th>\n",
       "      <th>Low</th>\n",
       "      <th>Close</th>\n",
       "      <th>Adj Close</th>\n",
       "      <th>Volume</th>\n",
       "    </tr>\n",
       "    <tr>\n",
       "      <th>Date</th>\n",
       "      <th></th>\n",
       "      <th></th>\n",
       "      <th></th>\n",
       "      <th></th>\n",
       "      <th></th>\n",
       "      <th></th>\n",
       "    </tr>\n",
       "  </thead>\n",
       "  <tbody>\n",
       "    <tr>\n",
       "      <th>1997-05-15</th>\n",
       "      <td>2.437500</td>\n",
       "      <td>2.500000</td>\n",
       "      <td>1.927083</td>\n",
       "      <td>1.958333</td>\n",
       "      <td>1.958333</td>\n",
       "      <td>72156000</td>\n",
       "    </tr>\n",
       "    <tr>\n",
       "      <th>1997-05-16</th>\n",
       "      <td>1.968750</td>\n",
       "      <td>1.979167</td>\n",
       "      <td>1.708333</td>\n",
       "      <td>1.729167</td>\n",
       "      <td>1.729167</td>\n",
       "      <td>14700000</td>\n",
       "    </tr>\n",
       "    <tr>\n",
       "      <th>1997-05-19</th>\n",
       "      <td>1.760417</td>\n",
       "      <td>1.770833</td>\n",
       "      <td>1.625000</td>\n",
       "      <td>1.708333</td>\n",
       "      <td>1.708333</td>\n",
       "      <td>6106800</td>\n",
       "    </tr>\n",
       "    <tr>\n",
       "      <th>1997-05-20</th>\n",
       "      <td>1.729167</td>\n",
       "      <td>1.750000</td>\n",
       "      <td>1.635417</td>\n",
       "      <td>1.635417</td>\n",
       "      <td>1.635417</td>\n",
       "      <td>5467200</td>\n",
       "    </tr>\n",
       "    <tr>\n",
       "      <th>1997-05-21</th>\n",
       "      <td>1.635417</td>\n",
       "      <td>1.645833</td>\n",
       "      <td>1.375000</td>\n",
       "      <td>1.427083</td>\n",
       "      <td>1.427083</td>\n",
       "      <td>18853200</td>\n",
       "    </tr>\n",
       "  </tbody>\n",
       "</table>\n",
       "</div>"
      ],
      "text/plain": [
       "                Open      High       Low     Close  Adj Close    Volume\n",
       "Date                                                                   \n",
       "1997-05-15  2.437500  2.500000  1.927083  1.958333   1.958333  72156000\n",
       "1997-05-16  1.968750  1.979167  1.708333  1.729167   1.729167  14700000\n",
       "1997-05-19  1.760417  1.770833  1.625000  1.708333   1.708333   6106800\n",
       "1997-05-20  1.729167  1.750000  1.635417  1.635417   1.635417   5467200\n",
       "1997-05-21  1.635417  1.645833  1.375000  1.427083   1.427083  18853200"
      ]
     },
     "execution_count": 3,
     "metadata": {},
     "output_type": "execute_result"
    }
   ],
   "source": [
    "df.head()"
   ]
  },
  {
   "cell_type": "code",
   "execution_count": 4,
   "metadata": {},
   "outputs": [],
   "source": [
    "# 인덱스를 시계열데이터로 변경\n",
    "df.index = pd.to_datetime(df.index)"
   ]
  },
  {
   "cell_type": "code",
   "execution_count": 5,
   "metadata": {},
   "outputs": [
    {
     "data": {
      "text/plain": [
       "np.float64(35.8125)"
      ]
     },
     "execution_count": 5,
     "metadata": {},
     "output_type": "execute_result"
    }
   ],
   "source": [
    "# 2000년 11월 데이터를 출력하려면?\n",
    "df.loc['2000-11'].iloc[0,0]"
   ]
  },
  {
   "cell_type": "code",
   "execution_count": 6,
   "metadata": {},
   "outputs": [
    {
     "data": {
      "text/plain": [
       "np.float64(15.78)"
      ]
     },
     "execution_count": 6,
     "metadata": {},
     "output_type": "execute_result"
    }
   ],
   "source": [
    "# 2001년 4월의 마지막 날의 종가\n",
    "df.loc['2001-04'].iloc[-1]['Close']"
   ]
  },
  {
   "cell_type": "code",
   "execution_count": 7,
   "metadata": {},
   "outputs": [],
   "source": [
    "rtn_list = []\n",
    "for i in range(2000,2011,1):\n",
    "    # 구매를 하는 시간\n",
    "    buy_mon = f'{i}-11'\n",
    "    sell_mon = f'{i+1}-4'\n",
    "    # 구매가\n",
    "    buy = df.loc[buy_mon].iloc[0,0]\n",
    "    # 판매가\n",
    "    sell = df.loc[sell_mon].iloc[-1]['Close']\n",
    "    \n",
    "    rtn_list.append(sell/buy)"
   ]
  },
  {
   "cell_type": "code",
   "execution_count": 8,
   "metadata": {},
   "outputs": [
    {
     "data": {
      "text/plain": [
       "np.float64(2.9115898553801114)"
      ]
     },
     "execution_count": 8,
     "metadata": {},
     "output_type": "execute_result"
    }
   ],
   "source": [
    "acc_rtn = 1\n",
    "for i in rtn_list:\n",
    "    acc_rtn *= i\n",
    "acc_rtn"
   ]
  },
  {
   "cell_type": "code",
   "execution_count": 9,
   "metadata": {},
   "outputs": [
    {
     "data": {
      "text/plain": [
       "datetime.datetime(2000, 11, 1, 0, 0)"
      ]
     },
     "execution_count": 9,
     "metadata": {},
     "output_type": "execute_result"
    }
   ],
   "source": [
    "# 시계열 데이터에서 시간의 합을 구해보장!\n",
    "start = datetime(year = 2000, month =11, day = 1)\n",
    "start"
   ]
  },
  {
   "cell_type": "code",
   "execution_count": 10,
   "metadata": {},
   "outputs": [
    {
     "data": {
      "text/plain": [
       "datetime.datetime(2001, 4, 1, 0, 0)"
      ]
     },
     "execution_count": 10,
     "metadata": {},
     "output_type": "execute_result"
    }
   ],
   "source": [
    "# 5개월 뒤\n",
    "start + relativedelta(months = 5)"
   ]
  },
  {
   "cell_type": "code",
   "execution_count": 11,
   "metadata": {},
   "outputs": [],
   "source": [
    "# 시계열 데이터를 문자열로 변경하는 함수 -> strftime('%Y-%m')\n",
    "halloween_df = pd.DataFrame()\n",
    "\n",
    "for i in range(2000,2011,1):\n",
    "    start = datetime(year=i,month=11, day=1)\n",
    "    end = start + relativedelta(months=5)\n",
    "    \n",
    "    # 시계열을 문자열로\n",
    "    start = start.strftime('%Y-%m')\n",
    "    end = end.strftime('%Y-%m')\n",
    "\n",
    "    # start의 첫번째 인덱스\n",
    "    start_df = df.loc[start].head(1)\n",
    "    end_df = df.loc[end].tail(1)\n",
    "    halloween_df = pd.concat([halloween_df,start_df, end_df])\n"
   ]
  },
  {
   "cell_type": "code",
   "execution_count": 12,
   "metadata": {},
   "outputs": [],
   "source": [
    "halloween_df = halloween_df[['Open','Close']]"
   ]
  },
  {
   "cell_type": "code",
   "execution_count": 13,
   "metadata": {},
   "outputs": [
    {
     "data": {
      "text/html": [
       "<div>\n",
       "<style scoped>\n",
       "    .dataframe tbody tr th:only-of-type {\n",
       "        vertical-align: middle;\n",
       "    }\n",
       "\n",
       "    .dataframe tbody tr th {\n",
       "        vertical-align: top;\n",
       "    }\n",
       "\n",
       "    .dataframe thead th {\n",
       "        text-align: right;\n",
       "    }\n",
       "</style>\n",
       "<table border=\"1\" class=\"dataframe\">\n",
       "  <thead>\n",
       "    <tr style=\"text-align: right;\">\n",
       "      <th></th>\n",
       "      <th>Open</th>\n",
       "      <th>Close</th>\n",
       "    </tr>\n",
       "    <tr>\n",
       "      <th>Date</th>\n",
       "      <th></th>\n",
       "      <th></th>\n",
       "    </tr>\n",
       "  </thead>\n",
       "  <tbody>\n",
       "    <tr>\n",
       "      <th>2000-11-01</th>\n",
       "      <td>35.812500</td>\n",
       "      <td>37.375000</td>\n",
       "    </tr>\n",
       "    <tr>\n",
       "      <th>2001-04-30</th>\n",
       "      <td>15.630000</td>\n",
       "      <td>15.780000</td>\n",
       "    </tr>\n",
       "    <tr>\n",
       "      <th>2001-11-01</th>\n",
       "      <td>7.080000</td>\n",
       "      <td>6.950000</td>\n",
       "    </tr>\n",
       "    <tr>\n",
       "      <th>2002-04-30</th>\n",
       "      <td>16.129999</td>\n",
       "      <td>16.690001</td>\n",
       "    </tr>\n",
       "    <tr>\n",
       "      <th>2002-11-01</th>\n",
       "      <td>19.219999</td>\n",
       "      <td>19.799999</td>\n",
       "    </tr>\n",
       "    <tr>\n",
       "      <th>2003-04-30</th>\n",
       "      <td>28.600000</td>\n",
       "      <td>28.690001</td>\n",
       "    </tr>\n",
       "    <tr>\n",
       "      <th>2003-11-03</th>\n",
       "      <td>54.799999</td>\n",
       "      <td>56.740002</td>\n",
       "    </tr>\n",
       "    <tr>\n",
       "      <th>2004-04-30</th>\n",
       "      <td>46.060001</td>\n",
       "      <td>43.599998</td>\n",
       "    </tr>\n",
       "    <tr>\n",
       "      <th>2004-11-01</th>\n",
       "      <td>34.220001</td>\n",
       "      <td>35.099998</td>\n",
       "    </tr>\n",
       "    <tr>\n",
       "      <th>2005-04-29</th>\n",
       "      <td>32.860001</td>\n",
       "      <td>32.360001</td>\n",
       "    </tr>\n",
       "    <tr>\n",
       "      <th>2005-11-01</th>\n",
       "      <td>39.970001</td>\n",
       "      <td>40.369999</td>\n",
       "    </tr>\n",
       "    <tr>\n",
       "      <th>2006-04-28</th>\n",
       "      <td>35.770000</td>\n",
       "      <td>35.209999</td>\n",
       "    </tr>\n",
       "    <tr>\n",
       "      <th>2006-11-01</th>\n",
       "      <td>38.130001</td>\n",
       "      <td>37.560001</td>\n",
       "    </tr>\n",
       "    <tr>\n",
       "      <th>2007-04-30</th>\n",
       "      <td>61.910000</td>\n",
       "      <td>61.330002</td>\n",
       "    </tr>\n",
       "    <tr>\n",
       "      <th>2007-11-01</th>\n",
       "      <td>87.750000</td>\n",
       "      <td>87.650002</td>\n",
       "    </tr>\n",
       "    <tr>\n",
       "      <th>2008-04-30</th>\n",
       "      <td>80.900002</td>\n",
       "      <td>78.629997</td>\n",
       "    </tr>\n",
       "    <tr>\n",
       "      <th>2008-11-03</th>\n",
       "      <td>56.349998</td>\n",
       "      <td>55.770000</td>\n",
       "    </tr>\n",
       "    <tr>\n",
       "      <th>2009-04-30</th>\n",
       "      <td>80.930000</td>\n",
       "      <td>80.519997</td>\n",
       "    </tr>\n",
       "    <tr>\n",
       "      <th>2009-11-02</th>\n",
       "      <td>118.660004</td>\n",
       "      <td>118.839996</td>\n",
       "    </tr>\n",
       "    <tr>\n",
       "      <th>2010-04-30</th>\n",
       "      <td>141.399994</td>\n",
       "      <td>137.100006</td>\n",
       "    </tr>\n",
       "    <tr>\n",
       "      <th>2010-11-01</th>\n",
       "      <td>164.449997</td>\n",
       "      <td>162.580002</td>\n",
       "    </tr>\n",
       "    <tr>\n",
       "      <th>2011-04-29</th>\n",
       "      <td>194.380005</td>\n",
       "      <td>195.809998</td>\n",
       "    </tr>\n",
       "  </tbody>\n",
       "</table>\n",
       "</div>"
      ],
      "text/plain": [
       "                  Open       Close\n",
       "Date                              \n",
       "2000-11-01   35.812500   37.375000\n",
       "2001-04-30   15.630000   15.780000\n",
       "2001-11-01    7.080000    6.950000\n",
       "2002-04-30   16.129999   16.690001\n",
       "2002-11-01   19.219999   19.799999\n",
       "2003-04-30   28.600000   28.690001\n",
       "2003-11-03   54.799999   56.740002\n",
       "2004-04-30   46.060001   43.599998\n",
       "2004-11-01   34.220001   35.099998\n",
       "2005-04-29   32.860001   32.360001\n",
       "2005-11-01   39.970001   40.369999\n",
       "2006-04-28   35.770000   35.209999\n",
       "2006-11-01   38.130001   37.560001\n",
       "2007-04-30   61.910000   61.330002\n",
       "2007-11-01   87.750000   87.650002\n",
       "2008-04-30   80.900002   78.629997\n",
       "2008-11-03   56.349998   55.770000\n",
       "2009-04-30   80.930000   80.519997\n",
       "2009-11-02  118.660004  118.839996\n",
       "2010-04-30  141.399994  137.100006\n",
       "2010-11-01  164.449997  162.580002\n",
       "2011-04-29  194.380005  195.809998"
      ]
     },
     "execution_count": 13,
     "metadata": {},
     "output_type": "execute_result"
    }
   ],
   "source": [
    "halloween_df"
   ]
  },
  {
   "cell_type": "code",
   "execution_count": 14,
   "metadata": {},
   "outputs": [
    {
     "name": "stdout",
     "output_type": "stream",
     "text": [
      "0.4406282722513089\n",
      "2.3573447740112994\n",
      "1.4927160506095758\n",
      "0.7956204159784748\n",
      "0.9456458227455924\n",
      "0.8809106359541997\n",
      "1.608444804394314\n",
      "0.8960683418803419\n",
      "1.4289263506273773\n",
      "1.155402000492095\n",
      "1.1906962698211543\n"
     ]
    },
    {
     "name": "stderr",
     "output_type": "stream",
     "text": [
      "C:\\Users\\Owner\\AppData\\Local\\Temp\\ipykernel_39048\\708398893.py:11: FutureWarning: Setting an item of incompatible dtype is deprecated and will raise an error in a future version of pandas. Value '0.4406282722513089' has dtype incompatible with int64, please explicitly cast to a compatible dtype first.\n",
      "  halloween_df.iloc[i, 2] = rtn\n"
     ]
    }
   ],
   "source": [
    "halloween_df['rtn'] = 1\n",
    "\n",
    "# 반복문을 이용 수익율 계산\n",
    "# 인덱스의 위치가 홀수인 경우 수익율 계산\n",
    "for i in range(1, len(halloween_df),2):\n",
    "    # 구매한 가격\n",
    "    buy = halloween_df.iloc[i-1]['Open']\n",
    "    sell = halloween_df.iloc[i]['Close']\n",
    "    rtn = sell / buy\n",
    "    print(rtn)\n",
    "    halloween_df.iloc[i, 2] = rtn"
   ]
  },
  {
   "cell_type": "code",
   "execution_count": 15,
   "metadata": {},
   "outputs": [],
   "source": [
    "halloween_df['acc_rtn'] = halloween_df['rtn'].cumprod()"
   ]
  },
  {
   "cell_type": "code",
   "execution_count": 16,
   "metadata": {},
   "outputs": [
    {
     "data": {
      "text/html": [
       "<div>\n",
       "<style scoped>\n",
       "    .dataframe tbody tr th:only-of-type {\n",
       "        vertical-align: middle;\n",
       "    }\n",
       "\n",
       "    .dataframe tbody tr th {\n",
       "        vertical-align: top;\n",
       "    }\n",
       "\n",
       "    .dataframe thead th {\n",
       "        text-align: right;\n",
       "    }\n",
       "</style>\n",
       "<table border=\"1\" class=\"dataframe\">\n",
       "  <thead>\n",
       "    <tr style=\"text-align: right;\">\n",
       "      <th></th>\n",
       "      <th>Open</th>\n",
       "      <th>Close</th>\n",
       "      <th>rtn</th>\n",
       "      <th>acc_rtn</th>\n",
       "    </tr>\n",
       "    <tr>\n",
       "      <th>Date</th>\n",
       "      <th></th>\n",
       "      <th></th>\n",
       "      <th></th>\n",
       "      <th></th>\n",
       "    </tr>\n",
       "  </thead>\n",
       "  <tbody>\n",
       "    <tr>\n",
       "      <th>2000-11-01</th>\n",
       "      <td>35.812500</td>\n",
       "      <td>37.375000</td>\n",
       "      <td>1.000000</td>\n",
       "      <td>1.000000</td>\n",
       "    </tr>\n",
       "    <tr>\n",
       "      <th>2001-04-30</th>\n",
       "      <td>15.630000</td>\n",
       "      <td>15.780000</td>\n",
       "      <td>0.440628</td>\n",
       "      <td>0.440628</td>\n",
       "    </tr>\n",
       "    <tr>\n",
       "      <th>2001-11-01</th>\n",
       "      <td>7.080000</td>\n",
       "      <td>6.950000</td>\n",
       "      <td>1.000000</td>\n",
       "      <td>0.440628</td>\n",
       "    </tr>\n",
       "    <tr>\n",
       "      <th>2002-04-30</th>\n",
       "      <td>16.129999</td>\n",
       "      <td>16.690001</td>\n",
       "      <td>2.357345</td>\n",
       "      <td>1.038713</td>\n",
       "    </tr>\n",
       "    <tr>\n",
       "      <th>2002-11-01</th>\n",
       "      <td>19.219999</td>\n",
       "      <td>19.799999</td>\n",
       "      <td>1.000000</td>\n",
       "      <td>1.038713</td>\n",
       "    </tr>\n",
       "    <tr>\n",
       "      <th>2003-04-30</th>\n",
       "      <td>28.600000</td>\n",
       "      <td>28.690001</td>\n",
       "      <td>1.492716</td>\n",
       "      <td>1.550503</td>\n",
       "    </tr>\n",
       "    <tr>\n",
       "      <th>2003-11-03</th>\n",
       "      <td>54.799999</td>\n",
       "      <td>56.740002</td>\n",
       "      <td>1.000000</td>\n",
       "      <td>1.550503</td>\n",
       "    </tr>\n",
       "    <tr>\n",
       "      <th>2004-04-30</th>\n",
       "      <td>46.060001</td>\n",
       "      <td>43.599998</td>\n",
       "      <td>0.795620</td>\n",
       "      <td>1.233612</td>\n",
       "    </tr>\n",
       "    <tr>\n",
       "      <th>2004-11-01</th>\n",
       "      <td>34.220001</td>\n",
       "      <td>35.099998</td>\n",
       "      <td>1.000000</td>\n",
       "      <td>1.233612</td>\n",
       "    </tr>\n",
       "    <tr>\n",
       "      <th>2005-04-29</th>\n",
       "      <td>32.860001</td>\n",
       "      <td>32.360001</td>\n",
       "      <td>0.945646</td>\n",
       "      <td>1.166560</td>\n",
       "    </tr>\n",
       "    <tr>\n",
       "      <th>2005-11-01</th>\n",
       "      <td>39.970001</td>\n",
       "      <td>40.369999</td>\n",
       "      <td>1.000000</td>\n",
       "      <td>1.166560</td>\n",
       "    </tr>\n",
       "    <tr>\n",
       "      <th>2006-04-28</th>\n",
       "      <td>35.770000</td>\n",
       "      <td>35.209999</td>\n",
       "      <td>0.880911</td>\n",
       "      <td>1.027635</td>\n",
       "    </tr>\n",
       "    <tr>\n",
       "      <th>2006-11-01</th>\n",
       "      <td>38.130001</td>\n",
       "      <td>37.560001</td>\n",
       "      <td>1.000000</td>\n",
       "      <td>1.027635</td>\n",
       "    </tr>\n",
       "    <tr>\n",
       "      <th>2007-04-30</th>\n",
       "      <td>61.910000</td>\n",
       "      <td>61.330002</td>\n",
       "      <td>1.608445</td>\n",
       "      <td>1.652894</td>\n",
       "    </tr>\n",
       "    <tr>\n",
       "      <th>2007-11-01</th>\n",
       "      <td>87.750000</td>\n",
       "      <td>87.650002</td>\n",
       "      <td>1.000000</td>\n",
       "      <td>1.652894</td>\n",
       "    </tr>\n",
       "    <tr>\n",
       "      <th>2008-04-30</th>\n",
       "      <td>80.900002</td>\n",
       "      <td>78.629997</td>\n",
       "      <td>0.896068</td>\n",
       "      <td>1.481106</td>\n",
       "    </tr>\n",
       "    <tr>\n",
       "      <th>2008-11-03</th>\n",
       "      <td>56.349998</td>\n",
       "      <td>55.770000</td>\n",
       "      <td>1.000000</td>\n",
       "      <td>1.481106</td>\n",
       "    </tr>\n",
       "    <tr>\n",
       "      <th>2009-04-30</th>\n",
       "      <td>80.930000</td>\n",
       "      <td>80.519997</td>\n",
       "      <td>1.428926</td>\n",
       "      <td>2.116392</td>\n",
       "    </tr>\n",
       "    <tr>\n",
       "      <th>2009-11-02</th>\n",
       "      <td>118.660004</td>\n",
       "      <td>118.839996</td>\n",
       "      <td>1.000000</td>\n",
       "      <td>2.116392</td>\n",
       "    </tr>\n",
       "    <tr>\n",
       "      <th>2010-04-30</th>\n",
       "      <td>141.399994</td>\n",
       "      <td>137.100006</td>\n",
       "      <td>1.155402</td>\n",
       "      <td>2.445283</td>\n",
       "    </tr>\n",
       "    <tr>\n",
       "      <th>2010-11-01</th>\n",
       "      <td>164.449997</td>\n",
       "      <td>162.580002</td>\n",
       "      <td>1.000000</td>\n",
       "      <td>2.445283</td>\n",
       "    </tr>\n",
       "    <tr>\n",
       "      <th>2011-04-29</th>\n",
       "      <td>194.380005</td>\n",
       "      <td>195.809998</td>\n",
       "      <td>1.190696</td>\n",
       "      <td>2.911590</td>\n",
       "    </tr>\n",
       "  </tbody>\n",
       "</table>\n",
       "</div>"
      ],
      "text/plain": [
       "                  Open       Close       rtn   acc_rtn\n",
       "Date                                                  \n",
       "2000-11-01   35.812500   37.375000  1.000000  1.000000\n",
       "2001-04-30   15.630000   15.780000  0.440628  0.440628\n",
       "2001-11-01    7.080000    6.950000  1.000000  0.440628\n",
       "2002-04-30   16.129999   16.690001  2.357345  1.038713\n",
       "2002-11-01   19.219999   19.799999  1.000000  1.038713\n",
       "2003-04-30   28.600000   28.690001  1.492716  1.550503\n",
       "2003-11-03   54.799999   56.740002  1.000000  1.550503\n",
       "2004-04-30   46.060001   43.599998  0.795620  1.233612\n",
       "2004-11-01   34.220001   35.099998  1.000000  1.233612\n",
       "2005-04-29   32.860001   32.360001  0.945646  1.166560\n",
       "2005-11-01   39.970001   40.369999  1.000000  1.166560\n",
       "2006-04-28   35.770000   35.209999  0.880911  1.027635\n",
       "2006-11-01   38.130001   37.560001  1.000000  1.027635\n",
       "2007-04-30   61.910000   61.330002  1.608445  1.652894\n",
       "2007-11-01   87.750000   87.650002  1.000000  1.652894\n",
       "2008-04-30   80.900002   78.629997  0.896068  1.481106\n",
       "2008-11-03   56.349998   55.770000  1.000000  1.481106\n",
       "2009-04-30   80.930000   80.519997  1.428926  2.116392\n",
       "2009-11-02  118.660004  118.839996  1.000000  2.116392\n",
       "2010-04-30  141.399994  137.100006  1.155402  2.445283\n",
       "2010-11-01  164.449997  162.580002  1.000000  2.445283\n",
       "2011-04-29  194.380005  195.809998  1.190696  2.911590"
      ]
     },
     "execution_count": 16,
     "metadata": {},
     "output_type": "execute_result"
    }
   ],
   "source": [
    "halloween_df"
   ]
  },
  {
   "cell_type": "markdown",
   "metadata": {},
   "source": [
    "### 할로윈 투자전략 함수화\n",
    "- 매개변수 4개\n",
    "    - 데이터(_df)\n",
    "    - 시작년도 (_start=2010)\n",
    "    - 종료 년도(_end = datetime.now())\n",
    "    - 월(_mon=11)\n",
    "- 복사본 생성\n",
    "- 커럼에 Date가 존재하면 Date를 인덱스로\n",
    "- 인덱스를 시계열 데이터로 변경\n",
    "- 빈 데이터프레임 생성\n",
    "- 반복문을 이용하여 시작년도부터 종료 년도까지 반복\n",
    "    - 시작년도의 월을 포함한 시계열 데이터 생성 (buy_mon)\n",
    "    - 위에서 만들어진 시계열에서 5개월 뒤라는 시계열 데이터 생성(sell_mon)\n",
    "    - buy_mon, sell_mon 시계열 데이터에서 년-월의 포멧으로 문자열로 변경\n",
    "    - buy_mon으로 인덱스를 필터해서 첫번째 인덱스 추출\n",
    "    - sell_mon으로 인덱스를 필터해서 마지막 인덱스 추출\n",
    "    - 나온 결과를 빈 데이터프레임에 단순 행 결합 concat()\n",
    "- 수익율 계산\n",
    "- 누적 수익율 계산\n",
    "- 만들어진 데이터프레임과 총 누적수익율을 되돌려줌."
   ]
  },
  {
   "cell_type": "code",
   "execution_count": 17,
   "metadata": {},
   "outputs": [],
   "source": [
    "# def hallo(_df,\n",
    "#           _start = 2010,\n",
    "#           _end = datetime.now().year,\n",
    "#           _mon = 11):\n",
    "#     df = _df.copy()\n",
    "    \n",
    "#     #인덱스 변경\n",
    "#     if 'Date' in df.columns:\n",
    "#         df.set_index('Date',inplace=True)\n",
    "    \n",
    "#     # 인덱스 시계열로 변환\n",
    "#     df.index=pd.to_datetime(df.index)\n",
    "    \n",
    "#     # 빈 데이터프레임 생성\n",
    "#     bin = pd.DataFrame()\n",
    "    \n",
    "#     for i in range(_start,_end):\n",
    "#         buy_mon = datetime(year=i,month=_mon,day=1)\n",
    "#         sell_mon = buy_mon + relativedelta(months=5)\n",
    "        \n",
    "#         buy_mon = buy_mon.strftime('%Y-%m')\n",
    "#         sell_mon = sell_mon.strftime('%Y-%m')\n",
    "        \n",
    "#         # 인덱스 필터링\n",
    "#         start_df = df.loc[buy_mon].head(1)\n",
    "#         end_df = df.loc[sell_mon].tail(1)\n",
    "#         bin = pd.concat([bin,start_df, end_df])\n",
    "#     return bin\n",
    "        "
   ]
  },
  {
   "cell_type": "code",
   "execution_count": 18,
   "metadata": {},
   "outputs": [],
   "source": [
    "def halloween(_df,\n",
    "          _start = 2010,\n",
    "          _end = datetime.now().year,\n",
    "          _mon = 11):\n",
    "    df = _df.copy()\n",
    "    \n",
    "    if 'Date' in df.columns:\n",
    "        df.set_index('Date',inplace=True)\n",
    "    \n",
    "    #인덱스를 시계열로 변경\n",
    "    df.index = pd.to_datetime(df.index,utc=True)\n",
    "    \n",
    "    #빈 데이터프레임 생성\n",
    "    result = pd.DataFrame()\n",
    "    \n",
    "    # 반복문을 이용 _start에서 _end까지 반복실행하는 반복문\n",
    "    for i in range(_start, _end):\n",
    "        buy_mon = datetime(year=i,month=_mon, day=1)\n",
    "        sell_mon = buy_mon + relativedelta(months=5)\n",
    "        \n",
    "        buy_mon = buy_mon.strftime('%Y-%m')\n",
    "        sell_mon = sell_mon.strftime('%Y-%m')\n",
    "        try:\n",
    "            buy = df.loc[buy_mon].head(1)\n",
    "            sell = df.loc[sell_mon].tail(1)\n",
    "            result = pd.concat([result,buy,sell], axis=0)\n",
    "        except:\n",
    "            break\n",
    "        \n",
    "    # 수익률 계산\n",
    "    result['rtn'] =1\n",
    "    for idx in range(1,len(result),2):\n",
    "        rtn = result.iloc[idx]['Close']/result.iloc[idx-1]['Open']\n",
    "        result.iloc[idx,-1] = rtn\n",
    "    # 누적 수익율\n",
    "    result['rtn'].cumprod()\n",
    "    # 최종 누적 수익율 변수에 저장\n",
    "    acc_rtn = result.iloc[-1,-1]\n",
    "    return result, acc_rtn"
   ]
  },
  {
   "cell_type": "code",
   "execution_count": 19,
   "metadata": {},
   "outputs": [],
   "source": [
    "dff = pd.read_csv('../csv/AMZN.csv',index_col='Date')"
   ]
  },
  {
   "cell_type": "code",
   "execution_count": 20,
   "metadata": {},
   "outputs": [
    {
     "name": "stderr",
     "output_type": "stream",
     "text": [
      "C:\\Users\\Owner\\AppData\\Local\\Temp\\ipykernel_39048\\717270362.py:34: FutureWarning: Setting an item of incompatible dtype is deprecated and will raise an error in a future version of pandas. Value '1.1565537152454997' has dtype incompatible with int64, please explicitly cast to a compatible dtype first.\n",
      "  result.iloc[idx,-1] = rtn\n"
     ]
    },
    {
     "data": {
      "text/plain": [
       "(                                  Open         High          Low        Close  \\\n",
       " Date                                                                            \n",
       " 2010-04-01 00:00:00+00:00   135.800003   136.509995   131.179993   131.809998   \n",
       " 2010-09-30 00:00:00+00:00   160.009995   160.929993   155.600006   157.059998   \n",
       " 2011-04-01 00:00:00+00:00   181.580002   183.250000   178.589996   180.130005   \n",
       " 2011-09-30 00:00:00+00:00   218.190002   223.000000   215.210007   216.229996   \n",
       " 2012-04-02 00:00:00+00:00   198.020004   199.899994   197.000000   198.050003   \n",
       " 2012-09-28 00:00:00+00:00   256.140015   257.000000   253.199997   254.320007   \n",
       " 2013-04-01 00:00:00+00:00   266.980011   267.399994   261.010010   261.609985   \n",
       " 2013-09-30 00:00:00+00:00   313.410004   315.309998   311.059998   312.640015   \n",
       " 2014-04-01 00:00:00+00:00   338.089996   344.429993   338.000000   342.989990   \n",
       " 2014-09-30 00:00:00+00:00   321.359985   323.429993   318.510010   322.440002   \n",
       " 2015-04-01 00:00:00+00:00   372.100006   373.160004   368.339996   370.260010   \n",
       " 2015-09-30 00:00:00+00:00   505.440002   512.799988   501.670013   511.890015   \n",
       " 2016-04-01 00:00:00+00:00   590.489990   599.030029   588.299988   598.500000   \n",
       " 2016-09-30 00:00:00+00:00   832.609985   839.950012   832.400024   837.309998   \n",
       " 2017-04-03 00:00:00+00:00   888.000000   893.489990   885.419983   891.510010   \n",
       " 2017-09-29 00:00:00+00:00   960.109985   964.830017   958.380005   961.349976   \n",
       " 2018-04-02 00:00:00+00:00  1417.619995  1421.359985  1355.000000  1371.989990   \n",
       " 2018-09-28 00:00:00+00:00  2004.410034  2026.520020  1996.459961  2003.000000   \n",
       " \n",
       "                              Adj Close    Volume       rtn  \n",
       " Date                                                        \n",
       " 2010-04-01 00:00:00+00:00   131.809998   8785800  1.000000  \n",
       " 2010-09-30 00:00:00+00:00   157.059998   7606000  1.156554  \n",
       " 2011-04-01 00:00:00+00:00   180.130005   5684100  1.000000  \n",
       " 2011-09-30 00:00:00+00:00   216.229996   6550300  1.190825  \n",
       " 2012-04-02 00:00:00+00:00   198.050003   6430300  1.000000  \n",
       " 2012-09-28 00:00:00+00:00   254.320007   2456600  1.284315  \n",
       " 2013-04-01 00:00:00+00:00   261.609985   2524800  1.000000  \n",
       " 2013-09-30 00:00:00+00:00   312.640015   1623600  1.171024  \n",
       " 2014-04-01 00:00:00+00:00   342.989990   3600100  1.000000  \n",
       " 2014-09-30 00:00:00+00:00   322.440002   2636200  0.953711  \n",
       " 2015-04-01 00:00:00+00:00   370.260010   2451100  1.000000  \n",
       " 2015-09-30 00:00:00+00:00   511.890015   3990400  1.375679  \n",
       " 2016-04-01 00:00:00+00:00   598.500000   2917400  1.000000  \n",
       " 2016-09-30 00:00:00+00:00   837.309998   4430600  1.417992  \n",
       " 2017-04-03 00:00:00+00:00   891.510010   3422300  1.000000  \n",
       " 2017-09-29 00:00:00+00:00   961.349976   2543800  1.082601  \n",
       " 2018-04-02 00:00:00+00:00  1371.989990  10463600  1.000000  \n",
       " 2018-09-28 00:00:00+00:00  2003.000000   4085100  1.412932  ,\n",
       " np.float64(1.412931538116461))"
      ]
     },
     "execution_count": 20,
     "metadata": {},
     "output_type": "execute_result"
    }
   ],
   "source": [
    "halloween(dff,_mon=4)"
   ]
  },
  {
   "cell_type": "code",
   "execution_count": 21,
   "metadata": {},
   "outputs": [
    {
     "name": "stderr",
     "output_type": "stream",
     "text": [
      "C:\\Users\\Owner\\AppData\\Local\\Temp\\ipykernel_39048\\717270362.py:34: FutureWarning: Setting an item of incompatible dtype is deprecated and will raise an error in a future version of pandas. Value '0.8019082715596331' has dtype incompatible with int64, please explicitly cast to a compatible dtype first.\n",
      "  result.iloc[idx,-1] = rtn\n",
      "C:\\Users\\Owner\\AppData\\Local\\Temp\\ipykernel_39048\\717270362.py:34: FutureWarning: Setting an item of incompatible dtype is deprecated and will raise an error in a future version of pandas. Value '0.9570547085565838' has dtype incompatible with int64, please explicitly cast to a compatible dtype first.\n",
      "  result.iloc[idx,-1] = rtn\n",
      "C:\\Users\\Owner\\AppData\\Local\\Temp\\ipykernel_39048\\717270362.py:34: FutureWarning: Setting an item of incompatible dtype is deprecated and will raise an error in a future version of pandas. Value '1.051642840395354' has dtype incompatible with int64, please explicitly cast to a compatible dtype first.\n",
      "  result.iloc[idx,-1] = rtn\n",
      "C:\\Users\\Owner\\AppData\\Local\\Temp\\ipykernel_39048\\717270362.py:34: FutureWarning: Setting an item of incompatible dtype is deprecated and will raise an error in a future version of pandas. Value '1.1565537152454997' has dtype incompatible with int64, please explicitly cast to a compatible dtype first.\n",
      "  result.iloc[idx,-1] = rtn\n",
      "C:\\Users\\Owner\\AppData\\Local\\Temp\\ipykernel_39048\\717270362.py:34: FutureWarning: Setting an item of incompatible dtype is deprecated and will raise an error in a future version of pandas. Value '1.2043002887237673' has dtype incompatible with int64, please explicitly cast to a compatible dtype first.\n",
      "  result.iloc[idx,-1] = rtn\n",
      "C:\\Users\\Owner\\AppData\\Local\\Temp\\ipykernel_39048\\717270362.py:34: FutureWarning: Setting an item of incompatible dtype is deprecated and will raise an error in a future version of pandas. Value '1.4035367896012099' has dtype incompatible with int64, please explicitly cast to a compatible dtype first.\n",
      "  result.iloc[idx,-1] = rtn\n",
      "C:\\Users\\Owner\\AppData\\Local\\Temp\\ipykernel_39048\\717270362.py:34: FutureWarning: Setting an item of incompatible dtype is deprecated and will raise an error in a future version of pandas. Value '1.652892531627318' has dtype incompatible with int64, please explicitly cast to a compatible dtype first.\n",
      "  result.iloc[idx,-1] = rtn\n",
      "C:\\Users\\Owner\\AppData\\Local\\Temp\\ipykernel_39048\\717270362.py:34: FutureWarning: Setting an item of incompatible dtype is deprecated and will raise an error in a future version of pandas. Value '1.4237515413554083' has dtype incompatible with int64, please explicitly cast to a compatible dtype first.\n",
      "  result.iloc[idx,-1] = rtn\n",
      "C:\\Users\\Owner\\AppData\\Local\\Temp\\ipykernel_39048\\717270362.py:34: FutureWarning: Setting an item of incompatible dtype is deprecated and will raise an error in a future version of pandas. Value '1.371399110704344' has dtype incompatible with int64, please explicitly cast to a compatible dtype first.\n",
      "  result.iloc[idx,-1] = rtn\n",
      "C:\\Users\\Owner\\AppData\\Local\\Temp\\ipykernel_39048\\717270362.py:34: FutureWarning: Setting an item of incompatible dtype is deprecated and will raise an error in a future version of pandas. Value '1.1467405316177677' has dtype incompatible with int64, please explicitly cast to a compatible dtype first.\n",
      "  result.iloc[idx,-1] = rtn\n",
      "C:\\Users\\Owner\\AppData\\Local\\Temp\\ipykernel_39048\\717270362.py:34: FutureWarning: Setting an item of incompatible dtype is deprecated and will raise an error in a future version of pandas. Value '1.1906962698211543' has dtype incompatible with int64, please explicitly cast to a compatible dtype first.\n",
      "  result.iloc[idx,-1] = rtn\n",
      "C:\\Users\\Owner\\AppData\\Local\\Temp\\ipykernel_39048\\717270362.py:34: FutureWarning: Setting an item of incompatible dtype is deprecated and will raise an error in a future version of pandas. Value '1.097845487880208' has dtype incompatible with int64, please explicitly cast to a compatible dtype first.\n",
      "  result.iloc[idx,-1] = rtn\n"
     ]
    },
    {
     "data": {
      "text/plain": [
       "np.float64(1.412931538116461)"
      ]
     },
     "execution_count": 21,
     "metadata": {},
     "output_type": "execute_result"
    }
   ],
   "source": [
    "acc= []\n",
    "for i in range(1,13):\n",
    "    hw_df, acc_rtn = halloween(df, _mon=i)\n",
    "    # print(f'{i}월부터 6개월 투자한 수익율 : {acc_rtn}')\n",
    "    acc.append(acc_rtn)\n",
    "max(acc)"
   ]
  },
  {
   "cell_type": "code",
   "execution_count": 22,
   "metadata": {},
   "outputs": [
    {
     "name": "stderr",
     "output_type": "stream",
     "text": [
      "C:\\Users\\Owner\\AppData\\Local\\Temp\\ipykernel_39048\\717270362.py:34: FutureWarning: Setting an item of incompatible dtype is deprecated and will raise an error in a future version of pandas. Value '0.8019082715596331' has dtype incompatible with int64, please explicitly cast to a compatible dtype first.\n",
      "  result.iloc[idx,-1] = rtn\n",
      "C:\\Users\\Owner\\AppData\\Local\\Temp\\ipykernel_39048\\717270362.py:34: FutureWarning: Setting an item of incompatible dtype is deprecated and will raise an error in a future version of pandas. Value '0.9570547085565838' has dtype incompatible with int64, please explicitly cast to a compatible dtype first.\n",
      "  result.iloc[idx,-1] = rtn\n",
      "C:\\Users\\Owner\\AppData\\Local\\Temp\\ipykernel_39048\\717270362.py:34: FutureWarning: Setting an item of incompatible dtype is deprecated and will raise an error in a future version of pandas. Value '1.051642840395354' has dtype incompatible with int64, please explicitly cast to a compatible dtype first.\n",
      "  result.iloc[idx,-1] = rtn\n",
      "C:\\Users\\Owner\\AppData\\Local\\Temp\\ipykernel_39048\\717270362.py:34: FutureWarning: Setting an item of incompatible dtype is deprecated and will raise an error in a future version of pandas. Value '1.1565537152454997' has dtype incompatible with int64, please explicitly cast to a compatible dtype first.\n",
      "  result.iloc[idx,-1] = rtn\n",
      "C:\\Users\\Owner\\AppData\\Local\\Temp\\ipykernel_39048\\717270362.py:34: FutureWarning: Setting an item of incompatible dtype is deprecated and will raise an error in a future version of pandas. Value '1.2043002887237673' has dtype incompatible with int64, please explicitly cast to a compatible dtype first.\n",
      "  result.iloc[idx,-1] = rtn\n",
      "C:\\Users\\Owner\\AppData\\Local\\Temp\\ipykernel_39048\\717270362.py:34: FutureWarning: Setting an item of incompatible dtype is deprecated and will raise an error in a future version of pandas. Value '1.4035367896012099' has dtype incompatible with int64, please explicitly cast to a compatible dtype first.\n",
      "  result.iloc[idx,-1] = rtn\n",
      "C:\\Users\\Owner\\AppData\\Local\\Temp\\ipykernel_39048\\717270362.py:34: FutureWarning: Setting an item of incompatible dtype is deprecated and will raise an error in a future version of pandas. Value '1.652892531627318' has dtype incompatible with int64, please explicitly cast to a compatible dtype first.\n",
      "  result.iloc[idx,-1] = rtn\n",
      "C:\\Users\\Owner\\AppData\\Local\\Temp\\ipykernel_39048\\717270362.py:34: FutureWarning: Setting an item of incompatible dtype is deprecated and will raise an error in a future version of pandas. Value '1.4237515413554083' has dtype incompatible with int64, please explicitly cast to a compatible dtype first.\n",
      "  result.iloc[idx,-1] = rtn\n",
      "C:\\Users\\Owner\\AppData\\Local\\Temp\\ipykernel_39048\\717270362.py:34: FutureWarning: Setting an item of incompatible dtype is deprecated and will raise an error in a future version of pandas. Value '1.371399110704344' has dtype incompatible with int64, please explicitly cast to a compatible dtype first.\n",
      "  result.iloc[idx,-1] = rtn\n",
      "C:\\Users\\Owner\\AppData\\Local\\Temp\\ipykernel_39048\\717270362.py:34: FutureWarning: Setting an item of incompatible dtype is deprecated and will raise an error in a future version of pandas. Value '1.1467405316177677' has dtype incompatible with int64, please explicitly cast to a compatible dtype first.\n",
      "  result.iloc[idx,-1] = rtn\n",
      "C:\\Users\\Owner\\AppData\\Local\\Temp\\ipykernel_39048\\717270362.py:34: FutureWarning: Setting an item of incompatible dtype is deprecated and will raise an error in a future version of pandas. Value '1.1906962698211543' has dtype incompatible with int64, please explicitly cast to a compatible dtype first.\n",
      "  result.iloc[idx,-1] = rtn\n",
      "C:\\Users\\Owner\\AppData\\Local\\Temp\\ipykernel_39048\\717270362.py:34: FutureWarning: Setting an item of incompatible dtype is deprecated and will raise an error in a future version of pandas. Value '1.097845487880208' has dtype incompatible with int64, please explicitly cast to a compatible dtype first.\n",
      "  result.iloc[idx,-1] = rtn\n"
     ]
    },
    {
     "name": "stdout",
     "output_type": "stream",
     "text": [
      "12개월 중 가장 높은 수익율은 4월부터 6개월 투자한 수익율 :1.412931538116461\n"
     ]
    }
   ],
   "source": [
    "max_rtn=0\n",
    "max_mon = ''\n",
    "for i in range(1,13):\n",
    "    hw_df, acc_rtn = halloween(df,_mon=i)\n",
    "    if acc_rtn > max_rtn:\n",
    "        max_mon = i\n",
    "        max_rtn = acc_rtn\n",
    "    \n",
    "    if i == 12:\n",
    "        print(f'12개월 중 가장 높은 수익율은 {max_mon}월부터 6개월 투자한 수익율 :{max_rtn}')"
   ]
  },
  {
   "cell_type": "code",
   "execution_count": 23,
   "metadata": {},
   "outputs": [
    {
     "name": "stderr",
     "output_type": "stream",
     "text": [
      "C:\\Users\\Owner\\AppData\\Local\\Temp\\ipykernel_39048\\717270362.py:34: FutureWarning: Setting an item of incompatible dtype is deprecated and will raise an error in a future version of pandas. Value '0.8019082715596331' has dtype incompatible with int64, please explicitly cast to a compatible dtype first.\n",
      "  result.iloc[idx,-1] = rtn\n",
      "C:\\Users\\Owner\\AppData\\Local\\Temp\\ipykernel_39048\\717270362.py:34: FutureWarning: Setting an item of incompatible dtype is deprecated and will raise an error in a future version of pandas. Value '0.9570547085565838' has dtype incompatible with int64, please explicitly cast to a compatible dtype first.\n",
      "  result.iloc[idx,-1] = rtn\n",
      "C:\\Users\\Owner\\AppData\\Local\\Temp\\ipykernel_39048\\717270362.py:34: FutureWarning: Setting an item of incompatible dtype is deprecated and will raise an error in a future version of pandas. Value '1.051642840395354' has dtype incompatible with int64, please explicitly cast to a compatible dtype first.\n",
      "  result.iloc[idx,-1] = rtn\n",
      "C:\\Users\\Owner\\AppData\\Local\\Temp\\ipykernel_39048\\717270362.py:34: FutureWarning: Setting an item of incompatible dtype is deprecated and will raise an error in a future version of pandas. Value '1.1565537152454997' has dtype incompatible with int64, please explicitly cast to a compatible dtype first.\n",
      "  result.iloc[idx,-1] = rtn\n",
      "C:\\Users\\Owner\\AppData\\Local\\Temp\\ipykernel_39048\\717270362.py:34: FutureWarning: Setting an item of incompatible dtype is deprecated and will raise an error in a future version of pandas. Value '1.2043002887237673' has dtype incompatible with int64, please explicitly cast to a compatible dtype first.\n",
      "  result.iloc[idx,-1] = rtn\n",
      "C:\\Users\\Owner\\AppData\\Local\\Temp\\ipykernel_39048\\717270362.py:34: FutureWarning: Setting an item of incompatible dtype is deprecated and will raise an error in a future version of pandas. Value '1.4035367896012099' has dtype incompatible with int64, please explicitly cast to a compatible dtype first.\n",
      "  result.iloc[idx,-1] = rtn\n",
      "C:\\Users\\Owner\\AppData\\Local\\Temp\\ipykernel_39048\\717270362.py:34: FutureWarning: Setting an item of incompatible dtype is deprecated and will raise an error in a future version of pandas. Value '1.652892531627318' has dtype incompatible with int64, please explicitly cast to a compatible dtype first.\n",
      "  result.iloc[idx,-1] = rtn\n",
      "C:\\Users\\Owner\\AppData\\Local\\Temp\\ipykernel_39048\\717270362.py:34: FutureWarning: Setting an item of incompatible dtype is deprecated and will raise an error in a future version of pandas. Value '1.4237515413554083' has dtype incompatible with int64, please explicitly cast to a compatible dtype first.\n",
      "  result.iloc[idx,-1] = rtn\n",
      "C:\\Users\\Owner\\AppData\\Local\\Temp\\ipykernel_39048\\717270362.py:34: FutureWarning: Setting an item of incompatible dtype is deprecated and will raise an error in a future version of pandas. Value '1.371399110704344' has dtype incompatible with int64, please explicitly cast to a compatible dtype first.\n",
      "  result.iloc[idx,-1] = rtn\n",
      "C:\\Users\\Owner\\AppData\\Local\\Temp\\ipykernel_39048\\717270362.py:34: FutureWarning: Setting an item of incompatible dtype is deprecated and will raise an error in a future version of pandas. Value '1.1467405316177677' has dtype incompatible with int64, please explicitly cast to a compatible dtype first.\n",
      "  result.iloc[idx,-1] = rtn\n",
      "C:\\Users\\Owner\\AppData\\Local\\Temp\\ipykernel_39048\\717270362.py:34: FutureWarning: Setting an item of incompatible dtype is deprecated and will raise an error in a future version of pandas. Value '1.1906962698211543' has dtype incompatible with int64, please explicitly cast to a compatible dtype first.\n",
      "  result.iloc[idx,-1] = rtn\n",
      "C:\\Users\\Owner\\AppData\\Local\\Temp\\ipykernel_39048\\717270362.py:34: FutureWarning: Setting an item of incompatible dtype is deprecated and will raise an error in a future version of pandas. Value '1.097845487880208' has dtype incompatible with int64, please explicitly cast to a compatible dtype first.\n",
      "  result.iloc[idx,-1] = rtn\n"
     ]
    },
    {
     "data": {
      "text/plain": [
       "(4, np.float64(1.412931538116461))"
      ]
     },
     "execution_count": 23,
     "metadata": {},
     "output_type": "execute_result"
    }
   ],
   "source": [
    "ac = {}\n",
    "for i in range(1,13):\n",
    "    hw_df,acc_rtn = halloween(df,_mon=i)\n",
    "    ac[i] = acc_rtn\n",
    "    \n",
    "sorted(ac.items(), key=lambda x: x[1], reverse=True)[0]"
   ]
  }
 ],
 "metadata": {
  "kernelspec": {
   "display_name": "Python 3",
   "language": "python",
   "name": "python3"
  },
  "language_info": {
   "codemirror_mode": {
    "name": "ipython",
    "version": 3
   },
   "file_extension": ".py",
   "mimetype": "text/x-python",
   "name": "python",
   "nbconvert_exporter": "python",
   "pygments_lexer": "ipython3",
   "version": "3.13.2"
  }
 },
 "nbformat": 4,
 "nbformat_minor": 2
}
