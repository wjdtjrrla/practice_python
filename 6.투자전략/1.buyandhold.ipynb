{
 "cells": [
  {
   "cell_type": "markdown",
   "metadata": {},
   "source": [
    "### 바이앤홀드 (buyandhold)\n",
    "- 매수 후 일정 기간 동안 유지한 뒤 매도"
   ]
  },
  {
   "cell_type": "code",
   "execution_count": 1,
   "metadata": {},
   "outputs": [],
   "source": [
    "import pandas as pd"
   ]
  },
  {
   "cell_type": "code",
   "execution_count": 3,
   "metadata": {},
   "outputs": [],
   "source": [
    "# csv 폴더 안에 있는 AAPL.csv 로드 \n",
    "df = pd.read_csv(\"../csv/AAPL.csv\")"
   ]
  },
  {
   "cell_type": "code",
   "execution_count": 4,
   "metadata": {},
   "outputs": [
    {
     "data": {
      "text/html": [
       "<div>\n",
       "<style scoped>\n",
       "    .dataframe tbody tr th:only-of-type {\n",
       "        vertical-align: middle;\n",
       "    }\n",
       "\n",
       "    .dataframe tbody tr th {\n",
       "        vertical-align: top;\n",
       "    }\n",
       "\n",
       "    .dataframe thead th {\n",
       "        text-align: right;\n",
       "    }\n",
       "</style>\n",
       "<table border=\"1\" class=\"dataframe\">\n",
       "  <thead>\n",
       "    <tr style=\"text-align: right;\">\n",
       "      <th></th>\n",
       "      <th>Date</th>\n",
       "      <th>Open</th>\n",
       "      <th>High</th>\n",
       "      <th>Low</th>\n",
       "      <th>Close</th>\n",
       "      <th>Adj Close</th>\n",
       "      <th>Volume</th>\n",
       "    </tr>\n",
       "  </thead>\n",
       "  <tbody>\n",
       "    <tr>\n",
       "      <th>0</th>\n",
       "      <td>1980-12-12</td>\n",
       "      <td>0.513393</td>\n",
       "      <td>0.515625</td>\n",
       "      <td>0.513393</td>\n",
       "      <td>0.513393</td>\n",
       "      <td>0.410525</td>\n",
       "      <td>117258400.0</td>\n",
       "    </tr>\n",
       "    <tr>\n",
       "      <th>1</th>\n",
       "      <td>1980-12-15</td>\n",
       "      <td>0.488839</td>\n",
       "      <td>0.488839</td>\n",
       "      <td>0.486607</td>\n",
       "      <td>0.486607</td>\n",
       "      <td>0.389106</td>\n",
       "      <td>43971200.0</td>\n",
       "    </tr>\n",
       "    <tr>\n",
       "      <th>2</th>\n",
       "      <td>1980-12-16</td>\n",
       "      <td>0.453125</td>\n",
       "      <td>0.453125</td>\n",
       "      <td>0.450893</td>\n",
       "      <td>0.450893</td>\n",
       "      <td>0.360548</td>\n",
       "      <td>26432000.0</td>\n",
       "    </tr>\n",
       "    <tr>\n",
       "      <th>3</th>\n",
       "      <td>1980-12-17</td>\n",
       "      <td>0.462054</td>\n",
       "      <td>0.464286</td>\n",
       "      <td>0.462054</td>\n",
       "      <td>0.462054</td>\n",
       "      <td>0.369472</td>\n",
       "      <td>21610400.0</td>\n",
       "    </tr>\n",
       "    <tr>\n",
       "      <th>4</th>\n",
       "      <td>1980-12-18</td>\n",
       "      <td>0.475446</td>\n",
       "      <td>0.477679</td>\n",
       "      <td>0.475446</td>\n",
       "      <td>0.475446</td>\n",
       "      <td>0.380182</td>\n",
       "      <td>18362400.0</td>\n",
       "    </tr>\n",
       "  </tbody>\n",
       "</table>\n",
       "</div>"
      ],
      "text/plain": [
       "         Date      Open      High       Low     Close  Adj Close       Volume\n",
       "0  1980-12-12  0.513393  0.515625  0.513393  0.513393   0.410525  117258400.0\n",
       "1  1980-12-15  0.488839  0.488839  0.486607  0.486607   0.389106   43971200.0\n",
       "2  1980-12-16  0.453125  0.453125  0.450893  0.450893   0.360548   26432000.0\n",
       "3  1980-12-17  0.462054  0.464286  0.462054  0.462054   0.369472   21610400.0\n",
       "4  1980-12-18  0.475446  0.477679  0.475446  0.475446   0.380182   18362400.0"
      ]
     },
     "execution_count": 4,
     "metadata": {},
     "output_type": "execute_result"
    }
   ],
   "source": [
    "df.head()"
   ]
  },
  {
   "cell_type": "code",
   "execution_count": 5,
   "metadata": {},
   "outputs": [
    {
     "data": {
      "text/html": [
       "<div>\n",
       "<style scoped>\n",
       "    .dataframe tbody tr th:only-of-type {\n",
       "        vertical-align: middle;\n",
       "    }\n",
       "\n",
       "    .dataframe tbody tr th {\n",
       "        vertical-align: top;\n",
       "    }\n",
       "\n",
       "    .dataframe thead th {\n",
       "        text-align: right;\n",
       "    }\n",
       "</style>\n",
       "<table border=\"1\" class=\"dataframe\">\n",
       "  <thead>\n",
       "    <tr style=\"text-align: right;\">\n",
       "      <th></th>\n",
       "      <th>Date</th>\n",
       "      <th>Open</th>\n",
       "      <th>High</th>\n",
       "      <th>Low</th>\n",
       "      <th>Close</th>\n",
       "      <th>Adj Close</th>\n",
       "      <th>Volume</th>\n",
       "    </tr>\n",
       "  </thead>\n",
       "  <tbody>\n",
       "    <tr>\n",
       "      <th>9710</th>\n",
       "      <td>2019-06-18</td>\n",
       "      <td>196.050003</td>\n",
       "      <td>200.289993</td>\n",
       "      <td>195.210007</td>\n",
       "      <td>198.449997</td>\n",
       "      <td>198.449997</td>\n",
       "      <td>26551000.0</td>\n",
       "    </tr>\n",
       "    <tr>\n",
       "      <th>9711</th>\n",
       "      <td>2019-06-19</td>\n",
       "      <td>199.679993</td>\n",
       "      <td>199.880005</td>\n",
       "      <td>197.309998</td>\n",
       "      <td>197.869995</td>\n",
       "      <td>197.869995</td>\n",
       "      <td>21124200.0</td>\n",
       "    </tr>\n",
       "    <tr>\n",
       "      <th>9712</th>\n",
       "      <td>2019-06-20</td>\n",
       "      <td>200.369995</td>\n",
       "      <td>200.610001</td>\n",
       "      <td>198.029999</td>\n",
       "      <td>199.460007</td>\n",
       "      <td>199.460007</td>\n",
       "      <td>21514000.0</td>\n",
       "    </tr>\n",
       "    <tr>\n",
       "      <th>9713</th>\n",
       "      <td>2019-06-21</td>\n",
       "      <td>198.800003</td>\n",
       "      <td>200.850006</td>\n",
       "      <td>198.149994</td>\n",
       "      <td>198.779999</td>\n",
       "      <td>198.779999</td>\n",
       "      <td>47735300.0</td>\n",
       "    </tr>\n",
       "    <tr>\n",
       "      <th>9714</th>\n",
       "      <td>2019-06-24</td>\n",
       "      <td>198.539993</td>\n",
       "      <td>200.160004</td>\n",
       "      <td>198.169998</td>\n",
       "      <td>199.169998</td>\n",
       "      <td>199.169998</td>\n",
       "      <td>9025362.0</td>\n",
       "    </tr>\n",
       "  </tbody>\n",
       "</table>\n",
       "</div>"
      ],
      "text/plain": [
       "            Date        Open        High         Low       Close   Adj Close  \\\n",
       "9710  2019-06-18  196.050003  200.289993  195.210007  198.449997  198.449997   \n",
       "9711  2019-06-19  199.679993  199.880005  197.309998  197.869995  197.869995   \n",
       "9712  2019-06-20  200.369995  200.610001  198.029999  199.460007  199.460007   \n",
       "9713  2019-06-21  198.800003  200.850006  198.149994  198.779999  198.779999   \n",
       "9714  2019-06-24  198.539993  200.160004  198.169998  199.169998  199.169998   \n",
       "\n",
       "          Volume  \n",
       "9710  26551000.0  \n",
       "9711  21124200.0  \n",
       "9712  21514000.0  \n",
       "9713  47735300.0  \n",
       "9714   9025362.0  "
      ]
     },
     "execution_count": 5,
     "metadata": {},
     "output_type": "execute_result"
    }
   ],
   "source": [
    "df.tail()"
   ]
  },
  {
   "cell_type": "code",
   "execution_count": 6,
   "metadata": {},
   "outputs": [
    {
     "name": "stdout",
     "output_type": "stream",
     "text": [
      "<class 'pandas.core.frame.DataFrame'>\n",
      "RangeIndex: 9715 entries, 0 to 9714\n",
      "Data columns (total 7 columns):\n",
      " #   Column     Non-Null Count  Dtype  \n",
      "---  ------     --------------  -----  \n",
      " 0   Date       9715 non-null   object \n",
      " 1   Open       9714 non-null   float64\n",
      " 2   High       9714 non-null   float64\n",
      " 3   Low        9714 non-null   float64\n",
      " 4   Close      9714 non-null   float64\n",
      " 5   Adj Close  9714 non-null   float64\n",
      " 6   Volume     9713 non-null   float64\n",
      "dtypes: float64(6), object(1)\n",
      "memory usage: 531.4+ KB\n"
     ]
    }
   ],
   "source": [
    "# 데이터프레임 정보를 확인 \n",
    "df.info()"
   ]
  },
  {
   "cell_type": "code",
   "execution_count": 7,
   "metadata": {},
   "outputs": [
    {
     "data": {
      "text/plain": [
       "Date         0\n",
       "Open         1\n",
       "High         1\n",
       "Low          1\n",
       "Close        1\n",
       "Adj Close    1\n",
       "Volume       2\n",
       "dtype: int64"
      ]
     },
     "execution_count": 7,
     "metadata": {},
     "output_type": "execute_result"
    }
   ],
   "source": [
    "# 결측치의 개수를 확인 \n",
    "df.isna().sum()"
   ]
  },
  {
   "cell_type": "code",
   "execution_count": null,
   "metadata": {},
   "outputs": [],
   "source": [
    "# 결측치가 존재하는 데이터를 확인 \n",
    "# 인덱스를 기준으로 결측치가 존재하는 데이터를 확인 \n",
    "# 인덱스의 조건식으로 결측치 존재(isna()) 유무(any(axis=1))\n",
    "flag = df.isna().any(axis=1)"
   ]
  },
  {
   "cell_type": "code",
   "execution_count": null,
   "metadata": {},
   "outputs": [],
   "source": [
    "df.loc[flag, ]"
   ]
  },
  {
   "cell_type": "code",
   "execution_count": null,
   "metadata": {},
   "outputs": [],
   "source": [
    "# 결측치를 제외한 데이터프레임을 출력 \n",
    "df.loc[~flag, ]"
   ]
  },
  {
   "cell_type": "code",
   "execution_count": null,
   "metadata": {},
   "outputs": [],
   "source": [
    "df.dropna()"
   ]
  },
  {
   "cell_type": "code",
   "execution_count": null,
   "metadata": {},
   "outputs": [],
   "source": [
    "import numpy as np"
   ]
  },
  {
   "cell_type": "code",
   "execution_count": null,
   "metadata": {},
   "outputs": [],
   "source": [
    "# isin() : 포함 여부 \n",
    "# 결측치(np.nan), 양의 무한대(np.inf), 음의 무한대(-np.inf) 포함되어있는가?\n",
    "flag2 = df.isin( [np.nan, np.inf, -np.inf] ).any(axis=1)"
   ]
  },
  {
   "cell_type": "code",
   "execution_count": null,
   "metadata": {},
   "outputs": [],
   "source": [
    "df = df.loc[~flag2, ]"
   ]
  },
  {
   "cell_type": "code",
   "execution_count": null,
   "metadata": {},
   "outputs": [],
   "source": [
    "# Date컬럼을 시계열 데이터로 변경\n",
    "df['Date'] = pd.to_datetime( df['Date'] )\n",
    "# Date 컬럼을 인덱스로 변경\n",
    "df.set_index('Date', inplace=True)"
   ]
  },
  {
   "cell_type": "code",
   "execution_count": null,
   "metadata": {},
   "outputs": [],
   "source": [
    "df.head()"
   ]
  },
  {
   "cell_type": "code",
   "execution_count": null,
   "metadata": {},
   "outputs": [],
   "source": [
    "# df에서 Adj Close 컬럼을 제외한 나머지 컬럼은 삭제 \n",
    "AAPL = df[['Adj Close']]\n",
    "AAPL"
   ]
  },
  {
   "cell_type": "code",
   "execution_count": null,
   "metadata": {},
   "outputs": [],
   "source": [
    "# 일별 수익율이라는 컬럼을 생성 \n",
    "# 오늘의 수정종가 / 전날의 수정종가 -> 일별 수익율\n",
    "AAPL['daily_rtn'] = \\\n",
    "    (AAPL['Adj Close'] / AAPL['Adj Close'].shift()).fillna(1)"
   ]
  },
  {
   "cell_type": "code",
   "execution_count": null,
   "metadata": {},
   "outputs": [],
   "source": [
    "AAPL.head()"
   ]
  },
  {
   "cell_type": "code",
   "execution_count": null,
   "metadata": {},
   "outputs": [],
   "source": [
    "# 수익율 계산\n",
    "# 일별 수익율을 모두 누적곱\n",
    "\n",
    "rtn = 1\n",
    "\n",
    "for i in range(len(AAPL)):\n",
    "    # i가 의미하는것은? 데이터프레임의 위치\n",
    "    rtn *= AAPL.iloc[i, 1]\n",
    "\n",
    "rtn"
   ]
  },
  {
   "cell_type": "code",
   "execution_count": null,
   "metadata": {},
   "outputs": [],
   "source": [
    "AAPL.tail()"
   ]
  },
  {
   "cell_type": "code",
   "execution_count": null,
   "metadata": {},
   "outputs": [],
   "source": [
    "AAPL.iloc[-1, 0] / AAPL.iloc[0, 0]"
   ]
  },
  {
   "cell_type": "code",
   "execution_count": null,
   "metadata": {},
   "outputs": [],
   "source": [
    "# pct_change() 함수를 이용하여 일별 수익율 \n",
    "AAPL['daily_rtn2'] = \\\n",
    "    (AAPL['Adj Close'].pct_change() + 1).fillna(1)"
   ]
  },
  {
   "cell_type": "code",
   "execution_count": null,
   "metadata": {},
   "outputs": [],
   "source": [
    "# cumprod() : 누적곱 함수 \n",
    "AAPL['daily_rtn2'].cumprod()"
   ]
  },
  {
   "cell_type": "code",
   "execution_count": null,
   "metadata": {},
   "outputs": [],
   "source": [
    "from datetime import datetime"
   ]
  },
  {
   "cell_type": "code",
   "execution_count": null,
   "metadata": {},
   "outputs": [],
   "source": [
    "# 인덱스를 기준으로 데이터를 필터링 후 수익율 계산\n",
    "# 시작시간 생성 \n",
    "start_time = \"2010-01-01\"\n",
    "end_time = \"2015-12-31\"\n",
    "# start_time과 end_time를 시계열 데이터로 변경 \n",
    "start = pd.to_datetime(start_time)\n",
    "end = datetime.strptime(end_time, '%Y-%m-%d')"
   ]
  },
  {
   "cell_type": "code",
   "execution_count": null,
   "metadata": {},
   "outputs": [],
   "source": [
    "price_AAPL = AAPL.loc[start : end, ['Adj Close']]"
   ]
  },
  {
   "cell_type": "code",
   "execution_count": null,
   "metadata": {},
   "outputs": [],
   "source": [
    "# 일별 수익율 컬럼을 생성\n",
    "price_AAPL['daily_rtn'] = \\\n",
    "    (price_AAPL['Adj Close'] / price_AAPL['Adj Close'].shift()).fillna(1)"
   ]
  },
  {
   "cell_type": "code",
   "execution_count": null,
   "metadata": {},
   "outputs": [],
   "source": [
    "# pct_change() 함수를 이용하여 일별 수익율 생성 \n",
    "price_AAPL['daily_rtn2'] = (price_AAPL['Adj Close'].pct_change() + 1).fillna(1)"
   ]
  },
  {
   "cell_type": "code",
   "execution_count": null,
   "metadata": {},
   "outputs": [],
   "source": [
    "price_AAPL.head()"
   ]
  },
  {
   "cell_type": "code",
   "execution_count": null,
   "metadata": {},
   "outputs": [],
   "source": [
    "# 누적 수익율 계산\n",
    "rtn = 1\n",
    "\n",
    "for i in range(len(price_AAPL)):\n",
    "    rtn *= price_AAPL.iloc[i, 1]\n",
    "\n",
    "rtn"
   ]
  },
  {
   "cell_type": "code",
   "execution_count": null,
   "metadata": {},
   "outputs": [],
   "source": [
    "price_AAPL['rtn'] = price_AAPL['daily_rtn2'].cumprod()"
   ]
  },
  {
   "cell_type": "code",
   "execution_count": null,
   "metadata": {},
   "outputs": [],
   "source": [
    "price_AAPL.tail(1)"
   ]
  },
  {
   "cell_type": "code",
   "execution_count": null,
   "metadata": {},
   "outputs": [],
   "source": [
    "price_AAPL.iloc[-1, 0] / price_AAPL.iloc[0, 0]"
   ]
  },
  {
   "cell_type": "code",
   "execution_count": null,
   "metadata": {},
   "outputs": [],
   "source": [
    "# BuyAndHold 함수를 생성 \n",
    "# 매개변수 : 주식 데이터 데이터프레임, \n",
    "#           시작 시간(2010-01-01), \n",
    "#           종료 시간(현재 시간), \n",
    "#           컬럼의 선택(Adj Close)\n",
    "\n",
    "def buyandhold(\n",
    "        _df, \n",
    "        _start = \"2010-01-01\", \n",
    "        _end = datetime.now(), \n",
    "        _col = 'Adj Close'\n",
    "):\n",
    "    # DataFrame을 복사 copy()\n",
    "    result = _df.copy()\n",
    "    # 인덱스가 0부터 시작하는 인덱스 // Date 인덱스 경우 \n",
    "    # 데이터프레임에서 컬럼 중 Date라는 컬럼이 존재하는가?\n",
    "    if \"Date\" in result.columns:\n",
    "        # Date 컬럼을 인덱스로 변경 \n",
    "        result.set_index('Date', inplace=True)\n",
    "    # index를 시계열데이터로 변경\n",
    "    result.index = pd.to_datetime(result.index)\n",
    "\n",
    "    # _start, _end 값을 시계열 데이터로 변경 \n",
    "    try : \n",
    "        start = datetime.strptime(_start, \"%Y-%m-%d\")\n",
    "        # _end은 기본값은 시계열인 경우는 아무 행동도 하지 않는다. \n",
    "        # 문자열인 경우는 시계열로 데이터를 변경 \n",
    "        if type(_end) == 'str':\n",
    "            end = datetime.strptime(_end, '%Y-%m-%d')\n",
    "        else:\n",
    "            end = _end\n",
    "    except:\n",
    "        print(f\"시작시간과 종료시간의 포멧은 YYYY-mm-dd 형식입니다\")\n",
    "        return \"\"\n",
    "    \n",
    "    # 시작시간과 종료시간을 기준으로 데이터를 필터링 -> 특정 컬럼만 필터링\n",
    "    result = result.loc[start : end, [_col]]\n",
    "    # 일별 수익율 컬럼을 생성 \n",
    "    result['daily_rtn'] = (result[_col].pct_change() + 1).fillna(1)\n",
    "    # 누적 수익율 컬럼을 생성\n",
    "    result['acc_rtn'] = result['daily_rtn'].cumprod()\n",
    "    print(f\"\"\"{start.strftime('%Y-%m-%d')}부터 \n",
    "          {end.strftime('%Y-%m-%d')}까지 \n",
    "          buyandhold의 수익율은 {result.iloc[-1, 2]}입니다\"\"\")\n",
    "    # return데이터에 데이터프레임, 총 수익율 \n",
    "    acc_rtn = result.iloc[-1, 2]\n",
    "    return result, acc_rtn\n"
   ]
  },
  {
   "cell_type": "code",
   "execution_count": null,
   "metadata": {},
   "outputs": [],
   "source": [
    "# AMZN 데이터를 로드 \n",
    "AMZN = pd.read_csv(\"../../csv/AMZN.csv\")\n",
    "AMZN.head()"
   ]
  },
  {
   "cell_type": "code",
   "execution_count": null,
   "metadata": {},
   "outputs": [],
   "source": [
    "bnh_amzn, rtn_amzn = buyandhold(AMZN)"
   ]
  },
  {
   "cell_type": "code",
   "execution_count": null,
   "metadata": {},
   "outputs": [],
   "source": [
    "rtn_amzn"
   ]
  },
  {
   "cell_type": "code",
   "execution_count": null,
   "metadata": {},
   "outputs": [],
   "source": [
    "bnh_amzn"
   ]
  },
  {
   "cell_type": "code",
   "execution_count": null,
   "metadata": {},
   "outputs": [],
   "source": [
    "df = pd.read_csv(\"../../csv/GM.csv\", index_col='Date')\n",
    "df.head()"
   ]
  },
  {
   "cell_type": "code",
   "execution_count": null,
   "metadata": {},
   "outputs": [],
   "source": [
    "buyandhold(df)"
   ]
  },
  {
   "cell_type": "code",
   "execution_count": null,
   "metadata": {},
   "outputs": [],
   "source": [
    "buyandhold(df, _start ='2015-01-01')"
   ]
  },
  {
   "cell_type": "code",
   "execution_count": 59,
   "metadata": {},
   "outputs": [
    {
     "name": "stdout",
     "output_type": "stream",
     "text": [
      "시작시간과 종료시간의 포멧은 YYYY-mm-dd 형식입니다\n"
     ]
    },
    {
     "data": {
      "text/plain": [
       "''"
      ]
     },
     "execution_count": 59,
     "metadata": {},
     "output_type": "execute_result"
    }
   ],
   "source": [
    "buyandhold(df, _start = '2015/01/01')"
   ]
  },
  {
   "cell_type": "code",
   "execution_count": 60,
   "metadata": {},
   "outputs": [],
   "source": [
    "# bnh 모듈을 로드 \n",
    "import bnh"
   ]
  },
  {
   "cell_type": "code",
   "execution_count": 62,
   "metadata": {},
   "outputs": [
    {
     "data": {
      "text/plain": [
       "<module 'bnh' from 'c:\\\\ubion_2025\\\\python\\\\250324\\\\bnh.py'>"
      ]
     },
     "execution_count": 62,
     "metadata": {},
     "output_type": "execute_result"
    }
   ],
   "source": [
    "import importlib\n",
    "importlib.reload(bnh)"
   ]
  },
  {
   "cell_type": "code",
   "execution_count": 61,
   "metadata": {},
   "outputs": [
    {
     "name": "stdout",
     "output_type": "stream",
     "text": [
      "2010-01-01부터 \n",
      "          2025-03-24까지 \n",
      "          buyandhold의 수익율은 1.3621464972595223입니다\n"
     ]
    },
    {
     "data": {
      "text/plain": [
       "(            Adj Close  daily_rtn   acc_rtn\n",
       " Date                                      \n",
       " 2010-11-18  27.027195   1.000000  1.000000\n",
       " 2010-11-19  27.082527   1.002047  1.002047\n",
       " 2010-11-22  26.940243   0.994746  0.996783\n",
       " 2010-11-23  26.284130   0.975646  0.972507\n",
       " 2010-11-24  26.465942   1.006917  0.979234\n",
       " ...               ...        ...       ...\n",
       " 2019-06-18  36.700001   1.015495  1.357892\n",
       " 2019-06-19  36.779999   1.002180  1.360852\n",
       " 2019-06-20  36.959999   1.004894  1.367511\n",
       " 2019-06-21  36.919998   0.998918  1.366031\n",
       " 2019-06-24  36.814999   0.997156  1.362146\n",
       " \n",
       " [2162 rows x 3 columns],\n",
       " 1.3621464972595223)"
      ]
     },
     "execution_count": 61,
     "metadata": {},
     "output_type": "execute_result"
    }
   ],
   "source": [
    "bnh.buyandhold(df)"
   ]
  }
 ],
 "metadata": {
  "kernelspec": {
   "display_name": "Python 3",
   "language": "python",
   "name": "python3"
  },
  "language_info": {
   "codemirror_mode": {
    "name": "ipython",
    "version": 3
   },
   "file_extension": ".py",
   "mimetype": "text/x-python",
   "name": "python",
   "nbconvert_exporter": "python",
   "pygments_lexer": "ipython3",
   "version": "3.13.1"
  }
 },
 "nbformat": 4,
 "nbformat_minor": 2
}
