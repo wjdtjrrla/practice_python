{
 "cells": [
  {
   "cell_type": "markdown",
   "metadata": {},
   "source": [
    "### 바이앤홀드 (buyandhold)\n",
    "- 매수 후 일정 기간 동안 유지한 뒤 매도"
   ]
  },
  {
   "cell_type": "code",
   "execution_count": 4,
   "metadata": {},
   "outputs": [],
   "source": [
    "import pandas as pd"
   ]
  },
  {
   "cell_type": "code",
   "execution_count": 5,
   "metadata": {},
   "outputs": [],
   "source": [
    "# csv 폴더 안에 있는 AAPL.csv 로드 \n",
    "df = pd.read_csv(\"../csv/AAPL.csv\")"
   ]
  },
  {
   "cell_type": "code",
   "execution_count": 6,
   "metadata": {},
   "outputs": [
    {
     "data": {
      "text/html": [
       "<div>\n",
       "<style scoped>\n",
       "    .dataframe tbody tr th:only-of-type {\n",
       "        vertical-align: middle;\n",
       "    }\n",
       "\n",
       "    .dataframe tbody tr th {\n",
       "        vertical-align: top;\n",
       "    }\n",
       "\n",
       "    .dataframe thead th {\n",
       "        text-align: right;\n",
       "    }\n",
       "</style>\n",
       "<table border=\"1\" class=\"dataframe\">\n",
       "  <thead>\n",
       "    <tr style=\"text-align: right;\">\n",
       "      <th></th>\n",
       "      <th>Date</th>\n",
       "      <th>Open</th>\n",
       "      <th>High</th>\n",
       "      <th>Low</th>\n",
       "      <th>Close</th>\n",
       "      <th>Adj Close</th>\n",
       "      <th>Volume</th>\n",
       "    </tr>\n",
       "  </thead>\n",
       "  <tbody>\n",
       "    <tr>\n",
       "      <th>0</th>\n",
       "      <td>1980-12-12</td>\n",
       "      <td>0.513393</td>\n",
       "      <td>0.515625</td>\n",
       "      <td>0.513393</td>\n",
       "      <td>0.513393</td>\n",
       "      <td>0.410525</td>\n",
       "      <td>117258400.0</td>\n",
       "    </tr>\n",
       "    <tr>\n",
       "      <th>1</th>\n",
       "      <td>1980-12-15</td>\n",
       "      <td>0.488839</td>\n",
       "      <td>0.488839</td>\n",
       "      <td>0.486607</td>\n",
       "      <td>0.486607</td>\n",
       "      <td>0.389106</td>\n",
       "      <td>43971200.0</td>\n",
       "    </tr>\n",
       "    <tr>\n",
       "      <th>2</th>\n",
       "      <td>1980-12-16</td>\n",
       "      <td>0.453125</td>\n",
       "      <td>0.453125</td>\n",
       "      <td>0.450893</td>\n",
       "      <td>0.450893</td>\n",
       "      <td>0.360548</td>\n",
       "      <td>26432000.0</td>\n",
       "    </tr>\n",
       "    <tr>\n",
       "      <th>3</th>\n",
       "      <td>1980-12-17</td>\n",
       "      <td>0.462054</td>\n",
       "      <td>0.464286</td>\n",
       "      <td>0.462054</td>\n",
       "      <td>0.462054</td>\n",
       "      <td>0.369472</td>\n",
       "      <td>21610400.0</td>\n",
       "    </tr>\n",
       "    <tr>\n",
       "      <th>4</th>\n",
       "      <td>1980-12-18</td>\n",
       "      <td>0.475446</td>\n",
       "      <td>0.477679</td>\n",
       "      <td>0.475446</td>\n",
       "      <td>0.475446</td>\n",
       "      <td>0.380182</td>\n",
       "      <td>18362400.0</td>\n",
       "    </tr>\n",
       "  </tbody>\n",
       "</table>\n",
       "</div>"
      ],
      "text/plain": [
       "         Date      Open      High       Low     Close  Adj Close       Volume\n",
       "0  1980-12-12  0.513393  0.515625  0.513393  0.513393   0.410525  117258400.0\n",
       "1  1980-12-15  0.488839  0.488839  0.486607  0.486607   0.389106   43971200.0\n",
       "2  1980-12-16  0.453125  0.453125  0.450893  0.450893   0.360548   26432000.0\n",
       "3  1980-12-17  0.462054  0.464286  0.462054  0.462054   0.369472   21610400.0\n",
       "4  1980-12-18  0.475446  0.477679  0.475446  0.475446   0.380182   18362400.0"
      ]
     },
     "execution_count": 6,
     "metadata": {},
     "output_type": "execute_result"
    }
   ],
   "source": [
    "df.head()"
   ]
  },
  {
   "cell_type": "code",
   "execution_count": 7,
   "metadata": {},
   "outputs": [
    {
     "data": {
      "text/html": [
       "<div>\n",
       "<style scoped>\n",
       "    .dataframe tbody tr th:only-of-type {\n",
       "        vertical-align: middle;\n",
       "    }\n",
       "\n",
       "    .dataframe tbody tr th {\n",
       "        vertical-align: top;\n",
       "    }\n",
       "\n",
       "    .dataframe thead th {\n",
       "        text-align: right;\n",
       "    }\n",
       "</style>\n",
       "<table border=\"1\" class=\"dataframe\">\n",
       "  <thead>\n",
       "    <tr style=\"text-align: right;\">\n",
       "      <th></th>\n",
       "      <th>Date</th>\n",
       "      <th>Open</th>\n",
       "      <th>High</th>\n",
       "      <th>Low</th>\n",
       "      <th>Close</th>\n",
       "      <th>Adj Close</th>\n",
       "      <th>Volume</th>\n",
       "    </tr>\n",
       "  </thead>\n",
       "  <tbody>\n",
       "    <tr>\n",
       "      <th>9710</th>\n",
       "      <td>2019-06-18</td>\n",
       "      <td>196.050003</td>\n",
       "      <td>200.289993</td>\n",
       "      <td>195.210007</td>\n",
       "      <td>198.449997</td>\n",
       "      <td>198.449997</td>\n",
       "      <td>26551000.0</td>\n",
       "    </tr>\n",
       "    <tr>\n",
       "      <th>9711</th>\n",
       "      <td>2019-06-19</td>\n",
       "      <td>199.679993</td>\n",
       "      <td>199.880005</td>\n",
       "      <td>197.309998</td>\n",
       "      <td>197.869995</td>\n",
       "      <td>197.869995</td>\n",
       "      <td>21124200.0</td>\n",
       "    </tr>\n",
       "    <tr>\n",
       "      <th>9712</th>\n",
       "      <td>2019-06-20</td>\n",
       "      <td>200.369995</td>\n",
       "      <td>200.610001</td>\n",
       "      <td>198.029999</td>\n",
       "      <td>199.460007</td>\n",
       "      <td>199.460007</td>\n",
       "      <td>21514000.0</td>\n",
       "    </tr>\n",
       "    <tr>\n",
       "      <th>9713</th>\n",
       "      <td>2019-06-21</td>\n",
       "      <td>198.800003</td>\n",
       "      <td>200.850006</td>\n",
       "      <td>198.149994</td>\n",
       "      <td>198.779999</td>\n",
       "      <td>198.779999</td>\n",
       "      <td>47735300.0</td>\n",
       "    </tr>\n",
       "    <tr>\n",
       "      <th>9714</th>\n",
       "      <td>2019-06-24</td>\n",
       "      <td>198.539993</td>\n",
       "      <td>200.160004</td>\n",
       "      <td>198.169998</td>\n",
       "      <td>199.169998</td>\n",
       "      <td>199.169998</td>\n",
       "      <td>9025362.0</td>\n",
       "    </tr>\n",
       "  </tbody>\n",
       "</table>\n",
       "</div>"
      ],
      "text/plain": [
       "            Date        Open        High         Low       Close   Adj Close  \\\n",
       "9710  2019-06-18  196.050003  200.289993  195.210007  198.449997  198.449997   \n",
       "9711  2019-06-19  199.679993  199.880005  197.309998  197.869995  197.869995   \n",
       "9712  2019-06-20  200.369995  200.610001  198.029999  199.460007  199.460007   \n",
       "9713  2019-06-21  198.800003  200.850006  198.149994  198.779999  198.779999   \n",
       "9714  2019-06-24  198.539993  200.160004  198.169998  199.169998  199.169998   \n",
       "\n",
       "          Volume  \n",
       "9710  26551000.0  \n",
       "9711  21124200.0  \n",
       "9712  21514000.0  \n",
       "9713  47735300.0  \n",
       "9714   9025362.0  "
      ]
     },
     "execution_count": 7,
     "metadata": {},
     "output_type": "execute_result"
    }
   ],
   "source": [
    "df.tail()"
   ]
  },
  {
   "cell_type": "code",
   "execution_count": 8,
   "metadata": {},
   "outputs": [
    {
     "name": "stdout",
     "output_type": "stream",
     "text": [
      "<class 'pandas.core.frame.DataFrame'>\n",
      "RangeIndex: 9715 entries, 0 to 9714\n",
      "Data columns (total 7 columns):\n",
      " #   Column     Non-Null Count  Dtype  \n",
      "---  ------     --------------  -----  \n",
      " 0   Date       9715 non-null   object \n",
      " 1   Open       9714 non-null   float64\n",
      " 2   High       9714 non-null   float64\n",
      " 3   Low        9714 non-null   float64\n",
      " 4   Close      9714 non-null   float64\n",
      " 5   Adj Close  9714 non-null   float64\n",
      " 6   Volume     9713 non-null   float64\n",
      "dtypes: float64(6), object(1)\n",
      "memory usage: 531.4+ KB\n"
     ]
    }
   ],
   "source": [
    "# 데이터프레임 정보를 확인 \n",
    "df.info()"
   ]
  },
  {
   "cell_type": "code",
   "execution_count": 9,
   "metadata": {},
   "outputs": [
    {
     "data": {
      "text/plain": [
       "Date         0\n",
       "Open         1\n",
       "High         1\n",
       "Low          1\n",
       "Close        1\n",
       "Adj Close    1\n",
       "Volume       2\n",
       "dtype: int64"
      ]
     },
     "execution_count": 9,
     "metadata": {},
     "output_type": "execute_result"
    }
   ],
   "source": [
    "# 결측치의 개수를 확인 \n",
    "df.isna().sum()"
   ]
  },
  {
   "cell_type": "code",
   "execution_count": 10,
   "metadata": {},
   "outputs": [],
   "source": [
    "# 결측치가 존재하는 데이터를 확인 \n",
    "# 인덱스를 기준으로 결측치가 존재하는 데이터를 확인 \n",
    "# 인덱스의 조건식으로 결측치 존재(isna()) 유무(any(axis=1))\n",
    "flag = df.isna().any(axis=1)"
   ]
  },
  {
   "cell_type": "code",
   "execution_count": 11,
   "metadata": {},
   "outputs": [
    {
     "data": {
      "text/html": [
       "<div>\n",
       "<style scoped>\n",
       "    .dataframe tbody tr th:only-of-type {\n",
       "        vertical-align: middle;\n",
       "    }\n",
       "\n",
       "    .dataframe tbody tr th {\n",
       "        vertical-align: top;\n",
       "    }\n",
       "\n",
       "    .dataframe thead th {\n",
       "        text-align: right;\n",
       "    }\n",
       "</style>\n",
       "<table border=\"1\" class=\"dataframe\">\n",
       "  <thead>\n",
       "    <tr style=\"text-align: right;\">\n",
       "      <th></th>\n",
       "      <th>Date</th>\n",
       "      <th>Open</th>\n",
       "      <th>High</th>\n",
       "      <th>Low</th>\n",
       "      <th>Close</th>\n",
       "      <th>Adj Close</th>\n",
       "      <th>Volume</th>\n",
       "    </tr>\n",
       "  </thead>\n",
       "  <tbody>\n",
       "    <tr>\n",
       "      <th>165</th>\n",
       "      <td>1981-08-10</td>\n",
       "      <td>NaN</td>\n",
       "      <td>NaN</td>\n",
       "      <td>NaN</td>\n",
       "      <td>NaN</td>\n",
       "      <td>NaN</td>\n",
       "      <td>NaN</td>\n",
       "    </tr>\n",
       "    <tr>\n",
       "      <th>174</th>\n",
       "      <td>1981-08-21</td>\n",
       "      <td>0.363839</td>\n",
       "      <td>0.363839</td>\n",
       "      <td>0.359375</td>\n",
       "      <td>0.359375</td>\n",
       "      <td>0.287367</td>\n",
       "      <td>NaN</td>\n",
       "    </tr>\n",
       "  </tbody>\n",
       "</table>\n",
       "</div>"
      ],
      "text/plain": [
       "           Date      Open      High       Low     Close  Adj Close  Volume\n",
       "165  1981-08-10       NaN       NaN       NaN       NaN        NaN     NaN\n",
       "174  1981-08-21  0.363839  0.363839  0.359375  0.359375   0.287367     NaN"
      ]
     },
     "execution_count": 11,
     "metadata": {},
     "output_type": "execute_result"
    }
   ],
   "source": [
    "df.loc[flag, ]"
   ]
  },
  {
   "cell_type": "code",
   "execution_count": 12,
   "metadata": {},
   "outputs": [
    {
     "data": {
      "text/html": [
       "<div>\n",
       "<style scoped>\n",
       "    .dataframe tbody tr th:only-of-type {\n",
       "        vertical-align: middle;\n",
       "    }\n",
       "\n",
       "    .dataframe tbody tr th {\n",
       "        vertical-align: top;\n",
       "    }\n",
       "\n",
       "    .dataframe thead th {\n",
       "        text-align: right;\n",
       "    }\n",
       "</style>\n",
       "<table border=\"1\" class=\"dataframe\">\n",
       "  <thead>\n",
       "    <tr style=\"text-align: right;\">\n",
       "      <th></th>\n",
       "      <th>Date</th>\n",
       "      <th>Open</th>\n",
       "      <th>High</th>\n",
       "      <th>Low</th>\n",
       "      <th>Close</th>\n",
       "      <th>Adj Close</th>\n",
       "      <th>Volume</th>\n",
       "    </tr>\n",
       "  </thead>\n",
       "  <tbody>\n",
       "    <tr>\n",
       "      <th>0</th>\n",
       "      <td>1980-12-12</td>\n",
       "      <td>0.513393</td>\n",
       "      <td>0.515625</td>\n",
       "      <td>0.513393</td>\n",
       "      <td>0.513393</td>\n",
       "      <td>0.410525</td>\n",
       "      <td>117258400.0</td>\n",
       "    </tr>\n",
       "    <tr>\n",
       "      <th>1</th>\n",
       "      <td>1980-12-15</td>\n",
       "      <td>0.488839</td>\n",
       "      <td>0.488839</td>\n",
       "      <td>0.486607</td>\n",
       "      <td>0.486607</td>\n",
       "      <td>0.389106</td>\n",
       "      <td>43971200.0</td>\n",
       "    </tr>\n",
       "    <tr>\n",
       "      <th>2</th>\n",
       "      <td>1980-12-16</td>\n",
       "      <td>0.453125</td>\n",
       "      <td>0.453125</td>\n",
       "      <td>0.450893</td>\n",
       "      <td>0.450893</td>\n",
       "      <td>0.360548</td>\n",
       "      <td>26432000.0</td>\n",
       "    </tr>\n",
       "    <tr>\n",
       "      <th>3</th>\n",
       "      <td>1980-12-17</td>\n",
       "      <td>0.462054</td>\n",
       "      <td>0.464286</td>\n",
       "      <td>0.462054</td>\n",
       "      <td>0.462054</td>\n",
       "      <td>0.369472</td>\n",
       "      <td>21610400.0</td>\n",
       "    </tr>\n",
       "    <tr>\n",
       "      <th>4</th>\n",
       "      <td>1980-12-18</td>\n",
       "      <td>0.475446</td>\n",
       "      <td>0.477679</td>\n",
       "      <td>0.475446</td>\n",
       "      <td>0.475446</td>\n",
       "      <td>0.380182</td>\n",
       "      <td>18362400.0</td>\n",
       "    </tr>\n",
       "    <tr>\n",
       "      <th>...</th>\n",
       "      <td>...</td>\n",
       "      <td>...</td>\n",
       "      <td>...</td>\n",
       "      <td>...</td>\n",
       "      <td>...</td>\n",
       "      <td>...</td>\n",
       "      <td>...</td>\n",
       "    </tr>\n",
       "    <tr>\n",
       "      <th>9710</th>\n",
       "      <td>2019-06-18</td>\n",
       "      <td>196.050003</td>\n",
       "      <td>200.289993</td>\n",
       "      <td>195.210007</td>\n",
       "      <td>198.449997</td>\n",
       "      <td>198.449997</td>\n",
       "      <td>26551000.0</td>\n",
       "    </tr>\n",
       "    <tr>\n",
       "      <th>9711</th>\n",
       "      <td>2019-06-19</td>\n",
       "      <td>199.679993</td>\n",
       "      <td>199.880005</td>\n",
       "      <td>197.309998</td>\n",
       "      <td>197.869995</td>\n",
       "      <td>197.869995</td>\n",
       "      <td>21124200.0</td>\n",
       "    </tr>\n",
       "    <tr>\n",
       "      <th>9712</th>\n",
       "      <td>2019-06-20</td>\n",
       "      <td>200.369995</td>\n",
       "      <td>200.610001</td>\n",
       "      <td>198.029999</td>\n",
       "      <td>199.460007</td>\n",
       "      <td>199.460007</td>\n",
       "      <td>21514000.0</td>\n",
       "    </tr>\n",
       "    <tr>\n",
       "      <th>9713</th>\n",
       "      <td>2019-06-21</td>\n",
       "      <td>198.800003</td>\n",
       "      <td>200.850006</td>\n",
       "      <td>198.149994</td>\n",
       "      <td>198.779999</td>\n",
       "      <td>198.779999</td>\n",
       "      <td>47735300.0</td>\n",
       "    </tr>\n",
       "    <tr>\n",
       "      <th>9714</th>\n",
       "      <td>2019-06-24</td>\n",
       "      <td>198.539993</td>\n",
       "      <td>200.160004</td>\n",
       "      <td>198.169998</td>\n",
       "      <td>199.169998</td>\n",
       "      <td>199.169998</td>\n",
       "      <td>9025362.0</td>\n",
       "    </tr>\n",
       "  </tbody>\n",
       "</table>\n",
       "<p>9713 rows × 7 columns</p>\n",
       "</div>"
      ],
      "text/plain": [
       "            Date        Open        High         Low       Close   Adj Close  \\\n",
       "0     1980-12-12    0.513393    0.515625    0.513393    0.513393    0.410525   \n",
       "1     1980-12-15    0.488839    0.488839    0.486607    0.486607    0.389106   \n",
       "2     1980-12-16    0.453125    0.453125    0.450893    0.450893    0.360548   \n",
       "3     1980-12-17    0.462054    0.464286    0.462054    0.462054    0.369472   \n",
       "4     1980-12-18    0.475446    0.477679    0.475446    0.475446    0.380182   \n",
       "...          ...         ...         ...         ...         ...         ...   \n",
       "9710  2019-06-18  196.050003  200.289993  195.210007  198.449997  198.449997   \n",
       "9711  2019-06-19  199.679993  199.880005  197.309998  197.869995  197.869995   \n",
       "9712  2019-06-20  200.369995  200.610001  198.029999  199.460007  199.460007   \n",
       "9713  2019-06-21  198.800003  200.850006  198.149994  198.779999  198.779999   \n",
       "9714  2019-06-24  198.539993  200.160004  198.169998  199.169998  199.169998   \n",
       "\n",
       "           Volume  \n",
       "0     117258400.0  \n",
       "1      43971200.0  \n",
       "2      26432000.0  \n",
       "3      21610400.0  \n",
       "4      18362400.0  \n",
       "...           ...  \n",
       "9710   26551000.0  \n",
       "9711   21124200.0  \n",
       "9712   21514000.0  \n",
       "9713   47735300.0  \n",
       "9714    9025362.0  \n",
       "\n",
       "[9713 rows x 7 columns]"
      ]
     },
     "execution_count": 12,
     "metadata": {},
     "output_type": "execute_result"
    }
   ],
   "source": [
    "# 결측치를 제외한 데이터프레임을 출력 \n",
    "df.loc[~flag, ]"
   ]
  },
  {
   "cell_type": "code",
   "execution_count": 13,
   "metadata": {},
   "outputs": [
    {
     "data": {
      "text/html": [
       "<div>\n",
       "<style scoped>\n",
       "    .dataframe tbody tr th:only-of-type {\n",
       "        vertical-align: middle;\n",
       "    }\n",
       "\n",
       "    .dataframe tbody tr th {\n",
       "        vertical-align: top;\n",
       "    }\n",
       "\n",
       "    .dataframe thead th {\n",
       "        text-align: right;\n",
       "    }\n",
       "</style>\n",
       "<table border=\"1\" class=\"dataframe\">\n",
       "  <thead>\n",
       "    <tr style=\"text-align: right;\">\n",
       "      <th></th>\n",
       "      <th>Date</th>\n",
       "      <th>Open</th>\n",
       "      <th>High</th>\n",
       "      <th>Low</th>\n",
       "      <th>Close</th>\n",
       "      <th>Adj Close</th>\n",
       "      <th>Volume</th>\n",
       "    </tr>\n",
       "  </thead>\n",
       "  <tbody>\n",
       "    <tr>\n",
       "      <th>0</th>\n",
       "      <td>1980-12-12</td>\n",
       "      <td>0.513393</td>\n",
       "      <td>0.515625</td>\n",
       "      <td>0.513393</td>\n",
       "      <td>0.513393</td>\n",
       "      <td>0.410525</td>\n",
       "      <td>117258400.0</td>\n",
       "    </tr>\n",
       "    <tr>\n",
       "      <th>1</th>\n",
       "      <td>1980-12-15</td>\n",
       "      <td>0.488839</td>\n",
       "      <td>0.488839</td>\n",
       "      <td>0.486607</td>\n",
       "      <td>0.486607</td>\n",
       "      <td>0.389106</td>\n",
       "      <td>43971200.0</td>\n",
       "    </tr>\n",
       "    <tr>\n",
       "      <th>2</th>\n",
       "      <td>1980-12-16</td>\n",
       "      <td>0.453125</td>\n",
       "      <td>0.453125</td>\n",
       "      <td>0.450893</td>\n",
       "      <td>0.450893</td>\n",
       "      <td>0.360548</td>\n",
       "      <td>26432000.0</td>\n",
       "    </tr>\n",
       "    <tr>\n",
       "      <th>3</th>\n",
       "      <td>1980-12-17</td>\n",
       "      <td>0.462054</td>\n",
       "      <td>0.464286</td>\n",
       "      <td>0.462054</td>\n",
       "      <td>0.462054</td>\n",
       "      <td>0.369472</td>\n",
       "      <td>21610400.0</td>\n",
       "    </tr>\n",
       "    <tr>\n",
       "      <th>4</th>\n",
       "      <td>1980-12-18</td>\n",
       "      <td>0.475446</td>\n",
       "      <td>0.477679</td>\n",
       "      <td>0.475446</td>\n",
       "      <td>0.475446</td>\n",
       "      <td>0.380182</td>\n",
       "      <td>18362400.0</td>\n",
       "    </tr>\n",
       "    <tr>\n",
       "      <th>...</th>\n",
       "      <td>...</td>\n",
       "      <td>...</td>\n",
       "      <td>...</td>\n",
       "      <td>...</td>\n",
       "      <td>...</td>\n",
       "      <td>...</td>\n",
       "      <td>...</td>\n",
       "    </tr>\n",
       "    <tr>\n",
       "      <th>9710</th>\n",
       "      <td>2019-06-18</td>\n",
       "      <td>196.050003</td>\n",
       "      <td>200.289993</td>\n",
       "      <td>195.210007</td>\n",
       "      <td>198.449997</td>\n",
       "      <td>198.449997</td>\n",
       "      <td>26551000.0</td>\n",
       "    </tr>\n",
       "    <tr>\n",
       "      <th>9711</th>\n",
       "      <td>2019-06-19</td>\n",
       "      <td>199.679993</td>\n",
       "      <td>199.880005</td>\n",
       "      <td>197.309998</td>\n",
       "      <td>197.869995</td>\n",
       "      <td>197.869995</td>\n",
       "      <td>21124200.0</td>\n",
       "    </tr>\n",
       "    <tr>\n",
       "      <th>9712</th>\n",
       "      <td>2019-06-20</td>\n",
       "      <td>200.369995</td>\n",
       "      <td>200.610001</td>\n",
       "      <td>198.029999</td>\n",
       "      <td>199.460007</td>\n",
       "      <td>199.460007</td>\n",
       "      <td>21514000.0</td>\n",
       "    </tr>\n",
       "    <tr>\n",
       "      <th>9713</th>\n",
       "      <td>2019-06-21</td>\n",
       "      <td>198.800003</td>\n",
       "      <td>200.850006</td>\n",
       "      <td>198.149994</td>\n",
       "      <td>198.779999</td>\n",
       "      <td>198.779999</td>\n",
       "      <td>47735300.0</td>\n",
       "    </tr>\n",
       "    <tr>\n",
       "      <th>9714</th>\n",
       "      <td>2019-06-24</td>\n",
       "      <td>198.539993</td>\n",
       "      <td>200.160004</td>\n",
       "      <td>198.169998</td>\n",
       "      <td>199.169998</td>\n",
       "      <td>199.169998</td>\n",
       "      <td>9025362.0</td>\n",
       "    </tr>\n",
       "  </tbody>\n",
       "</table>\n",
       "<p>9713 rows × 7 columns</p>\n",
       "</div>"
      ],
      "text/plain": [
       "            Date        Open        High         Low       Close   Adj Close  \\\n",
       "0     1980-12-12    0.513393    0.515625    0.513393    0.513393    0.410525   \n",
       "1     1980-12-15    0.488839    0.488839    0.486607    0.486607    0.389106   \n",
       "2     1980-12-16    0.453125    0.453125    0.450893    0.450893    0.360548   \n",
       "3     1980-12-17    0.462054    0.464286    0.462054    0.462054    0.369472   \n",
       "4     1980-12-18    0.475446    0.477679    0.475446    0.475446    0.380182   \n",
       "...          ...         ...         ...         ...         ...         ...   \n",
       "9710  2019-06-18  196.050003  200.289993  195.210007  198.449997  198.449997   \n",
       "9711  2019-06-19  199.679993  199.880005  197.309998  197.869995  197.869995   \n",
       "9712  2019-06-20  200.369995  200.610001  198.029999  199.460007  199.460007   \n",
       "9713  2019-06-21  198.800003  200.850006  198.149994  198.779999  198.779999   \n",
       "9714  2019-06-24  198.539993  200.160004  198.169998  199.169998  199.169998   \n",
       "\n",
       "           Volume  \n",
       "0     117258400.0  \n",
       "1      43971200.0  \n",
       "2      26432000.0  \n",
       "3      21610400.0  \n",
       "4      18362400.0  \n",
       "...           ...  \n",
       "9710   26551000.0  \n",
       "9711   21124200.0  \n",
       "9712   21514000.0  \n",
       "9713   47735300.0  \n",
       "9714    9025362.0  \n",
       "\n",
       "[9713 rows x 7 columns]"
      ]
     },
     "execution_count": 13,
     "metadata": {},
     "output_type": "execute_result"
    }
   ],
   "source": [
    "df.dropna()"
   ]
  },
  {
   "cell_type": "code",
   "execution_count": 14,
   "metadata": {},
   "outputs": [],
   "source": [
    "import numpy as np"
   ]
  },
  {
   "cell_type": "code",
   "execution_count": 15,
   "metadata": {},
   "outputs": [],
   "source": [
    "# isin() : 포함 여부 \n",
    "# 결측치(np.nan), 양의 무한대(np.inf), 음의 무한대(-np.inf) 포함되어있는가?\n",
    "flag2 = df.isin( [np.nan, np.inf, -np.inf] ).any(axis=1)"
   ]
  },
  {
   "cell_type": "code",
   "execution_count": 16,
   "metadata": {},
   "outputs": [],
   "source": [
    "df = df.loc[~flag2, ]"
   ]
  },
  {
   "cell_type": "code",
   "execution_count": 17,
   "metadata": {},
   "outputs": [],
   "source": [
    "# Date컬럼을 시계열 데이터로 변경\n",
    "df['Date'] = pd.to_datetime( df['Date'] )\n",
    "# Date 컬럼을 인덱스로 변경\n",
    "df.set_index('Date', inplace=True)"
   ]
  },
  {
   "cell_type": "code",
   "execution_count": 18,
   "metadata": {},
   "outputs": [
    {
     "data": {
      "text/html": [
       "<div>\n",
       "<style scoped>\n",
       "    .dataframe tbody tr th:only-of-type {\n",
       "        vertical-align: middle;\n",
       "    }\n",
       "\n",
       "    .dataframe tbody tr th {\n",
       "        vertical-align: top;\n",
       "    }\n",
       "\n",
       "    .dataframe thead th {\n",
       "        text-align: right;\n",
       "    }\n",
       "</style>\n",
       "<table border=\"1\" class=\"dataframe\">\n",
       "  <thead>\n",
       "    <tr style=\"text-align: right;\">\n",
       "      <th></th>\n",
       "      <th>Open</th>\n",
       "      <th>High</th>\n",
       "      <th>Low</th>\n",
       "      <th>Close</th>\n",
       "      <th>Adj Close</th>\n",
       "      <th>Volume</th>\n",
       "    </tr>\n",
       "    <tr>\n",
       "      <th>Date</th>\n",
       "      <th></th>\n",
       "      <th></th>\n",
       "      <th></th>\n",
       "      <th></th>\n",
       "      <th></th>\n",
       "      <th></th>\n",
       "    </tr>\n",
       "  </thead>\n",
       "  <tbody>\n",
       "    <tr>\n",
       "      <th>1980-12-12</th>\n",
       "      <td>0.513393</td>\n",
       "      <td>0.515625</td>\n",
       "      <td>0.513393</td>\n",
       "      <td>0.513393</td>\n",
       "      <td>0.410525</td>\n",
       "      <td>117258400.0</td>\n",
       "    </tr>\n",
       "    <tr>\n",
       "      <th>1980-12-15</th>\n",
       "      <td>0.488839</td>\n",
       "      <td>0.488839</td>\n",
       "      <td>0.486607</td>\n",
       "      <td>0.486607</td>\n",
       "      <td>0.389106</td>\n",
       "      <td>43971200.0</td>\n",
       "    </tr>\n",
       "    <tr>\n",
       "      <th>1980-12-16</th>\n",
       "      <td>0.453125</td>\n",
       "      <td>0.453125</td>\n",
       "      <td>0.450893</td>\n",
       "      <td>0.450893</td>\n",
       "      <td>0.360548</td>\n",
       "      <td>26432000.0</td>\n",
       "    </tr>\n",
       "    <tr>\n",
       "      <th>1980-12-17</th>\n",
       "      <td>0.462054</td>\n",
       "      <td>0.464286</td>\n",
       "      <td>0.462054</td>\n",
       "      <td>0.462054</td>\n",
       "      <td>0.369472</td>\n",
       "      <td>21610400.0</td>\n",
       "    </tr>\n",
       "    <tr>\n",
       "      <th>1980-12-18</th>\n",
       "      <td>0.475446</td>\n",
       "      <td>0.477679</td>\n",
       "      <td>0.475446</td>\n",
       "      <td>0.475446</td>\n",
       "      <td>0.380182</td>\n",
       "      <td>18362400.0</td>\n",
       "    </tr>\n",
       "  </tbody>\n",
       "</table>\n",
       "</div>"
      ],
      "text/plain": [
       "                Open      High       Low     Close  Adj Close       Volume\n",
       "Date                                                                      \n",
       "1980-12-12  0.513393  0.515625  0.513393  0.513393   0.410525  117258400.0\n",
       "1980-12-15  0.488839  0.488839  0.486607  0.486607   0.389106   43971200.0\n",
       "1980-12-16  0.453125  0.453125  0.450893  0.450893   0.360548   26432000.0\n",
       "1980-12-17  0.462054  0.464286  0.462054  0.462054   0.369472   21610400.0\n",
       "1980-12-18  0.475446  0.477679  0.475446  0.475446   0.380182   18362400.0"
      ]
     },
     "execution_count": 18,
     "metadata": {},
     "output_type": "execute_result"
    }
   ],
   "source": [
    "df.head()"
   ]
  },
  {
   "cell_type": "code",
   "execution_count": 19,
   "metadata": {},
   "outputs": [
    {
     "data": {
      "text/html": [
       "<div>\n",
       "<style scoped>\n",
       "    .dataframe tbody tr th:only-of-type {\n",
       "        vertical-align: middle;\n",
       "    }\n",
       "\n",
       "    .dataframe tbody tr th {\n",
       "        vertical-align: top;\n",
       "    }\n",
       "\n",
       "    .dataframe thead th {\n",
       "        text-align: right;\n",
       "    }\n",
       "</style>\n",
       "<table border=\"1\" class=\"dataframe\">\n",
       "  <thead>\n",
       "    <tr style=\"text-align: right;\">\n",
       "      <th></th>\n",
       "      <th>Adj Close</th>\n",
       "    </tr>\n",
       "    <tr>\n",
       "      <th>Date</th>\n",
       "      <th></th>\n",
       "    </tr>\n",
       "  </thead>\n",
       "  <tbody>\n",
       "    <tr>\n",
       "      <th>1980-12-12</th>\n",
       "      <td>0.410525</td>\n",
       "    </tr>\n",
       "    <tr>\n",
       "      <th>1980-12-15</th>\n",
       "      <td>0.389106</td>\n",
       "    </tr>\n",
       "    <tr>\n",
       "      <th>1980-12-16</th>\n",
       "      <td>0.360548</td>\n",
       "    </tr>\n",
       "    <tr>\n",
       "      <th>1980-12-17</th>\n",
       "      <td>0.369472</td>\n",
       "    </tr>\n",
       "    <tr>\n",
       "      <th>1980-12-18</th>\n",
       "      <td>0.380182</td>\n",
       "    </tr>\n",
       "    <tr>\n",
       "      <th>...</th>\n",
       "      <td>...</td>\n",
       "    </tr>\n",
       "    <tr>\n",
       "      <th>2019-06-18</th>\n",
       "      <td>198.449997</td>\n",
       "    </tr>\n",
       "    <tr>\n",
       "      <th>2019-06-19</th>\n",
       "      <td>197.869995</td>\n",
       "    </tr>\n",
       "    <tr>\n",
       "      <th>2019-06-20</th>\n",
       "      <td>199.460007</td>\n",
       "    </tr>\n",
       "    <tr>\n",
       "      <th>2019-06-21</th>\n",
       "      <td>198.779999</td>\n",
       "    </tr>\n",
       "    <tr>\n",
       "      <th>2019-06-24</th>\n",
       "      <td>199.169998</td>\n",
       "    </tr>\n",
       "  </tbody>\n",
       "</table>\n",
       "<p>9713 rows × 1 columns</p>\n",
       "</div>"
      ],
      "text/plain": [
       "             Adj Close\n",
       "Date                  \n",
       "1980-12-12    0.410525\n",
       "1980-12-15    0.389106\n",
       "1980-12-16    0.360548\n",
       "1980-12-17    0.369472\n",
       "1980-12-18    0.380182\n",
       "...                ...\n",
       "2019-06-18  198.449997\n",
       "2019-06-19  197.869995\n",
       "2019-06-20  199.460007\n",
       "2019-06-21  198.779999\n",
       "2019-06-24  199.169998\n",
       "\n",
       "[9713 rows x 1 columns]"
      ]
     },
     "execution_count": 19,
     "metadata": {},
     "output_type": "execute_result"
    }
   ],
   "source": [
    "# df에서 Adj Close 컬럼을 제외한 나머지 컬럼은 삭제 \n",
    "AAPL = df[['Adj Close']]\n",
    "AAPL"
   ]
  },
  {
   "cell_type": "code",
   "execution_count": 20,
   "metadata": {},
   "outputs": [
    {
     "name": "stderr",
     "output_type": "stream",
     "text": [
      "C:\\Users\\Owner\\AppData\\Local\\Temp\\ipykernel_39780\\2924561090.py:3: SettingWithCopyWarning: \n",
      "A value is trying to be set on a copy of a slice from a DataFrame.\n",
      "Try using .loc[row_indexer,col_indexer] = value instead\n",
      "\n",
      "See the caveats in the documentation: https://pandas.pydata.org/pandas-docs/stable/user_guide/indexing.html#returning-a-view-versus-a-copy\n",
      "  AAPL['daily_rtn'] = \\\n"
     ]
    }
   ],
   "source": [
    "# 일별 수익율이라는 컬럼을 생성 \n",
    "# 오늘의 수정종가 / 전날의 수정종가 -> 일별 수익율\n",
    "AAPL['daily_rtn'] = \\\n",
    "    (AAPL['Adj Close'] / AAPL['Adj Close'].shift()).fillna(1)"
   ]
  },
  {
   "cell_type": "code",
   "execution_count": 21,
   "metadata": {},
   "outputs": [
    {
     "data": {
      "text/html": [
       "<div>\n",
       "<style scoped>\n",
       "    .dataframe tbody tr th:only-of-type {\n",
       "        vertical-align: middle;\n",
       "    }\n",
       "\n",
       "    .dataframe tbody tr th {\n",
       "        vertical-align: top;\n",
       "    }\n",
       "\n",
       "    .dataframe thead th {\n",
       "        text-align: right;\n",
       "    }\n",
       "</style>\n",
       "<table border=\"1\" class=\"dataframe\">\n",
       "  <thead>\n",
       "    <tr style=\"text-align: right;\">\n",
       "      <th></th>\n",
       "      <th>Adj Close</th>\n",
       "      <th>daily_rtn</th>\n",
       "    </tr>\n",
       "    <tr>\n",
       "      <th>Date</th>\n",
       "      <th></th>\n",
       "      <th></th>\n",
       "    </tr>\n",
       "  </thead>\n",
       "  <tbody>\n",
       "    <tr>\n",
       "      <th>1980-12-12</th>\n",
       "      <td>0.410525</td>\n",
       "      <td>1.000000</td>\n",
       "    </tr>\n",
       "    <tr>\n",
       "      <th>1980-12-15</th>\n",
       "      <td>0.389106</td>\n",
       "      <td>0.947825</td>\n",
       "    </tr>\n",
       "    <tr>\n",
       "      <th>1980-12-16</th>\n",
       "      <td>0.360548</td>\n",
       "      <td>0.926606</td>\n",
       "    </tr>\n",
       "    <tr>\n",
       "      <th>1980-12-17</th>\n",
       "      <td>0.369472</td>\n",
       "      <td>1.024751</td>\n",
       "    </tr>\n",
       "    <tr>\n",
       "      <th>1980-12-18</th>\n",
       "      <td>0.380182</td>\n",
       "      <td>1.028987</td>\n",
       "    </tr>\n",
       "  </tbody>\n",
       "</table>\n",
       "</div>"
      ],
      "text/plain": [
       "            Adj Close  daily_rtn\n",
       "Date                            \n",
       "1980-12-12   0.410525   1.000000\n",
       "1980-12-15   0.389106   0.947825\n",
       "1980-12-16   0.360548   0.926606\n",
       "1980-12-17   0.369472   1.024751\n",
       "1980-12-18   0.380182   1.028987"
      ]
     },
     "execution_count": 21,
     "metadata": {},
     "output_type": "execute_result"
    }
   ],
   "source": [
    "AAPL.head()"
   ]
  },
  {
   "cell_type": "code",
   "execution_count": 22,
   "metadata": {},
   "outputs": [
    {
     "data": {
      "text/plain": [
       "np.float64(485.1592424334637)"
      ]
     },
     "execution_count": 22,
     "metadata": {},
     "output_type": "execute_result"
    }
   ],
   "source": [
    "# 수익율 계산\n",
    "# 일별 수익율을 모두 누적곱\n",
    "\n",
    "rtn = 1\n",
    "\n",
    "for i in range(len(AAPL)):\n",
    "    # i가 의미하는것은? 데이터프레임의 위치\n",
    "    rtn *= AAPL.iloc[i, 1]\n",
    "\n",
    "rtn"
   ]
  },
  {
   "cell_type": "code",
   "execution_count": 23,
   "metadata": {},
   "outputs": [
    {
     "data": {
      "text/html": [
       "<div>\n",
       "<style scoped>\n",
       "    .dataframe tbody tr th:only-of-type {\n",
       "        vertical-align: middle;\n",
       "    }\n",
       "\n",
       "    .dataframe tbody tr th {\n",
       "        vertical-align: top;\n",
       "    }\n",
       "\n",
       "    .dataframe thead th {\n",
       "        text-align: right;\n",
       "    }\n",
       "</style>\n",
       "<table border=\"1\" class=\"dataframe\">\n",
       "  <thead>\n",
       "    <tr style=\"text-align: right;\">\n",
       "      <th></th>\n",
       "      <th>Adj Close</th>\n",
       "      <th>daily_rtn</th>\n",
       "    </tr>\n",
       "    <tr>\n",
       "      <th>Date</th>\n",
       "      <th></th>\n",
       "      <th></th>\n",
       "    </tr>\n",
       "  </thead>\n",
       "  <tbody>\n",
       "    <tr>\n",
       "      <th>2019-06-18</th>\n",
       "      <td>198.449997</td>\n",
       "      <td>1.023518</td>\n",
       "    </tr>\n",
       "    <tr>\n",
       "      <th>2019-06-19</th>\n",
       "      <td>197.869995</td>\n",
       "      <td>0.997077</td>\n",
       "    </tr>\n",
       "    <tr>\n",
       "      <th>2019-06-20</th>\n",
       "      <td>199.460007</td>\n",
       "      <td>1.008036</td>\n",
       "    </tr>\n",
       "    <tr>\n",
       "      <th>2019-06-21</th>\n",
       "      <td>198.779999</td>\n",
       "      <td>0.996591</td>\n",
       "    </tr>\n",
       "    <tr>\n",
       "      <th>2019-06-24</th>\n",
       "      <td>199.169998</td>\n",
       "      <td>1.001962</td>\n",
       "    </tr>\n",
       "  </tbody>\n",
       "</table>\n",
       "</div>"
      ],
      "text/plain": [
       "             Adj Close  daily_rtn\n",
       "Date                             \n",
       "2019-06-18  198.449997   1.023518\n",
       "2019-06-19  197.869995   0.997077\n",
       "2019-06-20  199.460007   1.008036\n",
       "2019-06-21  198.779999   0.996591\n",
       "2019-06-24  199.169998   1.001962"
      ]
     },
     "execution_count": 23,
     "metadata": {},
     "output_type": "execute_result"
    }
   ],
   "source": [
    "AAPL.tail()"
   ]
  },
  {
   "cell_type": "code",
   "execution_count": 24,
   "metadata": {},
   "outputs": [
    {
     "data": {
      "text/plain": [
       "np.float64(485.15924243346933)"
      ]
     },
     "execution_count": 24,
     "metadata": {},
     "output_type": "execute_result"
    }
   ],
   "source": [
    "AAPL.iloc[-1, 0] / AAPL.iloc[0, 0]"
   ]
  },
  {
   "cell_type": "code",
   "execution_count": 25,
   "metadata": {},
   "outputs": [
    {
     "name": "stderr",
     "output_type": "stream",
     "text": [
      "C:\\Users\\Owner\\AppData\\Local\\Temp\\ipykernel_39780\\1463342442.py:2: SettingWithCopyWarning: \n",
      "A value is trying to be set on a copy of a slice from a DataFrame.\n",
      "Try using .loc[row_indexer,col_indexer] = value instead\n",
      "\n",
      "See the caveats in the documentation: https://pandas.pydata.org/pandas-docs/stable/user_guide/indexing.html#returning-a-view-versus-a-copy\n",
      "  AAPL['daily_rtn2'] = \\\n"
     ]
    }
   ],
   "source": [
    "# pct_change() 함수를 이용하여 일별 수익율 \n",
    "AAPL['daily_rtn2'] = \\\n",
    "    (AAPL['Adj Close'].pct_change() + 1).fillna(1)"
   ]
  },
  {
   "cell_type": "code",
   "execution_count": 26,
   "metadata": {},
   "outputs": [
    {
     "data": {
      "text/plain": [
       "Date\n",
       "1980-12-12      1.000000\n",
       "1980-12-15      0.947825\n",
       "1980-12-16      0.878261\n",
       "1980-12-17      0.899999\n",
       "1980-12-18      0.926087\n",
       "                 ...    \n",
       "2019-06-18    483.405388\n",
       "2019-06-19    481.992558\n",
       "2019-06-20    485.865677\n",
       "2019-06-21    484.209242\n",
       "2019-06-24    485.159242\n",
       "Name: daily_rtn2, Length: 9713, dtype: float64"
      ]
     },
     "execution_count": 26,
     "metadata": {},
     "output_type": "execute_result"
    }
   ],
   "source": [
    "# cumprod() : 누적곱 함수 \n",
    "AAPL['daily_rtn2'].cumprod()"
   ]
  },
  {
   "cell_type": "code",
   "execution_count": 27,
   "metadata": {},
   "outputs": [],
   "source": [
    "from datetime import datetime"
   ]
  },
  {
   "cell_type": "code",
   "execution_count": 28,
   "metadata": {},
   "outputs": [],
   "source": [
    "# 인덱스를 기준으로 데이터를 필터링 후 수익율 계산\n",
    "# 시작시간 생성 \n",
    "start_time = \"2010-01-01\"\n",
    "end_time = \"2015-12-31\"\n",
    "# start_time과 end_time를 시계열 데이터로 변경 \n",
    "start = pd.to_datetime(start_time)\n",
    "end = datetime.strptime(end_time, '%Y-%m-%d')"
   ]
  },
  {
   "cell_type": "code",
   "execution_count": 29,
   "metadata": {},
   "outputs": [],
   "source": [
    "price_AAPL = AAPL.loc[start : end, ['Adj Close']]"
   ]
  },
  {
   "cell_type": "code",
   "execution_count": 30,
   "metadata": {},
   "outputs": [],
   "source": [
    "# 일별 수익율 컬럼을 생성\n",
    "price_AAPL['daily_rtn'] = \\\n",
    "    (price_AAPL['Adj Close'] / price_AAPL['Adj Close'].shift()).fillna(1)"
   ]
  },
  {
   "cell_type": "code",
   "execution_count": 31,
   "metadata": {},
   "outputs": [],
   "source": [
    "# pct_change() 함수를 이용하여 일별 수익율 생성 \n",
    "price_AAPL['daily_rtn2'] = (price_AAPL['Adj Close'].pct_change() + 1).fillna(1)"
   ]
  },
  {
   "cell_type": "code",
   "execution_count": 32,
   "metadata": {},
   "outputs": [
    {
     "data": {
      "text/html": [
       "<div>\n",
       "<style scoped>\n",
       "    .dataframe tbody tr th:only-of-type {\n",
       "        vertical-align: middle;\n",
       "    }\n",
       "\n",
       "    .dataframe tbody tr th {\n",
       "        vertical-align: top;\n",
       "    }\n",
       "\n",
       "    .dataframe thead th {\n",
       "        text-align: right;\n",
       "    }\n",
       "</style>\n",
       "<table border=\"1\" class=\"dataframe\">\n",
       "  <thead>\n",
       "    <tr style=\"text-align: right;\">\n",
       "      <th></th>\n",
       "      <th>Adj Close</th>\n",
       "      <th>daily_rtn</th>\n",
       "      <th>daily_rtn2</th>\n",
       "    </tr>\n",
       "    <tr>\n",
       "      <th>Date</th>\n",
       "      <th></th>\n",
       "      <th></th>\n",
       "      <th></th>\n",
       "    </tr>\n",
       "  </thead>\n",
       "  <tbody>\n",
       "    <tr>\n",
       "      <th>2010-01-04</th>\n",
       "      <td>26.782711</td>\n",
       "      <td>1.000000</td>\n",
       "      <td>1.000000</td>\n",
       "    </tr>\n",
       "    <tr>\n",
       "      <th>2010-01-05</th>\n",
       "      <td>26.829010</td>\n",
       "      <td>1.001729</td>\n",
       "      <td>1.001729</td>\n",
       "    </tr>\n",
       "    <tr>\n",
       "      <th>2010-01-06</th>\n",
       "      <td>26.402260</td>\n",
       "      <td>0.984094</td>\n",
       "      <td>0.984094</td>\n",
       "    </tr>\n",
       "    <tr>\n",
       "      <th>2010-01-07</th>\n",
       "      <td>26.353460</td>\n",
       "      <td>0.998152</td>\n",
       "      <td>0.998152</td>\n",
       "    </tr>\n",
       "    <tr>\n",
       "      <th>2010-01-08</th>\n",
       "      <td>26.528664</td>\n",
       "      <td>1.006648</td>\n",
       "      <td>1.006648</td>\n",
       "    </tr>\n",
       "  </tbody>\n",
       "</table>\n",
       "</div>"
      ],
      "text/plain": [
       "            Adj Close  daily_rtn  daily_rtn2\n",
       "Date                                        \n",
       "2010-01-04  26.782711   1.000000    1.000000\n",
       "2010-01-05  26.829010   1.001729    1.001729\n",
       "2010-01-06  26.402260   0.984094    0.984094\n",
       "2010-01-07  26.353460   0.998152    0.998152\n",
       "2010-01-08  26.528664   1.006648    1.006648"
      ]
     },
     "execution_count": 32,
     "metadata": {},
     "output_type": "execute_result"
    }
   ],
   "source": [
    "price_AAPL.head()"
   ]
  },
  {
   "cell_type": "code",
   "execution_count": 33,
   "metadata": {},
   "outputs": [
    {
     "data": {
      "text/plain": [
       "np.float64(3.697636508865739)"
      ]
     },
     "execution_count": 33,
     "metadata": {},
     "output_type": "execute_result"
    }
   ],
   "source": [
    "# 누적 수익율 계산\n",
    "rtn = 1\n",
    "\n",
    "for i in range(len(price_AAPL)):\n",
    "    rtn *= price_AAPL.iloc[i, 1]\n",
    "\n",
    "rtn"
   ]
  },
  {
   "cell_type": "code",
   "execution_count": 34,
   "metadata": {},
   "outputs": [],
   "source": [
    "price_AAPL['rtn'] = price_AAPL['daily_rtn2'].cumprod()"
   ]
  },
  {
   "cell_type": "code",
   "execution_count": 35,
   "metadata": {},
   "outputs": [
    {
     "data": {
      "text/html": [
       "<div>\n",
       "<style scoped>\n",
       "    .dataframe tbody tr th:only-of-type {\n",
       "        vertical-align: middle;\n",
       "    }\n",
       "\n",
       "    .dataframe tbody tr th {\n",
       "        vertical-align: top;\n",
       "    }\n",
       "\n",
       "    .dataframe thead th {\n",
       "        text-align: right;\n",
       "    }\n",
       "</style>\n",
       "<table border=\"1\" class=\"dataframe\">\n",
       "  <thead>\n",
       "    <tr style=\"text-align: right;\">\n",
       "      <th></th>\n",
       "      <th>Adj Close</th>\n",
       "      <th>daily_rtn</th>\n",
       "      <th>daily_rtn2</th>\n",
       "      <th>rtn</th>\n",
       "    </tr>\n",
       "    <tr>\n",
       "      <th>Date</th>\n",
       "      <th></th>\n",
       "      <th></th>\n",
       "      <th></th>\n",
       "      <th></th>\n",
       "    </tr>\n",
       "  </thead>\n",
       "  <tbody>\n",
       "    <tr>\n",
       "      <th>2015-12-31</th>\n",
       "      <td>99.03273</td>\n",
       "      <td>0.980805</td>\n",
       "      <td>0.980805</td>\n",
       "      <td>3.697637</td>\n",
       "    </tr>\n",
       "  </tbody>\n",
       "</table>\n",
       "</div>"
      ],
      "text/plain": [
       "            Adj Close  daily_rtn  daily_rtn2       rtn\n",
       "Date                                                  \n",
       "2015-12-31   99.03273   0.980805    0.980805  3.697637"
      ]
     },
     "execution_count": 35,
     "metadata": {},
     "output_type": "execute_result"
    }
   ],
   "source": [
    "price_AAPL.tail(1)"
   ]
  },
  {
   "cell_type": "code",
   "execution_count": 36,
   "metadata": {},
   "outputs": [
    {
     "data": {
      "text/plain": [
       "np.float64(3.697636508865738)"
      ]
     },
     "execution_count": 36,
     "metadata": {},
     "output_type": "execute_result"
    }
   ],
   "source": [
    "price_AAPL.iloc[-1, 0] / price_AAPL.iloc[0, 0]"
   ]
  },
  {
   "cell_type": "code",
   "execution_count": 37,
   "metadata": {},
   "outputs": [],
   "source": [
    "# BuyAndHold 함수를 생성 \n",
    "# 매개변수 : 주식 데이터 데이터프레임, \n",
    "#           시작 시간(2010-01-01), \n",
    "#           종료 시간(현재 시간), \n",
    "#           컬럼의 선택(Adj Close)\n",
    "\n",
    "def buyandhold(\n",
    "        _df, \n",
    "        _start = \"2010-01-01\", \n",
    "        _end = datetime.now(), \n",
    "        _col = 'Adj Close'\n",
    "):\n",
    "    # DataFrame을 복사 copy()\n",
    "    result = _df.copy()\n",
    "    # 인덱스가 0부터 시작하는 인덱스 // Date 인덱스 경우 \n",
    "    # 데이터프레임에서 컬럼 중 Date라는 컬럼이 존재하는가?\n",
    "    if \"Date\" in result.columns:\n",
    "        # Date 컬럼을 인덱스로 변경 \n",
    "        result.set_index('Date', inplace=True)\n",
    "    # index를 시계열데이터로 변경\n",
    "    result.index = pd.to_datetime(result.index)\n",
    "\n",
    "    # _start, _end 값을 시계열 데이터로 변경 \n",
    "    try : \n",
    "        start = datetime.strptime(_start, \"%Y-%m-%d\")\n",
    "        # _end은 기본값은 시계열인 경우는 아무 행동도 하지 않는다. \n",
    "        # 문자열인 경우는 시계열로 데이터를 변경 \n",
    "        if type(_end) == 'str':\n",
    "            end = datetime.strptime(_end, '%Y-%m-%d')\n",
    "        else:\n",
    "            end = _end\n",
    "    except:\n",
    "        print(f\"시작시간과 종료시간의 포멧은 YYYY-mm-dd 형식입니다\")\n",
    "        return \"\"\n",
    "    \n",
    "    # 시작시간과 종료시간을 기준으로 데이터를 필터링 -> 특정 컬럼만 필터링\n",
    "    result = result.loc[start : end, [_col]]\n",
    "    # 일별 수익율 컬럼을 생성 \n",
    "    result['daily_rtn'] = (result[_col].pct_change() + 1).fillna(1)\n",
    "    # 누적 수익율 컬럼을 생성\n",
    "    result['acc_rtn'] = result['daily_rtn'].cumprod()\n",
    "    print(f\"\"\"{start.strftime('%Y-%m-%d')}부터 \n",
    "          {end.strftime('%Y-%m-%d')}까지 \n",
    "          buyandhold의 수익율은 {result.iloc[-1, 2]}입니다\"\"\")\n",
    "    # return데이터에 데이터프레임, 총 수익율 \n",
    "    acc_rtn = result.iloc[-1, 2]\n",
    "    return result, acc_rtn\n"
   ]
  },
  {
   "cell_type": "code",
   "execution_count": 39,
   "metadata": {},
   "outputs": [
    {
     "data": {
      "text/html": [
       "<div>\n",
       "<style scoped>\n",
       "    .dataframe tbody tr th:only-of-type {\n",
       "        vertical-align: middle;\n",
       "    }\n",
       "\n",
       "    .dataframe tbody tr th {\n",
       "        vertical-align: top;\n",
       "    }\n",
       "\n",
       "    .dataframe thead th {\n",
       "        text-align: right;\n",
       "    }\n",
       "</style>\n",
       "<table border=\"1\" class=\"dataframe\">\n",
       "  <thead>\n",
       "    <tr style=\"text-align: right;\">\n",
       "      <th></th>\n",
       "      <th>Date</th>\n",
       "      <th>Open</th>\n",
       "      <th>High</th>\n",
       "      <th>Low</th>\n",
       "      <th>Close</th>\n",
       "      <th>Adj Close</th>\n",
       "      <th>Volume</th>\n",
       "    </tr>\n",
       "  </thead>\n",
       "  <tbody>\n",
       "    <tr>\n",
       "      <th>0</th>\n",
       "      <td>1997-05-15</td>\n",
       "      <td>2.437500</td>\n",
       "      <td>2.500000</td>\n",
       "      <td>1.927083</td>\n",
       "      <td>1.958333</td>\n",
       "      <td>1.958333</td>\n",
       "      <td>72156000</td>\n",
       "    </tr>\n",
       "    <tr>\n",
       "      <th>1</th>\n",
       "      <td>1997-05-16</td>\n",
       "      <td>1.968750</td>\n",
       "      <td>1.979167</td>\n",
       "      <td>1.708333</td>\n",
       "      <td>1.729167</td>\n",
       "      <td>1.729167</td>\n",
       "      <td>14700000</td>\n",
       "    </tr>\n",
       "    <tr>\n",
       "      <th>2</th>\n",
       "      <td>1997-05-19</td>\n",
       "      <td>1.760417</td>\n",
       "      <td>1.770833</td>\n",
       "      <td>1.625000</td>\n",
       "      <td>1.708333</td>\n",
       "      <td>1.708333</td>\n",
       "      <td>6106800</td>\n",
       "    </tr>\n",
       "    <tr>\n",
       "      <th>3</th>\n",
       "      <td>1997-05-20</td>\n",
       "      <td>1.729167</td>\n",
       "      <td>1.750000</td>\n",
       "      <td>1.635417</td>\n",
       "      <td>1.635417</td>\n",
       "      <td>1.635417</td>\n",
       "      <td>5467200</td>\n",
       "    </tr>\n",
       "    <tr>\n",
       "      <th>4</th>\n",
       "      <td>1997-05-21</td>\n",
       "      <td>1.635417</td>\n",
       "      <td>1.645833</td>\n",
       "      <td>1.375000</td>\n",
       "      <td>1.427083</td>\n",
       "      <td>1.427083</td>\n",
       "      <td>18853200</td>\n",
       "    </tr>\n",
       "  </tbody>\n",
       "</table>\n",
       "</div>"
      ],
      "text/plain": [
       "         Date      Open      High       Low     Close  Adj Close    Volume\n",
       "0  1997-05-15  2.437500  2.500000  1.927083  1.958333   1.958333  72156000\n",
       "1  1997-05-16  1.968750  1.979167  1.708333  1.729167   1.729167  14700000\n",
       "2  1997-05-19  1.760417  1.770833  1.625000  1.708333   1.708333   6106800\n",
       "3  1997-05-20  1.729167  1.750000  1.635417  1.635417   1.635417   5467200\n",
       "4  1997-05-21  1.635417  1.645833  1.375000  1.427083   1.427083  18853200"
      ]
     },
     "execution_count": 39,
     "metadata": {},
     "output_type": "execute_result"
    }
   ],
   "source": [
    "# AMZN 데이터를 로드 \n",
    "AMZN = pd.read_csv(\"../csv/AMZN.csv\")\n",
    "AMZN.head()"
   ]
  },
  {
   "cell_type": "code",
   "execution_count": 40,
   "metadata": {},
   "outputs": [
    {
     "name": "stdout",
     "output_type": "stream",
     "text": [
      "2010-01-01부터 \n",
      "          2025-04-03까지 \n",
      "          buyandhold의 수익율은 14.249095911087272입니다\n"
     ]
    }
   ],
   "source": [
    "bnh_amzn, rtn_amzn = buyandhold(AMZN)"
   ]
  },
  {
   "cell_type": "code",
   "execution_count": 41,
   "metadata": {},
   "outputs": [
    {
     "data": {
      "text/plain": [
       "np.float64(14.249095911087272)"
      ]
     },
     "execution_count": 41,
     "metadata": {},
     "output_type": "execute_result"
    }
   ],
   "source": [
    "rtn_amzn"
   ]
  },
  {
   "cell_type": "code",
   "execution_count": 42,
   "metadata": {},
   "outputs": [
    {
     "data": {
      "text/html": [
       "<div>\n",
       "<style scoped>\n",
       "    .dataframe tbody tr th:only-of-type {\n",
       "        vertical-align: middle;\n",
       "    }\n",
       "\n",
       "    .dataframe tbody tr th {\n",
       "        vertical-align: top;\n",
       "    }\n",
       "\n",
       "    .dataframe thead th {\n",
       "        text-align: right;\n",
       "    }\n",
       "</style>\n",
       "<table border=\"1\" class=\"dataframe\">\n",
       "  <thead>\n",
       "    <tr style=\"text-align: right;\">\n",
       "      <th></th>\n",
       "      <th>Adj Close</th>\n",
       "      <th>daily_rtn</th>\n",
       "      <th>acc_rtn</th>\n",
       "    </tr>\n",
       "    <tr>\n",
       "      <th>Date</th>\n",
       "      <th></th>\n",
       "      <th></th>\n",
       "      <th></th>\n",
       "    </tr>\n",
       "  </thead>\n",
       "  <tbody>\n",
       "    <tr>\n",
       "      <th>2010-01-04</th>\n",
       "      <td>133.899994</td>\n",
       "      <td>1.000000</td>\n",
       "      <td>1.000000</td>\n",
       "    </tr>\n",
       "    <tr>\n",
       "      <th>2010-01-05</th>\n",
       "      <td>134.690002</td>\n",
       "      <td>1.005900</td>\n",
       "      <td>1.005900</td>\n",
       "    </tr>\n",
       "    <tr>\n",
       "      <th>2010-01-06</th>\n",
       "      <td>132.250000</td>\n",
       "      <td>0.981884</td>\n",
       "      <td>0.987677</td>\n",
       "    </tr>\n",
       "    <tr>\n",
       "      <th>2010-01-07</th>\n",
       "      <td>130.000000</td>\n",
       "      <td>0.982987</td>\n",
       "      <td>0.970874</td>\n",
       "    </tr>\n",
       "    <tr>\n",
       "      <th>2010-01-08</th>\n",
       "      <td>133.520004</td>\n",
       "      <td>1.027077</td>\n",
       "      <td>0.997162</td>\n",
       "    </tr>\n",
       "    <tr>\n",
       "      <th>...</th>\n",
       "      <td>...</td>\n",
       "      <td>...</td>\n",
       "      <td>...</td>\n",
       "    </tr>\n",
       "    <tr>\n",
       "      <th>2019-06-18</th>\n",
       "      <td>1901.369995</td>\n",
       "      <td>1.008133</td>\n",
       "      <td>14.199926</td>\n",
       "    </tr>\n",
       "    <tr>\n",
       "      <th>2019-06-19</th>\n",
       "      <td>1908.790039</td>\n",
       "      <td>1.003902</td>\n",
       "      <td>14.255341</td>\n",
       "    </tr>\n",
       "    <tr>\n",
       "      <th>2019-06-20</th>\n",
       "      <td>1918.189941</td>\n",
       "      <td>1.004925</td>\n",
       "      <td>14.325542</td>\n",
       "    </tr>\n",
       "    <tr>\n",
       "      <th>2019-06-21</th>\n",
       "      <td>1911.300049</td>\n",
       "      <td>0.996408</td>\n",
       "      <td>14.274086</td>\n",
       "    </tr>\n",
       "    <tr>\n",
       "      <th>2019-06-24</th>\n",
       "      <td>1907.953857</td>\n",
       "      <td>0.998249</td>\n",
       "      <td>14.249096</td>\n",
       "    </tr>\n",
       "  </tbody>\n",
       "</table>\n",
       "<p>2384 rows × 3 columns</p>\n",
       "</div>"
      ],
      "text/plain": [
       "              Adj Close  daily_rtn    acc_rtn\n",
       "Date                                         \n",
       "2010-01-04   133.899994   1.000000   1.000000\n",
       "2010-01-05   134.690002   1.005900   1.005900\n",
       "2010-01-06   132.250000   0.981884   0.987677\n",
       "2010-01-07   130.000000   0.982987   0.970874\n",
       "2010-01-08   133.520004   1.027077   0.997162\n",
       "...                 ...        ...        ...\n",
       "2019-06-18  1901.369995   1.008133  14.199926\n",
       "2019-06-19  1908.790039   1.003902  14.255341\n",
       "2019-06-20  1918.189941   1.004925  14.325542\n",
       "2019-06-21  1911.300049   0.996408  14.274086\n",
       "2019-06-24  1907.953857   0.998249  14.249096\n",
       "\n",
       "[2384 rows x 3 columns]"
      ]
     },
     "execution_count": 42,
     "metadata": {},
     "output_type": "execute_result"
    }
   ],
   "source": [
    "bnh_amzn"
   ]
  },
  {
   "cell_type": "code",
   "execution_count": 44,
   "metadata": {},
   "outputs": [
    {
     "data": {
      "text/html": [
       "<div>\n",
       "<style scoped>\n",
       "    .dataframe tbody tr th:only-of-type {\n",
       "        vertical-align: middle;\n",
       "    }\n",
       "\n",
       "    .dataframe tbody tr th {\n",
       "        vertical-align: top;\n",
       "    }\n",
       "\n",
       "    .dataframe thead th {\n",
       "        text-align: right;\n",
       "    }\n",
       "</style>\n",
       "<table border=\"1\" class=\"dataframe\">\n",
       "  <thead>\n",
       "    <tr style=\"text-align: right;\">\n",
       "      <th></th>\n",
       "      <th>Open</th>\n",
       "      <th>High</th>\n",
       "      <th>Low</th>\n",
       "      <th>Close</th>\n",
       "      <th>Adj Close</th>\n",
       "      <th>Volume</th>\n",
       "    </tr>\n",
       "    <tr>\n",
       "      <th>Date</th>\n",
       "      <th></th>\n",
       "      <th></th>\n",
       "      <th></th>\n",
       "      <th></th>\n",
       "      <th></th>\n",
       "      <th></th>\n",
       "    </tr>\n",
       "  </thead>\n",
       "  <tbody>\n",
       "    <tr>\n",
       "      <th>2010-11-18</th>\n",
       "      <td>35.000000</td>\n",
       "      <td>35.990002</td>\n",
       "      <td>33.889999</td>\n",
       "      <td>34.189999</td>\n",
       "      <td>27.027195</td>\n",
       "      <td>457044300</td>\n",
       "    </tr>\n",
       "    <tr>\n",
       "      <th>2010-11-19</th>\n",
       "      <td>34.150002</td>\n",
       "      <td>34.500000</td>\n",
       "      <td>33.110001</td>\n",
       "      <td>34.259998</td>\n",
       "      <td>27.082527</td>\n",
       "      <td>107842000</td>\n",
       "    </tr>\n",
       "    <tr>\n",
       "      <th>2010-11-22</th>\n",
       "      <td>34.200001</td>\n",
       "      <td>34.480000</td>\n",
       "      <td>33.810001</td>\n",
       "      <td>34.080002</td>\n",
       "      <td>26.940243</td>\n",
       "      <td>36650600</td>\n",
       "    </tr>\n",
       "    <tr>\n",
       "      <th>2010-11-23</th>\n",
       "      <td>33.950001</td>\n",
       "      <td>33.990002</td>\n",
       "      <td>33.189999</td>\n",
       "      <td>33.250000</td>\n",
       "      <td>26.284130</td>\n",
       "      <td>31170200</td>\n",
       "    </tr>\n",
       "    <tr>\n",
       "      <th>2010-11-24</th>\n",
       "      <td>33.730000</td>\n",
       "      <td>33.799999</td>\n",
       "      <td>33.220001</td>\n",
       "      <td>33.480000</td>\n",
       "      <td>26.465942</td>\n",
       "      <td>26138000</td>\n",
       "    </tr>\n",
       "  </tbody>\n",
       "</table>\n",
       "</div>"
      ],
      "text/plain": [
       "                 Open       High        Low      Close  Adj Close     Volume\n",
       "Date                                                                        \n",
       "2010-11-18  35.000000  35.990002  33.889999  34.189999  27.027195  457044300\n",
       "2010-11-19  34.150002  34.500000  33.110001  34.259998  27.082527  107842000\n",
       "2010-11-22  34.200001  34.480000  33.810001  34.080002  26.940243   36650600\n",
       "2010-11-23  33.950001  33.990002  33.189999  33.250000  26.284130   31170200\n",
       "2010-11-24  33.730000  33.799999  33.220001  33.480000  26.465942   26138000"
      ]
     },
     "execution_count": 44,
     "metadata": {},
     "output_type": "execute_result"
    }
   ],
   "source": [
    "df = pd.read_csv(\"../csv/GM.csv\", index_col='Date')\n",
    "df.head()"
   ]
  },
  {
   "cell_type": "code",
   "execution_count": 45,
   "metadata": {},
   "outputs": [
    {
     "name": "stdout",
     "output_type": "stream",
     "text": [
      "2010-01-01부터 \n",
      "          2025-04-03까지 \n",
      "          buyandhold의 수익율은 1.3621464972595223입니다\n"
     ]
    },
    {
     "data": {
      "text/plain": [
       "(            Adj Close  daily_rtn   acc_rtn\n",
       " Date                                      \n",
       " 2010-11-18  27.027195   1.000000  1.000000\n",
       " 2010-11-19  27.082527   1.002047  1.002047\n",
       " 2010-11-22  26.940243   0.994746  0.996783\n",
       " 2010-11-23  26.284130   0.975646  0.972507\n",
       " 2010-11-24  26.465942   1.006917  0.979234\n",
       " ...               ...        ...       ...\n",
       " 2019-06-18  36.700001   1.015495  1.357892\n",
       " 2019-06-19  36.779999   1.002180  1.360852\n",
       " 2019-06-20  36.959999   1.004894  1.367511\n",
       " 2019-06-21  36.919998   0.998918  1.366031\n",
       " 2019-06-24  36.814999   0.997156  1.362146\n",
       " \n",
       " [2162 rows x 3 columns],\n",
       " np.float64(1.3621464972595223))"
      ]
     },
     "execution_count": 45,
     "metadata": {},
     "output_type": "execute_result"
    }
   ],
   "source": [
    "buyandhold(df)"
   ]
  },
  {
   "cell_type": "code",
   "execution_count": 46,
   "metadata": {},
   "outputs": [
    {
     "name": "stdout",
     "output_type": "stream",
     "text": [
      "2015-01-01부터 \n",
      "          2025-04-03까지 \n",
      "          buyandhold의 수익율은 1.291093673328708입니다\n"
     ]
    },
    {
     "data": {
      "text/plain": [
       "(            Adj Close  daily_rtn   acc_rtn\n",
       " Date                                      \n",
       " 2015-01-02  28.514584   1.000000  1.000000\n",
       " 2015-01-05  28.097189   0.985362  0.985362\n",
       " 2015-01-06  28.522768   1.015147  1.000287\n",
       " 2015-01-07  29.333029   1.028408  1.028703\n",
       " 2015-01-08  29.627668   1.010045  1.039036\n",
       " ...               ...        ...       ...\n",
       " 2019-06-18  36.700001   1.015495  1.287061\n",
       " 2019-06-19  36.779999   1.002180  1.289866\n",
       " 2019-06-20  36.959999   1.004894  1.296179\n",
       " 2019-06-21  36.919998   0.998918  1.294776\n",
       " 2019-06-24  36.814999   0.997156  1.291094\n",
       " \n",
       " [1126 rows x 3 columns],\n",
       " np.float64(1.291093673328708))"
      ]
     },
     "execution_count": 46,
     "metadata": {},
     "output_type": "execute_result"
    }
   ],
   "source": [
    "buyandhold(df, _start ='2015-01-01')"
   ]
  },
  {
   "cell_type": "code",
   "execution_count": 47,
   "metadata": {},
   "outputs": [
    {
     "name": "stdout",
     "output_type": "stream",
     "text": [
      "시작시간과 종료시간의 포멧은 YYYY-mm-dd 형식입니다\n"
     ]
    },
    {
     "data": {
      "text/plain": [
       "''"
      ]
     },
     "execution_count": 47,
     "metadata": {},
     "output_type": "execute_result"
    }
   ],
   "source": [
    "buyandhold(df, _start = '2015/01/01')"
   ]
  },
  {
   "cell_type": "code",
   "execution_count": 48,
   "metadata": {},
   "outputs": [],
   "source": [
    "# bnh 모듈을 로드 \n",
    "import bnh"
   ]
  },
  {
   "cell_type": "code",
   "execution_count": 49,
   "metadata": {},
   "outputs": [
    {
     "data": {
      "text/plain": [
       "<module 'bnh' from 'c:\\\\practice_python\\\\6.투자전략\\\\bnh.py'>"
      ]
     },
     "execution_count": 49,
     "metadata": {},
     "output_type": "execute_result"
    }
   ],
   "source": [
    "import importlib\n",
    "importlib.reload(bnh)"
   ]
  },
  {
   "cell_type": "code",
   "execution_count": 50,
   "metadata": {},
   "outputs": [
    {
     "name": "stdout",
     "output_type": "stream",
     "text": [
      "2010-01-01부터 \n",
      "          2025-04-03까지 \n",
      "          buyandhold의 수익율은 1.3621464972595223입니다\n"
     ]
    },
    {
     "data": {
      "text/plain": [
       "(            Adj Close  daily_rtn   acc_rtn\n",
       " Date                                      \n",
       " 2010-11-18  27.027195   1.000000  1.000000\n",
       " 2010-11-19  27.082527   1.002047  1.002047\n",
       " 2010-11-22  26.940243   0.994746  0.996783\n",
       " 2010-11-23  26.284130   0.975646  0.972507\n",
       " 2010-11-24  26.465942   1.006917  0.979234\n",
       " ...               ...        ...       ...\n",
       " 2019-06-18  36.700001   1.015495  1.357892\n",
       " 2019-06-19  36.779999   1.002180  1.360852\n",
       " 2019-06-20  36.959999   1.004894  1.367511\n",
       " 2019-06-21  36.919998   0.998918  1.366031\n",
       " 2019-06-24  36.814999   0.997156  1.362146\n",
       " \n",
       " [2162 rows x 3 columns],\n",
       " np.float64(1.3621464972595223))"
      ]
     },
     "execution_count": 50,
     "metadata": {},
     "output_type": "execute_result"
    }
   ],
   "source": [
    "bnh.buyandhold(df)"
   ]
  }
 ],
 "metadata": {
  "kernelspec": {
   "display_name": "Python 3",
   "language": "python",
   "name": "python3"
  },
  "language_info": {
   "codemirror_mode": {
    "name": "ipython",
    "version": 3
   },
   "file_extension": ".py",
   "mimetype": "text/x-python",
   "name": "python",
   "nbconvert_exporter": "python",
   "pygments_lexer": "ipython3",
   "version": "3.13.2"
  }
 },
 "nbformat": 4,
 "nbformat_minor": 2
}
